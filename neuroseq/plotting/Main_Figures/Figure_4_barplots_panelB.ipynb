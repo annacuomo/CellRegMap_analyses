{
 "cells": [
  {
   "cell_type": "code",
   "execution_count": 2,
   "metadata": {},
   "outputs": [],
   "source": [
    "library(dplyr)\n",
    "library(ggplot2)\n",
    "library(RColorBrewer)\n",
    "library(forcats)"
   ]
  },
  {
   "cell_type": "code",
   "execution_count": 3,
   "metadata": {},
   "outputs": [],
   "source": [
    "filename = \"/hps/nobackup/stegle/users/acuomo/all_scripts/struct_LMM2/sc_neuroseq/May2021/genetic_effect/scaled_absolute_eff_sizes_20mofas_as_spatial_downsample_50pct_cluster_labels.csv\"\n",
    "df_clusters = read.csv(filename, row.names = 1)"
   ]
  },
  {
   "cell_type": "code",
   "execution_count": 4,
   "metadata": {},
   "outputs": [
    {
     "data": {
      "text/html": [
       "212"
      ],
      "text/latex": [
       "212"
      ],
      "text/markdown": [
       "212"
      ],
      "text/plain": [
       "[1] 212"
      ]
     },
     "metadata": {},
     "output_type": "display_data"
    },
    {
     "data": {
      "text/html": [
       "<table>\n",
       "<thead><tr><th></th><th scope=col>label</th><th scope=col>gene</th><th scope=col>pp0</th><th scope=col>pp1</th><th scope=col>pp2</th><th scope=col>pp3</th><th scope=col>pp4</th><th scope=col>pp5</th><th scope=col>pp6</th><th scope=col>pp7</th><th scope=col>pp8</th><th scope=col>pp9</th><th scope=col>pp10</th><th scope=col>pp11</th></tr></thead>\n",
       "<tbody>\n",
       "\t<tr><th scope=row>0</th><td>4                       </td><td>ABHD10_-3_111697439_T_G </td><td>0                       </td><td>0                       </td><td>0                       </td><td>0                       </td><td>1                       </td><td>0                       </td><td>0                       </td><td>0                       </td><td>0                       </td><td>0                       </td><td>0                       </td><td>0                       </td></tr>\n",
       "\t<tr><th scope=row>1</th><td>5                       </td><td>ABHD12B_-14_51328222_C_T</td><td>0                       </td><td>0                       </td><td>0                       </td><td>0                       </td><td>0                       </td><td>1                       </td><td>0                       </td><td>0                       </td><td>0                       </td><td>0                       </td><td>0                       </td><td>0                       </td></tr>\n",
       "</tbody>\n",
       "</table>\n"
      ],
      "text/latex": [
       "\\begin{tabular}{r|llllllllllllll}\n",
       "  & label & gene & pp0 & pp1 & pp2 & pp3 & pp4 & pp5 & pp6 & pp7 & pp8 & pp9 & pp10 & pp11\\\\\n",
       "\\hline\n",
       "\t0 & 4                                & ABHD10\\_-3\\_111697439\\_T\\_G  & 0                                & 0                                & 0                                & 0                                & 1                                & 0                                & 0                                & 0                                & 0                                & 0                                & 0                                & 0                               \\\\\n",
       "\t1 & 5                                & ABHD12B\\_-14\\_51328222\\_C\\_T & 0                                & 0                                & 0                                & 0                                & 0                                & 1                                & 0                                & 0                                & 0                                & 0                                & 0                                & 0                               \\\\\n",
       "\\end{tabular}\n"
      ],
      "text/markdown": [
       "\n",
       "| <!--/--> | label | gene | pp0 | pp1 | pp2 | pp3 | pp4 | pp5 | pp6 | pp7 | pp8 | pp9 | pp10 | pp11 |\n",
       "|---|---|---|---|---|---|---|---|---|---|---|---|---|---|---|\n",
       "| 0 | 4                        | ABHD10_-3_111697439_T_G  | 0                        | 0                        | 0                        | 0                        | 1                        | 0                        | 0                        | 0                        | 0                        | 0                        | 0                        | 0                        |\n",
       "| 1 | 5                        | ABHD12B_-14_51328222_C_T | 0                        | 0                        | 0                        | 0                        | 0                        | 1                        | 0                        | 0                        | 0                        | 0                        | 0                        | 0                        |\n",
       "\n"
      ],
      "text/plain": [
       "  label gene                     pp0 pp1 pp2 pp3 pp4 pp5 pp6 pp7 pp8 pp9 pp10\n",
       "0 4     ABHD10_-3_111697439_T_G  0   0   0   0   1   0   0   0   0   0   0   \n",
       "1 5     ABHD12B_-14_51328222_C_T 0   0   0   0   0   1   0   0   0   0   0   \n",
       "  pp11\n",
       "0 0   \n",
       "1 0   "
      ]
     },
     "metadata": {},
     "output_type": "display_data"
    }
   ],
   "source": [
    "nrow(df_clusters)\n",
    "head(df_clusters,2)"
   ]
  },
  {
   "cell_type": "code",
   "execution_count": 5,
   "metadata": {
    "scrolled": true
   },
   "outputs": [],
   "source": [
    "for (i in 1:nrow(df_clusters)){\n",
    "    s = sum(df_clusters[i,3:ncol(df_clusters)])\n",
    "    if (s!=1){\n",
    "        print(c(i, s))\n",
    "    }\n",
    "}"
   ]
  },
  {
   "cell_type": "code",
   "execution_count": 6,
   "metadata": {
    "scrolled": true
   },
   "outputs": [],
   "source": [
    "df0 = data.frame()\n",
    "for (label in unique(df_clusters$label)){\n",
    "    df0 = rbind(df0, data.frame(cluster = label, n_genes = nrow(df_clusters[df_clusters$label == label,])))                            \n",
    "}"
   ]
  },
  {
   "cell_type": "code",
   "execution_count": 7,
   "metadata": {
    "scrolled": true
   },
   "outputs": [
    {
     "data": {
      "text/html": [
       "<table>\n",
       "<thead><tr><th></th><th scope=col>cluster</th><th scope=col>n_genes</th></tr></thead>\n",
       "<tbody>\n",
       "\t<tr><th scope=row>2</th><td> 5</td><td>43</td></tr>\n",
       "\t<tr><th scope=row>3</th><td> 2</td><td>41</td></tr>\n",
       "\t<tr><th scope=row>1</th><td> 4</td><td>39</td></tr>\n",
       "\t<tr><th scope=row>7</th><td> 3</td><td>18</td></tr>\n",
       "\t<tr><th scope=row>9</th><td> 9</td><td>15</td></tr>\n",
       "\t<tr><th scope=row>10</th><td>10</td><td>13</td></tr>\n",
       "\t<tr><th scope=row>6</th><td> 7</td><td>12</td></tr>\n",
       "\t<tr><th scope=row>8</th><td> 8</td><td>10</td></tr>\n",
       "\t<tr><th scope=row>4</th><td> 6</td><td> 9</td></tr>\n",
       "\t<tr><th scope=row>11</th><td>11</td><td> 8</td></tr>\n",
       "\t<tr><th scope=row>5</th><td> 0</td><td> 2</td></tr>\n",
       "\t<tr><th scope=row>12</th><td> 1</td><td> 2</td></tr>\n",
       "</tbody>\n",
       "</table>\n"
      ],
      "text/latex": [
       "\\begin{tabular}{r|ll}\n",
       "  & cluster & n\\_genes\\\\\n",
       "\\hline\n",
       "\t2 &  5 & 43\\\\\n",
       "\t3 &  2 & 41\\\\\n",
       "\t1 &  4 & 39\\\\\n",
       "\t7 &  3 & 18\\\\\n",
       "\t9 &  9 & 15\\\\\n",
       "\t10 & 10 & 13\\\\\n",
       "\t6 &  7 & 12\\\\\n",
       "\t8 &  8 & 10\\\\\n",
       "\t4 &  6 &  9\\\\\n",
       "\t11 & 11 &  8\\\\\n",
       "\t5 &  0 &  2\\\\\n",
       "\t12 &  1 &  2\\\\\n",
       "\\end{tabular}\n"
      ],
      "text/markdown": [
       "\n",
       "| <!--/--> | cluster | n_genes |\n",
       "|---|---|---|\n",
       "| 2 |  5 | 43 |\n",
       "| 3 |  2 | 41 |\n",
       "| 1 |  4 | 39 |\n",
       "| 7 |  3 | 18 |\n",
       "| 9 |  9 | 15 |\n",
       "| 10 | 10 | 13 |\n",
       "| 6 |  7 | 12 |\n",
       "| 8 |  8 | 10 |\n",
       "| 4 |  6 |  9 |\n",
       "| 11 | 11 |  8 |\n",
       "| 5 |  0 |  2 |\n",
       "| 12 |  1 |  2 |\n",
       "\n"
      ],
      "text/plain": [
       "   cluster n_genes\n",
       "2   5      43     \n",
       "3   2      41     \n",
       "1   4      39     \n",
       "7   3      18     \n",
       "9   9      15     \n",
       "10 10      13     \n",
       "6   7      12     \n",
       "8   8      10     \n",
       "4   6       9     \n",
       "11 11       8     \n",
       "5   0       2     \n",
       "12  1       2     "
      ]
     },
     "metadata": {},
     "output_type": "display_data"
    }
   ],
   "source": [
    "df0[order(df0$n_genes, decreasing = T),]"
   ]
  },
  {
   "cell_type": "code",
   "execution_count": 18,
   "metadata": {
    "scrolled": false
   },
   "outputs": [
    {
     "data": {
      "image/png": "[encoded data removed]",
      "text/plain": [
       "plot without title"
      ]
     },
     "metadata": {},
     "output_type": "display_data"
    }
   ],
   "source": [
    "options(repr.plot.width = 12, repr.plot.height = 5)\n",
    "df0$cluster = as.factor(df0$cluster)\n",
    "df0 %>%\n",
    "  mutate(cluster = fct_reorder(cluster, desc(n_genes))) %>%\n",
    "  ggplot(aes(x=cluster, y=n_genes)) +\n",
    "    geom_bar(stat=\"identity\", fill = \"lightgrey\") + \n",
    "#     geom_text(aes(label = n_genes), vjust = -0.2, size=6) +\n",
    "#     geom_text(aes(label=..count..),stat='count',position=position_dodge(0.9),vjust=-0.2) +\n",
    "    xlab(\"cluster\") + ylab(\"Number of eQTL\") +\n",
    "    theme_classic() + theme(axis.text.x = element_text(size = 18),axis.text.y = element_text(size = 20))"
   ]
  },
  {
   "cell_type": "code",
   "execution_count": null,
   "metadata": {},
   "outputs": [],
   "source": []
  },
  {
   "cell_type": "code",
   "execution_count": null,
   "metadata": {},
   "outputs": [],
   "source": []
  },
  {
   "cell_type": "code",
   "execution_count": null,
   "metadata": {},
   "outputs": [],
   "source": []
  }
 ],
 "metadata": {
  "kernelspec": {
   "display_name": "R",
   "language": "R",
   "name": "ir"
  },
  "language_info": {
   "codemirror_mode": "r",
   "file_extension": ".r",
   "mimetype": "text/x-r-source",
   "name": "R",
   "pygments_lexer": "r",
   "version": "3.6.1"
  }
 },
 "nbformat": 4,
 "nbformat_minor": 4
}
