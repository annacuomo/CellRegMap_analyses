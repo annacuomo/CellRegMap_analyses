{
 "cells": [
  {
   "cell_type": "code",
   "execution_count": 1,
   "id": "97a0db11",
   "metadata": {},
   "outputs": [],
   "source": [
    "import pandas as pd\n",
    "import numpy as np\n",
    "import xarray as xr\n",
    "import matplotlib.pyplot as plt\n",
    "import scanpy as sc"
   ]
  },
  {
   "cell_type": "code",
   "execution_count": 2,
   "id": "4f3dd145",
   "metadata": {},
   "outputs": [],
   "source": [
    "## input files folder\n",
    "input_files_dir = \"/hps/nobackup2/stegle/users/acuomo/all_scripts/struct_LMM2/sc_neuroseq/May2021/input_files/\""
   ]
  },
  {
   "cell_type": "code",
   "execution_count": 3,
   "id": "f0d8a741",
   "metadata": {},
   "outputs": [
    {
     "data": {
      "text/html": [
       "<div>\n",
       "<style scoped>\n",
       "    .dataframe tbody tr th:only-of-type {\n",
       "        vertical-align: middle;\n",
       "    }\n",
       "\n",
       "    .dataframe tbody tr th {\n",
       "        vertical-align: top;\n",
       "    }\n",
       "\n",
       "    .dataframe thead th {\n",
       "        text-align: right;\n",
       "    }\n",
       "</style>\n",
       "<table border=\"1\" class=\"dataframe\">\n",
       "  <thead>\n",
       "    <tr style=\"text-align: right;\">\n",
       "      <th></th>\n",
       "      <th>genotype_individual_id</th>\n",
       "      <th>phenotype_sample_id</th>\n",
       "    </tr>\n",
       "  </thead>\n",
       "  <tbody>\n",
       "    <tr>\n",
       "      <th>0</th>\n",
       "      <td>HPSI0714i-iudw_1</td>\n",
       "      <td>HPSI0714i-iudw_1--DA--d30--0</td>\n",
       "    </tr>\n",
       "    <tr>\n",
       "      <th>1</th>\n",
       "      <td>HPSI0714i-iudw_1</td>\n",
       "      <td>HPSI0714i-iudw_1--DA--d30--1</td>\n",
       "    </tr>\n",
       "    <tr>\n",
       "      <th>2</th>\n",
       "      <td>HPSI0714i-iudw_1</td>\n",
       "      <td>HPSI0714i-iudw_1--DA--d30--2</td>\n",
       "    </tr>\n",
       "    <tr>\n",
       "      <th>3</th>\n",
       "      <td>HPSI0714i-iudw_1</td>\n",
       "      <td>HPSI0714i-iudw_1--DA--d30--3</td>\n",
       "    </tr>\n",
       "    <tr>\n",
       "      <th>4</th>\n",
       "      <td>HPSI0714i-iudw_1</td>\n",
       "      <td>HPSI0714i-iudw_1--DA--d30--4</td>\n",
       "    </tr>\n",
       "  </tbody>\n",
       "</table>\n",
       "</div>"
      ],
      "text/plain": [
       "  genotype_individual_id           phenotype_sample_id\n",
       "0       HPSI0714i-iudw_1  HPSI0714i-iudw_1--DA--d30--0\n",
       "1       HPSI0714i-iudw_1  HPSI0714i-iudw_1--DA--d30--1\n",
       "2       HPSI0714i-iudw_1  HPSI0714i-iudw_1--DA--d30--2\n",
       "3       HPSI0714i-iudw_1  HPSI0714i-iudw_1--DA--d30--3\n",
       "4       HPSI0714i-iudw_1  HPSI0714i-iudw_1--DA--d30--4"
      ]
     },
     "execution_count": 3,
     "metadata": {},
     "output_type": "execute_result"
    }
   ],
   "source": [
    "## this file will map pseudocells to donors, it will also only including donors we have single cell data (a subset of all of HipSci donors)\n",
    "sample_mapping_file = input_files_dir+\"sample_mapping_file.csv\"\n",
    "sample_mapping = pd.read_csv(sample_mapping_file, dtype={\"genotype_individual_id\": str, \"phenotype_sample_id\": str})\n",
    "sample_mapping.head()"
   ]
  },
  {
   "cell_type": "code",
   "execution_count": 4,
   "id": "1014d7d6",
   "metadata": {},
   "outputs": [],
   "source": [
    "pseudocells = sample_mapping['phenotype_sample_id']"
   ]
  },
  {
   "cell_type": "code",
   "execution_count": 5,
   "id": "ac08c191",
   "metadata": {},
   "outputs": [],
   "source": [
    "conditions = np.array([])\n",
    "for pseudocell in pseudocells:\n",
    "    condition = str(pseudocell).split(\"--\")[2]\n",
    "    conditions = np.append(conditions,[condition])"
   ]
  },
  {
   "cell_type": "code",
   "execution_count": 6,
   "id": "f00b8d9e",
   "metadata": {},
   "outputs": [
    {
     "data": {
      "text/plain": [
       "9219"
      ]
     },
     "execution_count": 6,
     "metadata": {},
     "output_type": "execute_result"
    }
   ],
   "source": [
    "len(conditions)"
   ]
  },
  {
   "cell_type": "code",
   "execution_count": 7,
   "id": "72d45cff",
   "metadata": {},
   "outputs": [
    {
     "data": {
      "text/html": [
       "<div>\n",
       "<style scoped>\n",
       "    .dataframe tbody tr th:only-of-type {\n",
       "        vertical-align: middle;\n",
       "    }\n",
       "\n",
       "    .dataframe tbody tr th {\n",
       "        vertical-align: top;\n",
       "    }\n",
       "\n",
       "    .dataframe thead th {\n",
       "        text-align: right;\n",
       "    }\n",
       "</style>\n",
       "<table border=\"1\" class=\"dataframe\">\n",
       "  <thead>\n",
       "    <tr style=\"text-align: right;\">\n",
       "      <th></th>\n",
       "      <th>genotype_individual_id</th>\n",
       "      <th>phenotype_sample_id</th>\n",
       "      <th>condition</th>\n",
       "    </tr>\n",
       "  </thead>\n",
       "  <tbody>\n",
       "    <tr>\n",
       "      <th>9214</th>\n",
       "      <td>HPSI0114i-rozh_4</td>\n",
       "      <td>HPSI0114i-rozh_4--DA--d52_tr--8</td>\n",
       "      <td>d52_tr</td>\n",
       "    </tr>\n",
       "    <tr>\n",
       "      <th>9215</th>\n",
       "      <td>HPSI0114i-rozh_4</td>\n",
       "      <td>HPSI0114i-rozh_4--DA--d52_tr--9</td>\n",
       "      <td>d52_tr</td>\n",
       "    </tr>\n",
       "    <tr>\n",
       "      <th>9216</th>\n",
       "      <td>HPSI0114i-rozh_4</td>\n",
       "      <td>HPSI0114i-rozh_4--DA--d52_tr--10</td>\n",
       "      <td>d52_tr</td>\n",
       "    </tr>\n",
       "    <tr>\n",
       "      <th>9217</th>\n",
       "      <td>HPSI0114i-rozh_4</td>\n",
       "      <td>HPSI0114i-rozh_4--DA--d52_tr--11</td>\n",
       "      <td>d52_tr</td>\n",
       "    </tr>\n",
       "    <tr>\n",
       "      <th>9218</th>\n",
       "      <td>HPSI0114i-rozh_4</td>\n",
       "      <td>HPSI0114i-rozh_4--DA--d52_tr--12</td>\n",
       "      <td>d52_tr</td>\n",
       "    </tr>\n",
       "  </tbody>\n",
       "</table>\n",
       "</div>"
      ],
      "text/plain": [
       "     genotype_individual_id               phenotype_sample_id condition\n",
       "9214       HPSI0114i-rozh_4   HPSI0114i-rozh_4--DA--d52_tr--8    d52_tr\n",
       "9215       HPSI0114i-rozh_4   HPSI0114i-rozh_4--DA--d52_tr--9    d52_tr\n",
       "9216       HPSI0114i-rozh_4  HPSI0114i-rozh_4--DA--d52_tr--10    d52_tr\n",
       "9217       HPSI0114i-rozh_4  HPSI0114i-rozh_4--DA--d52_tr--11    d52_tr\n",
       "9218       HPSI0114i-rozh_4  HPSI0114i-rozh_4--DA--d52_tr--12    d52_tr"
      ]
     },
     "execution_count": 7,
     "metadata": {},
     "output_type": "execute_result"
    }
   ],
   "source": [
    "sample_mapping['condition'] = conditions\n",
    "sample_mapping.tail()"
   ]
  },
  {
   "cell_type": "code",
   "execution_count": 8,
   "id": "095725f8",
   "metadata": {},
   "outputs": [
    {
     "data": {
      "text/html": [
       "<div>\n",
       "<style scoped>\n",
       "    .dataframe tbody tr th:only-of-type {\n",
       "        vertical-align: middle;\n",
       "    }\n",
       "\n",
       "    .dataframe tbody tr th {\n",
       "        vertical-align: top;\n",
       "    }\n",
       "\n",
       "    .dataframe thead th {\n",
       "        text-align: right;\n",
       "    }\n",
       "</style>\n",
       "<table border=\"1\" class=\"dataframe\">\n",
       "  <thead>\n",
       "    <tr style=\"text-align: right;\">\n",
       "      <th></th>\n",
       "      <th>genotype_individual_id</th>\n",
       "      <th>phenotype_sample_id</th>\n",
       "      <th>condition_d30</th>\n",
       "      <th>condition_d52_tr</th>\n",
       "      <th>condition_d52_untr</th>\n",
       "    </tr>\n",
       "  </thead>\n",
       "  <tbody>\n",
       "    <tr>\n",
       "      <th>9214</th>\n",
       "      <td>HPSI0114i-rozh_4</td>\n",
       "      <td>HPSI0114i-rozh_4--DA--d52_tr--8</td>\n",
       "      <td>0</td>\n",
       "      <td>1</td>\n",
       "      <td>0</td>\n",
       "    </tr>\n",
       "    <tr>\n",
       "      <th>9215</th>\n",
       "      <td>HPSI0114i-rozh_4</td>\n",
       "      <td>HPSI0114i-rozh_4--DA--d52_tr--9</td>\n",
       "      <td>0</td>\n",
       "      <td>1</td>\n",
       "      <td>0</td>\n",
       "    </tr>\n",
       "    <tr>\n",
       "      <th>9216</th>\n",
       "      <td>HPSI0114i-rozh_4</td>\n",
       "      <td>HPSI0114i-rozh_4--DA--d52_tr--10</td>\n",
       "      <td>0</td>\n",
       "      <td>1</td>\n",
       "      <td>0</td>\n",
       "    </tr>\n",
       "    <tr>\n",
       "      <th>9217</th>\n",
       "      <td>HPSI0114i-rozh_4</td>\n",
       "      <td>HPSI0114i-rozh_4--DA--d52_tr--11</td>\n",
       "      <td>0</td>\n",
       "      <td>1</td>\n",
       "      <td>0</td>\n",
       "    </tr>\n",
       "    <tr>\n",
       "      <th>9218</th>\n",
       "      <td>HPSI0114i-rozh_4</td>\n",
       "      <td>HPSI0114i-rozh_4--DA--d52_tr--12</td>\n",
       "      <td>0</td>\n",
       "      <td>1</td>\n",
       "      <td>0</td>\n",
       "    </tr>\n",
       "  </tbody>\n",
       "</table>\n",
       "</div>"
      ],
      "text/plain": [
       "     genotype_individual_id               phenotype_sample_id  condition_d30  \\\n",
       "9214       HPSI0114i-rozh_4   HPSI0114i-rozh_4--DA--d52_tr--8              0   \n",
       "9215       HPSI0114i-rozh_4   HPSI0114i-rozh_4--DA--d52_tr--9              0   \n",
       "9216       HPSI0114i-rozh_4  HPSI0114i-rozh_4--DA--d52_tr--10              0   \n",
       "9217       HPSI0114i-rozh_4  HPSI0114i-rozh_4--DA--d52_tr--11              0   \n",
       "9218       HPSI0114i-rozh_4  HPSI0114i-rozh_4--DA--d52_tr--12              0   \n",
       "\n",
       "      condition_d52_tr  condition_d52_untr  \n",
       "9214                 1                   0  \n",
       "9215                 1                   0  \n",
       "9216                 1                   0  \n",
       "9217                 1                   0  \n",
       "9218                 1                   0  "
      ]
     },
     "execution_count": 8,
     "metadata": {},
     "output_type": "execute_result"
    }
   ],
   "source": [
    "df = pd.get_dummies(sample_mapping, columns=['condition'])\n",
    "df.tail()"
   ]
  },
  {
   "cell_type": "code",
   "execution_count": null,
   "id": "b12f78a1",
   "metadata": {},
   "outputs": [],
   "source": [
    "df1 = df[[\"condition_d30\",\"condition_d52_tr\",\"condition_d52_untr\"]]\n",
    "df1.index = df['phenotype_sample_id'].values\n",
    "df1.head()"
   ]
  },
  {
   "cell_type": "code",
   "execution_count": 10,
   "id": "686ee370",
   "metadata": {},
   "outputs": [],
   "source": [
    "# filename = \"/hps/nobackup2/stegle/users/acuomo/all_scripts/struct_LMM2/sc_neuroseq/May2021/REVISION/C_discrete.csv\"\n",
    "# df1.to_csv(filename)"
   ]
  },
  {
   "cell_type": "code",
   "execution_count": 12,
   "id": "d5806524",
   "metadata": {},
   "outputs": [],
   "source": [
    "#### three discrete conditions (day 30, day 52, day 52 rotenone-treated)"
   ]
  },
  {
   "cell_type": "code",
   "execution_count": 13,
   "id": "4f5219d9",
   "metadata": {},
   "outputs": [
    {
     "data": {
      "text/plain": [
       "<matplotlib.image.AxesImage at 0x2b80f7b17b90>"
      ]
     },
     "execution_count": 13,
     "metadata": {},
     "output_type": "execute_result"
    },
    {
     "data": {
      "image/png": "[encoded data removed]",
      "text/plain": [
       "<Figure size 288x288 with 1 Axes>"
      ]
     },
     "metadata": {
      "needs_background": "light"
     },
     "output_type": "display_data"
    }
   ],
   "source": [
    "plt.matshow(df1 @ df1.T)"
   ]
  },
  {
   "cell_type": "code",
   "execution_count": 69,
   "id": "36af3185",
   "metadata": {},
   "outputs": [],
   "source": [
    "input_files_dir = \"/hps/nobackup2/stegle/users/acuomo/all_scripts/struct_LMM2/sc_neuroseq/May2021/input_files/\"\n",
    "C_file = input_files_dir+\"MOFA_20.csv\"\n",
    "C = pd.read_csv(C_file, index_col = 0)"
   ]
  },
  {
   "cell_type": "code",
   "execution_count": 15,
   "id": "01901d81",
   "metadata": {},
   "outputs": [],
   "source": [
    "C = xr.DataArray(C.values, dims=[\"cell\", \"pc\"], coords={\"cell\": C.index.values, \"pc\": C.columns.values})\n",
    "C_sorted = C.sel(cell=df1.index.values).values"
   ]
  },
  {
   "cell_type": "code",
   "execution_count": 16,
   "id": "e9d858f6",
   "metadata": {},
   "outputs": [
    {
     "data": {
      "text/plain": [
       "array([[ 1.66645566,  0.58929172, -1.21803212, ..., -1.32102248,\n",
       "         0.03628515, -0.52378424],\n",
       "       [ 1.79327526, -1.08970828,  0.51619432, ..., -0.13014704,\n",
       "         0.94184241,  0.66115213],\n",
       "       [ 1.46017333, -0.92046638,  0.43337254, ...,  0.00434346,\n",
       "        -0.10995757, -0.0299945 ],\n",
       "       ...,\n",
       "       [ 0.13994071,  0.81056563,  0.15068945, ..., -1.37857743,\n",
       "        -0.454659  ,  0.15848179],\n",
       "       [-0.15451616,  1.39880939,  0.20292395, ...,  1.1958214 ,\n",
       "        -0.31553409, -1.43231431],\n",
       "       [-0.06736465,  1.68061775,  0.29681317, ..., -0.57496769,\n",
       "        -0.3382399 , -0.71828976]])"
      ]
     },
     "execution_count": 16,
     "metadata": {},
     "output_type": "execute_result"
    }
   ],
   "source": [
    "C_sorted"
   ]
  },
  {
   "cell_type": "code",
   "execution_count": 17,
   "id": "f51f8238",
   "metadata": {},
   "outputs": [],
   "source": [
    "#### all continuous MOFA"
   ]
  },
  {
   "cell_type": "code",
   "execution_count": 18,
   "id": "fd6e4f7c",
   "metadata": {},
   "outputs": [
    {
     "data": {
      "text/plain": [
       "<matplotlib.image.AxesImage at 0x2b8251669c50>"
      ]
     },
     "execution_count": 18,
     "metadata": {},
     "output_type": "execute_result"
    },
    {
     "data": {
      "image/png": "[encoded data removed]",
      "text/plain": [
       "<Figure size 288x288 with 1 Axes>"
      ]
     },
     "metadata": {
      "needs_background": "light"
     },
     "output_type": "display_data"
    }
   ],
   "source": [
    "plt.matshow(C_sorted @ C_sorted.T)"
   ]
  },
  {
   "cell_type": "code",
   "execution_count": null,
   "id": "9136870c",
   "metadata": {},
   "outputs": [],
   "source": []
  },
  {
   "cell_type": "code",
   "execution_count": 19,
   "id": "889db79a",
   "metadata": {},
   "outputs": [],
   "source": [
    "######### now clustering cells based on MOFA"
   ]
  },
  {
   "cell_type": "code",
   "execution_count": 128,
   "id": "d805563f",
   "metadata": {},
   "outputs": [],
   "source": [
    "input_files_dir = \"/hps/nobackup2/stegle/users/acuomo/all_scripts/struct_LMM2/sc_neuroseq/May2021/input_files/\"\n",
    "C_file = input_files_dir+\"MOFA_20.csv\"\n",
    "C = pd.read_csv(C_file, index_col = 0)"
   ]
  },
  {
   "cell_type": "code",
   "execution_count": 129,
   "id": "996560ab",
   "metadata": {},
   "outputs": [],
   "source": [
    "C = xr.DataArray(C.values, dims=[\"cell\", \"pc\"], coords={\"cell\": C.index.values, \"pc\": C.columns.values})"
   ]
  },
  {
   "cell_type": "code",
   "execution_count": 130,
   "id": "c1814e2e",
   "metadata": {},
   "outputs": [
    {
     "data": {
      "text/plain": [
       "AnnData object with n_obs × n_vars = 9219 × 20\n",
       "    obs: 0\n",
       "    var: 0"
      ]
     },
     "execution_count": 130,
     "metadata": {},
     "output_type": "execute_result"
    }
   ],
   "source": [
    "import anndata as ad\n",
    "adata = ad.AnnData(X=C.values, obs=C.cell.values, var=C.pc.values, dtype='float')\n",
    "adata"
   ]
  },
  {
   "cell_type": "code",
   "execution_count": 131,
   "id": "53f90336",
   "metadata": {},
   "outputs": [],
   "source": [
    "sc.pp.neighbors(adata)\n",
    "sc.tl.leiden(adata)"
   ]
  },
  {
   "cell_type": "code",
   "execution_count": 132,
   "id": "97462d84",
   "metadata": {},
   "outputs": [
    {
     "data": {
      "text/plain": [
       "0       2\n",
       "1       2\n",
       "2       9\n",
       "3       2\n",
       "4       1\n",
       "       ..\n",
       "9214    0\n",
       "9215    0\n",
       "9216    4\n",
       "9217    5\n",
       "9218    5\n",
       "Name: leiden, Length: 9219, dtype: category\n",
       "Categories (18, object): ['0', '1', '2', '3', ..., '14', '15', '16', '17']"
      ]
     },
     "execution_count": 132,
     "metadata": {},
     "output_type": "execute_result"
    }
   ],
   "source": [
    "adata.obs['leiden']"
   ]
  },
  {
   "cell_type": "code",
   "execution_count": 133,
   "id": "16224e56",
   "metadata": {},
   "outputs": [
    {
     "data": {
      "text/html": [
       "<div>\n",
       "<style scoped>\n",
       "    .dataframe tbody tr th:only-of-type {\n",
       "        vertical-align: middle;\n",
       "    }\n",
       "\n",
       "    .dataframe tbody tr th {\n",
       "        vertical-align: top;\n",
       "    }\n",
       "\n",
       "    .dataframe thead th {\n",
       "        text-align: right;\n",
       "    }\n",
       "</style>\n",
       "<table border=\"1\" class=\"dataframe\">\n",
       "  <thead>\n",
       "    <tr style=\"text-align: right;\">\n",
       "      <th></th>\n",
       "      <th>cell</th>\n",
       "      <th>cluster</th>\n",
       "    </tr>\n",
       "  </thead>\n",
       "  <tbody>\n",
       "    <tr>\n",
       "      <th>0</th>\n",
       "      <td>HPSI0714i-iudw_1--DA--d30--0</td>\n",
       "      <td>2</td>\n",
       "    </tr>\n",
       "    <tr>\n",
       "      <th>1</th>\n",
       "      <td>HPSI0714i-iudw_1--DA--d30--1</td>\n",
       "      <td>2</td>\n",
       "    </tr>\n",
       "    <tr>\n",
       "      <th>2</th>\n",
       "      <td>HPSI0714i-iudw_1--DA--d30--2</td>\n",
       "      <td>9</td>\n",
       "    </tr>\n",
       "    <tr>\n",
       "      <th>3</th>\n",
       "      <td>HPSI0714i-iudw_1--DA--d30--3</td>\n",
       "      <td>2</td>\n",
       "    </tr>\n",
       "    <tr>\n",
       "      <th>4</th>\n",
       "      <td>HPSI0714i-iudw_1--DA--d30--4</td>\n",
       "      <td>1</td>\n",
       "    </tr>\n",
       "  </tbody>\n",
       "</table>\n",
       "</div>"
      ],
      "text/plain": [
       "                           cell cluster\n",
       "0  HPSI0714i-iudw_1--DA--d30--0       2\n",
       "1  HPSI0714i-iudw_1--DA--d30--1       2\n",
       "2  HPSI0714i-iudw_1--DA--d30--2       9\n",
       "3  HPSI0714i-iudw_1--DA--d30--3       2\n",
       "4  HPSI0714i-iudw_1--DA--d30--4       1"
      ]
     },
     "execution_count": 133,
     "metadata": {},
     "output_type": "execute_result"
    }
   ],
   "source": [
    "data = {\"cell\": C.cell.values, \"cluster\": adata.obs['leiden']}\n",
    "df0 = pd.DataFrame(data)\n",
    "df0.head()"
   ]
  },
  {
   "cell_type": "code",
   "execution_count": 134,
   "id": "1314b966",
   "metadata": {},
   "outputs": [],
   "source": [
    "filename = \"/hps/nobackup2/stegle/users/acuomo/all_scripts/struct_LMM2/sc_neuroseq/May2021/REVISION/18clusters.csv\"\n",
    "df0.to_csv(filename)"
   ]
  },
  {
   "cell_type": "code",
   "execution_count": 106,
   "id": "33edd00a",
   "metadata": {},
   "outputs": [
    {
     "data": {
      "text/html": [
       "<div>\n",
       "<style scoped>\n",
       "    .dataframe tbody tr th:only-of-type {\n",
       "        vertical-align: middle;\n",
       "    }\n",
       "\n",
       "    .dataframe tbody tr th {\n",
       "        vertical-align: top;\n",
       "    }\n",
       "\n",
       "    .dataframe thead th {\n",
       "        text-align: right;\n",
       "    }\n",
       "</style>\n",
       "<table border=\"1\" class=\"dataframe\">\n",
       "  <thead>\n",
       "    <tr style=\"text-align: right;\">\n",
       "      <th></th>\n",
       "      <th>cell</th>\n",
       "      <th>cluster_0</th>\n",
       "      <th>cluster_1</th>\n",
       "      <th>cluster_2</th>\n",
       "      <th>cluster_3</th>\n",
       "      <th>cluster_4</th>\n",
       "      <th>cluster_5</th>\n",
       "      <th>cluster_6</th>\n",
       "      <th>cluster_7</th>\n",
       "      <th>cluster_8</th>\n",
       "      <th>cluster_9</th>\n",
       "      <th>cluster_10</th>\n",
       "      <th>cluster_11</th>\n",
       "      <th>cluster_12</th>\n",
       "      <th>cluster_13</th>\n",
       "      <th>cluster_14</th>\n",
       "      <th>cluster_15</th>\n",
       "      <th>cluster_16</th>\n",
       "      <th>cluster_17</th>\n",
       "    </tr>\n",
       "  </thead>\n",
       "  <tbody>\n",
       "    <tr>\n",
       "      <th>9214</th>\n",
       "      <td>HPSI0114i-rozh_4--DA--d52_tr--8</td>\n",
       "      <td>1</td>\n",
       "      <td>0</td>\n",
       "      <td>0</td>\n",
       "      <td>0</td>\n",
       "      <td>0</td>\n",
       "      <td>0</td>\n",
       "      <td>0</td>\n",
       "      <td>0</td>\n",
       "      <td>0</td>\n",
       "      <td>0</td>\n",
       "      <td>0</td>\n",
       "      <td>0</td>\n",
       "      <td>0</td>\n",
       "      <td>0</td>\n",
       "      <td>0</td>\n",
       "      <td>0</td>\n",
       "      <td>0</td>\n",
       "      <td>0</td>\n",
       "    </tr>\n",
       "    <tr>\n",
       "      <th>9215</th>\n",
       "      <td>HPSI0114i-rozh_4--DA--d52_tr--9</td>\n",
       "      <td>1</td>\n",
       "      <td>0</td>\n",
       "      <td>0</td>\n",
       "      <td>0</td>\n",
       "      <td>0</td>\n",
       "      <td>0</td>\n",
       "      <td>0</td>\n",
       "      <td>0</td>\n",
       "      <td>0</td>\n",
       "      <td>0</td>\n",
       "      <td>0</td>\n",
       "      <td>0</td>\n",
       "      <td>0</td>\n",
       "      <td>0</td>\n",
       "      <td>0</td>\n",
       "      <td>0</td>\n",
       "      <td>0</td>\n",
       "      <td>0</td>\n",
       "    </tr>\n",
       "    <tr>\n",
       "      <th>9216</th>\n",
       "      <td>HPSI0114i-rozh_4--DA--d52_tr--10</td>\n",
       "      <td>0</td>\n",
       "      <td>0</td>\n",
       "      <td>0</td>\n",
       "      <td>0</td>\n",
       "      <td>1</td>\n",
       "      <td>0</td>\n",
       "      <td>0</td>\n",
       "      <td>0</td>\n",
       "      <td>0</td>\n",
       "      <td>0</td>\n",
       "      <td>0</td>\n",
       "      <td>0</td>\n",
       "      <td>0</td>\n",
       "      <td>0</td>\n",
       "      <td>0</td>\n",
       "      <td>0</td>\n",
       "      <td>0</td>\n",
       "      <td>0</td>\n",
       "    </tr>\n",
       "    <tr>\n",
       "      <th>9217</th>\n",
       "      <td>HPSI0114i-rozh_4--DA--d52_tr--11</td>\n",
       "      <td>0</td>\n",
       "      <td>0</td>\n",
       "      <td>0</td>\n",
       "      <td>0</td>\n",
       "      <td>0</td>\n",
       "      <td>1</td>\n",
       "      <td>0</td>\n",
       "      <td>0</td>\n",
       "      <td>0</td>\n",
       "      <td>0</td>\n",
       "      <td>0</td>\n",
       "      <td>0</td>\n",
       "      <td>0</td>\n",
       "      <td>0</td>\n",
       "      <td>0</td>\n",
       "      <td>0</td>\n",
       "      <td>0</td>\n",
       "      <td>0</td>\n",
       "    </tr>\n",
       "    <tr>\n",
       "      <th>9218</th>\n",
       "      <td>HPSI0114i-rozh_4--DA--d52_tr--12</td>\n",
       "      <td>0</td>\n",
       "      <td>0</td>\n",
       "      <td>0</td>\n",
       "      <td>0</td>\n",
       "      <td>0</td>\n",
       "      <td>1</td>\n",
       "      <td>0</td>\n",
       "      <td>0</td>\n",
       "      <td>0</td>\n",
       "      <td>0</td>\n",
       "      <td>0</td>\n",
       "      <td>0</td>\n",
       "      <td>0</td>\n",
       "      <td>0</td>\n",
       "      <td>0</td>\n",
       "      <td>0</td>\n",
       "      <td>0</td>\n",
       "      <td>0</td>\n",
       "    </tr>\n",
       "  </tbody>\n",
       "</table>\n",
       "</div>"
      ],
      "text/plain": [
       "                                  cell  cluster_0  cluster_1  cluster_2  \\\n",
       "9214   HPSI0114i-rozh_4--DA--d52_tr--8          1          0          0   \n",
       "9215   HPSI0114i-rozh_4--DA--d52_tr--9          1          0          0   \n",
       "9216  HPSI0114i-rozh_4--DA--d52_tr--10          0          0          0   \n",
       "9217  HPSI0114i-rozh_4--DA--d52_tr--11          0          0          0   \n",
       "9218  HPSI0114i-rozh_4--DA--d52_tr--12          0          0          0   \n",
       "\n",
       "      cluster_3  cluster_4  cluster_5  cluster_6  cluster_7  cluster_8  \\\n",
       "9214          0          0          0          0          0          0   \n",
       "9215          0          0          0          0          0          0   \n",
       "9216          0          1          0          0          0          0   \n",
       "9217          0          0          1          0          0          0   \n",
       "9218          0          0          1          0          0          0   \n",
       "\n",
       "      cluster_9  cluster_10  cluster_11  cluster_12  cluster_13  cluster_14  \\\n",
       "9214          0           0           0           0           0           0   \n",
       "9215          0           0           0           0           0           0   \n",
       "9216          0           0           0           0           0           0   \n",
       "9217          0           0           0           0           0           0   \n",
       "9218          0           0           0           0           0           0   \n",
       "\n",
       "      cluster_15  cluster_16  cluster_17  \n",
       "9214           0           0           0  \n",
       "9215           0           0           0  \n",
       "9216           0           0           0  \n",
       "9217           0           0           0  \n",
       "9218           0           0           0  "
      ]
     },
     "execution_count": 106,
     "metadata": {},
     "output_type": "execute_result"
    }
   ],
   "source": [
    "df = pd.get_dummies(df0, columns=['cluster'])\n",
    "df.tail()"
   ]
  },
  {
   "cell_type": "code",
   "execution_count": 107,
   "id": "f890feef",
   "metadata": {},
   "outputs": [
    {
     "data": {
      "text/html": [
       "<div>\n",
       "<style scoped>\n",
       "    .dataframe tbody tr th:only-of-type {\n",
       "        vertical-align: middle;\n",
       "    }\n",
       "\n",
       "    .dataframe tbody tr th {\n",
       "        vertical-align: top;\n",
       "    }\n",
       "\n",
       "    .dataframe thead th {\n",
       "        text-align: right;\n",
       "    }\n",
       "</style>\n",
       "<table border=\"1\" class=\"dataframe\">\n",
       "  <thead>\n",
       "    <tr style=\"text-align: right;\">\n",
       "      <th></th>\n",
       "      <th>cluster_0</th>\n",
       "      <th>cluster_1</th>\n",
       "      <th>cluster_2</th>\n",
       "      <th>cluster_3</th>\n",
       "      <th>cluster_4</th>\n",
       "      <th>cluster_5</th>\n",
       "      <th>cluster_6</th>\n",
       "      <th>cluster_7</th>\n",
       "      <th>cluster_8</th>\n",
       "      <th>cluster_9</th>\n",
       "      <th>cluster_10</th>\n",
       "      <th>cluster_11</th>\n",
       "      <th>cluster_12</th>\n",
       "      <th>cluster_13</th>\n",
       "      <th>cluster_14</th>\n",
       "      <th>cluster_15</th>\n",
       "      <th>cluster_16</th>\n",
       "      <th>cluster_17</th>\n",
       "    </tr>\n",
       "  </thead>\n",
       "  <tbody>\n",
       "    <tr>\n",
       "      <th>HPSI0714i-iudw_1--DA--d30--0</th>\n",
       "      <td>0</td>\n",
       "      <td>0</td>\n",
       "      <td>1</td>\n",
       "      <td>0</td>\n",
       "      <td>0</td>\n",
       "      <td>0</td>\n",
       "      <td>0</td>\n",
       "      <td>0</td>\n",
       "      <td>0</td>\n",
       "      <td>0</td>\n",
       "      <td>0</td>\n",
       "      <td>0</td>\n",
       "      <td>0</td>\n",
       "      <td>0</td>\n",
       "      <td>0</td>\n",
       "      <td>0</td>\n",
       "      <td>0</td>\n",
       "      <td>0</td>\n",
       "    </tr>\n",
       "    <tr>\n",
       "      <th>HPSI0714i-iudw_1--DA--d30--1</th>\n",
       "      <td>0</td>\n",
       "      <td>0</td>\n",
       "      <td>1</td>\n",
       "      <td>0</td>\n",
       "      <td>0</td>\n",
       "      <td>0</td>\n",
       "      <td>0</td>\n",
       "      <td>0</td>\n",
       "      <td>0</td>\n",
       "      <td>0</td>\n",
       "      <td>0</td>\n",
       "      <td>0</td>\n",
       "      <td>0</td>\n",
       "      <td>0</td>\n",
       "      <td>0</td>\n",
       "      <td>0</td>\n",
       "      <td>0</td>\n",
       "      <td>0</td>\n",
       "    </tr>\n",
       "    <tr>\n",
       "      <th>HPSI0714i-iudw_1--DA--d30--2</th>\n",
       "      <td>0</td>\n",
       "      <td>0</td>\n",
       "      <td>0</td>\n",
       "      <td>0</td>\n",
       "      <td>0</td>\n",
       "      <td>0</td>\n",
       "      <td>0</td>\n",
       "      <td>0</td>\n",
       "      <td>0</td>\n",
       "      <td>1</td>\n",
       "      <td>0</td>\n",
       "      <td>0</td>\n",
       "      <td>0</td>\n",
       "      <td>0</td>\n",
       "      <td>0</td>\n",
       "      <td>0</td>\n",
       "      <td>0</td>\n",
       "      <td>0</td>\n",
       "    </tr>\n",
       "    <tr>\n",
       "      <th>HPSI0714i-iudw_1--DA--d30--3</th>\n",
       "      <td>0</td>\n",
       "      <td>0</td>\n",
       "      <td>1</td>\n",
       "      <td>0</td>\n",
       "      <td>0</td>\n",
       "      <td>0</td>\n",
       "      <td>0</td>\n",
       "      <td>0</td>\n",
       "      <td>0</td>\n",
       "      <td>0</td>\n",
       "      <td>0</td>\n",
       "      <td>0</td>\n",
       "      <td>0</td>\n",
       "      <td>0</td>\n",
       "      <td>0</td>\n",
       "      <td>0</td>\n",
       "      <td>0</td>\n",
       "      <td>0</td>\n",
       "    </tr>\n",
       "    <tr>\n",
       "      <th>HPSI0714i-iudw_1--DA--d30--4</th>\n",
       "      <td>0</td>\n",
       "      <td>1</td>\n",
       "      <td>0</td>\n",
       "      <td>0</td>\n",
       "      <td>0</td>\n",
       "      <td>0</td>\n",
       "      <td>0</td>\n",
       "      <td>0</td>\n",
       "      <td>0</td>\n",
       "      <td>0</td>\n",
       "      <td>0</td>\n",
       "      <td>0</td>\n",
       "      <td>0</td>\n",
       "      <td>0</td>\n",
       "      <td>0</td>\n",
       "      <td>0</td>\n",
       "      <td>0</td>\n",
       "      <td>0</td>\n",
       "    </tr>\n",
       "  </tbody>\n",
       "</table>\n",
       "</div>"
      ],
      "text/plain": [
       "                              cluster_0  cluster_1  cluster_2  cluster_3  \\\n",
       "HPSI0714i-iudw_1--DA--d30--0          0          0          1          0   \n",
       "HPSI0714i-iudw_1--DA--d30--1          0          0          1          0   \n",
       "HPSI0714i-iudw_1--DA--d30--2          0          0          0          0   \n",
       "HPSI0714i-iudw_1--DA--d30--3          0          0          1          0   \n",
       "HPSI0714i-iudw_1--DA--d30--4          0          1          0          0   \n",
       "\n",
       "                              cluster_4  cluster_5  cluster_6  cluster_7  \\\n",
       "HPSI0714i-iudw_1--DA--d30--0          0          0          0          0   \n",
       "HPSI0714i-iudw_1--DA--d30--1          0          0          0          0   \n",
       "HPSI0714i-iudw_1--DA--d30--2          0          0          0          0   \n",
       "HPSI0714i-iudw_1--DA--d30--3          0          0          0          0   \n",
       "HPSI0714i-iudw_1--DA--d30--4          0          0          0          0   \n",
       "\n",
       "                              cluster_8  cluster_9  cluster_10  cluster_11  \\\n",
       "HPSI0714i-iudw_1--DA--d30--0          0          0           0           0   \n",
       "HPSI0714i-iudw_1--DA--d30--1          0          0           0           0   \n",
       "HPSI0714i-iudw_1--DA--d30--2          0          1           0           0   \n",
       "HPSI0714i-iudw_1--DA--d30--3          0          0           0           0   \n",
       "HPSI0714i-iudw_1--DA--d30--4          0          0           0           0   \n",
       "\n",
       "                              cluster_12  cluster_13  cluster_14  cluster_15  \\\n",
       "HPSI0714i-iudw_1--DA--d30--0           0           0           0           0   \n",
       "HPSI0714i-iudw_1--DA--d30--1           0           0           0           0   \n",
       "HPSI0714i-iudw_1--DA--d30--2           0           0           0           0   \n",
       "HPSI0714i-iudw_1--DA--d30--3           0           0           0           0   \n",
       "HPSI0714i-iudw_1--DA--d30--4           0           0           0           0   \n",
       "\n",
       "                              cluster_16  cluster_17  \n",
       "HPSI0714i-iudw_1--DA--d30--0           0           0  \n",
       "HPSI0714i-iudw_1--DA--d30--1           0           0  \n",
       "HPSI0714i-iudw_1--DA--d30--2           0           0  \n",
       "HPSI0714i-iudw_1--DA--d30--3           0           0  \n",
       "HPSI0714i-iudw_1--DA--d30--4           0           0  "
      ]
     },
     "execution_count": 107,
     "metadata": {},
     "output_type": "execute_result"
    }
   ],
   "source": [
    "df1 = df[list(df.columns)[1:]]\n",
    "df1.index = df['cell'].values\n",
    "df1.head()"
   ]
  },
  {
   "cell_type": "code",
   "execution_count": 108,
   "id": "4b02392d",
   "metadata": {},
   "outputs": [],
   "source": [
    "filename = \"/hps/nobackup2/stegle/users/acuomo/all_scripts/struct_LMM2/sc_neuroseq/May2021/REVISION/C_discrete_18clusters.csv\"\n",
    "df1.to_csv(filename)"
   ]
  },
  {
   "cell_type": "code",
   "execution_count": 109,
   "id": "4d13b14d",
   "metadata": {},
   "outputs": [
    {
     "name": "stderr",
     "output_type": "stream",
     "text": [
      "/nfs/software/stegle/users/acuomo/conda-envs/spatialde/lib/python3.7/site-packages/ipykernel_launcher.py:1: SettingWithCopyWarning: \n",
      "A value is trying to be set on a copy of a slice from a DataFrame\n",
      "\n",
      "See the caveats in the documentation: https://pandas.pydata.org/pandas-docs/stable/user_guide/indexing.html#returning-a-view-versus-a-copy\n",
      "  \"\"\"Entry point for launching an IPython kernel.\n"
     ]
    }
   ],
   "source": [
    "df1.sort_values(by=list(df1.columns), axis=0, ascending=False, inplace=True)"
   ]
  },
  {
   "cell_type": "code",
   "execution_count": 110,
   "id": "fbb8fa44",
   "metadata": {},
   "outputs": [
    {
     "data": {
      "text/plain": [
       "<matplotlib.image.AxesImage at 0x2b82de96d210>"
      ]
     },
     "execution_count": 110,
     "metadata": {},
     "output_type": "execute_result"
    },
    {
     "data": {
      "image/png": "[encoded data removed]",
      "text/plain": [
       "<Figure size 288x288 with 1 Axes>"
      ]
     },
     "metadata": {
      "needs_background": "light"
     },
     "output_type": "display_data"
    }
   ],
   "source": [
    "plt.matshow(df1 @ df1.T)"
   ]
  },
  {
   "cell_type": "code",
   "execution_count": null,
   "id": "d58dd20f",
   "metadata": {},
   "outputs": [],
   "source": []
  },
  {
   "cell_type": "code",
   "execution_count": 135,
   "id": "be1f72f9",
   "metadata": {},
   "outputs": [],
   "source": [
    "input_files_dir = \"/hps/nobackup2/stegle/users/acuomo/all_scripts/struct_LMM2/sc_neuroseq/May2021/input_files/\"\n",
    "C_file = input_files_dir+\"MOFA_20.csv\"\n",
    "C = pd.read_csv(C_file, index_col = 0)"
   ]
  },
  {
   "cell_type": "code",
   "execution_count": 136,
   "id": "f6e12540",
   "metadata": {},
   "outputs": [],
   "source": [
    "C = xr.DataArray(C.values, dims=[\"cell\", \"pc\"], coords={\"cell\": C.index.values, \"pc\": C.columns.values})\n",
    "C_sorted = C.sel(cell=df1.index.values).values"
   ]
  },
  {
   "cell_type": "code",
   "execution_count": 137,
   "id": "18597cf2",
   "metadata": {},
   "outputs": [
    {
     "data": {
      "text/plain": [
       "<matplotlib.image.AxesImage at 0x2b82dedf1d90>"
      ]
     },
     "execution_count": 137,
     "metadata": {},
     "output_type": "execute_result"
    },
    {
     "data": {
      "image/png": "[encoded data removed]",
      "text/plain": [
       "<Figure size 288x288 with 1 Axes>"
      ]
     },
     "metadata": {
      "needs_background": "light"
     },
     "output_type": "display_data"
    }
   ],
   "source": [
    "plt.matshow(C_sorted @ C_sorted.T)"
   ]
  },
  {
   "cell_type": "code",
   "execution_count": 138,
   "id": "781dfa5d",
   "metadata": {},
   "outputs": [],
   "source": [
    "# different clustering"
   ]
  },
  {
   "cell_type": "code",
   "execution_count": 139,
   "id": "1c984f40",
   "metadata": {},
   "outputs": [],
   "source": [
    "# ?sc.tl.leiden"
   ]
  },
  {
   "cell_type": "code",
   "execution_count": 140,
   "id": "60056ed3",
   "metadata": {},
   "outputs": [],
   "source": [
    "sc.tl.leiden(adata, resolution=0.3)"
   ]
  },
  {
   "cell_type": "code",
   "execution_count": 141,
   "id": "766a941d",
   "metadata": {},
   "outputs": [
    {
     "data": {
      "text/plain": [
       "0       0\n",
       "1       0\n",
       "2       0\n",
       "3       0\n",
       "4       0\n",
       "       ..\n",
       "9214    2\n",
       "9215    2\n",
       "9216    3\n",
       "9217    3\n",
       "9218    3\n",
       "Name: leiden, Length: 9219, dtype: category\n",
       "Categories (9, object): ['0', '1', '2', '3', ..., '5', '6', '7', '8']"
      ]
     },
     "execution_count": 141,
     "metadata": {},
     "output_type": "execute_result"
    }
   ],
   "source": [
    "adata.obs['leiden']"
   ]
  },
  {
   "cell_type": "code",
   "execution_count": 142,
   "id": "fb5382d3",
   "metadata": {},
   "outputs": [
    {
     "data": {
      "text/html": [
       "<div>\n",
       "<style scoped>\n",
       "    .dataframe tbody tr th:only-of-type {\n",
       "        vertical-align: middle;\n",
       "    }\n",
       "\n",
       "    .dataframe tbody tr th {\n",
       "        vertical-align: top;\n",
       "    }\n",
       "\n",
       "    .dataframe thead th {\n",
       "        text-align: right;\n",
       "    }\n",
       "</style>\n",
       "<table border=\"1\" class=\"dataframe\">\n",
       "  <thead>\n",
       "    <tr style=\"text-align: right;\">\n",
       "      <th></th>\n",
       "      <th>cell</th>\n",
       "      <th>cluster</th>\n",
       "    </tr>\n",
       "  </thead>\n",
       "  <tbody>\n",
       "    <tr>\n",
       "      <th>0</th>\n",
       "      <td>HPSI0714i-iudw_1--DA--d30--0</td>\n",
       "      <td>0</td>\n",
       "    </tr>\n",
       "    <tr>\n",
       "      <th>1</th>\n",
       "      <td>HPSI0714i-iudw_1--DA--d30--1</td>\n",
       "      <td>0</td>\n",
       "    </tr>\n",
       "    <tr>\n",
       "      <th>2</th>\n",
       "      <td>HPSI0714i-iudw_1--DA--d30--2</td>\n",
       "      <td>0</td>\n",
       "    </tr>\n",
       "    <tr>\n",
       "      <th>3</th>\n",
       "      <td>HPSI0714i-iudw_1--DA--d30--3</td>\n",
       "      <td>0</td>\n",
       "    </tr>\n",
       "    <tr>\n",
       "      <th>4</th>\n",
       "      <td>HPSI0714i-iudw_1--DA--d30--4</td>\n",
       "      <td>0</td>\n",
       "    </tr>\n",
       "  </tbody>\n",
       "</table>\n",
       "</div>"
      ],
      "text/plain": [
       "                           cell cluster\n",
       "0  HPSI0714i-iudw_1--DA--d30--0       0\n",
       "1  HPSI0714i-iudw_1--DA--d30--1       0\n",
       "2  HPSI0714i-iudw_1--DA--d30--2       0\n",
       "3  HPSI0714i-iudw_1--DA--d30--3       0\n",
       "4  HPSI0714i-iudw_1--DA--d30--4       0"
      ]
     },
     "execution_count": 142,
     "metadata": {},
     "output_type": "execute_result"
    }
   ],
   "source": [
    "data = {\"cell\": C.cell.values, \"cluster\": adata.obs['leiden']}\n",
    "df0 = pd.DataFrame(data)\n",
    "df0.head()"
   ]
  },
  {
   "cell_type": "code",
   "execution_count": 143,
   "id": "db80ca02",
   "metadata": {},
   "outputs": [],
   "source": [
    "filename = \"/hps/nobackup2/stegle/users/acuomo/all_scripts/struct_LMM2/sc_neuroseq/May2021/REVISION/9clusters.csv\"\n",
    "df0.to_csv(filename)"
   ]
  },
  {
   "cell_type": "code",
   "execution_count": 119,
   "id": "31daf26b",
   "metadata": {},
   "outputs": [
    {
     "data": {
      "text/html": [
       "<div>\n",
       "<style scoped>\n",
       "    .dataframe tbody tr th:only-of-type {\n",
       "        vertical-align: middle;\n",
       "    }\n",
       "\n",
       "    .dataframe tbody tr th {\n",
       "        vertical-align: top;\n",
       "    }\n",
       "\n",
       "    .dataframe thead th {\n",
       "        text-align: right;\n",
       "    }\n",
       "</style>\n",
       "<table border=\"1\" class=\"dataframe\">\n",
       "  <thead>\n",
       "    <tr style=\"text-align: right;\">\n",
       "      <th></th>\n",
       "      <th>cell</th>\n",
       "      <th>cluster_0</th>\n",
       "      <th>cluster_1</th>\n",
       "      <th>cluster_2</th>\n",
       "      <th>cluster_3</th>\n",
       "      <th>cluster_4</th>\n",
       "      <th>cluster_5</th>\n",
       "      <th>cluster_6</th>\n",
       "      <th>cluster_7</th>\n",
       "      <th>cluster_8</th>\n",
       "    </tr>\n",
       "  </thead>\n",
       "  <tbody>\n",
       "    <tr>\n",
       "      <th>9214</th>\n",
       "      <td>HPSI0114i-rozh_4--DA--d52_tr--8</td>\n",
       "      <td>0</td>\n",
       "      <td>0</td>\n",
       "      <td>1</td>\n",
       "      <td>0</td>\n",
       "      <td>0</td>\n",
       "      <td>0</td>\n",
       "      <td>0</td>\n",
       "      <td>0</td>\n",
       "      <td>0</td>\n",
       "    </tr>\n",
       "    <tr>\n",
       "      <th>9215</th>\n",
       "      <td>HPSI0114i-rozh_4--DA--d52_tr--9</td>\n",
       "      <td>0</td>\n",
       "      <td>0</td>\n",
       "      <td>1</td>\n",
       "      <td>0</td>\n",
       "      <td>0</td>\n",
       "      <td>0</td>\n",
       "      <td>0</td>\n",
       "      <td>0</td>\n",
       "      <td>0</td>\n",
       "    </tr>\n",
       "    <tr>\n",
       "      <th>9216</th>\n",
       "      <td>HPSI0114i-rozh_4--DA--d52_tr--10</td>\n",
       "      <td>0</td>\n",
       "      <td>0</td>\n",
       "      <td>0</td>\n",
       "      <td>1</td>\n",
       "      <td>0</td>\n",
       "      <td>0</td>\n",
       "      <td>0</td>\n",
       "      <td>0</td>\n",
       "      <td>0</td>\n",
       "    </tr>\n",
       "    <tr>\n",
       "      <th>9217</th>\n",
       "      <td>HPSI0114i-rozh_4--DA--d52_tr--11</td>\n",
       "      <td>0</td>\n",
       "      <td>0</td>\n",
       "      <td>0</td>\n",
       "      <td>1</td>\n",
       "      <td>0</td>\n",
       "      <td>0</td>\n",
       "      <td>0</td>\n",
       "      <td>0</td>\n",
       "      <td>0</td>\n",
       "    </tr>\n",
       "    <tr>\n",
       "      <th>9218</th>\n",
       "      <td>HPSI0114i-rozh_4--DA--d52_tr--12</td>\n",
       "      <td>0</td>\n",
       "      <td>0</td>\n",
       "      <td>0</td>\n",
       "      <td>1</td>\n",
       "      <td>0</td>\n",
       "      <td>0</td>\n",
       "      <td>0</td>\n",
       "      <td>0</td>\n",
       "      <td>0</td>\n",
       "    </tr>\n",
       "  </tbody>\n",
       "</table>\n",
       "</div>"
      ],
      "text/plain": [
       "                                  cell  cluster_0  cluster_1  cluster_2  \\\n",
       "9214   HPSI0114i-rozh_4--DA--d52_tr--8          0          0          1   \n",
       "9215   HPSI0114i-rozh_4--DA--d52_tr--9          0          0          1   \n",
       "9216  HPSI0114i-rozh_4--DA--d52_tr--10          0          0          0   \n",
       "9217  HPSI0114i-rozh_4--DA--d52_tr--11          0          0          0   \n",
       "9218  HPSI0114i-rozh_4--DA--d52_tr--12          0          0          0   \n",
       "\n",
       "      cluster_3  cluster_4  cluster_5  cluster_6  cluster_7  cluster_8  \n",
       "9214          0          0          0          0          0          0  \n",
       "9215          0          0          0          0          0          0  \n",
       "9216          1          0          0          0          0          0  \n",
       "9217          1          0          0          0          0          0  \n",
       "9218          1          0          0          0          0          0  "
      ]
     },
     "execution_count": 119,
     "metadata": {},
     "output_type": "execute_result"
    }
   ],
   "source": [
    "df = pd.get_dummies(df0, columns=['cluster'])\n",
    "df.tail()"
   ]
  },
  {
   "cell_type": "code",
   "execution_count": 120,
   "id": "38f62d0e",
   "metadata": {},
   "outputs": [
    {
     "data": {
      "text/html": [
       "<div>\n",
       "<style scoped>\n",
       "    .dataframe tbody tr th:only-of-type {\n",
       "        vertical-align: middle;\n",
       "    }\n",
       "\n",
       "    .dataframe tbody tr th {\n",
       "        vertical-align: top;\n",
       "    }\n",
       "\n",
       "    .dataframe thead th {\n",
       "        text-align: right;\n",
       "    }\n",
       "</style>\n",
       "<table border=\"1\" class=\"dataframe\">\n",
       "  <thead>\n",
       "    <tr style=\"text-align: right;\">\n",
       "      <th></th>\n",
       "      <th>cluster_0</th>\n",
       "      <th>cluster_1</th>\n",
       "      <th>cluster_2</th>\n",
       "      <th>cluster_3</th>\n",
       "      <th>cluster_4</th>\n",
       "      <th>cluster_5</th>\n",
       "      <th>cluster_6</th>\n",
       "      <th>cluster_7</th>\n",
       "      <th>cluster_8</th>\n",
       "    </tr>\n",
       "  </thead>\n",
       "  <tbody>\n",
       "    <tr>\n",
       "      <th>HPSI0714i-iudw_1--DA--d30--0</th>\n",
       "      <td>1</td>\n",
       "      <td>0</td>\n",
       "      <td>0</td>\n",
       "      <td>0</td>\n",
       "      <td>0</td>\n",
       "      <td>0</td>\n",
       "      <td>0</td>\n",
       "      <td>0</td>\n",
       "      <td>0</td>\n",
       "    </tr>\n",
       "    <tr>\n",
       "      <th>HPSI0714i-iudw_1--DA--d30--1</th>\n",
       "      <td>1</td>\n",
       "      <td>0</td>\n",
       "      <td>0</td>\n",
       "      <td>0</td>\n",
       "      <td>0</td>\n",
       "      <td>0</td>\n",
       "      <td>0</td>\n",
       "      <td>0</td>\n",
       "      <td>0</td>\n",
       "    </tr>\n",
       "    <tr>\n",
       "      <th>HPSI0714i-iudw_1--DA--d30--2</th>\n",
       "      <td>1</td>\n",
       "      <td>0</td>\n",
       "      <td>0</td>\n",
       "      <td>0</td>\n",
       "      <td>0</td>\n",
       "      <td>0</td>\n",
       "      <td>0</td>\n",
       "      <td>0</td>\n",
       "      <td>0</td>\n",
       "    </tr>\n",
       "    <tr>\n",
       "      <th>HPSI0714i-iudw_1--DA--d30--3</th>\n",
       "      <td>1</td>\n",
       "      <td>0</td>\n",
       "      <td>0</td>\n",
       "      <td>0</td>\n",
       "      <td>0</td>\n",
       "      <td>0</td>\n",
       "      <td>0</td>\n",
       "      <td>0</td>\n",
       "      <td>0</td>\n",
       "    </tr>\n",
       "    <tr>\n",
       "      <th>HPSI0714i-iudw_1--DA--d30--4</th>\n",
       "      <td>1</td>\n",
       "      <td>0</td>\n",
       "      <td>0</td>\n",
       "      <td>0</td>\n",
       "      <td>0</td>\n",
       "      <td>0</td>\n",
       "      <td>0</td>\n",
       "      <td>0</td>\n",
       "      <td>0</td>\n",
       "    </tr>\n",
       "  </tbody>\n",
       "</table>\n",
       "</div>"
      ],
      "text/plain": [
       "                              cluster_0  cluster_1  cluster_2  cluster_3  \\\n",
       "HPSI0714i-iudw_1--DA--d30--0          1          0          0          0   \n",
       "HPSI0714i-iudw_1--DA--d30--1          1          0          0          0   \n",
       "HPSI0714i-iudw_1--DA--d30--2          1          0          0          0   \n",
       "HPSI0714i-iudw_1--DA--d30--3          1          0          0          0   \n",
       "HPSI0714i-iudw_1--DA--d30--4          1          0          0          0   \n",
       "\n",
       "                              cluster_4  cluster_5  cluster_6  cluster_7  \\\n",
       "HPSI0714i-iudw_1--DA--d30--0          0          0          0          0   \n",
       "HPSI0714i-iudw_1--DA--d30--1          0          0          0          0   \n",
       "HPSI0714i-iudw_1--DA--d30--2          0          0          0          0   \n",
       "HPSI0714i-iudw_1--DA--d30--3          0          0          0          0   \n",
       "HPSI0714i-iudw_1--DA--d30--4          0          0          0          0   \n",
       "\n",
       "                              cluster_8  \n",
       "HPSI0714i-iudw_1--DA--d30--0          0  \n",
       "HPSI0714i-iudw_1--DA--d30--1          0  \n",
       "HPSI0714i-iudw_1--DA--d30--2          0  \n",
       "HPSI0714i-iudw_1--DA--d30--3          0  \n",
       "HPSI0714i-iudw_1--DA--d30--4          0  "
      ]
     },
     "execution_count": 120,
     "metadata": {},
     "output_type": "execute_result"
    }
   ],
   "source": [
    "df1 = df[list(df.columns)[1:]]\n",
    "df1.index = df['cell'].values\n",
    "df1.head()"
   ]
  },
  {
   "cell_type": "code",
   "execution_count": 122,
   "id": "01e7f8ca",
   "metadata": {},
   "outputs": [],
   "source": [
    "filename = \"/hps/nobackup2/stegle/users/acuomo/all_scripts/struct_LMM2/sc_neuroseq/May2021/REVISION/C_discrete_9clusters.csv\"\n",
    "df1.to_csv(filename)"
   ]
  },
  {
   "cell_type": "code",
   "execution_count": 123,
   "id": "8186e894",
   "metadata": {},
   "outputs": [
    {
     "name": "stderr",
     "output_type": "stream",
     "text": [
      "/nfs/software/stegle/users/acuomo/conda-envs/spatialde/lib/python3.7/site-packages/ipykernel_launcher.py:1: SettingWithCopyWarning: \n",
      "A value is trying to be set on a copy of a slice from a DataFrame\n",
      "\n",
      "See the caveats in the documentation: https://pandas.pydata.org/pandas-docs/stable/user_guide/indexing.html#returning-a-view-versus-a-copy\n",
      "  \"\"\"Entry point for launching an IPython kernel.\n"
     ]
    }
   ],
   "source": [
    "df1.sort_values(by=list(df1.columns), axis=0, ascending=False, inplace=True)"
   ]
  },
  {
   "cell_type": "code",
   "execution_count": 124,
   "id": "24c1cb7e",
   "metadata": {},
   "outputs": [
    {
     "data": {
      "text/plain": [
       "<matplotlib.image.AxesImage at 0x2b82df081710>"
      ]
     },
     "execution_count": 124,
     "metadata": {},
     "output_type": "execute_result"
    },
    {
     "data": {
      "image/png": "[encoded data removed]",
      "text/plain": [
       "<Figure size 288x288 with 1 Axes>"
      ]
     },
     "metadata": {
      "needs_background": "light"
     },
     "output_type": "display_data"
    }
   ],
   "source": [
    "plt.matshow(df1 @ df1.T)"
   ]
  },
  {
   "cell_type": "code",
   "execution_count": 125,
   "id": "2e0a4225",
   "metadata": {},
   "outputs": [],
   "source": [
    "input_files_dir = \"/hps/nobackup2/stegle/users/acuomo/all_scripts/struct_LMM2/sc_neuroseq/May2021/input_files/\"\n",
    "C_file = input_files_dir+\"MOFA_20.csv\"\n",
    "C = pd.read_csv(C_file, index_col = 0)"
   ]
  },
  {
   "cell_type": "code",
   "execution_count": 126,
   "id": "5922bb69",
   "metadata": {},
   "outputs": [],
   "source": [
    "C = xr.DataArray(C.values, dims=[\"cell\", \"pc\"], coords={\"cell\": C.index.values, \"pc\": C.columns.values})\n",
    "C_sorted = C.sel(cell=df1.index.values).values"
   ]
  },
  {
   "cell_type": "code",
   "execution_count": 127,
   "id": "c53c02b1",
   "metadata": {},
   "outputs": [
    {
     "data": {
      "text/plain": [
       "<matplotlib.image.AxesImage at 0x2b82de687ad0>"
      ]
     },
     "execution_count": 127,
     "metadata": {},
     "output_type": "execute_result"
    },
    {
     "data": {
      "image/png": "[encoded data removed]",
      "text/plain": [
       "<Figure size 288x288 with 1 Axes>"
      ]
     },
     "metadata": {
      "needs_background": "light"
     },
     "output_type": "display_data"
    }
   ],
   "source": [
    "plt.matshow(C_sorted @ C_sorted.T)"
   ]
  },
  {
   "cell_type": "code",
   "execution_count": null,
   "id": "97447792",
   "metadata": {},
   "outputs": [],
   "source": []
  },
  {
   "cell_type": "code",
   "execution_count": null,
   "id": "7e30c322",
   "metadata": {},
   "outputs": [],
   "source": []
  }
 ],
 "metadata": {
  "kernelspec": {
   "display_name": "Python (spatialde)",
   "language": "python",
   "name": "spatialde"
  },
  "language_info": {
   "codemirror_mode": {
    "name": "ipython",
    "version": 3
   },
   "file_extension": ".py",
   "mimetype": "text/x-python",
   "name": "python",
   "nbconvert_exporter": "python",
   "pygments_lexer": "ipython3",
   "version": "3.7.9"
  }
 },
 "nbformat": 4,
 "nbformat_minor": 5
}
