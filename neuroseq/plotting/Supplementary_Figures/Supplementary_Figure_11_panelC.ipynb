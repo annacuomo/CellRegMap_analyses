{
 "cells": [
  {
   "cell_type": "code",
   "execution_count": 1,
   "id": "79e5ae52",
   "metadata": {},
   "outputs": [
    {
     "name": "stderr",
     "output_type": "stream",
     "text": [
      "\n",
      "Attaching package: ‘dplyr’\n",
      "\n",
      "The following objects are masked from ‘package:stats’:\n",
      "\n",
      "    filter, lag\n",
      "\n",
      "The following objects are masked from ‘package:base’:\n",
      "\n",
      "    intersect, setdiff, setequal, union\n",
      "\n",
      "\n",
      "********************************************************\n",
      "Note: As of version 1.0.0, cowplot does not change the\n",
      "  default ggplot2 theme anymore. To recover the previous\n",
      "  behavior, execute:\n",
      "  theme_set(theme_cowplot())\n",
      "********************************************************\n",
      "\n"
     ]
    }
   ],
   "source": [
    "library(ggplot2)\n",
    "library(dplyr)\n",
    "library(ggbeeswarm)\n",
    "library(cowplot)"
   ]
  },
  {
   "cell_type": "code",
   "execution_count": 2,
   "id": "33f06ab5",
   "metadata": {},
   "outputs": [],
   "source": [
    "### consider eQTL whose beta_GxC flips sign for more than 15% of (pseudo)cells"
   ]
  },
  {
   "cell_type": "code",
   "execution_count": 3,
   "id": "a3e56e23",
   "metadata": {},
   "outputs": [],
   "source": [
    "beta_dir = \"/hps/nobackup2/stegle/users/acuomo/all_scripts/struct_LMM2/sc_neuroseq/May2021/genetic_effect/MOFA10/\""
   ]
  },
  {
   "cell_type": "code",
   "execution_count": 4,
   "id": "1a5395e8",
   "metadata": {},
   "outputs": [
    {
     "data": {
      "text/html": [
       "<table>\n",
       "<thead><tr><th></th><th scope=col>beta</th><th scope=col>eqtl</th></tr></thead>\n",
       "<tbody>\n",
       "\t<tr><th scope=row>0</th><td>0.7559366               </td><td>ABHD10_-3_111697439_T_G </td></tr>\n",
       "\t<tr><th scope=row>1</th><td>0.3794608               </td><td>ABHD12B_-14_51328222_C_T</td></tr>\n",
       "\t<tr><th scope=row>2</th><td>0.2242704               </td><td>ACKR2_-3_42817129_C_T   </td></tr>\n",
       "\t<tr><th scope=row>3</th><td>0.2317751               </td><td>ADD2_-2_70894426_A_T    </td></tr>\n",
       "\t<tr><th scope=row>4</th><td>0.4976565               </td><td>ADSL_-22_40757228_A_C   </td></tr>\n",
       "\t<tr><th scope=row>5</th><td>0.1462157               </td><td>AIM1L_-1_26673825_C_T   </td></tr>\n",
       "</tbody>\n",
       "</table>\n"
      ],
      "text/latex": [
       "\\begin{tabular}{r|ll}\n",
       "  & beta & eqtl\\\\\n",
       "\\hline\n",
       "\t0 & 0.7559366                        & ABHD10\\_-3\\_111697439\\_T\\_G \\\\\n",
       "\t1 & 0.3794608                        & ABHD12B\\_-14\\_51328222\\_C\\_T\\\\\n",
       "\t2 & 0.2242704                        & ACKR2\\_-3\\_42817129\\_C\\_T   \\\\\n",
       "\t3 & 0.2317751                        & ADD2\\_-2\\_70894426\\_A\\_T    \\\\\n",
       "\t4 & 0.4976565                        & ADSL\\_-22\\_40757228\\_A\\_C   \\\\\n",
       "\t5 & 0.1462157                        & AIM1L\\_-1\\_26673825\\_C\\_T   \\\\\n",
       "\\end{tabular}\n"
      ],
      "text/markdown": [
       "\n",
       "| <!--/--> | beta | eqtl |\n",
       "|---|---|---|\n",
       "| 0 | 0.7559366                | ABHD10_-3_111697439_T_G  |\n",
       "| 1 | 0.3794608                | ABHD12B_-14_51328222_C_T |\n",
       "| 2 | 0.2242704                | ACKR2_-3_42817129_C_T    |\n",
       "| 3 | 0.2317751                | ADD2_-2_70894426_A_T     |\n",
       "| 4 | 0.4976565                | ADSL_-22_40757228_A_C    |\n",
       "| 5 | 0.1462157                | AIM1L_-1_26673825_C_T    |\n",
       "\n"
      ],
      "text/plain": [
       "  beta      eqtl                    \n",
       "0 0.7559366 ABHD10_-3_111697439_T_G \n",
       "1 0.3794608 ABHD12B_-14_51328222_C_T\n",
       "2 0.2242704 ACKR2_-3_42817129_C_T   \n",
       "3 0.2317751 ADD2_-2_70894426_A_T    \n",
       "4 0.4976565 ADSL_-22_40757228_A_C   \n",
       "5 0.1462157 AIM1L_-1_26673825_C_T   "
      ]
     },
     "metadata": {},
     "output_type": "display_data"
    }
   ],
   "source": [
    "# list.files(beta_dir)\n",
    "beta_GxE_est_file = paste0(beta_dir,\"eqtl_est_single_GxE_genetic_effects.csv\")\n",
    "beta_GxE_est = read.csv(beta_GxE_est_file, row.names=1)\n",
    "head(beta_GxE_est)"
   ]
  },
  {
   "cell_type": "code",
   "execution_count": 5,
   "id": "807ee2f2",
   "metadata": {},
   "outputs": [
    {
     "data": {
      "text/html": [
       "<table>\n",
       "<thead><tr><th></th><th scope=col>beta_G</th><th scope=col>n</th></tr></thead>\n",
       "<tbody>\n",
       "\t<tr><th scope=row>ABHD12B-14_51328222_C_T</th><td>-0.10783378</td><td>0.2393439  </td></tr>\n",
       "\t<tr><th scope=row>ADSL-22_40757228_A_C</th><td> 0.09485572</td><td>0.6827107  </td></tr>\n",
       "</tbody>\n",
       "</table>\n"
      ],
      "text/latex": [
       "\\begin{tabular}{r|ll}\n",
       "  & beta\\_G & n\\\\\n",
       "\\hline\n",
       "\tABHD12B-14\\_51328222\\_C\\_T & -0.10783378 & 0.2393439  \\\\\n",
       "\tADSL-22\\_40757228\\_A\\_C &  0.09485572 & 0.6827107  \\\\\n",
       "\\end{tabular}\n"
      ],
      "text/markdown": [
       "\n",
       "| <!--/--> | beta_G | n |\n",
       "|---|---|---|\n",
       "| ABHD12B-14_51328222_C_T | -0.10783378 | 0.2393439   |\n",
       "| ADSL-22_40757228_A_C |  0.09485572 | 0.6827107   |\n",
       "\n"
      ],
      "text/plain": [
       "                        beta_G      n        \n",
       "ABHD12B-14_51328222_C_T -0.10783378 0.2393439\n",
       "ADSL-22_40757228_A_C     0.09485572 0.6827107"
      ]
     },
     "metadata": {},
     "output_type": "display_data"
    }
   ],
   "source": [
    "flips_filename = paste0(beta_dir, \"eqtl_with_flip_sign.csv\")\n",
    "flips_df = read.csv(flips_filename, row.names = 1)\n",
    "head(flips_df,2)"
   ]
  },
  {
   "cell_type": "code",
   "execution_count": 8,
   "id": "f7516948",
   "metadata": {},
   "outputs": [
    {
     "data": {
      "text/html": [
       "94"
      ],
      "text/latex": [
       "94"
      ],
      "text/markdown": [
       "94"
      ],
      "text/plain": [
       "[1] 94"
      ]
     },
     "metadata": {},
     "output_type": "display_data"
    },
    {
     "data": {
      "text/html": [
       "45"
      ],
      "text/latex": [
       "45"
      ],
      "text/markdown": [
       "45"
      ],
      "text/plain": [
       "[1] 45"
      ]
     },
     "metadata": {},
     "output_type": "display_data"
    }
   ],
   "source": [
    "nrow(flips_df)\n",
    "flips_df$n2 = flips_df$n\n",
    "flips_df[flips_df$n2>0.5,\"n2\"] = 1-flips_df[flips_df$n2>0.5,\"n\"]\n",
    "flips_df = flips_df[flips_df$n2>0.25,]\n",
    "nrow(flips_df)"
   ]
  },
  {
   "cell_type": "code",
   "execution_count": 9,
   "id": "830e375c",
   "metadata": {},
   "outputs": [
    {
     "data": {
      "text/html": [
       "<table>\n",
       "<thead><tr><th></th><th scope=col>ABHD10-3_111697439_T_G</th><th scope=col>ABHD12B-14_51328222_C_T</th><th scope=col>ACKR2-3_42817129_C_T</th><th scope=col>ADD2-2_70894426_A_T</th><th scope=col>ADSL-22_40757228_A_C</th><th scope=col>AIM1L-1_26673825_C_T</th><th scope=col>AKAP7-6_131691964_C_A</th><th scope=col>ALDH7A1-5_126011412_G_A</th><th scope=col>ANKRD18B-9_33524775_C_A</th><th scope=col>APIP-11_34905987_T_C</th><th scope=col>...</th><th scope=col>YWHAE-17_1246420_G_A</th><th scope=col>ZBBX-3_167080934_T_G</th><th scope=col>ZC3HAV1-7_138730361_T_C</th><th scope=col>ZFR2-19_3840157_C_T</th><th scope=col>ZG16B-16_2871121_T_C</th><th scope=col>ZNF423-16_49599995_C_G</th><th scope=col>ZNF552-19_58315273_G_A</th><th scope=col>ZNF738-19_21474173_G_A</th><th scope=col>ZNF77-19_2936535_G_A</th><th scope=col>ZP3-7_76177284_C_T</th></tr></thead>\n",
       "<tbody>\n",
       "\t<tr><th scope=row>HPSI0714i-iudw_1--DA--d30--0</th><td>-0.2108622   </td><td> 0.003924475 </td><td>0.02206444   </td><td>0.02834211   </td><td> 0.2235163   </td><td>-0.03575032  </td><td>-0.09473256  </td><td> 0.006901295 </td><td> 0.0006737957</td><td>-0.07499119  </td><td>...          </td><td> 0.06962421  </td><td>0.1120253    </td><td>-0.04172133  </td><td>0.01126897   </td><td> 0.1057579   </td><td>-0.03101814  </td><td>0.0909417    </td><td>0.3020245    </td><td>-0.1583842   </td><td>-0.05596878  </td></tr>\n",
       "\t<tr><th scope=row>HPSI0714i-iudw_1--DA--d30--1</th><td>-0.2283969   </td><td>-0.047217741 </td><td>0.10596178   </td><td>0.02514689   </td><td>-0.1921801   </td><td>-0.01471768  </td><td> 0.01878961  </td><td>-0.171038975 </td><td>-0.1105473675</td><td>-0.18686595  </td><td>...          </td><td>-0.21070417  </td><td>0.3759854    </td><td> 0.08774666  </td><td>0.02505916   </td><td>-0.1950055   </td><td>-0.22780547  </td><td>0.0775938    </td><td>0.3452492    </td><td>-0.3472152   </td><td>-0.15259400  </td></tr>\n",
       "</tbody>\n",
       "</table>\n"
      ],
      "text/latex": [
       "\\begin{tabular}{r|lllllllllllllllllllllllllllllllllllllllllllllllllllllllllllllllllllllllllllllllllllllllllllllllllllllllllllllllllllllllllllllllllllllllllllllllllllllllllllllllllllllllllllllllllllllllllllllllllllllllllllllllllllll}\n",
       "  & ABHD10-3\\_111697439\\_T\\_G & ABHD12B-14\\_51328222\\_C\\_T & ACKR2-3\\_42817129\\_C\\_T & ADD2-2\\_70894426\\_A\\_T & ADSL-22\\_40757228\\_A\\_C & AIM1L-1\\_26673825\\_C\\_T & AKAP7-6\\_131691964\\_C\\_A & ALDH7A1-5\\_126011412\\_G\\_A & ANKRD18B-9\\_33524775\\_C\\_A & APIP-11\\_34905987\\_T\\_C & ... & YWHAE-17\\_1246420\\_G\\_A & ZBBX-3\\_167080934\\_T\\_G & ZC3HAV1-7\\_138730361\\_T\\_C & ZFR2-19\\_3840157\\_C\\_T & ZG16B-16\\_2871121\\_T\\_C & ZNF423-16\\_49599995\\_C\\_G & ZNF552-19\\_58315273\\_G\\_A & ZNF738-19\\_21474173\\_G\\_A & ZNF77-19\\_2936535\\_G\\_A & ZP3-7\\_76177284\\_C\\_T\\\\\n",
       "\\hline\n",
       "\tHPSI0714i-iudw\\_1--DA--d30--0 & -0.2108622    &  0.003924475  & 0.02206444    & 0.02834211    &  0.2235163    & -0.03575032   & -0.09473256   &  0.006901295  &  0.0006737957 & -0.07499119   & ...           &  0.06962421   & 0.1120253     & -0.04172133   & 0.01126897    &  0.1057579    & -0.03101814   & 0.0909417     & 0.3020245     & -0.1583842    & -0.05596878  \\\\\n",
       "\tHPSI0714i-iudw\\_1--DA--d30--1 & -0.2283969    & -0.047217741  & 0.10596178    & 0.02514689    & -0.1921801    & -0.01471768   &  0.01878961   & -0.171038975  & -0.1105473675 & -0.18686595   & ...           & -0.21070417   & 0.3759854     &  0.08774666   & 0.02505916    & -0.1950055    & -0.22780547   & 0.0775938     & 0.3452492     & -0.3472152    & -0.15259400  \\\\\n",
       "\\end{tabular}\n"
      ],
      "text/markdown": [
       "\n",
       "| <!--/--> | ABHD10-3_111697439_T_G | ABHD12B-14_51328222_C_T | ACKR2-3_42817129_C_T | ADD2-2_70894426_A_T | ADSL-22_40757228_A_C | AIM1L-1_26673825_C_T | AKAP7-6_131691964_C_A | ALDH7A1-5_126011412_G_A | ANKRD18B-9_33524775_C_A | APIP-11_34905987_T_C | ... | YWHAE-17_1246420_G_A | ZBBX-3_167080934_T_G | ZC3HAV1-7_138730361_T_C | ZFR2-19_3840157_C_T | ZG16B-16_2871121_T_C | ZNF423-16_49599995_C_G | ZNF552-19_58315273_G_A | ZNF738-19_21474173_G_A | ZNF77-19_2936535_G_A | ZP3-7_76177284_C_T |\n",
       "|---|---|---|---|---|---|---|---|---|---|---|---|---|---|---|---|---|---|---|---|---|---|\n",
       "| HPSI0714i-iudw_1--DA--d30--0 | -0.2108622    |  0.003924475  | 0.02206444    | 0.02834211    |  0.2235163    | -0.03575032   | -0.09473256   |  0.006901295  |  0.0006737957 | -0.07499119   | ...           |  0.06962421   | 0.1120253     | -0.04172133   | 0.01126897    |  0.1057579    | -0.03101814   | 0.0909417     | 0.3020245     | -0.1583842    | -0.05596878   |\n",
       "| HPSI0714i-iudw_1--DA--d30--1 | -0.2283969    | -0.047217741  | 0.10596178    | 0.02514689    | -0.1921801    | -0.01471768   |  0.01878961   | -0.171038975  | -0.1105473675 | -0.18686595   | ...           | -0.21070417   | 0.3759854     |  0.08774666   | 0.02505916    | -0.1950055    | -0.22780547   | 0.0775938     | 0.3452492     | -0.3472152    | -0.15259400   |\n",
       "\n"
      ],
      "text/plain": [
       "                             ABHD10-3_111697439_T_G ABHD12B-14_51328222_C_T\n",
       "HPSI0714i-iudw_1--DA--d30--0 -0.2108622              0.003924475           \n",
       "HPSI0714i-iudw_1--DA--d30--1 -0.2283969             -0.047217741           \n",
       "                             ACKR2-3_42817129_C_T ADD2-2_70894426_A_T\n",
       "HPSI0714i-iudw_1--DA--d30--0 0.02206444           0.02834211         \n",
       "HPSI0714i-iudw_1--DA--d30--1 0.10596178           0.02514689         \n",
       "                             ADSL-22_40757228_A_C AIM1L-1_26673825_C_T\n",
       "HPSI0714i-iudw_1--DA--d30--0  0.2235163           -0.03575032         \n",
       "HPSI0714i-iudw_1--DA--d30--1 -0.1921801           -0.01471768         \n",
       "                             AKAP7-6_131691964_C_A ALDH7A1-5_126011412_G_A\n",
       "HPSI0714i-iudw_1--DA--d30--0 -0.09473256            0.006901295           \n",
       "HPSI0714i-iudw_1--DA--d30--1  0.01878961           -0.171038975           \n",
       "                             ANKRD18B-9_33524775_C_A APIP-11_34905987_T_C ...\n",
       "HPSI0714i-iudw_1--DA--d30--0  0.0006737957           -0.07499119          ...\n",
       "HPSI0714i-iudw_1--DA--d30--1 -0.1105473675           -0.18686595          ...\n",
       "                             YWHAE-17_1246420_G_A ZBBX-3_167080934_T_G\n",
       "HPSI0714i-iudw_1--DA--d30--0  0.06962421          0.1120253           \n",
       "HPSI0714i-iudw_1--DA--d30--1 -0.21070417          0.3759854           \n",
       "                             ZC3HAV1-7_138730361_T_C ZFR2-19_3840157_C_T\n",
       "HPSI0714i-iudw_1--DA--d30--0 -0.04172133             0.01126897         \n",
       "HPSI0714i-iudw_1--DA--d30--1  0.08774666             0.02505916         \n",
       "                             ZG16B-16_2871121_T_C ZNF423-16_49599995_C_G\n",
       "HPSI0714i-iudw_1--DA--d30--0  0.1057579           -0.03101814           \n",
       "HPSI0714i-iudw_1--DA--d30--1 -0.1950055           -0.22780547           \n",
       "                             ZNF552-19_58315273_G_A ZNF738-19_21474173_G_A\n",
       "HPSI0714i-iudw_1--DA--d30--0 0.0909417              0.3020245             \n",
       "HPSI0714i-iudw_1--DA--d30--1 0.0775938              0.3452492             \n",
       "                             ZNF77-19_2936535_G_A ZP3-7_76177284_C_T\n",
       "HPSI0714i-iudw_1--DA--d30--0 -0.1583842           -0.05596878       \n",
       "HPSI0714i-iudw_1--DA--d30--1 -0.3472152           -0.15259400       "
      ]
     },
     "metadata": {},
     "output_type": "display_data"
    },
    {
     "data": {
      "text/html": [
       "8352"
      ],
      "text/latex": [
       "8352"
      ],
      "text/markdown": [
       "8352"
      ],
      "text/plain": [
       "[1] 8352"
      ]
     },
     "metadata": {},
     "output_type": "display_data"
    },
    {
     "data": {
      "text/html": [
       "213"
      ],
      "text/latex": [
       "213"
      ],
      "text/markdown": [
       "213"
      ],
      "text/plain": [
       "[1] 213"
      ]
     },
     "metadata": {},
     "output_type": "display_data"
    }
   ],
   "source": [
    "## load single-cell eQTL genetic effects due to GxC (beta_GxC)\n",
    "df = read.csv(paste0(beta_dir,\"eqtl_tot_genetic_effect_all.txt\"), sep=\"\\t\",row.names = 1)\n",
    "colnames(df) = gsub(\"_-\",\"-\",gsub(\"\\\\.\",\"-\",colnames(df)))\n",
    "head(df,2)\n",
    "nrow(df)\n",
    "ncol(df)"
   ]
  },
  {
   "cell_type": "code",
   "execution_count": 10,
   "id": "f8d89129",
   "metadata": {},
   "outputs": [
    {
     "data": {
      "text/html": [
       "45"
      ],
      "text/latex": [
       "45"
      ],
      "text/markdown": [
       "45"
      ],
      "text/plain": [
       "[1] 45"
      ]
     },
     "metadata": {},
     "output_type": "display_data"
    }
   ],
   "source": [
    "df1 = df[,colnames(df) %in% gsub(\"\\\\.\",\"-\",rownames(flips_df))]\n",
    "eqtls = colnames(df1)\n",
    "length(eqtls)\n",
    "# eqtls"
   ]
  },
  {
   "cell_type": "code",
   "execution_count": null,
   "id": "0320b5ae",
   "metadata": {},
   "outputs": [],
   "source": []
  },
  {
   "cell_type": "code",
   "execution_count": 11,
   "id": "b2ddecc2",
   "metadata": {},
   "outputs": [],
   "source": [
    "### load DA pseudocell object"
   ]
  },
  {
   "cell_type": "code",
   "execution_count": 52,
   "id": "a2d1ec53",
   "metadata": {},
   "outputs": [
    {
     "data": {
      "text/plain": [
       "class: SingleCellExperiment \n",
       "dim: 32738 9219 \n",
       "metadata(0):\n",
       "assays(2): counts logcounts\n",
       "rownames(32738): MIR1302.10 FAM138A ... AC002321.2 AC002321.1\n",
       "rowData names(0):\n",
       "colnames(9219): HPSI0714i-iudw_1--DA--d30--0\n",
       "  HPSI0714i-iudw_1--DA--d30--1 ... HPSI0114i-rozh_4--DA--d52_tr--11\n",
       "  HPSI0114i-rozh_4--DA--d52_tr--12\n",
       "colData names(5): pseudocell celltype donor cluster condition\n",
       "reducedDimNames(0):\n",
       "spikeNames(0):\n",
       "altExpNames(0):"
      ]
     },
     "metadata": {},
     "output_type": "display_data"
    }
   ],
   "source": [
    "# sce = readRDS(\"/hps/nobackup2/stegle/users/acuomo/neuoseq_DA_pseudocells_sce.rds\")\n",
    "sce"
   ]
  },
  {
   "cell_type": "code",
   "execution_count": 13,
   "id": "fe0ff410",
   "metadata": {},
   "outputs": [
    {
     "data": {
      "text/html": [
       "32738"
      ],
      "text/latex": [
       "32738"
      ],
      "text/markdown": [
       "32738"
      ],
      "text/plain": [
       "[1] 32738"
      ]
     },
     "metadata": {},
     "output_type": "display_data"
    },
    {
     "data": {
      "text/html": [
       "9219"
      ],
      "text/latex": [
       "9219"
      ],
      "text/markdown": [
       "9219"
      ],
      "text/plain": [
       "[1] 9219"
      ]
     },
     "metadata": {},
     "output_type": "display_data"
    }
   ],
   "source": [
    "df0 = counts(sce)\n",
    "nrow(df0)\n",
    "ncol(df0)"
   ]
  },
  {
   "cell_type": "code",
   "execution_count": 14,
   "id": "f9608f15",
   "metadata": {},
   "outputs": [
    {
     "data": {
      "text/html": [
       "<table>\n",
       "<thead><tr><th></th><th scope=col>HPSI0714i-iudw_1--DA--d30--0</th><th scope=col>HPSI0714i-iudw_1--DA--d30--1</th><th scope=col>HPSI0714i-iudw_1--DA--d30--2</th><th scope=col>HPSI0714i-iudw_1--DA--d30--3</th><th scope=col>HPSI0714i-iudw_1--DA--d30--4</th></tr></thead>\n",
       "<tbody>\n",
       "\t<tr><th scope=row>MIR1302-10</th><td>0</td><td>0</td><td>0</td><td>0</td><td>0</td></tr>\n",
       "\t<tr><th scope=row>FAM138A</th><td>0</td><td>0</td><td>0</td><td>0</td><td>0</td></tr>\n",
       "\t<tr><th scope=row>OR4F5</th><td>0</td><td>0</td><td>0</td><td>0</td><td>0</td></tr>\n",
       "\t<tr><th scope=row>RP11-34P13-7</th><td>0</td><td>0</td><td>0</td><td>0</td><td>0</td></tr>\n",
       "\t<tr><th scope=row>RP11-34P13-8</th><td>0</td><td>0</td><td>0</td><td>0</td><td>0</td></tr>\n",
       "</tbody>\n",
       "</table>\n"
      ],
      "text/latex": [
       "\\begin{tabular}{r|lllll}\n",
       "  & HPSI0714i-iudw\\_1--DA--d30--0 & HPSI0714i-iudw\\_1--DA--d30--1 & HPSI0714i-iudw\\_1--DA--d30--2 & HPSI0714i-iudw\\_1--DA--d30--3 & HPSI0714i-iudw\\_1--DA--d30--4\\\\\n",
       "\\hline\n",
       "\tMIR1302-10 & 0 & 0 & 0 & 0 & 0\\\\\n",
       "\tFAM138A & 0 & 0 & 0 & 0 & 0\\\\\n",
       "\tOR4F5 & 0 & 0 & 0 & 0 & 0\\\\\n",
       "\tRP11-34P13-7 & 0 & 0 & 0 & 0 & 0\\\\\n",
       "\tRP11-34P13-8 & 0 & 0 & 0 & 0 & 0\\\\\n",
       "\\end{tabular}\n"
      ],
      "text/markdown": [
       "\n",
       "| <!--/--> | HPSI0714i-iudw_1--DA--d30--0 | HPSI0714i-iudw_1--DA--d30--1 | HPSI0714i-iudw_1--DA--d30--2 | HPSI0714i-iudw_1--DA--d30--3 | HPSI0714i-iudw_1--DA--d30--4 |\n",
       "|---|---|---|---|---|---|\n",
       "| MIR1302-10 | 0 | 0 | 0 | 0 | 0 |\n",
       "| FAM138A | 0 | 0 | 0 | 0 | 0 |\n",
       "| OR4F5 | 0 | 0 | 0 | 0 | 0 |\n",
       "| RP11-34P13-7 | 0 | 0 | 0 | 0 | 0 |\n",
       "| RP11-34P13-8 | 0 | 0 | 0 | 0 | 0 |\n",
       "\n"
      ],
      "text/plain": [
       "             HPSI0714i-iudw_1--DA--d30--0 HPSI0714i-iudw_1--DA--d30--1\n",
       "MIR1302-10   0                            0                           \n",
       "FAM138A      0                            0                           \n",
       "OR4F5        0                            0                           \n",
       "RP11-34P13-7 0                            0                           \n",
       "RP11-34P13-8 0                            0                           \n",
       "             HPSI0714i-iudw_1--DA--d30--2 HPSI0714i-iudw_1--DA--d30--3\n",
       "MIR1302-10   0                            0                           \n",
       "FAM138A      0                            0                           \n",
       "OR4F5        0                            0                           \n",
       "RP11-34P13-7 0                            0                           \n",
       "RP11-34P13-8 0                            0                           \n",
       "             HPSI0714i-iudw_1--DA--d30--4\n",
       "MIR1302-10   0                           \n",
       "FAM138A      0                           \n",
       "OR4F5        0                           \n",
       "RP11-34P13-7 0                           \n",
       "RP11-34P13-8 0                           "
      ]
     },
     "metadata": {},
     "output_type": "display_data"
    }
   ],
   "source": [
    "rownames(df0) = gsub(\"\\\\.\",\"-\",rownames(df0))\n",
    "df0[1:5,1:5]"
   ]
  },
  {
   "cell_type": "code",
   "execution_count": 15,
   "id": "54cab16f",
   "metadata": {},
   "outputs": [
    {
     "data": {
      "text/html": [
       "<table>\n",
       "<thead><tr><th></th><th scope=col>beta_G</th><th scope=col>n</th><th scope=col>n2</th><th scope=col>gene</th><th scope=col>snp_id</th></tr></thead>\n",
       "<tbody>\n",
       "\t<tr><th scope=row>VWC2-7_49627185_G_T</th><td> 0.05306932    </td><td>0.6834291      </td><td>0.3165709      </td><td>VWC2           </td><td>7_49627185_G_T </td></tr>\n",
       "\t<tr><th scope=row>ZBBX-3_167080934_T_G</th><td>-0.15672368    </td><td>0.2745450      </td><td>0.2745450      </td><td>ZBBX           </td><td>3_167080934_T_G</td></tr>\n",
       "\t<tr><th scope=row>ZG16B-16_2871121_T_C</th><td> 0.08274510    </td><td>0.6752874      </td><td>0.3247126      </td><td>ZG16B          </td><td>16_2871121_T_C </td></tr>\n",
       "\t<tr><th scope=row>ZNF423-16_49599995_C_G</th><td> 0.07116250    </td><td>0.6495450      </td><td>0.3504550      </td><td>ZNF423         </td><td>16_49599995_C_G</td></tr>\n",
       "\t<tr><th scope=row>ZNF738-19_21474173_G_A</th><td> 0.07284744    </td><td>0.5563937      </td><td>0.4436063      </td><td>ZNF738         </td><td>19_21474173_G_A</td></tr>\n",
       "\t<tr><th scope=row>ZNF77-19_2936535_G_A</th><td> 0.16858047    </td><td>0.6709770      </td><td>0.3290230      </td><td>ZNF77          </td><td>19_2936535_G_A </td></tr>\n",
       "</tbody>\n",
       "</table>\n"
      ],
      "text/latex": [
       "\\begin{tabular}{r|lllll}\n",
       "  & beta\\_G & n & n2 & gene & snp\\_id\\\\\n",
       "\\hline\n",
       "\tVWC2-7\\_49627185\\_G\\_T &  0.05306932           & 0.6834291             & 0.3165709             & VWC2                  & 7\\_49627185\\_G\\_T \\\\\n",
       "\tZBBX-3\\_167080934\\_T\\_G & -0.15672368           & 0.2745450             & 0.2745450             & ZBBX                  & 3\\_167080934\\_T\\_G\\\\\n",
       "\tZG16B-16\\_2871121\\_T\\_C &  0.08274510           & 0.6752874             & 0.3247126             & ZG16B                 & 16\\_2871121\\_T\\_C \\\\\n",
       "\tZNF423-16\\_49599995\\_C\\_G &  0.07116250           & 0.6495450             & 0.3504550             & ZNF423                & 16\\_49599995\\_C\\_G\\\\\n",
       "\tZNF738-19\\_21474173\\_G\\_A &  0.07284744           & 0.5563937             & 0.4436063             & ZNF738                & 19\\_21474173\\_G\\_A\\\\\n",
       "\tZNF77-19\\_2936535\\_G\\_A &  0.16858047           & 0.6709770             & 0.3290230             & ZNF77                 & 19\\_2936535\\_G\\_A \\\\\n",
       "\\end{tabular}\n"
      ],
      "text/markdown": [
       "\n",
       "| <!--/--> | beta_G | n | n2 | gene | snp_id |\n",
       "|---|---|---|---|---|---|\n",
       "| VWC2-7_49627185_G_T |  0.05306932     | 0.6834291       | 0.3165709       | VWC2            | 7_49627185_G_T  |\n",
       "| ZBBX-3_167080934_T_G | -0.15672368     | 0.2745450       | 0.2745450       | ZBBX            | 3_167080934_T_G |\n",
       "| ZG16B-16_2871121_T_C |  0.08274510     | 0.6752874       | 0.3247126       | ZG16B           | 16_2871121_T_C  |\n",
       "| ZNF423-16_49599995_C_G |  0.07116250     | 0.6495450       | 0.3504550       | ZNF423          | 16_49599995_C_G |\n",
       "| ZNF738-19_21474173_G_A |  0.07284744     | 0.5563937       | 0.4436063       | ZNF738          | 19_21474173_G_A |\n",
       "| ZNF77-19_2936535_G_A |  0.16858047     | 0.6709770       | 0.3290230       | ZNF77           | 19_2936535_G_A  |\n",
       "\n"
      ],
      "text/plain": [
       "                       beta_G      n         n2        gene   snp_id         \n",
       "VWC2-7_49627185_G_T     0.05306932 0.6834291 0.3165709 VWC2   7_49627185_G_T \n",
       "ZBBX-3_167080934_T_G   -0.15672368 0.2745450 0.2745450 ZBBX   3_167080934_T_G\n",
       "ZG16B-16_2871121_T_C    0.08274510 0.6752874 0.3247126 ZG16B  16_2871121_T_C \n",
       "ZNF423-16_49599995_C_G  0.07116250 0.6495450 0.3504550 ZNF423 16_49599995_C_G\n",
       "ZNF738-19_21474173_G_A  0.07284744 0.5563937 0.4436063 ZNF738 19_21474173_G_A\n",
       "ZNF77-19_2936535_G_A    0.16858047 0.6709770 0.3290230 ZNF77  19_2936535_G_A "
      ]
     },
     "metadata": {},
     "output_type": "display_data"
    }
   ],
   "source": [
    "df_eqtl = flips_df\n",
    "df_eqtl$gene = gsub(\"\\\\.\",\"-\",gsub(\"-.*\",\"\",gsub(\"-AS1\",\"\\\\.AS1\",gsub(\"HLA-\",\"HLA\\\\.\",rownames(flips_df)))))\n",
    "df_eqtl$snp_id = gsub(\".*-\",\"\",rownames(flips_df))\n",
    "tail(df_eqtl)"
   ]
  },
  {
   "cell_type": "code",
   "execution_count": 16,
   "id": "3dc7d70d",
   "metadata": {},
   "outputs": [],
   "source": [
    "#### load genotypes"
   ]
  },
  {
   "cell_type": "code",
   "execution_count": 17,
   "id": "9edfce6e",
   "metadata": {},
   "outputs": [],
   "source": [
    "flip_folder = \"/hps/nobackup2/stegle/users/acuomo/all_scripts/struct_LMM2/sc_neuroseq/May2021/genetic_effect/MOFA10/flip_signs/\""
   ]
  },
  {
   "cell_type": "code",
   "execution_count": 18,
   "id": "9fd25d8e",
   "metadata": {},
   "outputs": [],
   "source": [
    "mydir = paste0(flip_folder, \"genotypes/\")\n",
    "myfiles = list.files(mydir)"
   ]
  },
  {
   "cell_type": "code",
   "execution_count": 19,
   "id": "f2a0f126",
   "metadata": {},
   "outputs": [],
   "source": [
    "skip_eqtls = c(\"AKAP7-6_131691964_C_A\", \"C19orf10-19_4664038_T_C\", \"CBWD2-2_114235568_A_C\", \"CD36-7_80240689_T_C\",\n",
    "              \"CEACAM21-19_42092815_T_A\", \"CHEK1-11_125468231_T_C\", \"CNOT6L-4_78754433_T_C\", \"DHRS4L2-14_24405051_G_A\",\n",
    "              \"DNPH1-6_43122062_C_A\", \"EPCAM-2_47590762_C_T\", \"FAM153B-5_175511318_C_T\", \"FBP1-9_97408971_A_G\",\n",
    "              \"GM2A-5_150653612_C_G\", \"KIF6-6_39584856_T_C\", \"PRPH-12_49685089_T_C\", \"RASSF4-10_45478876_T_C\",\n",
    "              \"RBM26-AS1-13_79980340_C_T\", \"REEP3-10_65347105_G_A\", \"SLC44A2-19_10813795_A_G\", \"SYCE3-22_51001271_G_A\",\n",
    "              \"TRAF3IP2-AS1-6_111941286_G_A\", \"TRIT1-1_40342232_A_C\", \"TUBB4B-9_140276433_G_A\", \"UTS2-1_7929819_T_C\",\n",
    "              \"ZBBX-3_167080934_T_G\", \"ZNF77-19_2936535_G_A\")"
   ]
  },
  {
   "cell_type": "code",
   "execution_count": 28,
   "id": "8a729955",
   "metadata": {},
   "outputs": [],
   "source": [
    "summary_df = data.frame(eqtl = eqtls[!(eqtls %in% skip_eqtls)], beta_top=0, beta_bottom=0, \n",
    "                        beta_se_top=0, beta_se_bottom=0, pv_top=1, pv_bottom=1)"
   ]
  },
  {
   "cell_type": "code",
   "execution_count": 29,
   "id": "a44c8d9b",
   "metadata": {},
   "outputs": [],
   "source": [
    "for (eqtl in eqtls){\n",
    "#     print(eqtl)\n",
    "    if (eqtl %in% skip_eqtls){next}\n",
    "    snp = df_eqtl[rownames(df_eqtl) == eqtl,\"snp_id\"]\n",
    "    gene = df_eqtl[rownames(df_eqtl) == eqtl,\"gene\"]\n",
    "    # top pseudocells\n",
    "    top_file = paste0(flip_folder,list.files(flip_folder)[grep(paste0(eqtl,\"_top20quantile_pseudocells.csv\"),list.files(flip_folder))])\n",
    "    top=read.csv(top_file, row.names=1)\n",
    "    top_pseudocells = as.character(top[,1])\n",
    "    # bottom pseudocells\n",
    "    bottom_file = paste0(flip_folder,list.files(flip_folder)[grep(paste0(eqtl,\"_bottom20quantile_pseudocells.csv\"),list.files(flip_folder))])\n",
    "    bottom=read.csv(bottom_file, row.names=1)\n",
    "    bottom_pseudocells = as.character(bottom[,1])\n",
    "    # genotypes\n",
    "    filename = paste0(mydir, myfiles[grep(gene, myfiles)])\n",
    "    df_g = read.csv(filename)\n",
    "    colnames(df_g)[1] = \"donor\"  \n",
    "    # expression (phenotype)\n",
    "    df_e = data.frame(pseudocell = colnames(df0), Expression = df0[gene,])\n",
    "    df_e$donor = gsub(\"--.*\",\"\",df_e$pseudocell)\n",
    "    # merge\n",
    "    df_ge = inner_join(df_e, df_g, by=\"donor\")\n",
    "    # top\n",
    "    df1 = df_ge[df_ge$pseudocell %in% top_pseudocells,]\n",
    "    lm = lm(Expression ~ Genotype, data = df1)\n",
    "    beta1 = coef(lm)[2]\n",
    "    beta_se1 = summary(lm)$coefficients[2,2] \n",
    "    pv1 = summary(lm)$coefficients[2,4] \n",
    "    # bottom\n",
    "    df2 = df_ge[df_ge$pseudocell %in% bottom_pseudocells,]\n",
    "    lm = lm(Expression ~ Genotype, data = df2)\n",
    "    beta_se2 = summary(lm)$coefficients[2,2]\n",
    "    beta2 = coef(lm)[2]\n",
    "    pv2 = summary(lm)$coefficients[2,4] \n",
    "    summary_df[summary_df$eqtl == eqtl, \"beta_top\"] = beta1\n",
    "    summary_df[summary_df$eqtl == eqtl, \"beta_bottom\"] = beta2\n",
    "    summary_df[summary_df$eqtl == eqtl, \"beta_se_top\"] = beta_se1\n",
    "    summary_df[summary_df$eqtl == eqtl, \"beta_se_bottom\"] = beta_se2\n",
    "    summary_df[summary_df$eqtl == eqtl, \"pv_top\"] = pv1\n",
    "    summary_df[summary_df$eqtl == eqtl, \"pv_bottom\"] = pv2\n",
    "}"
   ]
  },
  {
   "cell_type": "code",
   "execution_count": 30,
   "id": "42b82245",
   "metadata": {},
   "outputs": [
    {
     "data": {
      "text/html": [
       "<table>\n",
       "<thead><tr><th scope=col>eqtl</th><th scope=col>beta_top</th><th scope=col>beta_bottom</th><th scope=col>beta_se_top</th><th scope=col>beta_se_bottom</th><th scope=col>pv_top</th><th scope=col>pv_bottom</th></tr></thead>\n",
       "<tbody>\n",
       "\t<tr><td>ADSL-22_40757228_A_C    </td><td>0.4566455               </td><td>-0.069643491            </td><td>0.08163057              </td><td>0.08760267              </td><td>2.587780e-08            </td><td>0.42673076              </td></tr>\n",
       "\t<tr><td>AIM1L-1_26673825_C_T    </td><td>0.1385908               </td><td> 0.058506328            </td><td>0.02194199              </td><td>0.02193155              </td><td>3.428819e-10            </td><td>0.00771161              </td></tr>\n",
       "\t<tr><td>ALDH7A1-5_126011412_G_A </td><td>0.5447187               </td><td> 0.073115451            </td><td>0.08155943              </td><td>0.08462475              </td><td>3.271249e-11            </td><td>0.38771421              </td></tr>\n",
       "\t<tr><td>BATF3-1_212852832_T_C   </td><td>0.1352372               </td><td>-0.001157855            </td><td>0.02312108              </td><td>0.01136633              </td><td>5.935374e-09            </td><td>0.91887438              </td></tr>\n",
       "\t<tr><td>C11orf24-11_68006555_G_A</td><td>0.2490406               </td><td>-0.021723331            </td><td>0.03825396              </td><td>0.03137609              </td><td>9.901080e-11            </td><td>0.48881192              </td></tr>\n",
       "\t<tr><td>CDC42SE2-5_130921388_G_A</td><td>0.5181776               </td><td> 0.065775094            </td><td>0.08074908              </td><td>0.08205413              </td><td>1.804524e-10            </td><td>0.42289496              </td></tr>\n",
       "</tbody>\n",
       "</table>\n"
      ],
      "text/latex": [
       "\\begin{tabular}{r|lllllll}\n",
       " eqtl & beta\\_top & beta\\_bottom & beta\\_se\\_top & beta\\_se\\_bottom & pv\\_top & pv\\_bottom\\\\\n",
       "\\hline\n",
       "\t ADSL-22\\_40757228\\_A\\_C     & 0.4566455                      & -0.069643491                   & 0.08163057                     & 0.08760267                     & 2.587780e-08                   & 0.42673076                    \\\\\n",
       "\t AIM1L-1\\_26673825\\_C\\_T     & 0.1385908                      &  0.058506328                   & 0.02194199                     & 0.02193155                     & 3.428819e-10                   & 0.00771161                    \\\\\n",
       "\t ALDH7A1-5\\_126011412\\_G\\_A  & 0.5447187                      &  0.073115451                   & 0.08155943                     & 0.08462475                     & 3.271249e-11                   & 0.38771421                    \\\\\n",
       "\t BATF3-1\\_212852832\\_T\\_C    & 0.1352372                      & -0.001157855                   & 0.02312108                     & 0.01136633                     & 5.935374e-09                   & 0.91887438                    \\\\\n",
       "\t C11orf24-11\\_68006555\\_G\\_A & 0.2490406                      & -0.021723331                   & 0.03825396                     & 0.03137609                     & 9.901080e-11                   & 0.48881192                    \\\\\n",
       "\t CDC42SE2-5\\_130921388\\_G\\_A & 0.5181776                      &  0.065775094                   & 0.08074908                     & 0.08205413                     & 1.804524e-10                   & 0.42289496                    \\\\\n",
       "\\end{tabular}\n"
      ],
      "text/markdown": [
       "\n",
       "| eqtl | beta_top | beta_bottom | beta_se_top | beta_se_bottom | pv_top | pv_bottom |\n",
       "|---|---|---|---|---|---|---|\n",
       "| ADSL-22_40757228_A_C     | 0.4566455                | -0.069643491             | 0.08163057               | 0.08760267               | 2.587780e-08             | 0.42673076               |\n",
       "| AIM1L-1_26673825_C_T     | 0.1385908                |  0.058506328             | 0.02194199               | 0.02193155               | 3.428819e-10             | 0.00771161               |\n",
       "| ALDH7A1-5_126011412_G_A  | 0.5447187                |  0.073115451             | 0.08155943               | 0.08462475               | 3.271249e-11             | 0.38771421               |\n",
       "| BATF3-1_212852832_T_C    | 0.1352372                | -0.001157855             | 0.02312108               | 0.01136633               | 5.935374e-09             | 0.91887438               |\n",
       "| C11orf24-11_68006555_G_A | 0.2490406                | -0.021723331             | 0.03825396               | 0.03137609               | 9.901080e-11             | 0.48881192               |\n",
       "| CDC42SE2-5_130921388_G_A | 0.5181776                |  0.065775094             | 0.08074908               | 0.08205413               | 1.804524e-10             | 0.42289496               |\n",
       "\n"
      ],
      "text/plain": [
       "  eqtl                     beta_top  beta_bottom  beta_se_top beta_se_bottom\n",
       "1 ADSL-22_40757228_A_C     0.4566455 -0.069643491 0.08163057  0.08760267    \n",
       "2 AIM1L-1_26673825_C_T     0.1385908  0.058506328 0.02194199  0.02193155    \n",
       "3 ALDH7A1-5_126011412_G_A  0.5447187  0.073115451 0.08155943  0.08462475    \n",
       "4 BATF3-1_212852832_T_C    0.1352372 -0.001157855 0.02312108  0.01136633    \n",
       "5 C11orf24-11_68006555_G_A 0.2490406 -0.021723331 0.03825396  0.03137609    \n",
       "6 CDC42SE2-5_130921388_G_A 0.5181776  0.065775094 0.08074908  0.08205413    \n",
       "  pv_top       pv_bottom \n",
       "1 2.587780e-08 0.42673076\n",
       "2 3.428819e-10 0.00771161\n",
       "3 3.271249e-11 0.38771421\n",
       "4 5.935374e-09 0.91887438\n",
       "5 9.901080e-11 0.48881192\n",
       "6 1.804524e-10 0.42289496"
      ]
     },
     "metadata": {},
     "output_type": "display_data"
    }
   ],
   "source": [
    "head(summary_df)"
   ]
  },
  {
   "cell_type": "code",
   "execution_count": null,
   "id": "b3099e3f",
   "metadata": {},
   "outputs": [],
   "source": []
  },
  {
   "cell_type": "code",
   "execution_count": 31,
   "id": "5f88ef65",
   "metadata": {},
   "outputs": [
    {
     "data": {
      "text/html": [
       "29"
      ],
      "text/latex": [
       "29"
      ],
      "text/markdown": [
       "29"
      ],
      "text/plain": [
       "[1] 29"
      ]
     },
     "metadata": {},
     "output_type": "display_data"
    },
    {
     "data": {
      "text/html": [
       "21"
      ],
      "text/latex": [
       "21"
      ],
      "text/markdown": [
       "21"
      ],
      "text/plain": [
       "[1] 21"
      ]
     },
     "metadata": {},
     "output_type": "display_data"
    },
    {
     "data": {
      "text/html": [
       "0.724137931034483"
      ],
      "text/latex": [
       "0.724137931034483"
      ],
      "text/markdown": [
       "0.724137931034483"
      ],
      "text/plain": [
       "[1] 0.7241379"
      ]
     },
     "metadata": {},
     "output_type": "display_data"
    }
   ],
   "source": [
    "nrow(summary_df)\n",
    "# opposite effects\n",
    "nrow(summary_df[summary_df$beta_top*summary_df$beta_bottom<0,])\n",
    "nrow(summary_df[summary_df$beta_top*summary_df$beta_bottom<0,])/nrow(summary_df)"
   ]
  },
  {
   "cell_type": "code",
   "execution_count": null,
   "id": "2af03d5b",
   "metadata": {},
   "outputs": [],
   "source": []
  },
  {
   "cell_type": "code",
   "execution_count": 32,
   "id": "018d1b92",
   "metadata": {},
   "outputs": [],
   "source": [
    "# summary_df = df0"
   ]
  },
  {
   "cell_type": "code",
   "execution_count": 33,
   "id": "b7bf8fe6",
   "metadata": {},
   "outputs": [],
   "source": [
    "summary_df$replicates = \"no\"\n",
    "summary_df[summary_df$beta_top*summary_df$beta_bottom<0,\"replicates\"] = \"yes\""
   ]
  },
  {
   "cell_type": "code",
   "execution_count": 34,
   "id": "f5c706a0",
   "metadata": {},
   "outputs": [],
   "source": [
    "summary_df$replicates_sign = \"no\"\n",
    "summary_df[summary_df$beta_top*summary_df$beta_bottom<0 & summary_df$pv_top<0.05 & summary_df$pv_bottom<0.05,\"replicates_sign\"] = \"yes\""
   ]
  },
  {
   "cell_type": "code",
   "execution_count": 37,
   "id": "f66d6a9e",
   "metadata": {},
   "outputs": [
    {
     "data": {
      "text/html": [
       "<table>\n",
       "<thead><tr><th scope=col>eqtl</th><th scope=col>beta_top</th><th scope=col>beta_bottom</th><th scope=col>beta_se_top</th><th scope=col>beta_se_bottom</th><th scope=col>pv_top</th><th scope=col>pv_bottom</th><th scope=col>replicates</th><th scope=col>replicates_sign</th></tr></thead>\n",
       "<tbody>\n",
       "\t<tr><td>ADSL-22_40757228_A_C    </td><td>0.4566455               </td><td>-0.069643491            </td><td>0.08163057              </td><td>0.08760267              </td><td>2.587780e-08            </td><td>0.42673076              </td><td>yes                     </td><td>no                      </td></tr>\n",
       "\t<tr><td>AIM1L-1_26673825_C_T    </td><td>0.1385908               </td><td> 0.058506328            </td><td>0.02194199              </td><td>0.02193155              </td><td>3.428819e-10            </td><td>0.00771161              </td><td>no                      </td><td>no                      </td></tr>\n",
       "\t<tr><td>ALDH7A1-5_126011412_G_A </td><td>0.5447187               </td><td> 0.073115451            </td><td>0.08155943              </td><td>0.08462475              </td><td>3.271249e-11            </td><td>0.38771421              </td><td>no                      </td><td>no                      </td></tr>\n",
       "\t<tr><td>BATF3-1_212852832_T_C   </td><td>0.1352372               </td><td>-0.001157855            </td><td>0.02312108              </td><td>0.01136633              </td><td>5.935374e-09            </td><td>0.91887438              </td><td>yes                     </td><td>no                      </td></tr>\n",
       "\t<tr><td>C11orf24-11_68006555_G_A</td><td>0.2490406               </td><td>-0.021723331            </td><td>0.03825396              </td><td>0.03137609              </td><td>9.901080e-11            </td><td>0.48881192              </td><td>yes                     </td><td>no                      </td></tr>\n",
       "\t<tr><td>CDC42SE2-5_130921388_G_A</td><td>0.5181776               </td><td> 0.065775094            </td><td>0.08074908              </td><td>0.08205413              </td><td>1.804524e-10            </td><td>0.42289496              </td><td>no                      </td><td>no                      </td></tr>\n",
       "</tbody>\n",
       "</table>\n"
      ],
      "text/latex": [
       "\\begin{tabular}{r|lllllllll}\n",
       " eqtl & beta\\_top & beta\\_bottom & beta\\_se\\_top & beta\\_se\\_bottom & pv\\_top & pv\\_bottom & replicates & replicates\\_sign\\\\\n",
       "\\hline\n",
       "\t ADSL-22\\_40757228\\_A\\_C     & 0.4566455                      & -0.069643491                   & 0.08163057                     & 0.08760267                     & 2.587780e-08                   & 0.42673076                     & yes                            & no                            \\\\\n",
       "\t AIM1L-1\\_26673825\\_C\\_T     & 0.1385908                      &  0.058506328                   & 0.02194199                     & 0.02193155                     & 3.428819e-10                   & 0.00771161                     & no                             & no                            \\\\\n",
       "\t ALDH7A1-5\\_126011412\\_G\\_A  & 0.5447187                      &  0.073115451                   & 0.08155943                     & 0.08462475                     & 3.271249e-11                   & 0.38771421                     & no                             & no                            \\\\\n",
       "\t BATF3-1\\_212852832\\_T\\_C    & 0.1352372                      & -0.001157855                   & 0.02312108                     & 0.01136633                     & 5.935374e-09                   & 0.91887438                     & yes                            & no                            \\\\\n",
       "\t C11orf24-11\\_68006555\\_G\\_A & 0.2490406                      & -0.021723331                   & 0.03825396                     & 0.03137609                     & 9.901080e-11                   & 0.48881192                     & yes                            & no                            \\\\\n",
       "\t CDC42SE2-5\\_130921388\\_G\\_A & 0.5181776                      &  0.065775094                   & 0.08074908                     & 0.08205413                     & 1.804524e-10                   & 0.42289496                     & no                             & no                            \\\\\n",
       "\\end{tabular}\n"
      ],
      "text/markdown": [
       "\n",
       "| eqtl | beta_top | beta_bottom | beta_se_top | beta_se_bottom | pv_top | pv_bottom | replicates | replicates_sign |\n",
       "|---|---|---|---|---|---|---|---|---|\n",
       "| ADSL-22_40757228_A_C     | 0.4566455                | -0.069643491             | 0.08163057               | 0.08760267               | 2.587780e-08             | 0.42673076               | yes                      | no                       |\n",
       "| AIM1L-1_26673825_C_T     | 0.1385908                |  0.058506328             | 0.02194199               | 0.02193155               | 3.428819e-10             | 0.00771161               | no                       | no                       |\n",
       "| ALDH7A1-5_126011412_G_A  | 0.5447187                |  0.073115451             | 0.08155943               | 0.08462475               | 3.271249e-11             | 0.38771421               | no                       | no                       |\n",
       "| BATF3-1_212852832_T_C    | 0.1352372                | -0.001157855             | 0.02312108               | 0.01136633               | 5.935374e-09             | 0.91887438               | yes                      | no                       |\n",
       "| C11orf24-11_68006555_G_A | 0.2490406                | -0.021723331             | 0.03825396               | 0.03137609               | 9.901080e-11             | 0.48881192               | yes                      | no                       |\n",
       "| CDC42SE2-5_130921388_G_A | 0.5181776                |  0.065775094             | 0.08074908               | 0.08205413               | 1.804524e-10             | 0.42289496               | no                       | no                       |\n",
       "\n"
      ],
      "text/plain": [
       "  eqtl                     beta_top  beta_bottom  beta_se_top beta_se_bottom\n",
       "1 ADSL-22_40757228_A_C     0.4566455 -0.069643491 0.08163057  0.08760267    \n",
       "2 AIM1L-1_26673825_C_T     0.1385908  0.058506328 0.02194199  0.02193155    \n",
       "3 ALDH7A1-5_126011412_G_A  0.5447187  0.073115451 0.08155943  0.08462475    \n",
       "4 BATF3-1_212852832_T_C    0.1352372 -0.001157855 0.02312108  0.01136633    \n",
       "5 C11orf24-11_68006555_G_A 0.2490406 -0.021723331 0.03825396  0.03137609    \n",
       "6 CDC42SE2-5_130921388_G_A 0.5181776  0.065775094 0.08074908  0.08205413    \n",
       "  pv_top       pv_bottom  replicates replicates_sign\n",
       "1 2.587780e-08 0.42673076 yes        no             \n",
       "2 3.428819e-10 0.00771161 no         no             \n",
       "3 3.271249e-11 0.38771421 no         no             \n",
       "4 5.935374e-09 0.91887438 yes        no             \n",
       "5 9.901080e-11 0.48881192 yes        no             \n",
       "6 1.804524e-10 0.42289496 no         no             "
      ]
     },
     "metadata": {},
     "output_type": "display_data"
    }
   ],
   "source": [
    "head(summary_df)"
   ]
  },
  {
   "cell_type": "code",
   "execution_count": 35,
   "id": "f2302eca",
   "metadata": {},
   "outputs": [
    {
     "data": {
      "text/html": [
       "<table>\n",
       "<thead><tr><th scope=col>eqtl</th><th scope=col>beta_G</th><th scope=col>n</th></tr></thead>\n",
       "<tbody>\n",
       "\t<tr><td>ABHD12B-14_51328222_C_T</td><td>-0.10783378            </td><td>0.2393439              </td></tr>\n",
       "\t<tr><td>ADSL-22_40757228_A_C   </td><td> 0.09485572            </td><td>0.6827107              </td></tr>\n",
       "\t<tr><td>AIM1L-1_26673825_C_T   </td><td> 0.04175069            </td><td>0.7204262              </td></tr>\n",
       "\t<tr><td>AKAP7-6_131691964_C_A  </td><td> 0.17694359            </td><td>0.7383860              </td></tr>\n",
       "\t<tr><td>ALDH7A1-5_126011412_G_A</td><td> 0.13257557            </td><td>0.7406609              </td></tr>\n",
       "\t<tr><td>ANKRD18B-9_33524775_C_A</td><td> 0.07399059            </td><td>0.8421935              </td></tr>\n",
       "</tbody>\n",
       "</table>\n"
      ],
      "text/latex": [
       "\\begin{tabular}{r|lll}\n",
       " eqtl & beta\\_G & n\\\\\n",
       "\\hline\n",
       "\t ABHD12B-14\\_51328222\\_C\\_T & -0.10783378                   & 0.2393439                    \\\\\n",
       "\t ADSL-22\\_40757228\\_A\\_C    &  0.09485572                   & 0.6827107                    \\\\\n",
       "\t AIM1L-1\\_26673825\\_C\\_T    &  0.04175069                   & 0.7204262                    \\\\\n",
       "\t AKAP7-6\\_131691964\\_C\\_A   &  0.17694359                   & 0.7383860                    \\\\\n",
       "\t ALDH7A1-5\\_126011412\\_G\\_A &  0.13257557                   & 0.7406609                    \\\\\n",
       "\t ANKRD18B-9\\_33524775\\_C\\_A &  0.07399059                   & 0.8421935                    \\\\\n",
       "\\end{tabular}\n"
      ],
      "text/markdown": [
       "\n",
       "| eqtl | beta_G | n |\n",
       "|---|---|---|\n",
       "| ABHD12B-14_51328222_C_T | -0.10783378             | 0.2393439               |\n",
       "| ADSL-22_40757228_A_C    |  0.09485572             | 0.6827107               |\n",
       "| AIM1L-1_26673825_C_T    |  0.04175069             | 0.7204262               |\n",
       "| AKAP7-6_131691964_C_A   |  0.17694359             | 0.7383860               |\n",
       "| ALDH7A1-5_126011412_G_A |  0.13257557             | 0.7406609               |\n",
       "| ANKRD18B-9_33524775_C_A |  0.07399059             | 0.8421935               |\n",
       "\n"
      ],
      "text/plain": [
       "  eqtl                    beta_G      n        \n",
       "1 ABHD12B-14_51328222_C_T -0.10783378 0.2393439\n",
       "2 ADSL-22_40757228_A_C     0.09485572 0.6827107\n",
       "3 AIM1L-1_26673825_C_T     0.04175069 0.7204262\n",
       "4 AKAP7-6_131691964_C_A    0.17694359 0.7383860\n",
       "5 ALDH7A1-5_126011412_G_A  0.13257557 0.7406609\n",
       "6 ANKRD18B-9_33524775_C_A  0.07399059 0.8421935"
      ]
     },
     "metadata": {},
     "output_type": "display_data"
    }
   ],
   "source": [
    "flips_filename = paste0(beta_dir, \"eqtl_with_flip_sign.csv\")\n",
    "flips_df = read.csv(flips_filename)\n",
    "colnames(flips_df)[1] = \"eqtl\"\n",
    "head(flips_df)"
   ]
  },
  {
   "cell_type": "code",
   "execution_count": 53,
   "id": "91202ea8",
   "metadata": {},
   "outputs": [],
   "source": [
    "flips_df$n2 = flips_df$n\n",
    "flips_df[flips_df$n2>0.5,\"n2\"] = 1-flips_df[flips_df$n2>0.5,\"n\"]\n",
    "flips_df = flips_df[flips_df$n2>0.25,]"
   ]
  },
  {
   "cell_type": "code",
   "execution_count": 54,
   "id": "15e38502",
   "metadata": {},
   "outputs": [],
   "source": [
    "df0 = inner_join(flips_df, summary_df, by=c(\"eqtl\"))"
   ]
  },
  {
   "cell_type": "code",
   "execution_count": 55,
   "id": "33e59094",
   "metadata": {},
   "outputs": [
    {
     "data": {
      "text/html": [
       "<table>\n",
       "<thead><tr><th scope=col>eqtl</th><th scope=col>beta_G</th><th scope=col>n</th><th scope=col>n2</th><th scope=col>beta_top</th><th scope=col>beta_bottom</th><th scope=col>beta_se_top</th><th scope=col>beta_se_bottom</th><th scope=col>pv_top</th><th scope=col>pv_bottom</th><th scope=col>replicates</th><th scope=col>replicates_sign</th></tr></thead>\n",
       "<tbody>\n",
       "\t<tr><td>ADSL-22_40757228_A_C    </td><td>0.09485572              </td><td>0.6827107               </td><td>0.3172893               </td><td>0.4566455               </td><td>-0.069643491            </td><td>0.08163057              </td><td>0.08760267              </td><td>2.587780e-08            </td><td>0.42673076              </td><td>yes                     </td><td>no                      </td></tr>\n",
       "\t<tr><td>AIM1L-1_26673825_C_T    </td><td>0.04175069              </td><td>0.7204262               </td><td>0.2795738               </td><td>0.1385908               </td><td> 0.058506328            </td><td>0.02194199              </td><td>0.02193155              </td><td>3.428819e-10            </td><td>0.00771161              </td><td>no                      </td><td>no                      </td></tr>\n",
       "\t<tr><td>ALDH7A1-5_126011412_G_A </td><td>0.13257557              </td><td>0.7406609               </td><td>0.2593391               </td><td>0.5447187               </td><td> 0.073115451            </td><td>0.08155943              </td><td>0.08462475              </td><td>3.271249e-11            </td><td>0.38771421              </td><td>no                      </td><td>no                      </td></tr>\n",
       "\t<tr><td>BATF3-1_212852832_T_C   </td><td>0.06635896              </td><td>0.5977011               </td><td>0.4022989               </td><td>0.1352372               </td><td>-0.001157855            </td><td>0.02312108              </td><td>0.01136633              </td><td>5.935374e-09            </td><td>0.91887438              </td><td>yes                     </td><td>no                      </td></tr>\n",
       "\t<tr><td>C11orf24-11_68006555_G_A</td><td>0.08070138              </td><td>0.7127634               </td><td>0.2872366               </td><td>0.2490406               </td><td>-0.021723331            </td><td>0.03825396              </td><td>0.03137609              </td><td>9.901080e-11            </td><td>0.48881192              </td><td>yes                     </td><td>no                      </td></tr>\n",
       "\t<tr><td>CDC42SE2-5_130921388_G_A</td><td>0.14244704              </td><td>0.6955220               </td><td>0.3044780               </td><td>0.5181776               </td><td> 0.065775094            </td><td>0.08074908              </td><td>0.08205413              </td><td>1.804524e-10            </td><td>0.42289496              </td><td>no                      </td><td>no                      </td></tr>\n",
       "</tbody>\n",
       "</table>\n"
      ],
      "text/latex": [
       "\\begin{tabular}{r|llllllllllll}\n",
       " eqtl & beta\\_G & n & n2 & beta\\_top & beta\\_bottom & beta\\_se\\_top & beta\\_se\\_bottom & pv\\_top & pv\\_bottom & replicates & replicates\\_sign\\\\\n",
       "\\hline\n",
       "\t ADSL-22\\_40757228\\_A\\_C     & 0.09485572                     & 0.6827107                      & 0.3172893                      & 0.4566455                      & -0.069643491                   & 0.08163057                     & 0.08760267                     & 2.587780e-08                   & 0.42673076                     & yes                            & no                            \\\\\n",
       "\t AIM1L-1\\_26673825\\_C\\_T     & 0.04175069                     & 0.7204262                      & 0.2795738                      & 0.1385908                      &  0.058506328                   & 0.02194199                     & 0.02193155                     & 3.428819e-10                   & 0.00771161                     & no                             & no                            \\\\\n",
       "\t ALDH7A1-5\\_126011412\\_G\\_A  & 0.13257557                     & 0.7406609                      & 0.2593391                      & 0.5447187                      &  0.073115451                   & 0.08155943                     & 0.08462475                     & 3.271249e-11                   & 0.38771421                     & no                             & no                            \\\\\n",
       "\t BATF3-1\\_212852832\\_T\\_C    & 0.06635896                     & 0.5977011                      & 0.4022989                      & 0.1352372                      & -0.001157855                   & 0.02312108                     & 0.01136633                     & 5.935374e-09                   & 0.91887438                     & yes                            & no                            \\\\\n",
       "\t C11orf24-11\\_68006555\\_G\\_A & 0.08070138                     & 0.7127634                      & 0.2872366                      & 0.2490406                      & -0.021723331                   & 0.03825396                     & 0.03137609                     & 9.901080e-11                   & 0.48881192                     & yes                            & no                            \\\\\n",
       "\t CDC42SE2-5\\_130921388\\_G\\_A & 0.14244704                     & 0.6955220                      & 0.3044780                      & 0.5181776                      &  0.065775094                   & 0.08074908                     & 0.08205413                     & 1.804524e-10                   & 0.42289496                     & no                             & no                            \\\\\n",
       "\\end{tabular}\n"
      ],
      "text/markdown": [
       "\n",
       "| eqtl | beta_G | n | n2 | beta_top | beta_bottom | beta_se_top | beta_se_bottom | pv_top | pv_bottom | replicates | replicates_sign |\n",
       "|---|---|---|---|---|---|---|---|---|---|---|---|\n",
       "| ADSL-22_40757228_A_C     | 0.09485572               | 0.6827107                | 0.3172893                | 0.4566455                | -0.069643491             | 0.08163057               | 0.08760267               | 2.587780e-08             | 0.42673076               | yes                      | no                       |\n",
       "| AIM1L-1_26673825_C_T     | 0.04175069               | 0.7204262                | 0.2795738                | 0.1385908                |  0.058506328             | 0.02194199               | 0.02193155               | 3.428819e-10             | 0.00771161               | no                       | no                       |\n",
       "| ALDH7A1-5_126011412_G_A  | 0.13257557               | 0.7406609                | 0.2593391                | 0.5447187                |  0.073115451             | 0.08155943               | 0.08462475               | 3.271249e-11             | 0.38771421               | no                       | no                       |\n",
       "| BATF3-1_212852832_T_C    | 0.06635896               | 0.5977011                | 0.4022989                | 0.1352372                | -0.001157855             | 0.02312108               | 0.01136633               | 5.935374e-09             | 0.91887438               | yes                      | no                       |\n",
       "| C11orf24-11_68006555_G_A | 0.08070138               | 0.7127634                | 0.2872366                | 0.2490406                | -0.021723331             | 0.03825396               | 0.03137609               | 9.901080e-11             | 0.48881192               | yes                      | no                       |\n",
       "| CDC42SE2-5_130921388_G_A | 0.14244704               | 0.6955220                | 0.3044780                | 0.5181776                |  0.065775094             | 0.08074908               | 0.08205413               | 1.804524e-10             | 0.42289496               | no                       | no                       |\n",
       "\n"
      ],
      "text/plain": [
       "  eqtl                     beta_G     n         n2        beta_top \n",
       "1 ADSL-22_40757228_A_C     0.09485572 0.6827107 0.3172893 0.4566455\n",
       "2 AIM1L-1_26673825_C_T     0.04175069 0.7204262 0.2795738 0.1385908\n",
       "3 ALDH7A1-5_126011412_G_A  0.13257557 0.7406609 0.2593391 0.5447187\n",
       "4 BATF3-1_212852832_T_C    0.06635896 0.5977011 0.4022989 0.1352372\n",
       "5 C11orf24-11_68006555_G_A 0.08070138 0.7127634 0.2872366 0.2490406\n",
       "6 CDC42SE2-5_130921388_G_A 0.14244704 0.6955220 0.3044780 0.5181776\n",
       "  beta_bottom  beta_se_top beta_se_bottom pv_top       pv_bottom  replicates\n",
       "1 -0.069643491 0.08163057  0.08760267     2.587780e-08 0.42673076 yes       \n",
       "2  0.058506328 0.02194199  0.02193155     3.428819e-10 0.00771161 no        \n",
       "3  0.073115451 0.08155943  0.08462475     3.271249e-11 0.38771421 no        \n",
       "4 -0.001157855 0.02312108  0.01136633     5.935374e-09 0.91887438 yes       \n",
       "5 -0.021723331 0.03825396  0.03137609     9.901080e-11 0.48881192 yes       \n",
       "6  0.065775094 0.08074908  0.08205413     1.804524e-10 0.42289496 no        \n",
       "  replicates_sign\n",
       "1 no             \n",
       "2 no             \n",
       "3 no             \n",
       "4 no             \n",
       "5 no             \n",
       "6 no             "
      ]
     },
     "metadata": {},
     "output_type": "display_data"
    }
   ],
   "source": [
    "head(df0)"
   ]
  },
  {
   "cell_type": "code",
   "execution_count": 56,
   "id": "39f2c5e9",
   "metadata": {},
   "outputs": [],
   "source": [
    "# write.csv(df0, paste0(beta_dir,\"eqtl_with_flip_sign_replication.csv\"))\n",
    "# df0 = read.csv(paste0(beta_dir,\"eqtl_with_flip_sign_replication.csv\"), row.names=1)"
   ]
  },
  {
   "cell_type": "code",
   "execution_count": 60,
   "id": "3bc05e73",
   "metadata": {},
   "outputs": [
    {
     "data": {
      "image/png": "[encoded data removed]",
      "text/plain": [
       "plot without title"
      ]
     },
     "metadata": {},
     "output_type": "display_data"
    }
   ],
   "source": [
    "options(repr.plot.width = 4.5, repr.plot.height = 4)\n",
    "p = ggplot(df0, aes(x=as.factor(replicates_sign), y=n2)) + theme_classic() + geom_violin(col=\"grey\") + geom_boxplot(width=0.2) \n",
    "p = p + ylim(c(0.25,0.5)) + ylab(\"Portion of cells \\nwith different sign\") + xlab(\"Replicating\")\n",
    "p + theme(text = element_text(size=20))"
   ]
  },
  {
   "cell_type": "code",
   "execution_count": 61,
   "id": "668e43a2",
   "metadata": {},
   "outputs": [
    {
     "data": {
      "text/html": [
       "<strong>png:</strong> 2"
      ],
      "text/latex": [
       "\\textbf{png:} 2"
      ],
      "text/markdown": [
       "**png:** 2"
      ],
      "text/plain": [
       "png \n",
       "  2 "
      ]
     },
     "metadata": {},
     "output_type": "display_data"
    }
   ],
   "source": [
    "fig_dir = \"/hps/nobackup2/stegle/users/acuomo/CellRegMap_data/figures/\"\n",
    "pdf(paste0(fig_dir,\"SF11C_n.pdf\"), width=4.5, height=4)\n",
    "p + theme(text = element_text(size=20))\n",
    "dev.off()"
   ]
  },
  {
   "cell_type": "code",
   "execution_count": 62,
   "id": "41d04459",
   "metadata": {},
   "outputs": [
    {
     "data": {
      "text/html": [
       "<table>\n",
       "<thead><tr><th></th><th scope=col>beta</th><th scope=col>eqtl</th></tr></thead>\n",
       "<tbody>\n",
       "\t<tr><th scope=row>0</th><td>0.7559366              </td><td>ABHD10-3_111697439_T_G </td></tr>\n",
       "\t<tr><th scope=row>1</th><td>0.3794608              </td><td>ABHD12B-14_51328222_C_T</td></tr>\n",
       "\t<tr><th scope=row>2</th><td>0.2242704              </td><td>ACKR2-3_42817129_C_T   </td></tr>\n",
       "\t<tr><th scope=row>3</th><td>0.2317751              </td><td>ADD2-2_70894426_A_T    </td></tr>\n",
       "\t<tr><th scope=row>4</th><td>0.4976565              </td><td>ADSL-22_40757228_A_C   </td></tr>\n",
       "\t<tr><th scope=row>5</th><td>0.1462157              </td><td>AIM1L-1_26673825_C_T   </td></tr>\n",
       "</tbody>\n",
       "</table>\n"
      ],
      "text/latex": [
       "\\begin{tabular}{r|ll}\n",
       "  & beta & eqtl\\\\\n",
       "\\hline\n",
       "\t0 & 0.7559366                     & ABHD10-3\\_111697439\\_T\\_G \\\\\n",
       "\t1 & 0.3794608                     & ABHD12B-14\\_51328222\\_C\\_T\\\\\n",
       "\t2 & 0.2242704                     & ACKR2-3\\_42817129\\_C\\_T   \\\\\n",
       "\t3 & 0.2317751                     & ADD2-2\\_70894426\\_A\\_T    \\\\\n",
       "\t4 & 0.4976565                     & ADSL-22\\_40757228\\_A\\_C   \\\\\n",
       "\t5 & 0.1462157                     & AIM1L-1\\_26673825\\_C\\_T   \\\\\n",
       "\\end{tabular}\n"
      ],
      "text/markdown": [
       "\n",
       "| <!--/--> | beta | eqtl |\n",
       "|---|---|---|\n",
       "| 0 | 0.7559366               | ABHD10-3_111697439_T_G  |\n",
       "| 1 | 0.3794608               | ABHD12B-14_51328222_C_T |\n",
       "| 2 | 0.2242704               | ACKR2-3_42817129_C_T    |\n",
       "| 3 | 0.2317751               | ADD2-2_70894426_A_T     |\n",
       "| 4 | 0.4976565               | ADSL-22_40757228_A_C    |\n",
       "| 5 | 0.1462157               | AIM1L-1_26673825_C_T    |\n",
       "\n"
      ],
      "text/plain": [
       "  beta      eqtl                   \n",
       "0 0.7559366 ABHD10-3_111697439_T_G \n",
       "1 0.3794608 ABHD12B-14_51328222_C_T\n",
       "2 0.2242704 ACKR2-3_42817129_C_T   \n",
       "3 0.2317751 ADD2-2_70894426_A_T    \n",
       "4 0.4976565 ADSL-22_40757228_A_C   \n",
       "5 0.1462157 AIM1L-1_26673825_C_T   "
      ]
     },
     "metadata": {},
     "output_type": "display_data"
    }
   ],
   "source": [
    "beta_GxE_est$eqtl = gsub(\"_-\",\"-\",beta_GxE_est$eqtl)\n",
    "head(beta_GxE_est)"
   ]
  },
  {
   "cell_type": "code",
   "execution_count": 63,
   "id": "bc39f0e2",
   "metadata": {},
   "outputs": [
    {
     "data": {
      "text/html": [
       "<table>\n",
       "<thead><tr><th scope=col>eqtl</th><th scope=col>beta_top</th><th scope=col>beta_bottom</th><th scope=col>beta_se_top</th><th scope=col>beta_se_bottom</th><th scope=col>pv_top</th><th scope=col>pv_bottom</th><th scope=col>replicates</th><th scope=col>replicates_sign</th><th scope=col>beta</th></tr></thead>\n",
       "<tbody>\n",
       "\t<tr><td>ADSL-22_40757228_A_C    </td><td>0.4566455               </td><td>-0.069643491            </td><td>0.08163057              </td><td>0.08760267              </td><td>2.587780e-08            </td><td>0.42673076              </td><td>yes                     </td><td>no                      </td><td>0.4976565               </td></tr>\n",
       "\t<tr><td>AIM1L-1_26673825_C_T    </td><td>0.1385908               </td><td> 0.058506328            </td><td>0.02194199              </td><td>0.02193155              </td><td>3.428819e-10            </td><td>0.00771161              </td><td>no                      </td><td>no                      </td><td>0.1462157               </td></tr>\n",
       "\t<tr><td>ALDH7A1-5_126011412_G_A </td><td>0.5447187               </td><td> 0.073115451            </td><td>0.08155943              </td><td>0.08462475              </td><td>3.271249e-11            </td><td>0.38771421              </td><td>no                      </td><td>no                      </td><td>0.5417320               </td></tr>\n",
       "\t<tr><td>BATF3-1_212852832_T_C   </td><td>0.1352372               </td><td>-0.001157855            </td><td>0.02312108              </td><td>0.01136633              </td><td>5.935374e-09            </td><td>0.91887438              </td><td>yes                     </td><td>no                      </td><td>0.5155175               </td></tr>\n",
       "\t<tr><td>C11orf24-11_68006555_G_A</td><td>0.2490406               </td><td>-0.021723331            </td><td>0.03825396              </td><td>0.03137609              </td><td>9.901080e-11            </td><td>0.48881192              </td><td>yes                     </td><td>no                      </td><td>0.3127928               </td></tr>\n",
       "\t<tr><td>CDC42SE2-5_130921388_G_A</td><td>0.5181776               </td><td> 0.065775094            </td><td>0.08074908              </td><td>0.08205413              </td><td>1.804524e-10            </td><td>0.42289496              </td><td>no                      </td><td>no                      </td><td>0.6633811               </td></tr>\n",
       "</tbody>\n",
       "</table>\n"
      ],
      "text/latex": [
       "\\begin{tabular}{r|llllllllll}\n",
       " eqtl & beta\\_top & beta\\_bottom & beta\\_se\\_top & beta\\_se\\_bottom & pv\\_top & pv\\_bottom & replicates & replicates\\_sign & beta\\\\\n",
       "\\hline\n",
       "\t ADSL-22\\_40757228\\_A\\_C     & 0.4566455                      & -0.069643491                   & 0.08163057                     & 0.08760267                     & 2.587780e-08                   & 0.42673076                     & yes                            & no                             & 0.4976565                     \\\\\n",
       "\t AIM1L-1\\_26673825\\_C\\_T     & 0.1385908                      &  0.058506328                   & 0.02194199                     & 0.02193155                     & 3.428819e-10                   & 0.00771161                     & no                             & no                             & 0.1462157                     \\\\\n",
       "\t ALDH7A1-5\\_126011412\\_G\\_A  & 0.5447187                      &  0.073115451                   & 0.08155943                     & 0.08462475                     & 3.271249e-11                   & 0.38771421                     & no                             & no                             & 0.5417320                     \\\\\n",
       "\t BATF3-1\\_212852832\\_T\\_C    & 0.1352372                      & -0.001157855                   & 0.02312108                     & 0.01136633                     & 5.935374e-09                   & 0.91887438                     & yes                            & no                             & 0.5155175                     \\\\\n",
       "\t C11orf24-11\\_68006555\\_G\\_A & 0.2490406                      & -0.021723331                   & 0.03825396                     & 0.03137609                     & 9.901080e-11                   & 0.48881192                     & yes                            & no                             & 0.3127928                     \\\\\n",
       "\t CDC42SE2-5\\_130921388\\_G\\_A & 0.5181776                      &  0.065775094                   & 0.08074908                     & 0.08205413                     & 1.804524e-10                   & 0.42289496                     & no                             & no                             & 0.6633811                     \\\\\n",
       "\\end{tabular}\n"
      ],
      "text/markdown": [
       "\n",
       "| eqtl | beta_top | beta_bottom | beta_se_top | beta_se_bottom | pv_top | pv_bottom | replicates | replicates_sign | beta |\n",
       "|---|---|---|---|---|---|---|---|---|---|\n",
       "| ADSL-22_40757228_A_C     | 0.4566455                | -0.069643491             | 0.08163057               | 0.08760267               | 2.587780e-08             | 0.42673076               | yes                      | no                       | 0.4976565                |\n",
       "| AIM1L-1_26673825_C_T     | 0.1385908                |  0.058506328             | 0.02194199               | 0.02193155               | 3.428819e-10             | 0.00771161               | no                       | no                       | 0.1462157                |\n",
       "| ALDH7A1-5_126011412_G_A  | 0.5447187                |  0.073115451             | 0.08155943               | 0.08462475               | 3.271249e-11             | 0.38771421               | no                       | no                       | 0.5417320                |\n",
       "| BATF3-1_212852832_T_C    | 0.1352372                | -0.001157855             | 0.02312108               | 0.01136633               | 5.935374e-09             | 0.91887438               | yes                      | no                       | 0.5155175                |\n",
       "| C11orf24-11_68006555_G_A | 0.2490406                | -0.021723331             | 0.03825396               | 0.03137609               | 9.901080e-11             | 0.48881192               | yes                      | no                       | 0.3127928                |\n",
       "| CDC42SE2-5_130921388_G_A | 0.5181776                |  0.065775094             | 0.08074908               | 0.08205413               | 1.804524e-10             | 0.42289496               | no                       | no                       | 0.6633811                |\n",
       "\n"
      ],
      "text/plain": [
       "  eqtl                     beta_top  beta_bottom  beta_se_top beta_se_bottom\n",
       "1 ADSL-22_40757228_A_C     0.4566455 -0.069643491 0.08163057  0.08760267    \n",
       "2 AIM1L-1_26673825_C_T     0.1385908  0.058506328 0.02194199  0.02193155    \n",
       "3 ALDH7A1-5_126011412_G_A  0.5447187  0.073115451 0.08155943  0.08462475    \n",
       "4 BATF3-1_212852832_T_C    0.1352372 -0.001157855 0.02312108  0.01136633    \n",
       "5 C11orf24-11_68006555_G_A 0.2490406 -0.021723331 0.03825396  0.03137609    \n",
       "6 CDC42SE2-5_130921388_G_A 0.5181776  0.065775094 0.08074908  0.08205413    \n",
       "  pv_top       pv_bottom  replicates replicates_sign beta     \n",
       "1 2.587780e-08 0.42673076 yes        no              0.4976565\n",
       "2 3.428819e-10 0.00771161 no         no              0.1462157\n",
       "3 3.271249e-11 0.38771421 no         no              0.5417320\n",
       "4 5.935374e-09 0.91887438 yes        no              0.5155175\n",
       "5 9.901080e-11 0.48881192 yes        no              0.3127928\n",
       "6 1.804524e-10 0.42289496 no         no              0.6633811"
      ]
     },
     "metadata": {},
     "output_type": "display_data"
    }
   ],
   "source": [
    "df0 = summary_df\n",
    "df1 = inner_join(df0,beta_GxE_est,by=\"eqtl\")\n",
    "head(df1)"
   ]
  },
  {
   "cell_type": "code",
   "execution_count": 65,
   "id": "a09d0606",
   "metadata": {},
   "outputs": [
    {
     "data": {
      "image/png": "[encoded data removed]",
      "text/plain": [
       "plot without title"
      ]
     },
     "metadata": {},
     "output_type": "display_data"
    }
   ],
   "source": [
    "options(repr.plot.width = 4, repr.plot.height = 4)\n",
    "p = ggplot(df1, aes(x=as.factor(replicates_sign), y=beta)) + theme_classic() + geom_violin(col=\"grey\") + geom_boxplot(width=0.2) \n",
    "p = p + ylim(c(0,1)) + ylab(\"GxC effect size\") + xlab(\"Replicating\")\n",
    "p + theme(text = element_text(size=20))"
   ]
  },
  {
   "cell_type": "code",
   "execution_count": 66,
   "id": "b8ff078e",
   "metadata": {},
   "outputs": [
    {
     "data": {
      "text/html": [
       "<strong>png:</strong> 2"
      ],
      "text/latex": [
       "\\textbf{png:} 2"
      ],
      "text/markdown": [
       "**png:** 2"
      ],
      "text/plain": [
       "png \n",
       "  2 "
      ]
     },
     "metadata": {},
     "output_type": "display_data"
    }
   ],
   "source": [
    "fig_dir = \"/hps/nobackup2/stegle/users/acuomo/CellRegMap_data/figures/\"\n",
    "pdf(paste0(fig_dir,\"SF11C_beta.pdf\"), width=4, height=4)\n",
    "p + theme(text = element_text(size=20))\n",
    "dev.off()"
   ]
  },
  {
   "cell_type": "code",
   "execution_count": null,
   "id": "84e69503",
   "metadata": {},
   "outputs": [],
   "source": []
  }
 ],
 "metadata": {
  "kernelspec": {
   "display_name": "R",
   "language": "R",
   "name": "ir"
  },
  "language_info": {
   "codemirror_mode": "r",
   "file_extension": ".r",
   "mimetype": "text/x-r-source",
   "name": "R",
   "pygments_lexer": "r",
   "version": "3.6.1"
  }
 },
 "nbformat": 4,
 "nbformat_minor": 5
}
