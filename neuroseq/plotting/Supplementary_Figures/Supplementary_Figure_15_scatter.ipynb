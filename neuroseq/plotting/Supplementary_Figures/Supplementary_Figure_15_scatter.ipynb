{
 "cells": [
  {
   "cell_type": "code",
   "execution_count": 71,
   "id": "7e2ad60a",
   "metadata": {},
   "outputs": [],
   "source": [
    "library(dplyr)\n",
    "library(ggplot2)\n",
    "library(qvalue)"
   ]
  },
  {
   "cell_type": "code",
   "execution_count": 72,
   "id": "faf7c0c4",
   "metadata": {},
   "outputs": [],
   "source": [
    "neuro_folder = \"/hps/nobackup2/stegle/users/acuomo/all_scripts/struct_LMM2/sc_neuroseq/May2021/\""
   ]
  },
  {
   "cell_type": "code",
   "execution_count": null,
   "id": "6b30750a",
   "metadata": {},
   "outputs": [],
   "source": []
  },
  {
   "cell_type": "code",
   "execution_count": 73,
   "id": "ed2f778a",
   "metadata": {},
   "outputs": [],
   "source": [
    "############################################################################\n",
    "########## CellRegMap (GxC)\n",
    "## neuronal development data (\"neuroseq\") from Jerber et al, Nat Genet 2021\n",
    "## dopaminergic neurons (DA) eQTLs only - 2,051 eQTL, 1,374 unique eGenes"
   ]
  },
  {
   "cell_type": "code",
   "execution_count": 74,
   "id": "9462903b",
   "metadata": {},
   "outputs": [],
   "source": [
    "############################################################\n",
    "## testing 10 MOFA factors as (continuous) contexts"
   ]
  },
  {
   "cell_type": "code",
   "execution_count": 75,
   "id": "4f5c4ef6",
   "metadata": {},
   "outputs": [
    {
     "data": {
      "text/html": [
       "<table>\n",
       "<thead><tr><th></th><th scope=col>gene</th><th scope=col>n_snps</th><th scope=col>chrom</th><th scope=col>pv_raw</th><th scope=col>snpID</th><th scope=col>pv</th><th scope=col>gene_old</th></tr></thead>\n",
       "<tbody>\n",
       "\t<tr><th scope=row>0</th><td>LINC00662      </td><td>1              </td><td>19             </td><td>0.05827479     </td><td>19_28250771_G_A</td><td>0.05827479     </td><td>LINC00662      </td></tr>\n",
       "\t<tr><th scope=row>1</th><td>ATRAID         </td><td>2              </td><td> 2             </td><td>0.66353704     </td><td>2_27389195_A_G </td><td>1.00000000     </td><td>ATRAID         </td></tr>\n",
       "</tbody>\n",
       "</table>\n"
      ],
      "text/latex": [
       "\\begin{tabular}{r|lllllll}\n",
       "  & gene & n\\_snps & chrom & pv\\_raw & snpID & pv & gene\\_old\\\\\n",
       "\\hline\n",
       "\t0 & LINC00662             & 1                     & 19                    & 0.05827479            & 19\\_28250771\\_G\\_A & 0.05827479            & LINC00662            \\\\\n",
       "\t1 & ATRAID                & 2                     &  2                    & 0.66353704            & 2\\_27389195\\_A\\_G  & 1.00000000            & ATRAID               \\\\\n",
       "\\end{tabular}\n"
      ],
      "text/markdown": [
       "\n",
       "| <!--/--> | gene | n_snps | chrom | pv_raw | snpID | pv | gene_old |\n",
       "|---|---|---|---|---|---|---|---|\n",
       "| 0 | LINC00662       | 1               | 19              | 0.05827479      | 19_28250771_G_A | 0.05827479      | LINC00662       |\n",
       "| 1 | ATRAID          | 2               |  2              | 0.66353704      | 2_27389195_A_G  | 1.00000000      | ATRAID          |\n",
       "\n"
      ],
      "text/plain": [
       "  gene      n_snps chrom pv_raw     snpID           pv         gene_old \n",
       "0 LINC00662 1      19    0.05827479 19_28250771_G_A 0.05827479 LINC00662\n",
       "1 ATRAID    2       2    0.66353704 2_27389195_A_G  1.00000000 ATRAID   "
      ]
     },
     "metadata": {},
     "output_type": "display_data"
    }
   ],
   "source": [
    "MOFA_results_folder = paste0(neuro_folder, 'MOFA/MOFA10/')\n",
    "summary_filename = paste0(MOFA_results_folder, 'summary.csv')\n",
    "summary = read.csv(summary_filename, row.names=1)\n",
    "summary$gene = gsub(\"\\\\.\",\"-\",summary$gene)\n",
    "head(summary,2)"
   ]
  },
  {
   "cell_type": "code",
   "execution_count": 76,
   "id": "8d08b612",
   "metadata": {},
   "outputs": [
    {
     "data": {
      "text/html": [
       "2051"
      ],
      "text/latex": [
       "2051"
      ],
      "text/markdown": [
       "2051"
      ],
      "text/plain": [
       "[1] 2051"
      ]
     },
     "metadata": {},
     "output_type": "display_data"
    },
    {
     "data": {
      "text/html": [
       "1374"
      ],
      "text/latex": [
       "1374"
      ],
      "text/markdown": [
       "1374"
      ],
      "text/plain": [
       "[1] 1374"
      ]
     },
     "metadata": {},
     "output_type": "display_data"
    }
   ],
   "source": [
    "nrow(summary)\n",
    "length(unique(summary$gene))"
   ]
  },
  {
   "cell_type": "code",
   "execution_count": 77,
   "id": "e3856062",
   "metadata": {},
   "outputs": [],
   "source": [
    "###############################################################################\n",
    "## testing 3 conditions from the original paper as (discrete) contexts\n",
    "## conditions for dopaminergic neurons: day 30, day 52, rotenone-treated day 52 "
   ]
  },
  {
   "cell_type": "code",
   "execution_count": 78,
   "id": "601dcc65",
   "metadata": {},
   "outputs": [
    {
     "data": {
      "text/html": [
       "<table>\n",
       "<thead><tr><th></th><th scope=col>gene</th><th scope=col>n_snps</th><th scope=col>chrom</th><th scope=col>pv_raw</th><th scope=col>snpID</th></tr></thead>\n",
       "<tbody>\n",
       "\t<tr><th scope=row>0</th><td>LINC00662      </td><td>1              </td><td>19             </td><td>0.1043711      </td><td>19_28250771_G_A</td></tr>\n",
       "\t<tr><th scope=row>1</th><td>ATRAID         </td><td>2              </td><td> 2             </td><td>0.8612612      </td><td>2_27389195_A_G </td></tr>\n",
       "</tbody>\n",
       "</table>\n"
      ],
      "text/latex": [
       "\\begin{tabular}{r|lllll}\n",
       "  & gene & n\\_snps & chrom & pv\\_raw & snpID\\\\\n",
       "\\hline\n",
       "\t0 & LINC00662             & 1                     & 19                    & 0.1043711             & 19\\_28250771\\_G\\_A\\\\\n",
       "\t1 & ATRAID                & 2                     &  2                    & 0.8612612             & 2\\_27389195\\_A\\_G \\\\\n",
       "\\end{tabular}\n"
      ],
      "text/markdown": [
       "\n",
       "| <!--/--> | gene | n_snps | chrom | pv_raw | snpID |\n",
       "|---|---|---|---|---|---|\n",
       "| 0 | LINC00662       | 1               | 19              | 0.1043711       | 19_28250771_G_A |\n",
       "| 1 | ATRAID          | 2               |  2              | 0.8612612       | 2_27389195_A_G  |\n",
       "\n"
      ],
      "text/plain": [
       "  gene      n_snps chrom pv_raw    snpID          \n",
       "0 LINC00662 1      19    0.1043711 19_28250771_G_A\n",
       "1 ATRAID    2       2    0.8612612 2_27389195_A_G "
      ]
     },
     "metadata": {},
     "output_type": "display_data"
    }
   ],
   "source": [
    "outdir = \"/hps/nobackup2/stegle/users/acuomo/all_scripts/struct_LMM2/sc_neuroseq/May2021/REVISION/CRM_interaction_discrete_contexts/3conditions/\"\n",
    "dc_filename = paste0(outdir, 'summary.csv')\n",
    "discrete = read.csv(dc_filename, row.names=1)\n",
    "discrete$gene = gsub(\".tsv\",\"\",discrete$gene)\n",
    "discrete$gene = gsub(\"\\\\.\",\"-\",discrete$gene)\n",
    "head(discrete,2)"
   ]
  },
  {
   "cell_type": "code",
   "execution_count": 79,
   "id": "397e510f",
   "metadata": {},
   "outputs": [
    {
     "data": {
      "text/html": [
       "2051"
      ],
      "text/latex": [
       "2051"
      ],
      "text/markdown": [
       "2051"
      ],
      "text/plain": [
       "[1] 2051"
      ]
     },
     "metadata": {},
     "output_type": "display_data"
    },
    {
     "data": {
      "text/html": [
       "1374"
      ],
      "text/latex": [
       "1374"
      ],
      "text/markdown": [
       "1374"
      ],
      "text/plain": [
       "[1] 1374"
      ]
     },
     "metadata": {},
     "output_type": "display_data"
    }
   ],
   "source": [
    "nrow(discrete)\n",
    "length(unique(discrete$gene))"
   ]
  },
  {
   "cell_type": "code",
   "execution_count": 1261,
   "id": "6730ccab",
   "metadata": {},
   "outputs": [],
   "source": [
    "###############################################################################\n",
    "## testing 9 clusters from the MOFA factors as (discrete) contexts\n",
    "## using Leiden clustering, resolution = 0.3"
   ]
  },
  {
   "cell_type": "code",
   "execution_count": 1740,
   "id": "fe19fc84",
   "metadata": {},
   "outputs": [
    {
     "data": {
      "text/html": [
       "<table>\n",
       "<thead><tr><th></th><th scope=col>gene</th><th scope=col>n_snps</th><th scope=col>chrom</th><th scope=col>pv_raw</th><th scope=col>snpID</th></tr></thead>\n",
       "<tbody>\n",
       "\t<tr><th scope=row>0</th><td>RNF122        </td><td>1             </td><td>8             </td><td>0.4082997     </td><td>8_33432305_T_C</td></tr>\n",
       "\t<tr><th scope=row>1</th><td>RASEF         </td><td>1             </td><td>9             </td><td>0.1994500     </td><td>9_85596321_T_C</td></tr>\n",
       "</tbody>\n",
       "</table>\n"
      ],
      "text/latex": [
       "\\begin{tabular}{r|lllll}\n",
       "  & gene & n\\_snps & chrom & pv\\_raw & snpID\\\\\n",
       "\\hline\n",
       "\t0 & RNF122               & 1                    & 8                    & 0.4082997            & 8\\_33432305\\_T\\_C\\\\\n",
       "\t1 & RASEF                & 1                    & 9                    & 0.1994500            & 9\\_85596321\\_T\\_C\\\\\n",
       "\\end{tabular}\n"
      ],
      "text/markdown": [
       "\n",
       "| <!--/--> | gene | n_snps | chrom | pv_raw | snpID |\n",
       "|---|---|---|---|---|---|\n",
       "| 0 | RNF122         | 1              | 8              | 0.4082997      | 8_33432305_T_C |\n",
       "| 1 | RASEF          | 1              | 9              | 0.1994500      | 9_85596321_T_C |\n",
       "\n"
      ],
      "text/plain": [
       "  gene   n_snps chrom pv_raw    snpID         \n",
       "0 RNF122 1      8     0.4082997 8_33432305_T_C\n",
       "1 RASEF  1      9     0.1994500 9_85596321_T_C"
      ]
     },
     "metadata": {},
     "output_type": "display_data"
    }
   ],
   "source": [
    "outdir = \"/hps/nobackup2/stegle/users/acuomo/all_scripts/struct_LMM2/sc_neuroseq/May2021/REVISION/CRM_interaction_discrete_contexts/9clusters/\"\n",
    "dc_filename = paste0(outdir, 'summary.csv')\n",
    "discrete9 = read.csv(dc_filename, row.names=1)\n",
    "discrete9$gene = gsub(\".tsv\",\"\",discrete9$gene)\n",
    "discrete9$gene = gsub(\"\\\\.\",\"-\",discrete9$gene)\n",
    "head(discrete9,2)"
   ]
  },
  {
   "cell_type": "code",
   "execution_count": 1741,
   "id": "e52ca40e",
   "metadata": {},
   "outputs": [],
   "source": [
    "# unique(discrete9$chrom)[order(unique(discrete9$chrom))]"
   ]
  },
  {
   "cell_type": "code",
   "execution_count": 1742,
   "id": "cf06dc1a",
   "metadata": {},
   "outputs": [
    {
     "data": {
      "text/html": [],
      "text/latex": [],
      "text/markdown": [],
      "text/plain": [
       "integer(0)"
      ]
     },
     "metadata": {},
     "output_type": "display_data"
    }
   ],
   "source": [
    "discrete9_missing = summary[!(summary$gene %in% discrete9$gene),]\n",
    "unique(discrete9_missing$chrom)[order(unique(discrete9_missing$chrom))]"
   ]
  },
  {
   "cell_type": "code",
   "execution_count": 1743,
   "id": "20ada829",
   "metadata": {},
   "outputs": [
    {
     "data": {
      "text/html": [
       "2066"
      ],
      "text/latex": [
       "2066"
      ],
      "text/markdown": [
       "2066"
      ],
      "text/plain": [
       "[1] 2066"
      ]
     },
     "metadata": {},
     "output_type": "display_data"
    },
    {
     "data": {
      "text/html": [
       "1374"
      ],
      "text/latex": [
       "1374"
      ],
      "text/markdown": [
       "1374"
      ],
      "text/plain": [
       "[1] 1374"
      ]
     },
     "metadata": {},
     "output_type": "display_data"
    }
   ],
   "source": [
    "nrow(discrete9)\n",
    "length(unique(discrete9$gene))"
   ]
  },
  {
   "cell_type": "code",
   "execution_count": 1744,
   "id": "277dd32e",
   "metadata": {},
   "outputs": [],
   "source": [
    "###############################################################################\n",
    "## testing 18 clusters from the MOFA factors as (discrete) contexts\n",
    "## using Leiden clustering, default parameters "
   ]
  },
  {
   "cell_type": "code",
   "execution_count": 1910,
   "id": "9b47bca0",
   "metadata": {},
   "outputs": [
    {
     "data": {
      "text/html": [
       "<table>\n",
       "<thead><tr><th></th><th scope=col>gene</th><th scope=col>n_snps</th><th scope=col>chrom</th><th scope=col>pv_raw</th><th scope=col>snpID</th></tr></thead>\n",
       "<tbody>\n",
       "\t<tr><th scope=row>0</th><td>RNF122        </td><td>1             </td><td>8             </td><td>0.2370413     </td><td>8_33432305_T_C</td></tr>\n",
       "\t<tr><th scope=row>1</th><td>RASEF         </td><td>1             </td><td>9             </td><td>0.4264631     </td><td>9_85596321_T_C</td></tr>\n",
       "</tbody>\n",
       "</table>\n"
      ],
      "text/latex": [
       "\\begin{tabular}{r|lllll}\n",
       "  & gene & n\\_snps & chrom & pv\\_raw & snpID\\\\\n",
       "\\hline\n",
       "\t0 & RNF122               & 1                    & 8                    & 0.2370413            & 8\\_33432305\\_T\\_C\\\\\n",
       "\t1 & RASEF                & 1                    & 9                    & 0.4264631            & 9\\_85596321\\_T\\_C\\\\\n",
       "\\end{tabular}\n"
      ],
      "text/markdown": [
       "\n",
       "| <!--/--> | gene | n_snps | chrom | pv_raw | snpID |\n",
       "|---|---|---|---|---|---|\n",
       "| 0 | RNF122         | 1              | 8              | 0.2370413      | 8_33432305_T_C |\n",
       "| 1 | RASEF          | 1              | 9              | 0.4264631      | 9_85596321_T_C |\n",
       "\n"
      ],
      "text/plain": [
       "  gene   n_snps chrom pv_raw    snpID         \n",
       "0 RNF122 1      8     0.2370413 8_33432305_T_C\n",
       "1 RASEF  1      9     0.4264631 9_85596321_T_C"
      ]
     },
     "metadata": {},
     "output_type": "display_data"
    }
   ],
   "source": [
    "outdir = \"/hps/nobackup2/stegle/users/acuomo/all_scripts/struct_LMM2/sc_neuroseq/May2021/REVISION/CRM_interaction_discrete_contexts/18clusters/\"\n",
    "dc_filename = paste0(outdir, 'summary.csv')\n",
    "discrete18 = read.csv(dc_filename, row.names=1)\n",
    "discrete18$gene = gsub(\".tsv\",\"\",discrete18$gene)\n",
    "discrete18$gene = gsub(\"\\\\.\",\"-\",discrete18$gene)\n",
    "head(discrete18,2)"
   ]
  },
  {
   "cell_type": "code",
   "execution_count": 1911,
   "id": "1aae5f0f",
   "metadata": {},
   "outputs": [
    {
     "data": {
      "text/html": [],
      "text/latex": [],
      "text/markdown": [],
      "text/plain": [
       "integer(0)"
      ]
     },
     "metadata": {},
     "output_type": "display_data"
    }
   ],
   "source": [
    "discrete18_missing = summary[!(summary$gene %in% discrete18$gene),]\n",
    "unique(discrete18_missing$chrom)[order(unique(discrete18_missing$chrom))]"
   ]
  },
  {
   "cell_type": "code",
   "execution_count": 1912,
   "id": "ec608cd4",
   "metadata": {},
   "outputs": [
    {
     "data": {
      "text/html": [
       "2057"
      ],
      "text/latex": [
       "2057"
      ],
      "text/markdown": [
       "2057"
      ],
      "text/plain": [
       "[1] 2057"
      ]
     },
     "metadata": {},
     "output_type": "display_data"
    },
    {
     "data": {
      "text/html": [
       "1374"
      ],
      "text/latex": [
       "1374"
      ],
      "text/markdown": [
       "1374"
      ],
      "text/plain": [
       "[1] 1374"
      ]
     },
     "metadata": {},
     "output_type": "display_data"
    }
   ],
   "source": [
    "nrow(discrete18)\n",
    "length(unique(discrete18$gene))"
   ]
  },
  {
   "cell_type": "code",
   "execution_count": null,
   "id": "49b308e6",
   "metadata": {},
   "outputs": [],
   "source": []
  },
  {
   "cell_type": "code",
   "execution_count": 1691,
   "id": "f0d9a8a9",
   "metadata": {},
   "outputs": [],
   "source": [
    "######### Scatter Plots "
   ]
  },
  {
   "cell_type": "code",
   "execution_count": 1190,
   "id": "2d23946e",
   "metadata": {},
   "outputs": [],
   "source": [
    "#############################################################\n",
    "################ continuous (MOFA) vs discrete (3 conditions)"
   ]
  },
  {
   "cell_type": "code",
   "execution_count": 1089,
   "id": "7ea093b4",
   "metadata": {},
   "outputs": [],
   "source": [
    "df_plot = inner_join(summary, discrete, by=c(\"snpID\",\"gene\"), suffix=c(\".c\",\".d\"))"
   ]
  },
  {
   "cell_type": "code",
   "execution_count": 728,
   "id": "bb05bcdc",
   "metadata": {},
   "outputs": [
    {
     "data": {
      "text/html": [
       "2051"
      ],
      "text/latex": [
       "2051"
      ],
      "text/markdown": [
       "2051"
      ],
      "text/plain": [
       "[1] 2051"
      ]
     },
     "metadata": {},
     "output_type": "display_data"
    },
    {
     "data": {
      "text/html": [
       "1374"
      ],
      "text/latex": [
       "1374"
      ],
      "text/markdown": [
       "1374"
      ],
      "text/plain": [
       "[1] 1374"
      ]
     },
     "metadata": {},
     "output_type": "display_data"
    },
    {
     "data": {
      "text/html": [
       "<table>\n",
       "<thead><tr><th scope=col>gene</th><th scope=col>n_snps.c</th><th scope=col>chrom.c</th><th scope=col>pv_raw.c</th><th scope=col>snpID</th><th scope=col>pv.c</th><th scope=col>gene_old</th><th scope=col>qv.c</th><th scope=col>n_snps.d</th><th scope=col>chrom.d</th><th scope=col>pv_raw.d</th><th scope=col>pv.d</th><th scope=col>qv.d</th></tr></thead>\n",
       "<tbody>\n",
       "\t<tr><td>LINC00662      </td><td>1              </td><td>19             </td><td>0.05827479     </td><td>19_28250771_G_A</td><td>0.05827479     </td><td>LINC00662      </td><td>0.2429301      </td><td>1              </td><td>19             </td><td>0.1043711      </td><td>0.1043711      </td><td>0.6243003      </td></tr>\n",
       "\t<tr><td>ATRAID         </td><td>2              </td><td> 2             </td><td>0.66353704     </td><td>2_27389195_A_G </td><td>1.00000000     </td><td>ATRAID         </td><td>1.0000000      </td><td>2              </td><td> 2             </td><td>0.8612612      </td><td>1.0000000      </td><td>1.0000000      </td></tr>\n",
       "</tbody>\n",
       "</table>\n"
      ],
      "text/latex": [
       "\\begin{tabular}{r|lllllllllllll}\n",
       " gene & n\\_snps.c & chrom.c & pv\\_raw.c & snpID & pv.c & gene\\_old & qv.c & n\\_snps.d & chrom.d & pv\\_raw.d & pv.d & qv.d\\\\\n",
       "\\hline\n",
       "\t LINC00662             & 1                     & 19                    & 0.05827479            & 19\\_28250771\\_G\\_A & 0.05827479            & LINC00662             & 0.2429301             & 1                     & 19                    & 0.1043711             & 0.1043711             & 0.6243003            \\\\\n",
       "\t ATRAID                & 2                     &  2                    & 0.66353704            & 2\\_27389195\\_A\\_G  & 1.00000000            & ATRAID                & 1.0000000             & 2                     &  2                    & 0.8612612             & 1.0000000             & 1.0000000            \\\\\n",
       "\\end{tabular}\n"
      ],
      "text/markdown": [
       "\n",
       "| gene | n_snps.c | chrom.c | pv_raw.c | snpID | pv.c | gene_old | qv.c | n_snps.d | chrom.d | pv_raw.d | pv.d | qv.d |\n",
       "|---|---|---|---|---|---|---|---|---|---|---|---|---|\n",
       "| LINC00662       | 1               | 19              | 0.05827479      | 19_28250771_G_A | 0.05827479      | LINC00662       | 0.2429301       | 1               | 19              | 0.1043711       | 0.1043711       | 0.6243003       |\n",
       "| ATRAID          | 2               |  2              | 0.66353704      | 2_27389195_A_G  | 1.00000000      | ATRAID          | 1.0000000       | 2               |  2              | 0.8612612       | 1.0000000       | 1.0000000       |\n",
       "\n"
      ],
      "text/plain": [
       "  gene      n_snps.c chrom.c pv_raw.c   snpID           pv.c       gene_old \n",
       "1 LINC00662 1        19      0.05827479 19_28250771_G_A 0.05827479 LINC00662\n",
       "2 ATRAID    2         2      0.66353704 2_27389195_A_G  1.00000000 ATRAID   \n",
       "  qv.c      n_snps.d chrom.d pv_raw.d  pv.d      qv.d     \n",
       "1 0.2429301 1        19      0.1043711 0.1043711 0.6243003\n",
       "2 1.0000000 2         2      0.8612612 1.0000000 1.0000000"
      ]
     },
     "metadata": {},
     "output_type": "display_data"
    }
   ],
   "source": [
    "nrow(df_plot)\n",
    "length(unique(df_plot$gene))\n",
    "head(df_plot,2)"
   ]
  },
  {
   "cell_type": "code",
   "execution_count": 729,
   "id": "f2818638",
   "metadata": {},
   "outputs": [
    {
     "data": {
      "text/plain": [
       "\n",
       "\tPearson's product-moment correlation\n",
       "\n",
       "data:  -log10(df_plot$pv_raw.c) and -log10(df_plot$pv_raw.d)\n",
       "t = 42.101, df = 2049, p-value < 2.2e-16\n",
       "alternative hypothesis: true correlation is not equal to 0\n",
       "95 percent confidence interval:\n",
       " 0.6571371 0.7035912\n",
       "sample estimates:\n",
       "      cor \n",
       "0.6810489 \n"
      ]
     },
     "metadata": {},
     "output_type": "display_data"
    }
   ],
   "source": [
    "cor.test(-log10(df_plot$pv_raw.c),-log10(df_plot$pv_raw.d))"
   ]
  },
  {
   "cell_type": "code",
   "execution_count": 730,
   "id": "21cc8fbe",
   "metadata": {},
   "outputs": [
    {
     "data": {
      "image/png": "[encoded data removed]",
      "text/plain": [
       "plot without title"
      ]
     },
     "metadata": {},
     "output_type": "display_data"
    }
   ],
   "source": [
    "options(repr.plot.width = 5, repr.plot.height = 5)\n",
    "p = ggplot(df_plot, aes(x=-log10(pv_raw.c),y=-log10(pv_raw.d))) + geom_point()\n",
    "p = p + theme_classic() + ylim(c(0,20)) + geom_abline(col=\"lightgrey\") + theme(text = element_text(size=20))\n",
    "p + xlab(\"-log P (MOFA)\") + ylab(\"-log P (condition)\")"
   ]
  },
  {
   "cell_type": "code",
   "execution_count": 731,
   "id": "32079eef",
   "metadata": {},
   "outputs": [
    {
     "data": {
      "text/html": [
       "<strong>png:</strong> 2"
      ],
      "text/latex": [
       "\\textbf{png:} 2"
      ],
      "text/markdown": [
       "**png:** 2"
      ],
      "text/plain": [
       "png \n",
       "  2 "
      ]
     },
     "metadata": {},
     "output_type": "display_data"
    }
   ],
   "source": [
    "fig_dir = \"/hps/nobackup2/stegle/users/acuomo/CellRegMap_data/figures/\"\n",
    "pdf(paste0(fig_dir,\"SF15_scatter_condition.pdf\"), width=5, height=5)\n",
    "p + xlab(\"-log P (MOFA)\") + ylab(\"-log P (condition)\")\n",
    "dev.off()"
   ]
  },
  {
   "cell_type": "code",
   "execution_count": 732,
   "id": "a78ea547",
   "metadata": {},
   "outputs": [],
   "source": [
    "#############################################################\n",
    "################ continuous (MOFA) vs discrete (9 clusters)"
   ]
  },
  {
   "cell_type": "code",
   "execution_count": 1780,
   "id": "1df3b27c",
   "metadata": {},
   "outputs": [],
   "source": [
    "df_plot1 = inner_join(summary, discrete9, by=c(\"snpID\",\"gene\"), suffix=c(\".c\",\".d\"))"
   ]
  },
  {
   "cell_type": "code",
   "execution_count": 1781,
   "id": "46697b24",
   "metadata": {},
   "outputs": [
    {
     "data": {
      "text/html": [
       "2066"
      ],
      "text/latex": [
       "2066"
      ],
      "text/markdown": [
       "2066"
      ],
      "text/plain": [
       "[1] 2066"
      ]
     },
     "metadata": {},
     "output_type": "display_data"
    },
    {
     "data": {
      "text/html": [
       "1374"
      ],
      "text/latex": [
       "1374"
      ],
      "text/markdown": [
       "1374"
      ],
      "text/plain": [
       "[1] 1374"
      ]
     },
     "metadata": {},
     "output_type": "display_data"
    },
    {
     "data": {
      "text/html": [
       "<table>\n",
       "<thead><tr><th scope=col>gene</th><th scope=col>n_snps.c</th><th scope=col>chrom.c</th><th scope=col>pv_raw.c</th><th scope=col>snpID</th><th scope=col>pv.c</th><th scope=col>gene_old</th><th scope=col>qv.c</th><th scope=col>n_snps.d</th><th scope=col>chrom.d</th><th scope=col>pv_raw.d</th><th scope=col>pv.d</th><th scope=col>qv.d</th></tr></thead>\n",
       "<tbody>\n",
       "\t<tr><td>LINC00662      </td><td>1              </td><td>19             </td><td>0.05827479     </td><td>19_28250771_G_A</td><td>0.05827479     </td><td>LINC00662      </td><td>0.2429301      </td><td>1              </td><td>19             </td><td>0.1105148      </td><td>0.1105148      </td><td>0.5379115      </td></tr>\n",
       "\t<tr><td>ATRAID         </td><td>2              </td><td> 2             </td><td>0.66353704     </td><td>2_27389195_A_G </td><td>1.00000000     </td><td>ATRAID         </td><td>1.0000000      </td><td>2              </td><td> 2             </td><td>0.6201030      </td><td>1.0000000      </td><td>1.0000000      </td></tr>\n",
       "</tbody>\n",
       "</table>\n"
      ],
      "text/latex": [
       "\\begin{tabular}{r|lllllllllllll}\n",
       " gene & n\\_snps.c & chrom.c & pv\\_raw.c & snpID & pv.c & gene\\_old & qv.c & n\\_snps.d & chrom.d & pv\\_raw.d & pv.d & qv.d\\\\\n",
       "\\hline\n",
       "\t LINC00662             & 1                     & 19                    & 0.05827479            & 19\\_28250771\\_G\\_A & 0.05827479            & LINC00662             & 0.2429301             & 1                     & 19                    & 0.1105148             & 0.1105148             & 0.5379115            \\\\\n",
       "\t ATRAID                & 2                     &  2                    & 0.66353704            & 2\\_27389195\\_A\\_G  & 1.00000000            & ATRAID                & 1.0000000             & 2                     &  2                    & 0.6201030             & 1.0000000             & 1.0000000            \\\\\n",
       "\\end{tabular}\n"
      ],
      "text/markdown": [
       "\n",
       "| gene | n_snps.c | chrom.c | pv_raw.c | snpID | pv.c | gene_old | qv.c | n_snps.d | chrom.d | pv_raw.d | pv.d | qv.d |\n",
       "|---|---|---|---|---|---|---|---|---|---|---|---|---|\n",
       "| LINC00662       | 1               | 19              | 0.05827479      | 19_28250771_G_A | 0.05827479      | LINC00662       | 0.2429301       | 1               | 19              | 0.1105148       | 0.1105148       | 0.5379115       |\n",
       "| ATRAID          | 2               |  2              | 0.66353704      | 2_27389195_A_G  | 1.00000000      | ATRAID          | 1.0000000       | 2               |  2              | 0.6201030       | 1.0000000       | 1.0000000       |\n",
       "\n"
      ],
      "text/plain": [
       "  gene      n_snps.c chrom.c pv_raw.c   snpID           pv.c       gene_old \n",
       "1 LINC00662 1        19      0.05827479 19_28250771_G_A 0.05827479 LINC00662\n",
       "2 ATRAID    2         2      0.66353704 2_27389195_A_G  1.00000000 ATRAID   \n",
       "  qv.c      n_snps.d chrom.d pv_raw.d  pv.d      qv.d     \n",
       "1 0.2429301 1        19      0.1105148 0.1105148 0.5379115\n",
       "2 1.0000000 2         2      0.6201030 1.0000000 1.0000000"
      ]
     },
     "metadata": {},
     "output_type": "display_data"
    }
   ],
   "source": [
    "nrow(df_plot1)\n",
    "length(unique(df_plot1$gene))\n",
    "head(df_plot1,2)"
   ]
  },
  {
   "cell_type": "code",
   "execution_count": 1782,
   "id": "d39f90af",
   "metadata": {},
   "outputs": [
    {
     "data": {
      "text/plain": [
       "\n",
       "\tPearson's product-moment correlation\n",
       "\n",
       "data:  -log10(df_plot1$pv_raw.c) and -log10(df_plot1$pv_raw.d)\n",
       "t = 55.263, df = 2064, p-value < 2.2e-16\n",
       "alternative hypothesis: true correlation is not equal to 0\n",
       "95 percent confidence interval:\n",
       " 0.7544816 0.7893037\n",
       "sample estimates:\n",
       "      cor \n",
       "0.7724726 \n"
      ]
     },
     "metadata": {},
     "output_type": "display_data"
    }
   ],
   "source": [
    "cor.test(-log10(df_plot1$pv_raw.c),-log10(df_plot1$pv_raw.d))"
   ]
  },
  {
   "cell_type": "code",
   "execution_count": 1783,
   "id": "17c11549",
   "metadata": {},
   "outputs": [
    {
     "data": {
      "image/png": "[encoded data removed]",
      "text/plain": [
       "plot without title"
      ]
     },
     "metadata": {},
     "output_type": "display_data"
    }
   ],
   "source": [
    "options(repr.plot.width = 5, repr.plot.height = 5)\n",
    "p = ggplot(df_plot1, aes(x=-log10(pv_raw.c),y=-log10(pv_raw.d))) + geom_point()\n",
    "p = p + theme_classic() + ylim(c(0,25)) + geom_abline(col=\"lightgrey\") + theme(text = element_text(size=20))\n",
    "p + xlab(\"-log P (MOFA)\") + ylab(\"-log P (Leiden9)\")"
   ]
  },
  {
   "cell_type": "code",
   "execution_count": 1784,
   "id": "5f9c2261",
   "metadata": {},
   "outputs": [
    {
     "data": {
      "text/html": [
       "<strong>png:</strong> 2"
      ],
      "text/latex": [
       "\\textbf{png:} 2"
      ],
      "text/markdown": [
       "**png:** 2"
      ],
      "text/plain": [
       "png \n",
       "  2 "
      ]
     },
     "metadata": {},
     "output_type": "display_data"
    }
   ],
   "source": [
    "fig_dir = \"/hps/nobackup2/stegle/users/acuomo/CellRegMap_data/figures/\"\n",
    "pdf(paste0(fig_dir,\"SF15_scatter_Leiden9.pdf\"), width=5, height=5)\n",
    "p + xlab(\"-log P (MOFA)\") + ylab(\"-log P (Leiden9)\")\n",
    "dev.off()"
   ]
  },
  {
   "cell_type": "code",
   "execution_count": 1753,
   "id": "f74a7666",
   "metadata": {},
   "outputs": [],
   "source": [
    "#############################################################\n",
    "################ continuous (MOFA) vs discrete (18 clusters)"
   ]
  },
  {
   "cell_type": "code",
   "execution_count": 1913,
   "id": "f846d4b0",
   "metadata": {},
   "outputs": [],
   "source": [
    "df_plot2 = inner_join(summary, discrete18, by=c(\"snpID\",\"gene\"), suffix=c(\".c\",\".d\"))"
   ]
  },
  {
   "cell_type": "code",
   "execution_count": 1914,
   "id": "bbdbc5cb",
   "metadata": {},
   "outputs": [
    {
     "data": {
      "text/html": [
       "2057"
      ],
      "text/latex": [
       "2057"
      ],
      "text/markdown": [
       "2057"
      ],
      "text/plain": [
       "[1] 2057"
      ]
     },
     "metadata": {},
     "output_type": "display_data"
    },
    {
     "data": {
      "text/html": [
       "1374"
      ],
      "text/latex": [
       "1374"
      ],
      "text/markdown": [
       "1374"
      ],
      "text/plain": [
       "[1] 1374"
      ]
     },
     "metadata": {},
     "output_type": "display_data"
    },
    {
     "data": {
      "text/html": [
       "<table>\n",
       "<thead><tr><th scope=col>gene</th><th scope=col>n_snps.c</th><th scope=col>chrom.c</th><th scope=col>pv_raw.c</th><th scope=col>snpID</th><th scope=col>pv</th><th scope=col>gene_old</th><th scope=col>qv</th><th scope=col>n_snps.d</th><th scope=col>chrom.d</th><th scope=col>pv_raw.d</th></tr></thead>\n",
       "<tbody>\n",
       "\t<tr><td>LINC00662      </td><td>1              </td><td>19             </td><td>0.05827479     </td><td>19_28250771_G_A</td><td>0.05827479     </td><td>LINC00662      </td><td>0.2429301      </td><td>1              </td><td>19             </td><td>0.2328818      </td></tr>\n",
       "\t<tr><td>ATRAID         </td><td>2              </td><td> 2             </td><td>0.66353704     </td><td>2_27389195_A_G </td><td>1.00000000     </td><td>ATRAID         </td><td>1.0000000      </td><td>2              </td><td> 2             </td><td>0.9033879      </td></tr>\n",
       "</tbody>\n",
       "</table>\n"
      ],
      "text/latex": [
       "\\begin{tabular}{r|lllllllllll}\n",
       " gene & n\\_snps.c & chrom.c & pv\\_raw.c & snpID & pv & gene\\_old & qv & n\\_snps.d & chrom.d & pv\\_raw.d\\\\\n",
       "\\hline\n",
       "\t LINC00662             & 1                     & 19                    & 0.05827479            & 19\\_28250771\\_G\\_A & 0.05827479            & LINC00662             & 0.2429301             & 1                     & 19                    & 0.2328818            \\\\\n",
       "\t ATRAID                & 2                     &  2                    & 0.66353704            & 2\\_27389195\\_A\\_G  & 1.00000000            & ATRAID                & 1.0000000             & 2                     &  2                    & 0.9033879            \\\\\n",
       "\\end{tabular}\n"
      ],
      "text/markdown": [
       "\n",
       "| gene | n_snps.c | chrom.c | pv_raw.c | snpID | pv | gene_old | qv | n_snps.d | chrom.d | pv_raw.d |\n",
       "|---|---|---|---|---|---|---|---|---|---|---|\n",
       "| LINC00662       | 1               | 19              | 0.05827479      | 19_28250771_G_A | 0.05827479      | LINC00662       | 0.2429301       | 1               | 19              | 0.2328818       |\n",
       "| ATRAID          | 2               |  2              | 0.66353704      | 2_27389195_A_G  | 1.00000000      | ATRAID          | 1.0000000       | 2               |  2              | 0.9033879       |\n",
       "\n"
      ],
      "text/plain": [
       "  gene      n_snps.c chrom.c pv_raw.c   snpID           pv         gene_old \n",
       "1 LINC00662 1        19      0.05827479 19_28250771_G_A 0.05827479 LINC00662\n",
       "2 ATRAID    2         2      0.66353704 2_27389195_A_G  1.00000000 ATRAID   \n",
       "  qv        n_snps.d chrom.d pv_raw.d \n",
       "1 0.2429301 1        19      0.2328818\n",
       "2 1.0000000 2         2      0.9033879"
      ]
     },
     "metadata": {},
     "output_type": "display_data"
    }
   ],
   "source": [
    "nrow(df_plot2)\n",
    "length(unique(df_plot2$gene))\n",
    "head(df_plot2,2)"
   ]
  },
  {
   "cell_type": "code",
   "execution_count": 1915,
   "id": "4b23d118",
   "metadata": {},
   "outputs": [
    {
     "data": {
      "text/plain": [
       "\n",
       "\tPearson's product-moment correlation\n",
       "\n",
       "data:  -log10(df_plot2$pv_raw.c) and -log10(df_plot2$pv_raw.d)\n",
       "t = 76.053, df = 2055, p-value < 2.2e-16\n",
       "alternative hypothesis: true correlation is not equal to 0\n",
       "95 percent confidence interval:\n",
       " 0.8472166 0.8699076\n",
       "sample estimates:\n",
       "      cor \n",
       "0.8589833 \n"
      ]
     },
     "metadata": {},
     "output_type": "display_data"
    }
   ],
   "source": [
    "cor.test(-log10(df_plot2$pv_raw.c),-log10(df_plot2$pv_raw.d))"
   ]
  },
  {
   "cell_type": "code",
   "execution_count": 1916,
   "id": "5c1d236b",
   "metadata": {},
   "outputs": [
    {
     "data": {
      "image/png": "[encoded data removed]",
      "text/plain": [
       "plot without title"
      ]
     },
     "metadata": {},
     "output_type": "display_data"
    }
   ],
   "source": [
    "options(repr.plot.width = 5, repr.plot.height = 5)\n",
    "p = ggplot(df_plot2, aes(x=-log10(pv_raw.c),y=-log10(pv_raw.d))) + geom_point()\n",
    "p = p + theme_classic() + ylim(c(0,35)) + geom_abline(col=\"lightgrey\") + theme(text = element_text(size=20))\n",
    "p + xlab(\"-log P (MOFA)\") + ylab(\"-log P (Leiden18)\")"
   ]
  },
  {
   "cell_type": "code",
   "execution_count": 1917,
   "id": "82afc0e8",
   "metadata": {},
   "outputs": [
    {
     "data": {
      "text/html": [
       "<strong>png:</strong> 2"
      ],
      "text/latex": [
       "\\textbf{png:} 2"
      ],
      "text/markdown": [
       "**png:** 2"
      ],
      "text/plain": [
       "png \n",
       "  2 "
      ]
     },
     "metadata": {},
     "output_type": "display_data"
    }
   ],
   "source": [
    "fig_dir = \"/hps/nobackup2/stegle/users/acuomo/CellRegMap_data/figures/\"\n",
    "pdf(paste0(fig_dir,\"SF15_scatter_Leiden18.pdf\"), width=5, height=5)\n",
    "p + xlab(\"-log P (MOFA)\") + ylab(\"-log P (Leiden18)\")\n",
    "dev.off()"
   ]
  },
  {
   "cell_type": "code",
   "execution_count": null,
   "id": "451c72f7",
   "metadata": {},
   "outputs": [],
   "source": []
  },
  {
   "cell_type": "code",
   "execution_count": 1759,
   "id": "ea700f8f",
   "metadata": {},
   "outputs": [],
   "source": [
    "######### Power Comparison\n",
    "# (number of eGenes at FDR<10%)"
   ]
  },
  {
   "cell_type": "code",
   "execution_count": 1760,
   "id": "b5e4308b",
   "metadata": {},
   "outputs": [],
   "source": [
    "########## continuous contexts (MOFA)"
   ]
  },
  {
   "cell_type": "code",
   "execution_count": 1761,
   "id": "39e2b655",
   "metadata": {},
   "outputs": [],
   "source": [
    "summary$qv = qvalue(summary$pv)$qvalues"
   ]
  },
  {
   "cell_type": "code",
   "execution_count": 1762,
   "id": "1ce16bca",
   "metadata": {},
   "outputs": [
    {
     "data": {
      "text/html": [
       "2051"
      ],
      "text/latex": [
       "2051"
      ],
      "text/markdown": [
       "2051"
      ],
      "text/plain": [
       "[1] 2051"
      ]
     },
     "metadata": {},
     "output_type": "display_data"
    },
    {
     "data": {
      "text/html": [
       "333"
      ],
      "text/latex": [
       "333"
      ],
      "text/markdown": [
       "333"
      ],
      "text/plain": [
       "[1] 333"
      ]
     },
     "metadata": {},
     "output_type": "display_data"
    },
    {
     "data": {
      "text/html": [
       "0.162359824475865"
      ],
      "text/latex": [
       "0.162359824475865"
      ],
      "text/markdown": [
       "0.162359824475865"
      ],
      "text/plain": [
       "[1] 0.1623598"
      ]
     },
     "metadata": {},
     "output_type": "display_data"
    }
   ],
   "source": [
    "nrow(summary)\n",
    "nrow(summary[summary$qv<0.1,])\n",
    "nrow(summary[summary$qv<0.1,])/nrow(summary)"
   ]
  },
  {
   "cell_type": "code",
   "execution_count": 1763,
   "id": "ecced858",
   "metadata": {},
   "outputs": [],
   "source": [
    "# discrete contexts (3 conditions)"
   ]
  },
  {
   "cell_type": "code",
   "execution_count": 1764,
   "id": "87f3bd73",
   "metadata": {},
   "outputs": [],
   "source": [
    "discrete$pv = as.numeric(discrete$pv_raw) * as.numeric(discrete$n_snps)\n",
    "discrete$pv[discrete$pv>1]=1\n",
    "discrete$qv = qvalue(discrete$pv)$qvalues"
   ]
  },
  {
   "cell_type": "code",
   "execution_count": 1765,
   "id": "9df5fb25",
   "metadata": {},
   "outputs": [
    {
     "data": {
      "text/html": [
       "2051"
      ],
      "text/latex": [
       "2051"
      ],
      "text/markdown": [
       "2051"
      ],
      "text/plain": [
       "[1] 2051"
      ]
     },
     "metadata": {},
     "output_type": "display_data"
    },
    {
     "data": {
      "text/html": [
       "44"
      ],
      "text/latex": [
       "44"
      ],
      "text/markdown": [
       "44"
      ],
      "text/plain": [
       "[1] 44"
      ]
     },
     "metadata": {},
     "output_type": "display_data"
    },
    {
     "data": {
      "text/html": [
       "0.0214529497805948"
      ],
      "text/latex": [
       "0.0214529497805948"
      ],
      "text/markdown": [
       "0.0214529497805948"
      ],
      "text/plain": [
       "[1] 0.02145295"
      ]
     },
     "metadata": {},
     "output_type": "display_data"
    }
   ],
   "source": [
    "nrow(discrete)\n",
    "nrow(discrete[discrete$qv<0.1,])\n",
    "nrow(discrete[discrete$qv<0.1,])/nrow(discrete)"
   ]
  },
  {
   "cell_type": "code",
   "execution_count": 1766,
   "id": "41700bee",
   "metadata": {},
   "outputs": [],
   "source": [
    "# discrete contexts (9 clusters)"
   ]
  },
  {
   "cell_type": "code",
   "execution_count": 1799,
   "id": "3262c59e",
   "metadata": {},
   "outputs": [],
   "source": [
    "discrete9$pv = as.numeric(discrete9$pv_raw) * as.numeric(discrete9$n_snps)\n",
    "discrete9$pv[discrete9$pv>1]=1\n",
    "discrete9$qv = qvalue(discrete9$pv)$qvalues"
   ]
  },
  {
   "cell_type": "code",
   "execution_count": 1800,
   "id": "aae7be8f",
   "metadata": {},
   "outputs": [
    {
     "data": {
      "text/html": [
       "2066"
      ],
      "text/latex": [
       "2066"
      ],
      "text/markdown": [
       "2066"
      ],
      "text/plain": [
       "[1] 2066"
      ]
     },
     "metadata": {},
     "output_type": "display_data"
    },
    {
     "data": {
      "text/html": [
       "113"
      ],
      "text/latex": [
       "113"
      ],
      "text/markdown": [
       "113"
      ],
      "text/plain": [
       "[1] 113"
      ]
     },
     "metadata": {},
     "output_type": "display_data"
    },
    {
     "data": {
      "text/html": [
       "0.0546950629235237"
      ],
      "text/latex": [
       "0.0546950629235237"
      ],
      "text/markdown": [
       "0.0546950629235237"
      ],
      "text/plain": [
       "[1] 0.05469506"
      ]
     },
     "metadata": {},
     "output_type": "display_data"
    }
   ],
   "source": [
    "nrow(discrete9)\n",
    "nrow(discrete9[discrete9$qv<0.1,])\n",
    "nrow(discrete9[discrete9$qv<0.1,])/nrow(discrete9)"
   ]
  },
  {
   "cell_type": "code",
   "execution_count": 1801,
   "id": "6b0a3dc0",
   "metadata": {},
   "outputs": [],
   "source": [
    "# discrete contexts (18 clusters)"
   ]
  },
  {
   "cell_type": "code",
   "execution_count": 1918,
   "id": "03f95a8a",
   "metadata": {},
   "outputs": [],
   "source": [
    "discrete18$pv = as.numeric(discrete18$pv_raw) * as.numeric(discrete18$n_snps)\n",
    "discrete18$pv[discrete18$pv>1]=1\n",
    "discrete18$qv = qvalue(discrete18$pv)$qvalues"
   ]
  },
  {
   "cell_type": "code",
   "execution_count": 1919,
   "id": "dc787ad9",
   "metadata": {},
   "outputs": [
    {
     "data": {
      "text/html": [
       "2057"
      ],
      "text/latex": [
       "2057"
      ],
      "text/markdown": [
       "2057"
      ],
      "text/plain": [
       "[1] 2057"
      ]
     },
     "metadata": {},
     "output_type": "display_data"
    },
    {
     "data": {
      "text/html": [
       "105"
      ],
      "text/latex": [
       "105"
      ],
      "text/markdown": [
       "105"
      ],
      "text/plain": [
       "[1] 105"
      ]
     },
     "metadata": {},
     "output_type": "display_data"
    },
    {
     "data": {
      "text/html": [
       "0.051045211473019"
      ],
      "text/latex": [
       "0.051045211473019"
      ],
      "text/markdown": [
       "0.051045211473019"
      ],
      "text/plain": [
       "[1] 0.05104521"
      ]
     },
     "metadata": {},
     "output_type": "display_data"
    }
   ],
   "source": [
    "nrow(discrete18)\n",
    "nrow(discrete18[discrete18$qv<0.1,])\n",
    "nrow(discrete18[discrete18$qv<0.1,])/nrow(discrete18)"
   ]
  },
  {
   "cell_type": "code",
   "execution_count": null,
   "id": "9f900ee1",
   "metadata": {},
   "outputs": [],
   "source": []
  },
  {
   "cell_type": "code",
   "execution_count": null,
   "id": "42d14990",
   "metadata": {},
   "outputs": [],
   "source": []
  },
  {
   "cell_type": "code",
   "execution_count": null,
   "id": "04ef6257",
   "metadata": {},
   "outputs": [],
   "source": []
  },
  {
   "cell_type": "code",
   "execution_count": 1906,
   "id": "5a222136",
   "metadata": {},
   "outputs": [],
   "source": [
    "## number of overlapping eGenes"
   ]
  },
  {
   "cell_type": "code",
   "execution_count": 1920,
   "id": "394e2b90",
   "metadata": {},
   "outputs": [],
   "source": [
    "# T = 0.05\n",
    "T = 0.1"
   ]
  },
  {
   "cell_type": "code",
   "execution_count": 1921,
   "id": "a79e2dc2",
   "metadata": {},
   "outputs": [],
   "source": [
    "genes_c = unique(summary[summary$qv<T,\"gene\"])\n",
    "genes_d = unique(discrete[discrete$qv<T,\"gene\"])\n",
    "genes_d9 = unique(discrete9[discrete9$qv<T,\"gene\"])\n",
    "genes_d18 = unique(discrete18[discrete18$qv<T,\"gene\"])"
   ]
  },
  {
   "cell_type": "code",
   "execution_count": 1922,
   "id": "d4565469",
   "metadata": {},
   "outputs": [
    {
     "data": {
      "text/html": [
       "<ol class=list-inline>\n",
       "\t<li>245</li>\n",
       "\t<li>1374</li>\n",
       "\t<li>0.178311499272198</li>\n",
       "</ol>\n"
      ],
      "text/latex": [
       "\\begin{enumerate*}\n",
       "\\item 245\n",
       "\\item 1374\n",
       "\\item 0.178311499272198\n",
       "\\end{enumerate*}\n"
      ],
      "text/markdown": [
       "1. 245\n",
       "2. 1374\n",
       "3. 0.178311499272198\n",
       "\n",
       "\n"
      ],
      "text/plain": [
       "[1]  245.0000000 1374.0000000    0.1783115"
      ]
     },
     "metadata": {},
     "output_type": "display_data"
    },
    {
     "data": {
      "text/html": [
       "<ol class=list-inline>\n",
       "\t<li>35</li>\n",
       "\t<li>1374</li>\n",
       "\t<li>0.0254730713245997</li>\n",
       "</ol>\n"
      ],
      "text/latex": [
       "\\begin{enumerate*}\n",
       "\\item 35\n",
       "\\item 1374\n",
       "\\item 0.0254730713245997\n",
       "\\end{enumerate*}\n"
      ],
      "text/markdown": [
       "1. 35\n",
       "2. 1374\n",
       "3. 0.0254730713245997\n",
       "\n",
       "\n"
      ],
      "text/plain": [
       "[1] 3.500000e+01 1.374000e+03 2.547307e-02"
      ]
     },
     "metadata": {},
     "output_type": "display_data"
    },
    {
     "data": {
      "text/html": [
       "<ol class=list-inline>\n",
       "\t<li>83</li>\n",
       "\t<li>1374</li>\n",
       "\t<li>0.0604075691411936</li>\n",
       "</ol>\n"
      ],
      "text/latex": [
       "\\begin{enumerate*}\n",
       "\\item 83\n",
       "\\item 1374\n",
       "\\item 0.0604075691411936\n",
       "\\end{enumerate*}\n"
      ],
      "text/markdown": [
       "1. 83\n",
       "2. 1374\n",
       "3. 0.0604075691411936\n",
       "\n",
       "\n"
      ],
      "text/plain": [
       "[1] 8.300000e+01 1.374000e+03 6.040757e-02"
      ]
     },
     "metadata": {},
     "output_type": "display_data"
    },
    {
     "data": {
      "text/html": [
       "<ol class=list-inline>\n",
       "\t<li>77</li>\n",
       "\t<li>1374</li>\n",
       "\t<li>0.0560407569141194</li>\n",
       "</ol>\n"
      ],
      "text/latex": [
       "\\begin{enumerate*}\n",
       "\\item 77\n",
       "\\item 1374\n",
       "\\item 0.0560407569141194\n",
       "\\end{enumerate*}\n"
      ],
      "text/markdown": [
       "1. 77\n",
       "2. 1374\n",
       "3. 0.0560407569141194\n",
       "\n",
       "\n"
      ],
      "text/plain": [
       "[1] 7.700000e+01 1.374000e+03 5.604076e-02"
      ]
     },
     "metadata": {},
     "output_type": "display_data"
    }
   ],
   "source": [
    "c(length(genes_c),length(unique(summary$gene)),length(genes_c)/length(unique(summary$gene)))\n",
    "c(length(genes_d),length(unique(discrete$gene)),length(genes_d)/length(unique(discrete$gene)))\n",
    "c(length(genes_d9),length(unique(discrete9$gene)),length(genes_d9)/length(unique(discrete9$gene)))\n",
    "c(length(genes_d18),length(unique(discrete18$gene)),length(genes_d18)/length(unique(discrete18$gene)))"
   ]
  },
  {
   "cell_type": "code",
   "execution_count": 1923,
   "id": "0c8235a7",
   "metadata": {},
   "outputs": [
    {
     "data": {
      "text/html": [
       "<ol class=list-inline>\n",
       "\t<li>32</li>\n",
       "\t<li>35</li>\n",
       "</ol>\n"
      ],
      "text/latex": [
       "\\begin{enumerate*}\n",
       "\\item 32\n",
       "\\item 35\n",
       "\\end{enumerate*}\n"
      ],
      "text/markdown": [
       "1. 32\n",
       "2. 35\n",
       "\n",
       "\n"
      ],
      "text/plain": [
       "[1] 32 35"
      ]
     },
     "metadata": {},
     "output_type": "display_data"
    },
    {
     "data": {
      "text/html": [
       "<ol class=list-inline>\n",
       "\t<li>71</li>\n",
       "\t<li>83</li>\n",
       "</ol>\n"
      ],
      "text/latex": [
       "\\begin{enumerate*}\n",
       "\\item 71\n",
       "\\item 83\n",
       "\\end{enumerate*}\n"
      ],
      "text/markdown": [
       "1. 71\n",
       "2. 83\n",
       "\n",
       "\n"
      ],
      "text/plain": [
       "[1] 71 83"
      ]
     },
     "metadata": {},
     "output_type": "display_data"
    },
    {
     "data": {
      "text/html": [
       "<ol class=list-inline>\n",
       "\t<li>69</li>\n",
       "\t<li>77</li>\n",
       "</ol>\n"
      ],
      "text/latex": [
       "\\begin{enumerate*}\n",
       "\\item 69\n",
       "\\item 77\n",
       "\\end{enumerate*}\n"
      ],
      "text/markdown": [
       "1. 69\n",
       "2. 77\n",
       "\n",
       "\n"
      ],
      "text/plain": [
       "[1] 69 77"
      ]
     },
     "metadata": {},
     "output_type": "display_data"
    }
   ],
   "source": [
    "# c(length(genes_c),\n",
    "# length(genes_d),\n",
    "# length(genes_d9),\n",
    "# length(genes_d18))\n",
    "c(length(genes_c[genes_c %in% genes_d]),length(genes_d))\n",
    "c(length(genes_c[genes_c %in% genes_d9]),length(genes_d9))\n",
    "c(length(genes_c[genes_c %in% genes_d18]),length(genes_d18))"
   ]
  },
  {
   "cell_type": "code",
   "execution_count": 1924,
   "id": "abb1fc14",
   "metadata": {},
   "outputs": [
    {
     "data": {
      "text/html": [
       "<ol class=list-inline>\n",
       "\t<li>'SLC35E2B'</li>\n",
       "\t<li>'LARP4B'</li>\n",
       "\t<li>'ASNS'</li>\n",
       "</ol>\n"
      ],
      "text/latex": [
       "\\begin{enumerate*}\n",
       "\\item 'SLC35E2B'\n",
       "\\item 'LARP4B'\n",
       "\\item 'ASNS'\n",
       "\\end{enumerate*}\n"
      ],
      "text/markdown": [
       "1. 'SLC35E2B'\n",
       "2. 'LARP4B'\n",
       "3. 'ASNS'\n",
       "\n",
       "\n"
      ],
      "text/plain": [
       "[1] \"SLC35E2B\" \"LARP4B\"   \"ASNS\"    "
      ]
     },
     "metadata": {},
     "output_type": "display_data"
    }
   ],
   "source": [
    "genes_d[!(genes_d %in% genes_c)]"
   ]
  },
  {
   "cell_type": "code",
   "execution_count": 1925,
   "id": "24912d56",
   "metadata": {},
   "outputs": [
    {
     "data": {
      "text/html": [
       "<ol class=list-inline>\n",
       "\t<li>'SLC35E2B'</li>\n",
       "\t<li>'ZNF783'</li>\n",
       "\t<li>'FEZ2'</li>\n",
       "\t<li>'KTN1'</li>\n",
       "\t<li>'NDUFAF3'</li>\n",
       "\t<li>'TXN'</li>\n",
       "\t<li>'PMFBP1'</li>\n",
       "\t<li>'ATP5G1'</li>\n",
       "\t<li>'MED28'</li>\n",
       "\t<li>'LARP4B'</li>\n",
       "\t<li>'NRP2'</li>\n",
       "\t<li>'TNKS2'</li>\n",
       "</ol>\n"
      ],
      "text/latex": [
       "\\begin{enumerate*}\n",
       "\\item 'SLC35E2B'\n",
       "\\item 'ZNF783'\n",
       "\\item 'FEZ2'\n",
       "\\item 'KTN1'\n",
       "\\item 'NDUFAF3'\n",
       "\\item 'TXN'\n",
       "\\item 'PMFBP1'\n",
       "\\item 'ATP5G1'\n",
       "\\item 'MED28'\n",
       "\\item 'LARP4B'\n",
       "\\item 'NRP2'\n",
       "\\item 'TNKS2'\n",
       "\\end{enumerate*}\n"
      ],
      "text/markdown": [
       "1. 'SLC35E2B'\n",
       "2. 'ZNF783'\n",
       "3. 'FEZ2'\n",
       "4. 'KTN1'\n",
       "5. 'NDUFAF3'\n",
       "6. 'TXN'\n",
       "7. 'PMFBP1'\n",
       "8. 'ATP5G1'\n",
       "9. 'MED28'\n",
       "10. 'LARP4B'\n",
       "11. 'NRP2'\n",
       "12. 'TNKS2'\n",
       "\n",
       "\n"
      ],
      "text/plain": [
       " [1] \"SLC35E2B\" \"ZNF783\"   \"FEZ2\"     \"KTN1\"     \"NDUFAF3\"  \"TXN\"     \n",
       " [7] \"PMFBP1\"   \"ATP5G1\"   \"MED28\"    \"LARP4B\"   \"NRP2\"     \"TNKS2\"   "
      ]
     },
     "metadata": {},
     "output_type": "display_data"
    }
   ],
   "source": [
    "genes_d9[!(genes_d9 %in% genes_c)]"
   ]
  },
  {
   "cell_type": "code",
   "execution_count": 1926,
   "id": "e75f56df",
   "metadata": {},
   "outputs": [
    {
     "data": {
      "text/html": [
       "<ol class=list-inline>\n",
       "\t<li>'TMC5'</li>\n",
       "\t<li>'FEZ2'</li>\n",
       "\t<li>'KTN1'</li>\n",
       "\t<li>'NDUFAF3'</li>\n",
       "\t<li>'USP7'</li>\n",
       "\t<li>'CKMT2-AS1'</li>\n",
       "\t<li>'MED28'</li>\n",
       "\t<li>'LARP4B'</li>\n",
       "</ol>\n"
      ],
      "text/latex": [
       "\\begin{enumerate*}\n",
       "\\item 'TMC5'\n",
       "\\item 'FEZ2'\n",
       "\\item 'KTN1'\n",
       "\\item 'NDUFAF3'\n",
       "\\item 'USP7'\n",
       "\\item 'CKMT2-AS1'\n",
       "\\item 'MED28'\n",
       "\\item 'LARP4B'\n",
       "\\end{enumerate*}\n"
      ],
      "text/markdown": [
       "1. 'TMC5'\n",
       "2. 'FEZ2'\n",
       "3. 'KTN1'\n",
       "4. 'NDUFAF3'\n",
       "5. 'USP7'\n",
       "6. 'CKMT2-AS1'\n",
       "7. 'MED28'\n",
       "8. 'LARP4B'\n",
       "\n",
       "\n"
      ],
      "text/plain": [
       "[1] \"TMC5\"      \"FEZ2\"      \"KTN1\"      \"NDUFAF3\"   \"USP7\"      \"CKMT2-AS1\"\n",
       "[7] \"MED28\"     \"LARP4B\"   "
      ]
     },
     "metadata": {},
     "output_type": "display_data"
    }
   ],
   "source": [
    "genes_d18[!(genes_d18 %in% genes_c)]"
   ]
  },
  {
   "cell_type": "code",
   "execution_count": null,
   "id": "209888e3",
   "metadata": {},
   "outputs": [],
   "source": []
  },
  {
   "cell_type": "code",
   "execution_count": null,
   "id": "c6f4401b",
   "metadata": {},
   "outputs": [],
   "source": []
  }
 ],
 "metadata": {
  "kernelspec": {
   "display_name": "R",
   "language": "R",
   "name": "ir"
  },
  "language_info": {
   "codemirror_mode": "r",
   "file_extension": ".r",
   "mimetype": "text/x-r-source",
   "name": "R",
   "pygments_lexer": "r",
   "version": "3.6.1"
  }
 },
 "nbformat": 4,
 "nbformat_minor": 5
}
