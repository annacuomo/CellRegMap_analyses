{
 "cells": [
  {
   "cell_type": "code",
   "execution_count": 11,
   "id": "78880e1d",
   "metadata": {},
   "outputs": [],
   "source": [
    "library(ggplot2)\n",
    "library(dplyr)"
   ]
  },
  {
   "cell_type": "code",
   "execution_count": 12,
   "id": "e38dd246",
   "metadata": {},
   "outputs": [],
   "source": [
    "revision_folder = \"/hps/nobackup2/stegle/users/acuomo/all_scripts/struct_LMM2/sc_neuroseq/May2021/REVISION/\""
   ]
  },
  {
   "cell_type": "code",
   "execution_count": 13,
   "id": "1e65c4a7",
   "metadata": {},
   "outputs": [
    {
     "data": {
      "text/html": [
       "500"
      ],
      "text/latex": [
       "500"
      ],
      "text/markdown": [
       "500"
      ],
      "text/plain": [
       "[1] 500"
      ]
     },
     "metadata": {},
     "output_type": "display_data"
    },
    {
     "data": {
      "text/html": [
       "<table>\n",
       "<thead><tr><th></th><th scope=col>gene</th><th scope=col>n_snps</th><th scope=col>chrom</th><th scope=col>pv_raw</th><th scope=col>snpID</th></tr></thead>\n",
       "<tbody>\n",
       "\t<tr><th scope=row>0</th><td>RANBP1         </td><td>2              </td><td>22             </td><td>0.02405386     </td><td>22_19603943_C_G</td></tr>\n",
       "\t<tr><th scope=row>1</th><td>RANBP1         </td><td>2              </td><td>22             </td><td>0.06384516     </td><td>22_19606703_A_G</td></tr>\n",
       "</tbody>\n",
       "</table>\n"
      ],
      "text/latex": [
       "\\begin{tabular}{r|lllll}\n",
       "  & gene & n\\_snps & chrom & pv\\_raw & snpID\\\\\n",
       "\\hline\n",
       "\t0 & RANBP1                & 2                     & 22                    & 0.02405386            & 22\\_19603943\\_C\\_G\\\\\n",
       "\t1 & RANBP1                & 2                     & 22                    & 0.06384516            & 22\\_19606703\\_A\\_G\\\\\n",
       "\\end{tabular}\n"
      ],
      "text/markdown": [
       "\n",
       "| <!--/--> | gene | n_snps | chrom | pv_raw | snpID |\n",
       "|---|---|---|---|---|---|\n",
       "| 0 | RANBP1          | 2               | 22              | 0.02405386      | 22_19603943_C_G |\n",
       "| 1 | RANBP1          | 2               | 22              | 0.06384516      | 22_19606703_A_G |\n",
       "\n"
      ],
      "text/plain": [
       "  gene   n_snps chrom pv_raw     snpID          \n",
       "0 RANBP1 2      22    0.02405386 22_19603943_C_G\n",
       "1 RANBP1 2      22    0.06384516 22_19606703_A_G"
      ]
     },
     "metadata": {},
     "output_type": "display_data"
    }
   ],
   "source": [
    "crm_int_file = paste0(revision_folder, \"CRM_interaction_chr22/results_permG/summary.csv\")\n",
    "crm_int = read.csv(crm_int_file, row.names=1)\n",
    "nrow(crm_int)\n",
    "head(crm_int,2)"
   ]
  },
  {
   "cell_type": "code",
   "execution_count": 14,
   "id": "fbb3d341",
   "metadata": {},
   "outputs": [
    {
     "data": {
      "text/html": [
       "<ol class=list-inline>\n",
       "\t<li>'RANBP1'</li>\n",
       "\t<li>'YPEL1'</li>\n",
       "\t<li>'MRPL40'</li>\n",
       "\t<li>'PPARA'</li>\n",
       "\t<li>'SUN2'</li>\n",
       "\t<li>'ARSA'</li>\n",
       "</ol>\n"
      ],
      "text/latex": [
       "\\begin{enumerate*}\n",
       "\\item 'RANBP1'\n",
       "\\item 'YPEL1'\n",
       "\\item 'MRPL40'\n",
       "\\item 'PPARA'\n",
       "\\item 'SUN2'\n",
       "\\item 'ARSA'\n",
       "\\end{enumerate*}\n"
      ],
      "text/markdown": [
       "1. 'RANBP1'\n",
       "2. 'YPEL1'\n",
       "3. 'MRPL40'\n",
       "4. 'PPARA'\n",
       "5. 'SUN2'\n",
       "6. 'ARSA'\n",
       "\n",
       "\n"
      ],
      "text/plain": [
       "[1] \"RANBP1\" \"YPEL1\"  \"MRPL40\" \"PPARA\"  \"SUN2\"   \"ARSA\"  "
      ]
     },
     "metadata": {},
     "output_type": "display_data"
    },
    {
     "data": {
      "text/html": [
       "250"
      ],
      "text/latex": [
       "250"
      ],
      "text/markdown": [
       "250"
      ],
      "text/plain": [
       "[1] 250"
      ]
     },
     "metadata": {},
     "output_type": "display_data"
    }
   ],
   "source": [
    "genes = as.character(unique(crm_int$gene))\n",
    "head(genes)\n",
    "length(genes)"
   ]
  },
  {
   "cell_type": "code",
   "execution_count": 15,
   "id": "5b95f12d",
   "metadata": {},
   "outputs": [
    {
     "data": {
      "text/html": [
       "<table>\n",
       "<thead><tr><th scope=col>feature</th><th scope=col>snpID</th><th scope=col>chrom</th></tr></thead>\n",
       "<tbody>\n",
       "\t<tr><td>CECR5          </td><td>22_17118461_C_T</td><td>22             </td></tr>\n",
       "\t<tr><td>CECR5          </td><td>22_17118505_A_T</td><td>22             </td></tr>\n",
       "\t<tr><td>CECR5          </td><td>22_17118618_T_C</td><td>22             </td></tr>\n",
       "\t<tr><td>CECR5          </td><td>22_17118747_C_T</td><td>22             </td></tr>\n",
       "\t<tr><td>CECR5          </td><td>22_17118882_C_A</td><td>22             </td></tr>\n",
       "\t<tr><td>CECR5          </td><td>22_17118907_T_G</td><td>22             </td></tr>\n",
       "</tbody>\n",
       "</table>\n"
      ],
      "text/latex": [
       "\\begin{tabular}{r|lll}\n",
       " feature & snpID & chrom\\\\\n",
       "\\hline\n",
       "\t CECR5                 & 22\\_17118461\\_C\\_T & 22                   \\\\\n",
       "\t CECR5                 & 22\\_17118505\\_A\\_T & 22                   \\\\\n",
       "\t CECR5                 & 22\\_17118618\\_T\\_C & 22                   \\\\\n",
       "\t CECR5                 & 22\\_17118747\\_C\\_T & 22                   \\\\\n",
       "\t CECR5                 & 22\\_17118882\\_C\\_A & 22                   \\\\\n",
       "\t CECR5                 & 22\\_17118907\\_T\\_G & 22                   \\\\\n",
       "\\end{tabular}\n"
      ],
      "text/markdown": [
       "\n",
       "| feature | snpID | chrom |\n",
       "|---|---|---|\n",
       "| CECR5           | 22_17118461_C_T | 22              |\n",
       "| CECR5           | 22_17118505_A_T | 22              |\n",
       "| CECR5           | 22_17118618_T_C | 22              |\n",
       "| CECR5           | 22_17118747_C_T | 22              |\n",
       "| CECR5           | 22_17118882_C_A | 22              |\n",
       "| CECR5           | 22_17118907_T_G | 22              |\n",
       "\n"
      ],
      "text/plain": [
       "  feature snpID           chrom\n",
       "1 CECR5   22_17118461_C_T 22   \n",
       "2 CECR5   22_17118505_A_T 22   \n",
       "3 CECR5   22_17118618_T_C 22   \n",
       "4 CECR5   22_17118747_C_T 22   \n",
       "5 CECR5   22_17118882_C_A 22   \n",
       "6 CECR5   22_17118907_T_G 22   "
      ]
     },
     "metadata": {},
     "output_type": "display_data"
    }
   ],
   "source": [
    "fvf_filename = paste0(revision_folder,\"/CRM_interaction_chr22/fvf.csv\")\n",
    "fvf = read.csv(fvf_filename, row.names=1)\n",
    "head(fvf)"
   ]
  },
  {
   "cell_type": "code",
   "execution_count": 16,
   "id": "434ad445",
   "metadata": {},
   "outputs": [
    {
     "data": {
      "text/html": [
       "<ol class=list-inline>\n",
       "\t<li>'CECR5'</li>\n",
       "\t<li>'CECR1'</li>\n",
       "\t<li>'CECR2'</li>\n",
       "\t<li>'ATP6V1E1'</li>\n",
       "\t<li>'BCL2L13'</li>\n",
       "\t<li>'BID'</li>\n",
       "</ol>\n"
      ],
      "text/latex": [
       "\\begin{enumerate*}\n",
       "\\item 'CECR5'\n",
       "\\item 'CECR1'\n",
       "\\item 'CECR2'\n",
       "\\item 'ATP6V1E1'\n",
       "\\item 'BCL2L13'\n",
       "\\item 'BID'\n",
       "\\end{enumerate*}\n"
      ],
      "text/markdown": [
       "1. 'CECR5'\n",
       "2. 'CECR1'\n",
       "3. 'CECR2'\n",
       "4. 'ATP6V1E1'\n",
       "5. 'BCL2L13'\n",
       "6. 'BID'\n",
       "\n",
       "\n"
      ],
      "text/plain": [
       "[1] \"CECR5\"    \"CECR1\"    \"CECR2\"    \"ATP6V1E1\" \"BCL2L13\"  \"BID\"     "
      ]
     },
     "metadata": {},
     "output_type": "display_data"
    },
    {
     "data": {
      "text/html": [
       "250"
      ],
      "text/latex": [
       "250"
      ],
      "text/markdown": [
       "250"
      ],
      "text/plain": [
       "[1] 250"
      ]
     },
     "metadata": {},
     "output_type": "display_data"
    }
   ],
   "source": [
    "all_genes = unique(as.character(fvf$feature))\n",
    "head(all_genes)\n",
    "length(all_genes)"
   ]
  },
  {
   "cell_type": "code",
   "execution_count": 17,
   "id": "4280a846",
   "metadata": {},
   "outputs": [],
   "source": [
    "# missing_genes = all_genes[!(all_genes %in% genes)]\n",
    "# length(missing_genes)\n",
    "# as.character(unique(fvf[fvf$feature %in% missing_genes,\"feature\"]))"
   ]
  },
  {
   "cell_type": "code",
   "execution_count": 18,
   "id": "6ab4ebcc",
   "metadata": {},
   "outputs": [
    {
     "data": {
      "text/html": [
       "0.507692872500568"
      ],
      "text/latex": [
       "0.507692872500568"
      ],
      "text/markdown": [
       "0.507692872500568"
      ],
      "text/plain": [
       "[1] 0.5076929"
      ]
     },
     "metadata": {},
     "output_type": "display_data"
    }
   ],
   "source": [
    "median(crm_int$pv_raw)"
   ]
  },
  {
   "cell_type": "code",
   "execution_count": 19,
   "id": "c4e4a4eb",
   "metadata": {},
   "outputs": [
    {
     "data": {
      "image/png": "[encoded data removed]",
      "text/plain": [
       "plot without title"
      ]
     },
     "metadata": {},
     "output_type": "display_data"
    }
   ],
   "source": [
    "options(repr.plot.width=5, repr.plot.height=4)\n",
    "ggplot(crm_int, aes(x=pv_raw)) + geom_histogram(alpha = 0.8, bins=20) + \n",
    "    xlab(\"Shuffled p-values\") + \n",
    "    ylab(\"Number of SNP-gene pairs\") + theme_minimal()"
   ]
  },
  {
   "cell_type": "code",
   "execution_count": 20,
   "id": "f1b92784",
   "metadata": {},
   "outputs": [
    {
     "data": {
      "image/png": "[encoded data removed]",
      "text/plain": [
       "plot without title"
      ]
     },
     "metadata": {},
     "output_type": "display_data"
    }
   ],
   "source": [
    "options(repr.plot.width=5, repr.plot.height=5)\n",
    "crm_int$pv_uniform = runif(dim(crm_int)[1], min = 0, max = 1)\n",
    "p = ggplot(crm_int, aes(x = sort(-log10(pv_uniform)), y = sort(-log10(pv_raw)))) + \n",
    "    geom_abline(slope = 1, intercept = 0, col = \"firebrick\") +\n",
    "    geom_point(alpha = 0.8, pch = 1) + xlab(\"-log10(expected p-values)\") + ylab(\"-log10(permuted p-values)\") +\n",
    "    theme_classic() +# xlim(c(0,4)) + ylim(c(0,4)) +\n",
    "    theme(legend.position=\"none\", panel.border = element_blank()) + theme(text = element_text(size=18))\n",
    "p"
   ]
  },
  {
   "cell_type": "code",
   "execution_count": 21,
   "id": "bda5074e",
   "metadata": {},
   "outputs": [
    {
     "data": {
      "text/html": [
       "<strong>png:</strong> 2"
      ],
      "text/latex": [
       "\\textbf{png:} 2"
      ],
      "text/markdown": [
       "**png:** 2"
      ],
      "text/plain": [
       "png \n",
       "  2 "
      ]
     },
     "metadata": {},
     "output_type": "display_data"
    }
   ],
   "source": [
    "fig_dir = \"/hps/nobackup2/stegle/users/acuomo/CellRegMap_data/figures/\"\n",
    "pdf(paste0(fig_dir,\"SF7B_neuroseq.pdf\"), width=5, height=5)\n",
    "p\n",
    "dev.off()"
   ]
  },
  {
   "cell_type": "code",
   "execution_count": null,
   "id": "4ac0f37e",
   "metadata": {},
   "outputs": [],
   "source": []
  },
  {
   "cell_type": "code",
   "execution_count": null,
   "id": "30b12b21",
   "metadata": {},
   "outputs": [],
   "source": []
  }
 ],
 "metadata": {
  "kernelspec": {
   "display_name": "R",
   "language": "R",
   "name": "ir"
  },
  "language_info": {
   "codemirror_mode": "r",
   "file_extension": ".r",
   "mimetype": "text/x-r-source",
   "name": "R",
   "pygments_lexer": "r",
   "version": "3.6.1"
  }
 },
 "nbformat": 4,
 "nbformat_minor": 5
}
