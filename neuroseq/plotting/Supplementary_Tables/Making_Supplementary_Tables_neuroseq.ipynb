{
 "cells": [
  {
   "cell_type": "code",
   "execution_count": 1,
   "id": "c326cf25",
   "metadata": {},
   "outputs": [],
   "source": [
    "ST_dir = \"/nfs/leia/research/stegle/acuomo/all_scripts/struct_LMM2/REVISION/Supplementary_Tables/\""
   ]
  },
  {
   "cell_type": "code",
   "execution_count": 2,
   "id": "ea80d90e",
   "metadata": {},
   "outputs": [
    {
     "data": {
      "text/html": [
       "<ol class=list-inline>\n",
       "\t<li>'Supplementary_Table_3_betaGxC_endodiff.csv'</li>\n",
       "\t<li>'Supplementary_Table_4_betaGxC_neuroseq.csv'</li>\n",
       "</ol>\n"
      ],
      "text/latex": [
       "\\begin{enumerate*}\n",
       "\\item 'Supplementary\\_Table\\_3\\_betaGxC\\_endodiff.csv'\n",
       "\\item 'Supplementary\\_Table\\_4\\_betaGxC\\_neuroseq.csv'\n",
       "\\end{enumerate*}\n"
      ],
      "text/markdown": [
       "1. 'Supplementary_Table_3_betaGxC_endodiff.csv'\n",
       "2. 'Supplementary_Table_4_betaGxC_neuroseq.csv'\n",
       "\n",
       "\n"
      ],
      "text/plain": [
       "[1] \"Supplementary_Table_3_betaGxC_endodiff.csv\"\n",
       "[2] \"Supplementary_Table_4_betaGxC_neuroseq.csv\""
      ]
     },
     "metadata": {},
     "output_type": "display_data"
    }
   ],
   "source": [
    "list.files(ST_dir)"
   ]
  },
  {
   "cell_type": "code",
   "execution_count": 3,
   "id": "6ce8ff80",
   "metadata": {},
   "outputs": [],
   "source": [
    "### single-cell GxC effect sizes (significant only, endodiff)"
   ]
  },
  {
   "cell_type": "code",
   "execution_count": 5,
   "id": "9f6938ec",
   "metadata": {},
   "outputs": [],
   "source": [
    "filename = paste0(ST_dir, \"Supplementary_Table_4_betaGxC_neuroseq.csv\")"
   ]
  },
  {
   "cell_type": "code",
   "execution_count": 7,
   "id": "8148b05a",
   "metadata": {},
   "outputs": [
    {
     "data": {
      "text/html": [
       "<table>\n",
       "<thead><tr><th></th><th scope=col>ABHD10-3_111697439_T_G</th><th scope=col>ABHD12B-14_51328222_C_T</th><th scope=col>ACKR2-3_42817129_C_T</th><th scope=col>ADD2-2_70894426_A_T</th><th scope=col>ADSL-22_40757228_A_C</th><th scope=col>AIM1L-1_26673825_C_T</th><th scope=col>AKAP7-6_131691964_C_A</th><th scope=col>ALDH7A1-5_126011412_G_A</th><th scope=col>ANKRD18B-9_33524775_C_A</th><th scope=col>APIP-11_34905987_T_C</th><th scope=col>...</th><th scope=col>YWHAE-17_1246420_G_A</th><th scope=col>ZBBX-3_167080934_T_G</th><th scope=col>ZC3HAV1-7_138730361_T_C</th><th scope=col>ZFR2-19_3840157_C_T</th><th scope=col>ZG16B-16_2871121_T_C</th><th scope=col>ZNF423-16_49599995_C_G</th><th scope=col>ZNF552-19_58315273_G_A</th><th scope=col>ZNF738-19_21474173_G_A</th><th scope=col>ZNF77-19_2936535_G_A</th><th scope=col>ZP3-7_76177284_C_T</th></tr></thead>\n",
       "<tbody>\n",
       "\t<tr><th scope=row>HPSI0714i-iudw_1--DA--d30--0</th><td>-0.2108622   </td><td> 0.003924475 </td><td>0.02206444   </td><td>0.02834211   </td><td> 0.2235163   </td><td>-0.03575032  </td><td>-0.09473256  </td><td> 0.006901295 </td><td> 0.0006737957</td><td>-0.07499119  </td><td>...          </td><td> 0.06962421  </td><td>0.1120253    </td><td>-0.04172133  </td><td>0.01126897   </td><td> 0.1057579   </td><td>-0.03101814  </td><td>0.0909417    </td><td>0.3020245    </td><td>-0.1583842   </td><td>-0.05596878  </td></tr>\n",
       "\t<tr><th scope=row>HPSI0714i-iudw_1--DA--d30--1</th><td>-0.2283969   </td><td>-0.047217741 </td><td>0.10596178   </td><td>0.02514689   </td><td>-0.1921801   </td><td>-0.01471768  </td><td> 0.01878961  </td><td>-0.171038975 </td><td>-0.1105473675</td><td>-0.18686595  </td><td>...          </td><td>-0.21070417  </td><td>0.3759854    </td><td> 0.08774666  </td><td>0.02505916   </td><td>-0.1950055   </td><td>-0.22780547  </td><td>0.0775938    </td><td>0.3452492    </td><td>-0.3472152   </td><td>-0.15259400  </td></tr>\n",
       "</tbody>\n",
       "</table>\n"
      ],
      "text/latex": [
       "\\begin{tabular}{r|lllllllllllllllllllllllllllllllllllllllllllllllllllllllllllllllllllllllllllllllllllllllllllllllllllllllllllllllllllllllllllllllllllllllllllllllllllllllllllllllllllllllllllllllllllllllllllllllllllllllllllllllllllll}\n",
       "  & ABHD10-3\\_111697439\\_T\\_G & ABHD12B-14\\_51328222\\_C\\_T & ACKR2-3\\_42817129\\_C\\_T & ADD2-2\\_70894426\\_A\\_T & ADSL-22\\_40757228\\_A\\_C & AIM1L-1\\_26673825\\_C\\_T & AKAP7-6\\_131691964\\_C\\_A & ALDH7A1-5\\_126011412\\_G\\_A & ANKRD18B-9\\_33524775\\_C\\_A & APIP-11\\_34905987\\_T\\_C & ... & YWHAE-17\\_1246420\\_G\\_A & ZBBX-3\\_167080934\\_T\\_G & ZC3HAV1-7\\_138730361\\_T\\_C & ZFR2-19\\_3840157\\_C\\_T & ZG16B-16\\_2871121\\_T\\_C & ZNF423-16\\_49599995\\_C\\_G & ZNF552-19\\_58315273\\_G\\_A & ZNF738-19\\_21474173\\_G\\_A & ZNF77-19\\_2936535\\_G\\_A & ZP3-7\\_76177284\\_C\\_T\\\\\n",
       "\\hline\n",
       "\tHPSI0714i-iudw\\_1--DA--d30--0 & -0.2108622    &  0.003924475  & 0.02206444    & 0.02834211    &  0.2235163    & -0.03575032   & -0.09473256   &  0.006901295  &  0.0006737957 & -0.07499119   & ...           &  0.06962421   & 0.1120253     & -0.04172133   & 0.01126897    &  0.1057579    & -0.03101814   & 0.0909417     & 0.3020245     & -0.1583842    & -0.05596878  \\\\\n",
       "\tHPSI0714i-iudw\\_1--DA--d30--1 & -0.2283969    & -0.047217741  & 0.10596178    & 0.02514689    & -0.1921801    & -0.01471768   &  0.01878961   & -0.171038975  & -0.1105473675 & -0.18686595   & ...           & -0.21070417   & 0.3759854     &  0.08774666   & 0.02505916    & -0.1950055    & -0.22780547   & 0.0775938     & 0.3452492     & -0.3472152    & -0.15259400  \\\\\n",
       "\\end{tabular}\n"
      ],
      "text/markdown": [
       "\n",
       "| <!--/--> | ABHD10-3_111697439_T_G | ABHD12B-14_51328222_C_T | ACKR2-3_42817129_C_T | ADD2-2_70894426_A_T | ADSL-22_40757228_A_C | AIM1L-1_26673825_C_T | AKAP7-6_131691964_C_A | ALDH7A1-5_126011412_G_A | ANKRD18B-9_33524775_C_A | APIP-11_34905987_T_C | ... | YWHAE-17_1246420_G_A | ZBBX-3_167080934_T_G | ZC3HAV1-7_138730361_T_C | ZFR2-19_3840157_C_T | ZG16B-16_2871121_T_C | ZNF423-16_49599995_C_G | ZNF552-19_58315273_G_A | ZNF738-19_21474173_G_A | ZNF77-19_2936535_G_A | ZP3-7_76177284_C_T |\n",
       "|---|---|---|---|---|---|---|---|---|---|---|---|---|---|---|---|---|---|---|---|---|---|\n",
       "| HPSI0714i-iudw_1--DA--d30--0 | -0.2108622    |  0.003924475  | 0.02206444    | 0.02834211    |  0.2235163    | -0.03575032   | -0.09473256   |  0.006901295  |  0.0006737957 | -0.07499119   | ...           |  0.06962421   | 0.1120253     | -0.04172133   | 0.01126897    |  0.1057579    | -0.03101814   | 0.0909417     | 0.3020245     | -0.1583842    | -0.05596878   |\n",
       "| HPSI0714i-iudw_1--DA--d30--1 | -0.2283969    | -0.047217741  | 0.10596178    | 0.02514689    | -0.1921801    | -0.01471768   |  0.01878961   | -0.171038975  | -0.1105473675 | -0.18686595   | ...           | -0.21070417   | 0.3759854     |  0.08774666   | 0.02505916    | -0.1950055    | -0.22780547   | 0.0775938     | 0.3452492     | -0.3472152    | -0.15259400   |\n",
       "\n"
      ],
      "text/plain": [
       "                             ABHD10-3_111697439_T_G ABHD12B-14_51328222_C_T\n",
       "HPSI0714i-iudw_1--DA--d30--0 -0.2108622              0.003924475           \n",
       "HPSI0714i-iudw_1--DA--d30--1 -0.2283969             -0.047217741           \n",
       "                             ACKR2-3_42817129_C_T ADD2-2_70894426_A_T\n",
       "HPSI0714i-iudw_1--DA--d30--0 0.02206444           0.02834211         \n",
       "HPSI0714i-iudw_1--DA--d30--1 0.10596178           0.02514689         \n",
       "                             ADSL-22_40757228_A_C AIM1L-1_26673825_C_T\n",
       "HPSI0714i-iudw_1--DA--d30--0  0.2235163           -0.03575032         \n",
       "HPSI0714i-iudw_1--DA--d30--1 -0.1921801           -0.01471768         \n",
       "                             AKAP7-6_131691964_C_A ALDH7A1-5_126011412_G_A\n",
       "HPSI0714i-iudw_1--DA--d30--0 -0.09473256            0.006901295           \n",
       "HPSI0714i-iudw_1--DA--d30--1  0.01878961           -0.171038975           \n",
       "                             ANKRD18B-9_33524775_C_A APIP-11_34905987_T_C ...\n",
       "HPSI0714i-iudw_1--DA--d30--0  0.0006737957           -0.07499119          ...\n",
       "HPSI0714i-iudw_1--DA--d30--1 -0.1105473675           -0.18686595          ...\n",
       "                             YWHAE-17_1246420_G_A ZBBX-3_167080934_T_G\n",
       "HPSI0714i-iudw_1--DA--d30--0  0.06962421          0.1120253           \n",
       "HPSI0714i-iudw_1--DA--d30--1 -0.21070417          0.3759854           \n",
       "                             ZC3HAV1-7_138730361_T_C ZFR2-19_3840157_C_T\n",
       "HPSI0714i-iudw_1--DA--d30--0 -0.04172133             0.01126897         \n",
       "HPSI0714i-iudw_1--DA--d30--1  0.08774666             0.02505916         \n",
       "                             ZG16B-16_2871121_T_C ZNF423-16_49599995_C_G\n",
       "HPSI0714i-iudw_1--DA--d30--0  0.1057579           -0.03101814           \n",
       "HPSI0714i-iudw_1--DA--d30--1 -0.1950055           -0.22780547           \n",
       "                             ZNF552-19_58315273_G_A ZNF738-19_21474173_G_A\n",
       "HPSI0714i-iudw_1--DA--d30--0 0.0909417              0.3020245             \n",
       "HPSI0714i-iudw_1--DA--d30--1 0.0775938              0.3452492             \n",
       "                             ZNF77-19_2936535_G_A ZP3-7_76177284_C_T\n",
       "HPSI0714i-iudw_1--DA--d30--0 -0.1583842           -0.05596878       \n",
       "HPSI0714i-iudw_1--DA--d30--1 -0.3472152           -0.15259400       "
      ]
     },
     "metadata": {},
     "output_type": "display_data"
    },
    {
     "data": {
      "text/html": [
       "<ol class=list-inline>\n",
       "\t<li>8352</li>\n",
       "\t<li>213</li>\n",
       "</ol>\n"
      ],
      "text/latex": [
       "\\begin{enumerate*}\n",
       "\\item 8352\n",
       "\\item 213\n",
       "\\end{enumerate*}\n"
      ],
      "text/markdown": [
       "1. 8352\n",
       "2. 213\n",
       "\n",
       "\n"
      ],
      "text/plain": [
       "[1] 8352  213"
      ]
     },
     "metadata": {},
     "output_type": "display_data"
    }
   ],
   "source": [
    "beta_dir = \"/hps/nobackup2/stegle/users/acuomo/all_scripts/struct_LMM2/sc_neuroseq/May2021/genetic_effect/MOFA10/\"\n",
    "df = read.csv(paste0(beta_dir,\"eqtl_tot_genetic_effect_all.txt\"), sep=\"\\t\",row.names = 1)\n",
    "colnames(df) = gsub(\"_-\",\"-\",gsub(\"\\\\.\",\"-\",colnames(df)))\n",
    "head(df,2)\n",
    "dim(df)"
   ]
  },
  {
   "cell_type": "code",
   "execution_count": 8,
   "id": "80b4010c",
   "metadata": {},
   "outputs": [],
   "source": [
    "# write.csv(df,filename)"
   ]
  },
  {
   "cell_type": "code",
   "execution_count": null,
   "id": "6f9691cb",
   "metadata": {},
   "outputs": [],
   "source": []
  },
  {
   "cell_type": "code",
   "execution_count": null,
   "id": "8846244b",
   "metadata": {},
   "outputs": [],
   "source": [
    "### Opposite effects (neuroseq)"
   ]
  },
  {
   "cell_type": "code",
   "execution_count": 16,
   "id": "919242c0",
   "metadata": {},
   "outputs": [],
   "source": [
    "filename = paste0(ST_dir, \"Supplementary_Table_5_opposite_effects_neuroseq.csv\")"
   ]
  },
  {
   "cell_type": "code",
   "execution_count": 12,
   "id": "d55cdaf8",
   "metadata": {},
   "outputs": [
    {
     "data": {
      "text/html": [
       "94"
      ],
      "text/latex": [
       "94"
      ],
      "text/markdown": [
       "94"
      ],
      "text/plain": [
       "[1] 94"
      ]
     },
     "metadata": {},
     "output_type": "display_data"
    },
    {
     "data": {
      "text/html": [
       "<table>\n",
       "<thead><tr><th scope=col>eqtl</th><th scope=col>beta_G</th><th scope=col>n</th></tr></thead>\n",
       "<tbody>\n",
       "\t<tr><td>ABHD12B-14_51328222_C_T</td><td>-0.10783378            </td><td>0.2393439              </td></tr>\n",
       "\t<tr><td>ADSL-22_40757228_A_C   </td><td> 0.09485572            </td><td>0.6827107              </td></tr>\n",
       "\t<tr><td>AIM1L-1_26673825_C_T   </td><td> 0.04175069            </td><td>0.7204262              </td></tr>\n",
       "\t<tr><td>AKAP7-6_131691964_C_A  </td><td> 0.17694359            </td><td>0.7383860              </td></tr>\n",
       "\t<tr><td>ALDH7A1-5_126011412_G_A</td><td> 0.13257557            </td><td>0.7406609              </td></tr>\n",
       "\t<tr><td>ANKRD18B-9_33524775_C_A</td><td> 0.07399059            </td><td>0.8421935              </td></tr>\n",
       "</tbody>\n",
       "</table>\n"
      ],
      "text/latex": [
       "\\begin{tabular}{r|lll}\n",
       " eqtl & beta\\_G & n\\\\\n",
       "\\hline\n",
       "\t ABHD12B-14\\_51328222\\_C\\_T & -0.10783378                   & 0.2393439                    \\\\\n",
       "\t ADSL-22\\_40757228\\_A\\_C    &  0.09485572                   & 0.6827107                    \\\\\n",
       "\t AIM1L-1\\_26673825\\_C\\_T    &  0.04175069                   & 0.7204262                    \\\\\n",
       "\t AKAP7-6\\_131691964\\_C\\_A   &  0.17694359                   & 0.7383860                    \\\\\n",
       "\t ALDH7A1-5\\_126011412\\_G\\_A &  0.13257557                   & 0.7406609                    \\\\\n",
       "\t ANKRD18B-9\\_33524775\\_C\\_A &  0.07399059                   & 0.8421935                    \\\\\n",
       "\\end{tabular}\n"
      ],
      "text/markdown": [
       "\n",
       "| eqtl | beta_G | n |\n",
       "|---|---|---|\n",
       "| ABHD12B-14_51328222_C_T | -0.10783378             | 0.2393439               |\n",
       "| ADSL-22_40757228_A_C    |  0.09485572             | 0.6827107               |\n",
       "| AIM1L-1_26673825_C_T    |  0.04175069             | 0.7204262               |\n",
       "| AKAP7-6_131691964_C_A   |  0.17694359             | 0.7383860               |\n",
       "| ALDH7A1-5_126011412_G_A |  0.13257557             | 0.7406609               |\n",
       "| ANKRD18B-9_33524775_C_A |  0.07399059             | 0.8421935               |\n",
       "\n"
      ],
      "text/plain": [
       "  eqtl                    beta_G      n        \n",
       "1 ABHD12B-14_51328222_C_T -0.10783378 0.2393439\n",
       "2 ADSL-22_40757228_A_C     0.09485572 0.6827107\n",
       "3 AIM1L-1_26673825_C_T     0.04175069 0.7204262\n",
       "4 AKAP7-6_131691964_C_A    0.17694359 0.7383860\n",
       "5 ALDH7A1-5_126011412_G_A  0.13257557 0.7406609\n",
       "6 ANKRD18B-9_33524775_C_A  0.07399059 0.8421935"
      ]
     },
     "metadata": {},
     "output_type": "display_data"
    }
   ],
   "source": [
    "flips_filename = paste0(beta_dir, \"eqtl_with_flip_sign.csv\")\n",
    "flips_df = read.csv(flips_filename)\n",
    "colnames(flips_df)[1] = \"eqtl\"\n",
    "nrow(flips_df)\n",
    "head(flips_df)"
   ]
  },
  {
   "cell_type": "code",
   "execution_count": 13,
   "id": "ef0aac7e",
   "metadata": {},
   "outputs": [
    {
     "data": {
      "text/html": [
       "45"
      ],
      "text/latex": [
       "45"
      ],
      "text/markdown": [
       "45"
      ],
      "text/plain": [
       "[1] 45"
      ]
     },
     "metadata": {},
     "output_type": "display_data"
    }
   ],
   "source": [
    "flips_df$n2 = flips_df$n\n",
    "flips_df[flips_df$n2>0.5,\"n2\"] = 1-flips_df[flips_df$n2>0.5,\"n\"]\n",
    "flips_df = flips_df[flips_df$n2>0.25,]\n",
    "nrow(flips_df)"
   ]
  },
  {
   "cell_type": "code",
   "execution_count": 15,
   "id": "8586d188",
   "metadata": {},
   "outputs": [
    {
     "data": {
      "text/html": [
       "<table>\n",
       "<thead><tr><th></th><th scope=col>eqtl</th><th scope=col>beta_G</th><th scope=col>n</th></tr></thead>\n",
       "<tbody>\n",
       "\t<tr><th scope=row>2</th><td>ADSL-22_40757228_A_C    </td><td>0.09485572              </td><td>0.3172893               </td></tr>\n",
       "\t<tr><th scope=row>3</th><td>AIM1L-1_26673825_C_T    </td><td>0.04175069              </td><td>0.2795738               </td></tr>\n",
       "\t<tr><th scope=row>4</th><td>AKAP7-6_131691964_C_A   </td><td>0.17694359              </td><td>0.2616140               </td></tr>\n",
       "\t<tr><th scope=row>5</th><td>ALDH7A1-5_126011412_G_A </td><td>0.13257557              </td><td>0.2593391               </td></tr>\n",
       "\t<tr><th scope=row>7</th><td>BATF3-1_212852832_T_C   </td><td>0.06635896              </td><td>0.4022989               </td></tr>\n",
       "\t<tr><th scope=row>8</th><td>C11orf24-11_68006555_G_A</td><td>0.08070138              </td><td>0.2872366               </td></tr>\n",
       "</tbody>\n",
       "</table>\n"
      ],
      "text/latex": [
       "\\begin{tabular}{r|lll}\n",
       "  & eqtl & beta\\_G & n\\\\\n",
       "\\hline\n",
       "\t2 & ADSL-22\\_40757228\\_A\\_C     & 0.09485572                     & 0.3172893                     \\\\\n",
       "\t3 & AIM1L-1\\_26673825\\_C\\_T     & 0.04175069                     & 0.2795738                     \\\\\n",
       "\t4 & AKAP7-6\\_131691964\\_C\\_A    & 0.17694359                     & 0.2616140                     \\\\\n",
       "\t5 & ALDH7A1-5\\_126011412\\_G\\_A  & 0.13257557                     & 0.2593391                     \\\\\n",
       "\t7 & BATF3-1\\_212852832\\_T\\_C    & 0.06635896                     & 0.4022989                     \\\\\n",
       "\t8 & C11orf24-11\\_68006555\\_G\\_A & 0.08070138                     & 0.2872366                     \\\\\n",
       "\\end{tabular}\n"
      ],
      "text/markdown": [
       "\n",
       "| <!--/--> | eqtl | beta_G | n |\n",
       "|---|---|---|---|\n",
       "| 2 | ADSL-22_40757228_A_C     | 0.09485572               | 0.3172893                |\n",
       "| 3 | AIM1L-1_26673825_C_T     | 0.04175069               | 0.2795738                |\n",
       "| 4 | AKAP7-6_131691964_C_A    | 0.17694359               | 0.2616140                |\n",
       "| 5 | ALDH7A1-5_126011412_G_A  | 0.13257557               | 0.2593391                |\n",
       "| 7 | BATF3-1_212852832_T_C    | 0.06635896               | 0.4022989                |\n",
       "| 8 | C11orf24-11_68006555_G_A | 0.08070138               | 0.2872366                |\n",
       "\n"
      ],
      "text/plain": [
       "  eqtl                     beta_G     n        \n",
       "2 ADSL-22_40757228_A_C     0.09485572 0.3172893\n",
       "3 AIM1L-1_26673825_C_T     0.04175069 0.2795738\n",
       "4 AKAP7-6_131691964_C_A    0.17694359 0.2616140\n",
       "5 ALDH7A1-5_126011412_G_A  0.13257557 0.2593391\n",
       "7 BATF3-1_212852832_T_C    0.06635896 0.4022989\n",
       "8 C11orf24-11_68006555_G_A 0.08070138 0.2872366"
      ]
     },
     "metadata": {},
     "output_type": "display_data"
    }
   ],
   "source": [
    "df = flips_df\n",
    "df$n = df$n2 \n",
    "df$n2 = c()\n",
    "head(df)"
   ]
  },
  {
   "cell_type": "code",
   "execution_count": 17,
   "id": "c2855405",
   "metadata": {},
   "outputs": [],
   "source": [
    "write.csv(df,filename)"
   ]
  },
  {
   "cell_type": "code",
   "execution_count": null,
   "id": "fa952a51",
   "metadata": {},
   "outputs": [],
   "source": []
  }
 ],
 "metadata": {
  "kernelspec": {
   "display_name": "R",
   "language": "R",
   "name": "ir"
  },
  "language_info": {
   "codemirror_mode": "r",
   "file_extension": ".r",
   "mimetype": "text/x-r-source",
   "name": "R",
   "pygments_lexer": "r",
   "version": "3.6.1"
  }
 },
 "nbformat": 4,
 "nbformat_minor": 5
}
