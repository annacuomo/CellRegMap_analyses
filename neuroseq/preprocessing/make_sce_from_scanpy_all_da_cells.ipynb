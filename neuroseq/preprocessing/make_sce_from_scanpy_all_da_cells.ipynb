{
 "cells": [
  {
   "cell_type": "code",
   "execution_count": 7,
   "metadata": {},
   "outputs": [],
   "source": [
    "library(rhdf5)\n",
    "library(Matrix)\n",
    "library(SingleCellExperiment)"
   ]
  },
  {
   "cell_type": "code",
   "execution_count": 16,
   "metadata": {},
   "outputs": [],
   "source": [
    "filename = \"/hps/nobackup/stegle/users/acuomo/all_scripts/struct_LMM2/sc_neuroseq/all_da_cells.h5\""
   ]
  },
  {
   "cell_type": "code",
   "execution_count": 17,
   "metadata": {
    "scrolled": true
   },
   "outputs": [
    {
     "data": {
      "text/html": [
       "<table>\n",
       "<tbody>\n",
       "\t<tr><td>/                          </td><td>X                          </td></tr>\n",
       "\t<tr><td>/X                         </td><td>data                       </td></tr>\n",
       "\t<tr><td>/X                         </td><td>indices                    </td></tr>\n",
       "\t<tr><td>/X                         </td><td>indptr                     </td></tr>\n",
       "\t<tr><td>/                          </td><td>obs                        </td></tr>\n",
       "\t<tr><td>/obs                       </td><td>__categories               </td></tr>\n",
       "\t<tr><td>/obs/__categories          </td><td>batch                      </td></tr>\n",
       "\t<tr><td>/obs/__categories          </td><td>celltype                   </td></tr>\n",
       "\t<tr><td>/obs/__categories          </td><td>donor_id                   </td></tr>\n",
       "\t<tr><td>/obs/__categories          </td><td>pool_id                    </td></tr>\n",
       "\t<tr><td>/obs/__categories          </td><td>sample_id                  </td></tr>\n",
       "\t<tr><td>/obs/__categories          </td><td>time_point                 </td></tr>\n",
       "\t<tr><td>/obs/__categories          </td><td>treatment                  </td></tr>\n",
       "\t<tr><td>/obs                       </td><td>_index                     </td></tr>\n",
       "\t<tr><td>/obs                       </td><td>batch                      </td></tr>\n",
       "\t<tr><td>/obs                       </td><td>celltype                   </td></tr>\n",
       "\t<tr><td>/obs                       </td><td>cluster_id                 </td></tr>\n",
       "\t<tr><td>/obs                       </td><td>donor_id                   </td></tr>\n",
       "\t<tr><td>/obs                       </td><td>log1p_n_genes_by_counts    </td></tr>\n",
       "\t<tr><td>/obs                       </td><td>log1p_total_counts         </td></tr>\n",
       "\t<tr><td>/obs                       </td><td>log1p_total_counts_mito    </td></tr>\n",
       "\t<tr><td>/obs                       </td><td>n_counts_all               </td></tr>\n",
       "\t<tr><td>/obs                       </td><td>n_genes_by_counts          </td></tr>\n",
       "\t<tr><td>/obs                       </td><td>pct_counts_in_top_100_genes</td></tr>\n",
       "\t<tr><td>/obs                       </td><td>pct_counts_in_top_200_genes</td></tr>\n",
       "\t<tr><td>/obs                       </td><td>pct_counts_in_top_500_genes</td></tr>\n",
       "\t<tr><td>/obs                       </td><td>pct_counts_in_top_50_genes </td></tr>\n",
       "\t<tr><td>/obs                       </td><td>pct_counts_mito            </td></tr>\n",
       "\t<tr><td>/obs                       </td><td>pool_id                    </td></tr>\n",
       "\t<tr><td>/obs                       </td><td>sample_id                  </td></tr>\n",
       "\t<tr><td>...</td><td>...</td></tr>\n",
       "\t<tr><td>/var         </td><td>gene_ids-26-0</td></tr>\n",
       "\t<tr><td>/var         </td><td>gene_ids-26-1</td></tr>\n",
       "\t<tr><td>/var         </td><td>gene_ids-27-0</td></tr>\n",
       "\t<tr><td>/var         </td><td>gene_ids-27-1</td></tr>\n",
       "\t<tr><td>/var         </td><td>gene_ids-28-0</td></tr>\n",
       "\t<tr><td>/var         </td><td>gene_ids-28-1</td></tr>\n",
       "\t<tr><td>/var         </td><td>gene_ids-29-0</td></tr>\n",
       "\t<tr><td>/var         </td><td>gene_ids-29-1</td></tr>\n",
       "\t<tr><td>/var         </td><td>gene_ids-3-0 </td></tr>\n",
       "\t<tr><td>/var         </td><td>gene_ids-3-1 </td></tr>\n",
       "\t<tr><td>/var         </td><td>gene_ids-30-0</td></tr>\n",
       "\t<tr><td>/var         </td><td>gene_ids-30-1</td></tr>\n",
       "\t<tr><td>/var         </td><td>gene_ids-31-0</td></tr>\n",
       "\t<tr><td>/var         </td><td>gene_ids-31-1</td></tr>\n",
       "\t<tr><td>/var         </td><td>gene_ids-32-0</td></tr>\n",
       "\t<tr><td>/var         </td><td>gene_ids-32-1</td></tr>\n",
       "\t<tr><td>/var         </td><td>gene_ids-33-0</td></tr>\n",
       "\t<tr><td>/var         </td><td>gene_ids-33-1</td></tr>\n",
       "\t<tr><td>/var         </td><td>gene_ids-4-0 </td></tr>\n",
       "\t<tr><td>/var         </td><td>gene_ids-4-1 </td></tr>\n",
       "\t<tr><td>/var         </td><td>gene_ids-5-0 </td></tr>\n",
       "\t<tr><td>/var         </td><td>gene_ids-5-1 </td></tr>\n",
       "\t<tr><td>/var         </td><td>gene_ids-6-0 </td></tr>\n",
       "\t<tr><td>/var         </td><td>gene_ids-6-1 </td></tr>\n",
       "\t<tr><td>/var         </td><td>gene_ids-7-0 </td></tr>\n",
       "\t<tr><td>/var         </td><td>gene_ids-7-1 </td></tr>\n",
       "\t<tr><td>/var         </td><td>gene_ids-8-0 </td></tr>\n",
       "\t<tr><td>/var         </td><td>gene_ids-8-1 </td></tr>\n",
       "\t<tr><td>/var         </td><td>gene_ids-9-0 </td></tr>\n",
       "\t<tr><td>/var         </td><td>gene_ids-9-1 </td></tr>\n",
       "</tbody>\n",
       "</table>\n"
      ],
      "text/latex": [
       "\\begin{tabular}{ll}\n",
       "\t /                           & X                          \\\\\n",
       "\t /X                          & data                       \\\\\n",
       "\t /X                          & indices                    \\\\\n",
       "\t /X                          & indptr                     \\\\\n",
       "\t /                           & obs                        \\\\\n",
       "\t /obs                            & \\_\\_categories               \\\\\n",
       "\t /obs/\\_\\_categories       & batch                      \\\\\n",
       "\t /obs/\\_\\_categories       & celltype                   \\\\\n",
       "\t /obs/\\_\\_categories         & donor\\_id                   \\\\\n",
       "\t /obs/\\_\\_categories         & pool\\_id                    \\\\\n",
       "\t /obs/\\_\\_categories         & sample\\_id                  \\\\\n",
       "\t /obs/\\_\\_categories         & time\\_point                 \\\\\n",
       "\t /obs/\\_\\_categories       & treatment                  \\\\\n",
       "\t /obs                          & \\_index                     \\\\\n",
       "\t /obs                        & batch                      \\\\\n",
       "\t /obs                        & celltype                   \\\\\n",
       "\t /obs                          & cluster\\_id                 \\\\\n",
       "\t /obs                          & donor\\_id                   \\\\\n",
       "\t /obs                                & log1p\\_n\\_genes\\_by\\_counts    \\\\\n",
       "\t /obs                            & log1p\\_total\\_counts         \\\\\n",
       "\t /obs                              & log1p\\_total\\_counts\\_mito    \\\\\n",
       "\t /obs                            & n\\_counts\\_all               \\\\\n",
       "\t /obs                              & n\\_genes\\_by\\_counts          \\\\\n",
       "\t /obs                                  & pct\\_counts\\_in\\_top\\_100\\_genes\\\\\n",
       "\t /obs                                  & pct\\_counts\\_in\\_top\\_200\\_genes\\\\\n",
       "\t /obs                                  & pct\\_counts\\_in\\_top\\_500\\_genes\\\\\n",
       "\t /obs                                  & pct\\_counts\\_in\\_top\\_50\\_genes \\\\\n",
       "\t /obs                            & pct\\_counts\\_mito            \\\\\n",
       "\t /obs                          & pool\\_id                    \\\\\n",
       "\t /obs                          & sample\\_id                  \\\\\n",
       "\t ... & ...\\\\\n",
       "\t /var            & gene\\_ids-26-0\\\\\n",
       "\t /var            & gene\\_ids-26-1\\\\\n",
       "\t /var            & gene\\_ids-27-0\\\\\n",
       "\t /var            & gene\\_ids-27-1\\\\\n",
       "\t /var            & gene\\_ids-28-0\\\\\n",
       "\t /var            & gene\\_ids-28-1\\\\\n",
       "\t /var            & gene\\_ids-29-0\\\\\n",
       "\t /var            & gene\\_ids-29-1\\\\\n",
       "\t /var            & gene\\_ids-3-0 \\\\\n",
       "\t /var            & gene\\_ids-3-1 \\\\\n",
       "\t /var            & gene\\_ids-30-0\\\\\n",
       "\t /var            & gene\\_ids-30-1\\\\\n",
       "\t /var            & gene\\_ids-31-0\\\\\n",
       "\t /var            & gene\\_ids-31-1\\\\\n",
       "\t /var            & gene\\_ids-32-0\\\\\n",
       "\t /var            & gene\\_ids-32-1\\\\\n",
       "\t /var            & gene\\_ids-33-0\\\\\n",
       "\t /var            & gene\\_ids-33-1\\\\\n",
       "\t /var            & gene\\_ids-4-0 \\\\\n",
       "\t /var            & gene\\_ids-4-1 \\\\\n",
       "\t /var            & gene\\_ids-5-0 \\\\\n",
       "\t /var            & gene\\_ids-5-1 \\\\\n",
       "\t /var            & gene\\_ids-6-0 \\\\\n",
       "\t /var            & gene\\_ids-6-1 \\\\\n",
       "\t /var            & gene\\_ids-7-0 \\\\\n",
       "\t /var            & gene\\_ids-7-1 \\\\\n",
       "\t /var            & gene\\_ids-8-0 \\\\\n",
       "\t /var            & gene\\_ids-8-1 \\\\\n",
       "\t /var            & gene\\_ids-9-0 \\\\\n",
       "\t /var            & gene\\_ids-9-1 \\\\\n",
       "\\end{tabular}\n"
      ],
      "text/markdown": [
       "\n",
       "| /                           | X                           |\n",
       "| /X                          | data                        |\n",
       "| /X                          | indices                     |\n",
       "| /X                          | indptr                      |\n",
       "| /                           | obs                         |\n",
       "| /obs                        | __categories                |\n",
       "| /obs/__categories           | batch                       |\n",
       "| /obs/__categories           | celltype                    |\n",
       "| /obs/__categories           | donor_id                    |\n",
       "| /obs/__categories           | pool_id                     |\n",
       "| /obs/__categories           | sample_id                   |\n",
       "| /obs/__categories           | time_point                  |\n",
       "| /obs/__categories           | treatment                   |\n",
       "| /obs                        | _index                      |\n",
       "| /obs                        | batch                       |\n",
       "| /obs                        | celltype                    |\n",
       "| /obs                        | cluster_id                  |\n",
       "| /obs                        | donor_id                    |\n",
       "| /obs                        | log1p_n_genes_by_counts     |\n",
       "| /obs                        | log1p_total_counts          |\n",
       "| /obs                        | log1p_total_counts_mito     |\n",
       "| /obs                        | n_counts_all                |\n",
       "| /obs                        | n_genes_by_counts           |\n",
       "| /obs                        | pct_counts_in_top_100_genes |\n",
       "| /obs                        | pct_counts_in_top_200_genes |\n",
       "| /obs                        | pct_counts_in_top_500_genes |\n",
       "| /obs                        | pct_counts_in_top_50_genes  |\n",
       "| /obs                        | pct_counts_mito             |\n",
       "| /obs                        | pool_id                     |\n",
       "| /obs                        | sample_id                   |\n",
       "| ... | ... |\n",
       "| /var          | gene_ids-26-0 |\n",
       "| /var          | gene_ids-26-1 |\n",
       "| /var          | gene_ids-27-0 |\n",
       "| /var          | gene_ids-27-1 |\n",
       "| /var          | gene_ids-28-0 |\n",
       "| /var          | gene_ids-28-1 |\n",
       "| /var          | gene_ids-29-0 |\n",
       "| /var          | gene_ids-29-1 |\n",
       "| /var          | gene_ids-3-0  |\n",
       "| /var          | gene_ids-3-1  |\n",
       "| /var          | gene_ids-30-0 |\n",
       "| /var          | gene_ids-30-1 |\n",
       "| /var          | gene_ids-31-0 |\n",
       "| /var          | gene_ids-31-1 |\n",
       "| /var          | gene_ids-32-0 |\n",
       "| /var          | gene_ids-32-1 |\n",
       "| /var          | gene_ids-33-0 |\n",
       "| /var          | gene_ids-33-1 |\n",
       "| /var          | gene_ids-4-0  |\n",
       "| /var          | gene_ids-4-1  |\n",
       "| /var          | gene_ids-5-0  |\n",
       "| /var          | gene_ids-5-1  |\n",
       "| /var          | gene_ids-6-0  |\n",
       "| /var          | gene_ids-6-1  |\n",
       "| /var          | gene_ids-7-0  |\n",
       "| /var          | gene_ids-7-1  |\n",
       "| /var          | gene_ids-8-0  |\n",
       "| /var          | gene_ids-8-1  |\n",
       "| /var          | gene_ids-9-0  |\n",
       "| /var          | gene_ids-9-1  |\n",
       "\n"
      ],
      "text/plain": [
       "      [,1]              [,2]                       \n",
       " [1,] /                 X                          \n",
       " [2,] /X                data                       \n",
       " [3,] /X                indices                    \n",
       " [4,] /X                indptr                     \n",
       " [5,] /                 obs                        \n",
       " [6,] /obs              __categories               \n",
       " [7,] /obs/__categories batch                      \n",
       " [8,] /obs/__categories celltype                   \n",
       " [9,] /obs/__categories donor_id                   \n",
       "[10,] /obs/__categories pool_id                    \n",
       "[11,] /obs/__categories sample_id                  \n",
       "[12,] /obs/__categories time_point                 \n",
       "[13,] /obs/__categories treatment                  \n",
       "[14,] /obs              _index                     \n",
       "[15,] /obs              batch                      \n",
       "[16,] /obs              celltype                   \n",
       "[17,] /obs              cluster_id                 \n",
       "[18,] /obs              donor_id                   \n",
       "[19,] /obs              log1p_n_genes_by_counts    \n",
       "[20,] /obs              log1p_total_counts         \n",
       "[21,] /obs              log1p_total_counts_mito    \n",
       "[22,] /obs              n_counts_all               \n",
       "[23,] /obs              n_genes_by_counts          \n",
       "[24,] /obs              pct_counts_in_top_100_genes\n",
       "[25,] /obs              pct_counts_in_top_200_genes\n",
       "[26,] /obs              pct_counts_in_top_500_genes\n",
       "[27,] /obs              pct_counts_in_top_50_genes \n",
       "[28,] /obs              pct_counts_mito            \n",
       "[29,] /obs              pool_id                    \n",
       "[30,] /obs              sample_id                  \n",
       "[31,] ...               ...                        \n",
       "[32,] /var              gene_ids-26-0              \n",
       "[33,] /var              gene_ids-26-1              \n",
       "[34,] /var              gene_ids-27-0              \n",
       "[35,] /var              gene_ids-27-1              \n",
       "[36,] /var              gene_ids-28-0              \n",
       "[37,] /var              gene_ids-28-1              \n",
       "[38,] /var              gene_ids-29-0              \n",
       "[39,] /var              gene_ids-29-1              \n",
       "[40,] /var              gene_ids-3-0               \n",
       "[41,] /var              gene_ids-3-1               \n",
       "[42,] /var              gene_ids-30-0              \n",
       "[43,] /var              gene_ids-30-1              \n",
       "[44,] /var              gene_ids-31-0              \n",
       "[45,] /var              gene_ids-31-1              \n",
       "[46,] /var              gene_ids-32-0              \n",
       "[47,] /var              gene_ids-32-1              \n",
       "[48,] /var              gene_ids-33-0              \n",
       "[49,] /var              gene_ids-33-1              \n",
       "[50,] /var              gene_ids-4-0               \n",
       "[51,] /var              gene_ids-4-1               \n",
       "[52,] /var              gene_ids-5-0               \n",
       "[53,] /var              gene_ids-5-1               \n",
       "[54,] /var              gene_ids-6-0               \n",
       "[55,] /var              gene_ids-6-1               \n",
       "[56,] /var              gene_ids-7-0               \n",
       "[57,] /var              gene_ids-7-1               \n",
       "[58,] /var              gene_ids-8-0               \n",
       "[59,] /var              gene_ids-8-1               \n",
       "[60,] /var              gene_ids-9-0               \n",
       "[61,] /var              gene_ids-9-1               "
      ]
     },
     "metadata": {},
     "output_type": "display_data"
    }
   ],
   "source": [
    "cbind(h5ls(filename)$group,\n",
    "h5ls(filename)$name)"
   ]
  },
  {
   "cell_type": "code",
   "execution_count": 20,
   "metadata": {},
   "outputs": [],
   "source": [
    "ind = h5read(file = filename, \"obs\")[['_index']] # cell names\n",
    "var = h5read(file = filename, \"var\")[['gene_ids-0-0']] # gene names"
   ]
  },
  {
   "cell_type": "code",
   "execution_count": 19,
   "metadata": {},
   "outputs": [
    {
     "data": {
      "text/html": [
       "<ol class=list-inline>\n",
       "\t<li>'AAACCTGAGAGCTATA-1-0-0'</li>\n",
       "\t<li>'AAACCTGCAATTGCTG-1-0-0'</li>\n",
       "\t<li>'AAACCTGCAGAGCCAA-1-0-0'</li>\n",
       "\t<li>'AAACCTGCATCCCACT-1-0-0'</li>\n",
       "\t<li>'AAACCTGCATGCCACG-1-0-0'</li>\n",
       "\t<li>'AAACCTGGTCACCCAG-1-0-0'</li>\n",
       "</ol>\n"
      ],
      "text/latex": [
       "\\begin{enumerate*}\n",
       "\\item 'AAACCTGAGAGCTATA-1-0-0'\n",
       "\\item 'AAACCTGCAATTGCTG-1-0-0'\n",
       "\\item 'AAACCTGCAGAGCCAA-1-0-0'\n",
       "\\item 'AAACCTGCATCCCACT-1-0-0'\n",
       "\\item 'AAACCTGCATGCCACG-1-0-0'\n",
       "\\item 'AAACCTGGTCACCCAG-1-0-0'\n",
       "\\end{enumerate*}\n"
      ],
      "text/markdown": [
       "1. 'AAACCTGAGAGCTATA-1-0-0'\n",
       "2. 'AAACCTGCAATTGCTG-1-0-0'\n",
       "3. 'AAACCTGCAGAGCCAA-1-0-0'\n",
       "4. 'AAACCTGCATCCCACT-1-0-0'\n",
       "5. 'AAACCTGCATGCCACG-1-0-0'\n",
       "6. 'AAACCTGGTCACCCAG-1-0-0'\n",
       "\n",
       "\n"
      ],
      "text/plain": [
       "[1] \"AAACCTGAGAGCTATA-1-0-0\" \"AAACCTGCAATTGCTG-1-0-0\" \"AAACCTGCAGAGCCAA-1-0-0\"\n",
       "[4] \"AAACCTGCATCCCACT-1-0-0\" \"AAACCTGCATGCCACG-1-0-0\" \"AAACCTGGTCACCCAG-1-0-0\""
      ]
     },
     "metadata": {},
     "output_type": "display_data"
    }
   ],
   "source": [
    "head(ind)"
   ]
  },
  {
   "cell_type": "code",
   "execution_count": 23,
   "metadata": {},
   "outputs": [
    {
     "data": {
      "text/html": [
       "<ol class=list-inline>\n",
       "\t<li>'ENSG00000243485'</li>\n",
       "\t<li>'ENSG00000237613'</li>\n",
       "\t<li>'ENSG00000186092'</li>\n",
       "\t<li>'ENSG00000238009'</li>\n",
       "\t<li>'ENSG00000239945'</li>\n",
       "\t<li>'ENSG00000237683'</li>\n",
       "</ol>\n"
      ],
      "text/latex": [
       "\\begin{enumerate*}\n",
       "\\item 'ENSG00000243485'\n",
       "\\item 'ENSG00000237613'\n",
       "\\item 'ENSG00000186092'\n",
       "\\item 'ENSG00000238009'\n",
       "\\item 'ENSG00000239945'\n",
       "\\item 'ENSG00000237683'\n",
       "\\end{enumerate*}\n"
      ],
      "text/markdown": [
       "1. 'ENSG00000243485'\n",
       "2. 'ENSG00000237613'\n",
       "3. 'ENSG00000186092'\n",
       "4. 'ENSG00000238009'\n",
       "5. 'ENSG00000239945'\n",
       "6. 'ENSG00000237683'\n",
       "\n",
       "\n"
      ],
      "text/plain": [
       "[1] \"ENSG00000243485\" \"ENSG00000237613\" \"ENSG00000186092\" \"ENSG00000238009\"\n",
       "[5] \"ENSG00000239945\" \"ENSG00000237683\""
      ]
     },
     "metadata": {},
     "output_type": "display_data"
    }
   ],
   "source": [
    "head(var)"
   ]
  },
  {
   "cell_type": "code",
   "execution_count": 24,
   "metadata": {},
   "outputs": [],
   "source": [
    "X = h5read(file = filename, \"X\")\n",
    "X_data = as.integer(X$data)\n",
    "X_indptr = as.integer(X$indptr)\n",
    "X_indices = as.integer(X$indices)\n",
    "rm(X)"
   ]
  },
  {
   "cell_type": "code",
   "execution_count": 27,
   "metadata": {},
   "outputs": [],
   "source": [
    "sMat = sparseMatrix(\n",
    "i = X_indices,\n",
    "p = X_indptr,\n",
    "x = X_data,\n",
    "dims = c(length(var), length(ind)),\n",
    "index1 = FALSE\n",
    ")\n",
    "rownames(sMat) <- as.character(var)\n",
    "colnames(sMat) <- as.character(ind)"
   ]
  },
  {
   "cell_type": "code",
   "execution_count": 29,
   "metadata": {},
   "outputs": [],
   "source": [
    "R_filename = \"/hps/nobackup/stegle/users/acuomo/all_scripts/struct_LMM2/sc_neuroseq/all_da_cells.Rds\"\n",
    "saveRDS(sMat, file = R_filename)"
   ]
  },
  {
   "cell_type": "code",
   "execution_count": null,
   "metadata": {},
   "outputs": [],
   "source": []
  },
  {
   "cell_type": "code",
   "execution_count": 30,
   "metadata": {},
   "outputs": [
    {
     "data": {
      "text/html": [
       "<ol class=list-inline>\n",
       "\t<li>'__categories'</li>\n",
       "\t<li>'_index'</li>\n",
       "\t<li>'batch'</li>\n",
       "\t<li>'celltype'</li>\n",
       "\t<li>'cluster_id'</li>\n",
       "\t<li>'donor_id'</li>\n",
       "\t<li>'log1p_n_genes_by_counts'</li>\n",
       "\t<li>'log1p_total_counts'</li>\n",
       "\t<li>'log1p_total_counts_mito'</li>\n",
       "\t<li>'n_counts_all'</li>\n",
       "\t<li>'n_genes_by_counts'</li>\n",
       "\t<li>'pct_counts_in_top_100_genes'</li>\n",
       "\t<li>'pct_counts_in_top_200_genes'</li>\n",
       "\t<li>'pct_counts_in_top_500_genes'</li>\n",
       "\t<li>'pct_counts_in_top_50_genes'</li>\n",
       "\t<li>'pct_counts_mito'</li>\n",
       "\t<li>'pool_id'</li>\n",
       "\t<li>'sample_id'</li>\n",
       "\t<li>'time_point'</li>\n",
       "\t<li>'total_counts'</li>\n",
       "\t<li>'total_counts_mito'</li>\n",
       "\t<li>'treatment'</li>\n",
       "</ol>\n"
      ],
      "text/latex": [
       "\\begin{enumerate*}\n",
       "\\item '\\_\\_categories'\n",
       "\\item '\\_index'\n",
       "\\item 'batch'\n",
       "\\item 'celltype'\n",
       "\\item 'cluster\\_id'\n",
       "\\item 'donor\\_id'\n",
       "\\item 'log1p\\_n\\_genes\\_by\\_counts'\n",
       "\\item 'log1p\\_total\\_counts'\n",
       "\\item 'log1p\\_total\\_counts\\_mito'\n",
       "\\item 'n\\_counts\\_all'\n",
       "\\item 'n\\_genes\\_by\\_counts'\n",
       "\\item 'pct\\_counts\\_in\\_top\\_100\\_genes'\n",
       "\\item 'pct\\_counts\\_in\\_top\\_200\\_genes'\n",
       "\\item 'pct\\_counts\\_in\\_top\\_500\\_genes'\n",
       "\\item 'pct\\_counts\\_in\\_top\\_50\\_genes'\n",
       "\\item 'pct\\_counts\\_mito'\n",
       "\\item 'pool\\_id'\n",
       "\\item 'sample\\_id'\n",
       "\\item 'time\\_point'\n",
       "\\item 'total\\_counts'\n",
       "\\item 'total\\_counts\\_mito'\n",
       "\\item 'treatment'\n",
       "\\end{enumerate*}\n"
      ],
      "text/markdown": [
       "1. '__categories'\n",
       "2. '_index'\n",
       "3. 'batch'\n",
       "4. 'celltype'\n",
       "5. 'cluster_id'\n",
       "6. 'donor_id'\n",
       "7. 'log1p_n_genes_by_counts'\n",
       "8. 'log1p_total_counts'\n",
       "9. 'log1p_total_counts_mito'\n",
       "10. 'n_counts_all'\n",
       "11. 'n_genes_by_counts'\n",
       "12. 'pct_counts_in_top_100_genes'\n",
       "13. 'pct_counts_in_top_200_genes'\n",
       "14. 'pct_counts_in_top_500_genes'\n",
       "15. 'pct_counts_in_top_50_genes'\n",
       "16. 'pct_counts_mito'\n",
       "17. 'pool_id'\n",
       "18. 'sample_id'\n",
       "19. 'time_point'\n",
       "20. 'total_counts'\n",
       "21. 'total_counts_mito'\n",
       "22. 'treatment'\n",
       "\n",
       "\n"
      ],
      "text/plain": [
       " [1] \"__categories\"                \"_index\"                     \n",
       " [3] \"batch\"                       \"celltype\"                   \n",
       " [5] \"cluster_id\"                  \"donor_id\"                   \n",
       " [7] \"log1p_n_genes_by_counts\"     \"log1p_total_counts\"         \n",
       " [9] \"log1p_total_counts_mito\"     \"n_counts_all\"               \n",
       "[11] \"n_genes_by_counts\"           \"pct_counts_in_top_100_genes\"\n",
       "[13] \"pct_counts_in_top_200_genes\" \"pct_counts_in_top_500_genes\"\n",
       "[15] \"pct_counts_in_top_50_genes\"  \"pct_counts_mito\"            \n",
       "[17] \"pool_id\"                     \"sample_id\"                  \n",
       "[19] \"time_point\"                  \"total_counts\"               \n",
       "[21] \"total_counts_mito\"           \"treatment\"                  "
      ]
     },
     "metadata": {},
     "output_type": "display_data"
    },
    {
     "data": {
      "text/html": [
       "<ol class=list-inline>\n",
       "\t<li>'batch'</li>\n",
       "\t<li>'celltype'</li>\n",
       "\t<li>'donor_id'</li>\n",
       "\t<li>'pool_id'</li>\n",
       "\t<li>'sample_id'</li>\n",
       "\t<li>'time_point'</li>\n",
       "\t<li>'treatment'</li>\n",
       "</ol>\n"
      ],
      "text/latex": [
       "\\begin{enumerate*}\n",
       "\\item 'batch'\n",
       "\\item 'celltype'\n",
       "\\item 'donor\\_id'\n",
       "\\item 'pool\\_id'\n",
       "\\item 'sample\\_id'\n",
       "\\item 'time\\_point'\n",
       "\\item 'treatment'\n",
       "\\end{enumerate*}\n"
      ],
      "text/markdown": [
       "1. 'batch'\n",
       "2. 'celltype'\n",
       "3. 'donor_id'\n",
       "4. 'pool_id'\n",
       "5. 'sample_id'\n",
       "6. 'time_point'\n",
       "7. 'treatment'\n",
       "\n",
       "\n"
      ],
      "text/plain": [
       "[1] \"batch\"      \"celltype\"   \"donor_id\"   \"pool_id\"    \"sample_id\" \n",
       "[6] \"time_point\" \"treatment\" "
      ]
     },
     "metadata": {},
     "output_type": "display_data"
    }
   ],
   "source": [
    "obs = h5read(file = filename, \"obs\")\n",
    "all_cols = names(obs)\n",
    "all_cols\n",
    "categorical_cols = names(h5read(file = filename, \"obs/__categories\"))\n",
    "categorical_cols"
   ]
  },
  {
   "cell_type": "code",
   "execution_count": null,
   "metadata": {},
   "outputs": [],
   "source": []
  },
  {
   "cell_type": "code",
   "execution_count": 32,
   "metadata": {},
   "outputs": [
    {
     "data": {
      "text/html": [
       "<table>\n",
       "<tbody>\n",
       "\t<tr><th scope=row>AAACCTGAGAGCTATA-1-0-0</th></tr>\n",
       "\t<tr><th scope=row>AAACCTGCAATTGCTG-1-0-0</th></tr>\n",
       "\t<tr><th scope=row>AAACCTGCAGAGCCAA-1-0-0</th></tr>\n",
       "\t<tr><th scope=row>AAACCTGCATCCCACT-1-0-0</th></tr>\n",
       "\t<tr><th scope=row>AAACCTGCATGCCACG-1-0-0</th></tr>\n",
       "\t<tr><th scope=row>AAACCTGGTCACCCAG-1-0-0</th></tr>\n",
       "</tbody>\n",
       "</table>\n"
      ],
      "text/latex": [
       "\\begin{tabular}{r|}\n",
       "\tAAACCTGAGAGCTATA-1-0-0\\\\\n",
       "\tAAACCTGCAATTGCTG-1-0-0\\\\\n",
       "\tAAACCTGCAGAGCCAA-1-0-0\\\\\n",
       "\tAAACCTGCATCCCACT-1-0-0\\\\\n",
       "\tAAACCTGCATGCCACG-1-0-0\\\\\n",
       "\tAAACCTGGTCACCCAG-1-0-0\\\\\n",
       "\\end{tabular}\n"
      ],
      "text/markdown": [
       "\n",
       "| AAACCTGAGAGCTATA-1-0-0 |\n",
       "| AAACCTGCAATTGCTG-1-0-0 |\n",
       "| AAACCTGCAGAGCCAA-1-0-0 |\n",
       "| AAACCTGCATCCCACT-1-0-0 |\n",
       "| AAACCTGCATGCCACG-1-0-0 |\n",
       "| AAACCTGGTCACCCAG-1-0-0 |\n",
       "\n"
      ],
      "text/plain": [
       "                      \n",
       "AAACCTGAGAGCTATA-1-0-0\n",
       "AAACCTGCAATTGCTG-1-0-0\n",
       "AAACCTGCAGAGCCAA-1-0-0\n",
       "AAACCTGCATCCCACT-1-0-0\n",
       "AAACCTGCATGCCACG-1-0-0\n",
       "AAACCTGGTCACCCAG-1-0-0"
      ]
     },
     "metadata": {},
     "output_type": "display_data"
    }
   ],
   "source": [
    "df = data.frame(row.names = obs[[\"_index\"]])\n",
    "head(df)"
   ]
  },
  {
   "cell_type": "code",
   "execution_count": 33,
   "metadata": {
    "scrolled": true
   },
   "outputs": [
    {
     "name": "stderr",
     "output_type": "stream",
     "text": [
      "Warning message in eval(expr, envir, enclos):\n",
      "“NAs introduced by coercion”"
     ]
    }
   ],
   "source": [
    "for (col in all_cols){\n",
    "#     print(col)\n",
    "    if (!(col %in% c(categorical_cols, \"__categories\",\"index\"))){\n",
    "#         print(col)\n",
    "#         print(obs[[col]])\n",
    "        df[[col]] = (as.numeric(unlist(obs[[col]])))   \n",
    "    }\n",
    "    if (col %in% c(categorical_cols)){\n",
    "        colname = paste0(\"obs/__categories/\",col)\n",
    "        df[[col]] = h5read(file = filename,colname)[((as.numeric(obs[[col]]))+1)]\n",
    "    }\n",
    "}"
   ]
  },
  {
   "cell_type": "code",
   "execution_count": 34,
   "metadata": {},
   "outputs": [
    {
     "data": {
      "text/html": [
       "<table>\n",
       "<thead><tr><th></th><th scope=col>_index</th><th scope=col>batch</th><th scope=col>celltype</th><th scope=col>cluster_id</th><th scope=col>donor_id</th><th scope=col>log1p_n_genes_by_counts</th><th scope=col>log1p_total_counts</th><th scope=col>log1p_total_counts_mito</th><th scope=col>n_counts_all</th><th scope=col>n_genes_by_counts</th><th scope=col>...</th><th scope=col>pct_counts_in_top_200_genes</th><th scope=col>pct_counts_in_top_500_genes</th><th scope=col>pct_counts_in_top_50_genes</th><th scope=col>pct_counts_mito</th><th scope=col>pool_id</th><th scope=col>sample_id</th><th scope=col>time_point</th><th scope=col>total_counts</th><th scope=col>total_counts_mito</th><th scope=col>treatment</th></tr></thead>\n",
       "<tbody>\n",
       "\t<tr><th scope=row>AAACCTGAGAGCTATA-1-0-0</th><td>NA              </td><td>0               </td><td>DA              </td><td>0               </td><td>HPSI0714i-iudw_1</td><td>NaN             </td><td>NaN             </td><td>NaN             </td><td>4370            </td><td>NaN             </td><td>...             </td><td>NaN             </td><td>NaN             </td><td>NaN             </td><td>NaN             </td><td>pool1           </td><td>5245STDY7387187 </td><td>D30             </td><td>NaN             </td><td>NaN             </td><td>NONE            </td></tr>\n",
       "\t<tr><th scope=row>AAACCTGCAATTGCTG-1-0-0</th><td>NA              </td><td>0               </td><td>DA              </td><td>0               </td><td>HPSI0115i-paim_1</td><td>NaN             </td><td>NaN             </td><td>NaN             </td><td>4429            </td><td>NaN             </td><td>...             </td><td>NaN             </td><td>NaN             </td><td>NaN             </td><td>NaN             </td><td>pool1           </td><td>5245STDY7387187 </td><td>D30             </td><td>NaN             </td><td>NaN             </td><td>NONE            </td></tr>\n",
       "</tbody>\n",
       "</table>\n"
      ],
      "text/latex": [
       "\\begin{tabular}{r|lllllllllllllllllllll}\n",
       "  & \\_index & batch & celltype & cluster\\_id & donor\\_id & log1p\\_n\\_genes\\_by\\_counts & log1p\\_total\\_counts & log1p\\_total\\_counts\\_mito & n\\_counts\\_all & n\\_genes\\_by\\_counts & ... & pct\\_counts\\_in\\_top\\_200\\_genes & pct\\_counts\\_in\\_top\\_500\\_genes & pct\\_counts\\_in\\_top\\_50\\_genes & pct\\_counts\\_mito & pool\\_id & sample\\_id & time\\_point & total\\_counts & total\\_counts\\_mito & treatment\\\\\n",
       "\\hline\n",
       "\tAAACCTGAGAGCTATA-1-0-0 & NA                 & 0                  & DA                 & 0                  & HPSI0714i-iudw\\_1 & NaN                & NaN                & NaN                & 4370               & NaN                & ...                & NaN                & NaN                & NaN                & NaN                & pool1              & 5245STDY7387187    & D30                & NaN                & NaN                & NONE              \\\\\n",
       "\tAAACCTGCAATTGCTG-1-0-0 & NA                 & 0                  & DA                 & 0                  & HPSI0115i-paim\\_1 & NaN                & NaN                & NaN                & 4429               & NaN                & ...                & NaN                & NaN                & NaN                & NaN                & pool1              & 5245STDY7387187    & D30                & NaN                & NaN                & NONE              \\\\\n",
       "\\end{tabular}\n"
      ],
      "text/markdown": [
       "\n",
       "| <!--/--> | _index | batch | celltype | cluster_id | donor_id | log1p_n_genes_by_counts | log1p_total_counts | log1p_total_counts_mito | n_counts_all | n_genes_by_counts | ... | pct_counts_in_top_200_genes | pct_counts_in_top_500_genes | pct_counts_in_top_50_genes | pct_counts_mito | pool_id | sample_id | time_point | total_counts | total_counts_mito | treatment |\n",
       "|---|---|---|---|---|---|---|---|---|---|---|---|---|---|---|---|---|---|---|---|---|---|\n",
       "| AAACCTGAGAGCTATA-1-0-0 | NA               | 0                | DA               | 0                | HPSI0714i-iudw_1 | NaN              | NaN              | NaN              | 4370             | NaN              | ...              | NaN              | NaN              | NaN              | NaN              | pool1            | 5245STDY7387187  | D30              | NaN              | NaN              | NONE             |\n",
       "| AAACCTGCAATTGCTG-1-0-0 | NA               | 0                | DA               | 0                | HPSI0115i-paim_1 | NaN              | NaN              | NaN              | 4429             | NaN              | ...              | NaN              | NaN              | NaN              | NaN              | pool1            | 5245STDY7387187  | D30              | NaN              | NaN              | NONE             |\n",
       "\n"
      ],
      "text/plain": [
       "                       _index batch celltype cluster_id donor_id        \n",
       "AAACCTGAGAGCTATA-1-0-0 NA     0     DA       0          HPSI0714i-iudw_1\n",
       "AAACCTGCAATTGCTG-1-0-0 NA     0     DA       0          HPSI0115i-paim_1\n",
       "                       log1p_n_genes_by_counts log1p_total_counts\n",
       "AAACCTGAGAGCTATA-1-0-0 NaN                     NaN               \n",
       "AAACCTGCAATTGCTG-1-0-0 NaN                     NaN               \n",
       "                       log1p_total_counts_mito n_counts_all n_genes_by_counts\n",
       "AAACCTGAGAGCTATA-1-0-0 NaN                     4370         NaN              \n",
       "AAACCTGCAATTGCTG-1-0-0 NaN                     4429         NaN              \n",
       "                       ... pct_counts_in_top_200_genes\n",
       "AAACCTGAGAGCTATA-1-0-0 ... NaN                        \n",
       "AAACCTGCAATTGCTG-1-0-0 ... NaN                        \n",
       "                       pct_counts_in_top_500_genes pct_counts_in_top_50_genes\n",
       "AAACCTGAGAGCTATA-1-0-0 NaN                         NaN                       \n",
       "AAACCTGCAATTGCTG-1-0-0 NaN                         NaN                       \n",
       "                       pct_counts_mito pool_id sample_id       time_point\n",
       "AAACCTGAGAGCTATA-1-0-0 NaN             pool1   5245STDY7387187 D30       \n",
       "AAACCTGCAATTGCTG-1-0-0 NaN             pool1   5245STDY7387187 D30       \n",
       "                       total_counts total_counts_mito treatment\n",
       "AAACCTGAGAGCTATA-1-0-0 NaN          NaN               NONE     \n",
       "AAACCTGCAATTGCTG-1-0-0 NaN          NaN               NONE     "
      ]
     },
     "metadata": {},
     "output_type": "display_data"
    }
   ],
   "source": [
    "head(df,2)"
   ]
  },
  {
   "cell_type": "code",
   "execution_count": 35,
   "metadata": {},
   "outputs": [
    {
     "data": {
      "text/html": [
       "<table>\n",
       "<thead><tr><th></th><th scope=col>celltype</th><th scope=col>donor_id</th><th scope=col>sample_id</th><th scope=col>pool_id</th><th scope=col>time_point</th><th scope=col>treatment</th><th scope=col>index</th></tr></thead>\n",
       "<tbody>\n",
       "\t<tr><th scope=row>AAACCTGAGAGCTATA-1-0-0</th><td>DA                    </td><td>HPSI0714i-iudw_1      </td><td>5245STDY7387187       </td><td>pool1                 </td><td>D30                   </td><td>NONE                  </td><td>AAACCTGAGAGCTATA-1-0-0</td></tr>\n",
       "\t<tr><th scope=row>AAACCTGCAATTGCTG-1-0-0</th><td>DA                    </td><td>HPSI0115i-paim_1      </td><td>5245STDY7387187       </td><td>pool1                 </td><td>D30                   </td><td>NONE                  </td><td>AAACCTGCAATTGCTG-1-0-0</td></tr>\n",
       "</tbody>\n",
       "</table>\n"
      ],
      "text/latex": [
       "\\begin{tabular}{r|lllllll}\n",
       "  & celltype & donor\\_id & sample\\_id & pool\\_id & time\\_point & treatment & index\\\\\n",
       "\\hline\n",
       "\tAAACCTGAGAGCTATA-1-0-0 & DA                     & HPSI0714i-iudw\\_1     & 5245STDY7387187        & pool1                  & D30                    & NONE                   & AAACCTGAGAGCTATA-1-0-0\\\\\n",
       "\tAAACCTGCAATTGCTG-1-0-0 & DA                     & HPSI0115i-paim\\_1     & 5245STDY7387187        & pool1                  & D30                    & NONE                   & AAACCTGCAATTGCTG-1-0-0\\\\\n",
       "\\end{tabular}\n"
      ],
      "text/markdown": [
       "\n",
       "| <!--/--> | celltype | donor_id | sample_id | pool_id | time_point | treatment | index |\n",
       "|---|---|---|---|---|---|---|---|\n",
       "| AAACCTGAGAGCTATA-1-0-0 | DA                     | HPSI0714i-iudw_1       | 5245STDY7387187        | pool1                  | D30                    | NONE                   | AAACCTGAGAGCTATA-1-0-0 |\n",
       "| AAACCTGCAATTGCTG-1-0-0 | DA                     | HPSI0115i-paim_1       | 5245STDY7387187        | pool1                  | D30                    | NONE                   | AAACCTGCAATTGCTG-1-0-0 |\n",
       "\n"
      ],
      "text/plain": [
       "                       celltype donor_id         sample_id       pool_id\n",
       "AAACCTGAGAGCTATA-1-0-0 DA       HPSI0714i-iudw_1 5245STDY7387187 pool1  \n",
       "AAACCTGCAATTGCTG-1-0-0 DA       HPSI0115i-paim_1 5245STDY7387187 pool1  \n",
       "                       time_point treatment index                 \n",
       "AAACCTGAGAGCTATA-1-0-0 D30        NONE      AAACCTGAGAGCTATA-1-0-0\n",
       "AAACCTGCAATTGCTG-1-0-0 D30        NONE      AAACCTGCAATTGCTG-1-0-0"
      ]
     },
     "metadata": {},
     "output_type": "display_data"
    }
   ],
   "source": [
    "cData_raw = df[,c(\"celltype\",\"donor_id\",\"sample_id\",\"pool_id\",\"time_point\",\"treatment\")]\n",
    "cData_raw$index = rownames(cData_raw)\n",
    "head(cData_raw,2)"
   ]
  },
  {
   "cell_type": "code",
   "execution_count": 36,
   "metadata": {},
   "outputs": [],
   "source": [
    "cData <- as.data.frame(cData_raw)\n",
    "cData_R_filename = \"/hps/nobackup/stegle/users/acuomo/all_scripts/struct_LMM2/sc_neuroseq/all_da_cells_cData.Rds\"\n",
    "saveRDS(cData, file = cData_R_filename)"
   ]
  },
  {
   "cell_type": "code",
   "execution_count": null,
   "metadata": {},
   "outputs": [],
   "source": [
    "# build the sce object\n",
    "sce <- SingleCellExperiment(\n",
    "assays = list(counts = sMat),\n",
    "colData = cData)\n",
    "sce"
   ]
  },
  {
   "cell_type": "code",
   "execution_count": null,
   "metadata": {},
   "outputs": [],
   "source": [
    "sce_R_filename = \"/hps/nobackup/stegle/users/acuomo/all_scripts/struct_LMM2/sc_neuroseq/all_da_cells_sce.Rds\"\n",
    "saveRDS(sce, file = sce_R_filename)"
   ]
  },
  {
   "cell_type": "code",
   "execution_count": null,
   "metadata": {},
   "outputs": [],
   "source": []
  }
 ],
 "metadata": {
  "kernelspec": {
   "display_name": "R",
   "language": "R",
   "name": "ir"
  },
  "language_info": {
   "codemirror_mode": "r",
   "file_extension": ".r",
   "mimetype": "text/x-r-source",
   "name": "R",
   "pygments_lexer": "r",
   "version": "3.6.1"
  }
 },
 "nbformat": 4,
 "nbformat_minor": 4
}
