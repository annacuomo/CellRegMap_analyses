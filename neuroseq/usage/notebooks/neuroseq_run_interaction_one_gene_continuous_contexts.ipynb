{
 "cells": [
  {
   "cell_type": "code",
   "execution_count": 1,
   "metadata": {},
   "outputs": [],
   "source": [
    "# import re\n",
    "# import os\n",
    "# import sys\n",
    "# import time\n",
    "import pandas as pd\n",
    "import xarray as xr\n",
    "from numpy import ones\n",
    "from numpy.linalg import cholesky\n",
    "from pandas_plink import read_plink1_bin\n",
    "from limix.qc import quantile_gaussianize"
   ]
  },
  {
   "cell_type": "code",
   "execution_count": 2,
   "metadata": {},
   "outputs": [],
   "source": [
    "from cellregmap import run_interaction"
   ]
  },
  {
   "cell_type": "code",
   "execution_count": 3,
   "metadata": {},
   "outputs": [],
   "source": [
    "chrom = 22"
   ]
  },
  {
   "cell_type": "code",
   "execution_count": 4,
   "metadata": {},
   "outputs": [],
   "source": [
    "## input files folder\n",
    "input_files_dir = \"/hps/nobackup/stegle/users/acuomo/all_scripts/struct_LMM2/sc_neuroseq/May2021/input_files/\""
   ]
  },
  {
   "cell_type": "code",
   "execution_count": 5,
   "metadata": {},
   "outputs": [],
   "source": [
    "############################################\n",
    "########## Sample mapping file #############\n",
    "############################################"
   ]
  },
  {
   "cell_type": "code",
   "execution_count": 6,
   "metadata": {},
   "outputs": [
    {
     "data": {
      "text/html": [
       "<div>\n",
       "<style scoped>\n",
       "    .dataframe tbody tr th:only-of-type {\n",
       "        vertical-align: middle;\n",
       "    }\n",
       "\n",
       "    .dataframe tbody tr th {\n",
       "        vertical-align: top;\n",
       "    }\n",
       "\n",
       "    .dataframe thead th {\n",
       "        text-align: right;\n",
       "    }\n",
       "</style>\n",
       "<table border=\"1\" class=\"dataframe\">\n",
       "  <thead>\n",
       "    <tr style=\"text-align: right;\">\n",
       "      <th></th>\n",
       "      <th>genotype_individual_id</th>\n",
       "      <th>phenotype_sample_id</th>\n",
       "    </tr>\n",
       "  </thead>\n",
       "  <tbody>\n",
       "    <tr>\n",
       "      <th>0</th>\n",
       "      <td>HPSI0714i-iudw_1</td>\n",
       "      <td>HPSI0714i-iudw_1--DA--d30--0</td>\n",
       "    </tr>\n",
       "    <tr>\n",
       "      <th>1</th>\n",
       "      <td>HPSI0714i-iudw_1</td>\n",
       "      <td>HPSI0714i-iudw_1--DA--d30--1</td>\n",
       "    </tr>\n",
       "    <tr>\n",
       "      <th>2</th>\n",
       "      <td>HPSI0714i-iudw_1</td>\n",
       "      <td>HPSI0714i-iudw_1--DA--d30--2</td>\n",
       "    </tr>\n",
       "    <tr>\n",
       "      <th>3</th>\n",
       "      <td>HPSI0714i-iudw_1</td>\n",
       "      <td>HPSI0714i-iudw_1--DA--d30--3</td>\n",
       "    </tr>\n",
       "    <tr>\n",
       "      <th>4</th>\n",
       "      <td>HPSI0714i-iudw_1</td>\n",
       "      <td>HPSI0714i-iudw_1--DA--d30--4</td>\n",
       "    </tr>\n",
       "  </tbody>\n",
       "</table>\n",
       "</div>"
      ],
      "text/plain": [
       "  genotype_individual_id           phenotype_sample_id\n",
       "0       HPSI0714i-iudw_1  HPSI0714i-iudw_1--DA--d30--0\n",
       "1       HPSI0714i-iudw_1  HPSI0714i-iudw_1--DA--d30--1\n",
       "2       HPSI0714i-iudw_1  HPSI0714i-iudw_1--DA--d30--2\n",
       "3       HPSI0714i-iudw_1  HPSI0714i-iudw_1--DA--d30--3\n",
       "4       HPSI0714i-iudw_1  HPSI0714i-iudw_1--DA--d30--4"
      ]
     },
     "execution_count": 6,
     "metadata": {},
     "output_type": "execute_result"
    }
   ],
   "source": [
    "## this file will map pseudocells to donors, it will also only including donors we have single cell data (a subset of all of HipSci donors)\n",
    "sample_mapping_file = input_files_dir+\"sample_mapping_file.csv\"\n",
    "sample_mapping = pd.read_csv(sample_mapping_file, dtype={\"genotype_individual_id\": str, \"phenotype_sample_id\": str})\n",
    "sample_mapping.head()"
   ]
  },
  {
   "cell_type": "code",
   "execution_count": 7,
   "metadata": {},
   "outputs": [
    {
     "name": "stdout",
     "output_type": "stream",
     "text": [
      "Number of unique donors: 191\n"
     ]
    }
   ],
   "source": [
    "## extract unique individuals\n",
    "donors = sample_mapping[\"genotype_individual_id\"].unique()\n",
    "donors.sort()\n",
    "print(\"Number of unique donors: {}\".format(len(donors)))"
   ]
  },
  {
   "cell_type": "code",
   "execution_count": 8,
   "metadata": {},
   "outputs": [],
   "source": [
    "############################################\n",
    "############# Kinship matrix ###############\n",
    "############################################"
   ]
  },
  {
   "cell_type": "code",
   "execution_count": 9,
   "metadata": {},
   "outputs": [],
   "source": [
    "## read in GRM (genotype relationship matrix; kinship matrix)\n",
    "kinship_folder=\"/hps/nobackup/hipsci/scratch/genotypes/imputed/2017-03-27/Full_Filtered_SNPs_Plink-F/\"\n",
    "kinship_file=kinship_folder+\"hipsci.wec.gtarray.HumanCoreExome.imputed_phased.20170327.genotypes.norm.renamed.kinship\"\n",
    "K = pd.read_csv(kinship_file, sep=\"\\t\", index_col=0)\n",
    "assert all(K.columns == K.index) #symmetric matrix, donors x donors"
   ]
  },
  {
   "cell_type": "code",
   "execution_count": 10,
   "metadata": {},
   "outputs": [
    {
     "name": "stdout",
     "output_type": "stream",
     "text": [
      "Number of donors after kinship intersection: 173\n"
     ]
    }
   ],
   "source": [
    "K = xr.DataArray(K.values, dims=[\"sample_0\", \"sample_1\"], coords={\"sample_0\": K.columns, \"sample_1\": K.index})\n",
    "K = K.sortby(\"sample_0\").sortby(\"sample_1\")\n",
    "donors = sorted(set(list(K.sample_0.values)).intersection(donors))\n",
    "print(\"Number of donors after kinship intersection: {}\".format(len(donors)))"
   ]
  },
  {
   "cell_type": "code",
   "execution_count": 11,
   "metadata": {},
   "outputs": [],
   "source": [
    "## subset to relevant donors\n",
    "K = K.sel(sample_0=donors, sample_1=donors)\n",
    "assert all(K.sample_0 == donors)\n",
    "assert all(K.sample_1 == donors)"
   ]
  },
  {
   "cell_type": "code",
   "execution_count": 12,
   "metadata": {},
   "outputs": [],
   "source": [
    "## and decompose such as K = hK @ hK.T (using Cholesky decomposition)\n",
    "hK = cholesky(K.values)\n",
    "hK = xr.DataArray(hK, dims=[\"sample\", \"col\"], coords={\"sample\": K.sample_0.values})\n",
    "assert all(hK.sample.values == K.sample_0.values)\n",
    "del K"
   ]
  },
  {
   "cell_type": "code",
   "execution_count": 13,
   "metadata": {},
   "outputs": [
    {
     "name": "stdout",
     "output_type": "stream",
     "text": [
      "Sample mapping number of rows BEFORE intersection: 9219\n",
      "Sample mapping number of rows AFTER intersection: 8352\n"
     ]
    }
   ],
   "source": [
    "print(\"Sample mapping number of rows BEFORE intersection: {}\".format(sample_mapping.shape[0]))\n",
    "## subsample sample mapping file to donors in the kinship matrix\n",
    "sample_mapping = sample_mapping[sample_mapping[\"genotype_individual_id\"].isin(donors)]\n",
    "print(\"Sample mapping number of rows AFTER intersection: {}\".format(sample_mapping.shape[0]))"
   ]
  },
  {
   "cell_type": "code",
   "execution_count": 14,
   "metadata": {},
   "outputs": [],
   "source": [
    "############################################\n",
    "##### expand from donors to cells ##########\n",
    "\n",
    "## use sel from xarray to expand hK (using the sample mapping file)\n",
    "hK_expanded = hK.sel(sample=sample_mapping[\"genotype_individual_id\"].values)\n",
    "assert all(hK_expanded.sample.values == sample_mapping[\"genotype_individual_id\"].values)"
   ]
  },
  {
   "cell_type": "code",
   "execution_count": 15,
   "metadata": {},
   "outputs": [
    {
     "data": {
      "text/plain": [
       "(8352, 173)"
      ]
     },
     "execution_count": 15,
     "metadata": {},
     "output_type": "execute_result"
    }
   ],
   "source": [
    "hK_expanded.shape"
   ]
  },
  {
   "cell_type": "code",
   "execution_count": null,
   "metadata": {},
   "outputs": [],
   "source": []
  },
  {
   "cell_type": "code",
   "execution_count": 16,
   "metadata": {},
   "outputs": [],
   "source": [
    "#####################################\n",
    "############ Genotypes ##############\n",
    "#####################################"
   ]
  },
  {
   "cell_type": "code",
   "execution_count": 17,
   "metadata": {},
   "outputs": [
    {
     "name": "stderr",
     "output_type": "stream",
     "text": [
      "Mapping files: 100%|██████████| 3/3 [05:49<00:00, 116.48s/it]\n"
     ]
    }
   ],
   "source": [
    "## read in genotype file (plink format)\n",
    "plink_folder = \"/hps/nobackup/hipsci/scratch/genotypes/imputed/2017-03-27/Full_Filtered_SNPs_Plink/\"\n",
    "plink_file = plink_folder+\"hipsci.wec.gtarray.HumanCoreExome.imputed_phased.20170327.genotypes.norm.renamed.bed\"\n",
    "G = read_plink1_bin(plink_file)"
   ]
  },
  {
   "cell_type": "code",
   "execution_count": 18,
   "metadata": {},
   "outputs": [
    {
     "data": {
      "text/plain": [
       "(1610, 10464962)"
      ]
     },
     "execution_count": 18,
     "metadata": {},
     "output_type": "execute_result"
    }
   ],
   "source": [
    "G.shape"
   ]
  },
  {
   "cell_type": "code",
   "execution_count": null,
   "metadata": {},
   "outputs": [],
   "source": []
  },
  {
   "cell_type": "code",
   "execution_count": null,
   "metadata": {},
   "outputs": [],
   "source": []
  },
  {
   "cell_type": "code",
   "execution_count": 19,
   "metadata": {},
   "outputs": [],
   "source": [
    "######################################\n",
    "########## Cell contexts #############\n",
    "######################################"
   ]
  },
  {
   "cell_type": "code",
   "execution_count": 20,
   "metadata": {},
   "outputs": [
    {
     "data": {
      "text/html": [
       "<div>\n",
       "<style scoped>\n",
       "    .dataframe tbody tr th:only-of-type {\n",
       "        vertical-align: middle;\n",
       "    }\n",
       "\n",
       "    .dataframe tbody tr th {\n",
       "        vertical-align: top;\n",
       "    }\n",
       "\n",
       "    .dataframe thead th {\n",
       "        text-align: right;\n",
       "    }\n",
       "</style>\n",
       "<table border=\"1\" class=\"dataframe\">\n",
       "  <thead>\n",
       "    <tr style=\"text-align: right;\">\n",
       "      <th></th>\n",
       "      <th>MOFA1</th>\n",
       "      <th>MOFA2</th>\n",
       "      <th>MOFA3</th>\n",
       "      <th>MOFA4</th>\n",
       "      <th>MOFA5</th>\n",
       "      <th>MOFA6</th>\n",
       "      <th>MOFA7</th>\n",
       "      <th>MOFA8</th>\n",
       "      <th>MOFA9</th>\n",
       "      <th>MOFA10</th>\n",
       "      <th>MOFA11</th>\n",
       "      <th>MOFA12</th>\n",
       "      <th>MOFA13</th>\n",
       "      <th>MOFA14</th>\n",
       "      <th>MOFA15</th>\n",
       "      <th>MOFA16</th>\n",
       "      <th>MOFA17</th>\n",
       "      <th>MOFA18</th>\n",
       "      <th>MOFA19</th>\n",
       "      <th>MOFA20</th>\n",
       "    </tr>\n",
       "  </thead>\n",
       "  <tbody>\n",
       "    <tr>\n",
       "      <th>HPSI0714i-iudw_1--DA--d30--0</th>\n",
       "      <td>1.666456</td>\n",
       "      <td>0.589292</td>\n",
       "      <td>-1.218032</td>\n",
       "      <td>0.533271</td>\n",
       "      <td>-0.114718</td>\n",
       "      <td>-0.700450</td>\n",
       "      <td>-0.872012</td>\n",
       "      <td>-0.722233</td>\n",
       "      <td>0.145421</td>\n",
       "      <td>0.255173</td>\n",
       "      <td>-0.153703</td>\n",
       "      <td>0.046562</td>\n",
       "      <td>0.933561</td>\n",
       "      <td>-0.303333</td>\n",
       "      <td>-1.420607</td>\n",
       "      <td>0.376046</td>\n",
       "      <td>-1.375035</td>\n",
       "      <td>-1.321022</td>\n",
       "      <td>0.036285</td>\n",
       "      <td>-0.523784</td>\n",
       "    </tr>\n",
       "    <tr>\n",
       "      <th>HPSI0714i-iudw_1--DA--d30--1</th>\n",
       "      <td>1.793275</td>\n",
       "      <td>-1.089708</td>\n",
       "      <td>0.516194</td>\n",
       "      <td>0.303165</td>\n",
       "      <td>-0.370706</td>\n",
       "      <td>-0.636298</td>\n",
       "      <td>1.135930</td>\n",
       "      <td>0.246662</td>\n",
       "      <td>-0.323239</td>\n",
       "      <td>-0.328950</td>\n",
       "      <td>0.297498</td>\n",
       "      <td>0.106488</td>\n",
       "      <td>1.434802</td>\n",
       "      <td>0.173501</td>\n",
       "      <td>1.149061</td>\n",
       "      <td>-0.520607</td>\n",
       "      <td>0.887738</td>\n",
       "      <td>-0.130147</td>\n",
       "      <td>0.941842</td>\n",
       "      <td>0.661152</td>\n",
       "    </tr>\n",
       "    <tr>\n",
       "      <th>HPSI0714i-iudw_1--DA--d30--2</th>\n",
       "      <td>1.460173</td>\n",
       "      <td>-0.920466</td>\n",
       "      <td>0.433373</td>\n",
       "      <td>0.838284</td>\n",
       "      <td>0.041792</td>\n",
       "      <td>-0.349312</td>\n",
       "      <td>-0.566510</td>\n",
       "      <td>0.033184</td>\n",
       "      <td>-0.294749</td>\n",
       "      <td>1.647099</td>\n",
       "      <td>-0.244315</td>\n",
       "      <td>1.193586</td>\n",
       "      <td>0.234430</td>\n",
       "      <td>1.367610</td>\n",
       "      <td>-1.354624</td>\n",
       "      <td>-0.435662</td>\n",
       "      <td>-0.001934</td>\n",
       "      <td>0.004343</td>\n",
       "      <td>-0.109958</td>\n",
       "      <td>-0.029995</td>\n",
       "    </tr>\n",
       "    <tr>\n",
       "      <th>HPSI0714i-iudw_1--DA--d30--3</th>\n",
       "      <td>2.135217</td>\n",
       "      <td>0.007668</td>\n",
       "      <td>-0.340678</td>\n",
       "      <td>0.169422</td>\n",
       "      <td>-0.487267</td>\n",
       "      <td>-0.947462</td>\n",
       "      <td>0.234383</td>\n",
       "      <td>-0.442354</td>\n",
       "      <td>0.556301</td>\n",
       "      <td>0.434645</td>\n",
       "      <td>0.031946</td>\n",
       "      <td>0.581785</td>\n",
       "      <td>0.673075</td>\n",
       "      <td>0.188795</td>\n",
       "      <td>-1.246520</td>\n",
       "      <td>1.037264</td>\n",
       "      <td>-0.689319</td>\n",
       "      <td>-0.844010</td>\n",
       "      <td>1.148122</td>\n",
       "      <td>0.371534</td>\n",
       "    </tr>\n",
       "    <tr>\n",
       "      <th>HPSI0714i-iudw_1--DA--d30--4</th>\n",
       "      <td>-0.299618</td>\n",
       "      <td>-1.471801</td>\n",
       "      <td>-0.559841</td>\n",
       "      <td>-0.287968</td>\n",
       "      <td>-0.071475</td>\n",
       "      <td>-0.094412</td>\n",
       "      <td>-0.972754</td>\n",
       "      <td>0.581462</td>\n",
       "      <td>-1.232076</td>\n",
       "      <td>-0.334227</td>\n",
       "      <td>-0.414754</td>\n",
       "      <td>1.178597</td>\n",
       "      <td>0.021825</td>\n",
       "      <td>-0.070580</td>\n",
       "      <td>-0.086396</td>\n",
       "      <td>0.656685</td>\n",
       "      <td>0.007250</td>\n",
       "      <td>-0.023221</td>\n",
       "      <td>-1.766547</td>\n",
       "      <td>-1.082093</td>\n",
       "    </tr>\n",
       "  </tbody>\n",
       "</table>\n",
       "</div>"
      ],
      "text/plain": [
       "                                 MOFA1     MOFA2     MOFA3     MOFA4  \\\n",
       "HPSI0714i-iudw_1--DA--d30--0  1.666456  0.589292 -1.218032  0.533271   \n",
       "HPSI0714i-iudw_1--DA--d30--1  1.793275 -1.089708  0.516194  0.303165   \n",
       "HPSI0714i-iudw_1--DA--d30--2  1.460173 -0.920466  0.433373  0.838284   \n",
       "HPSI0714i-iudw_1--DA--d30--3  2.135217  0.007668 -0.340678  0.169422   \n",
       "HPSI0714i-iudw_1--DA--d30--4 -0.299618 -1.471801 -0.559841 -0.287968   \n",
       "\n",
       "                                 MOFA5     MOFA6     MOFA7     MOFA8  \\\n",
       "HPSI0714i-iudw_1--DA--d30--0 -0.114718 -0.700450 -0.872012 -0.722233   \n",
       "HPSI0714i-iudw_1--DA--d30--1 -0.370706 -0.636298  1.135930  0.246662   \n",
       "HPSI0714i-iudw_1--DA--d30--2  0.041792 -0.349312 -0.566510  0.033184   \n",
       "HPSI0714i-iudw_1--DA--d30--3 -0.487267 -0.947462  0.234383 -0.442354   \n",
       "HPSI0714i-iudw_1--DA--d30--4 -0.071475 -0.094412 -0.972754  0.581462   \n",
       "\n",
       "                                 MOFA9    MOFA10    MOFA11    MOFA12  \\\n",
       "HPSI0714i-iudw_1--DA--d30--0  0.145421  0.255173 -0.153703  0.046562   \n",
       "HPSI0714i-iudw_1--DA--d30--1 -0.323239 -0.328950  0.297498  0.106488   \n",
       "HPSI0714i-iudw_1--DA--d30--2 -0.294749  1.647099 -0.244315  1.193586   \n",
       "HPSI0714i-iudw_1--DA--d30--3  0.556301  0.434645  0.031946  0.581785   \n",
       "HPSI0714i-iudw_1--DA--d30--4 -1.232076 -0.334227 -0.414754  1.178597   \n",
       "\n",
       "                                MOFA13    MOFA14    MOFA15    MOFA16  \\\n",
       "HPSI0714i-iudw_1--DA--d30--0  0.933561 -0.303333 -1.420607  0.376046   \n",
       "HPSI0714i-iudw_1--DA--d30--1  1.434802  0.173501  1.149061 -0.520607   \n",
       "HPSI0714i-iudw_1--DA--d30--2  0.234430  1.367610 -1.354624 -0.435662   \n",
       "HPSI0714i-iudw_1--DA--d30--3  0.673075  0.188795 -1.246520  1.037264   \n",
       "HPSI0714i-iudw_1--DA--d30--4  0.021825 -0.070580 -0.086396  0.656685   \n",
       "\n",
       "                                MOFA17    MOFA18    MOFA19    MOFA20  \n",
       "HPSI0714i-iudw_1--DA--d30--0 -1.375035 -1.321022  0.036285 -0.523784  \n",
       "HPSI0714i-iudw_1--DA--d30--1  0.887738 -0.130147  0.941842  0.661152  \n",
       "HPSI0714i-iudw_1--DA--d30--2 -0.001934  0.004343 -0.109958 -0.029995  \n",
       "HPSI0714i-iudw_1--DA--d30--3 -0.689319 -0.844010  1.148122  0.371534  \n",
       "HPSI0714i-iudw_1--DA--d30--4  0.007250 -0.023221 -1.766547 -1.082093  "
      ]
     },
     "execution_count": 20,
     "metadata": {},
     "output_type": "execute_result"
    }
   ],
   "source": [
    "# cells by MOFA factors (20)\n",
    "C_file = input_files_dir+\"MOFA_20.csv\"\n",
    "C = pd.read_csv(C_file, index_col = 0)\n",
    "C.head()"
   ]
  },
  {
   "cell_type": "code",
   "execution_count": 21,
   "metadata": {},
   "outputs": [],
   "source": [
    "C = xr.DataArray(C.values, dims=[\"cell\", \"pc\"], coords={\"cell\": C.index.values, \"pc\": C.columns.values})\n",
    "C = C.sel(cell=sample_mapping[\"phenotype_sample_id\"].values)\n",
    "assert all(C.cell.values == sample_mapping[\"phenotype_sample_id\"].values)"
   ]
  },
  {
   "cell_type": "code",
   "execution_count": 22,
   "metadata": {},
   "outputs": [],
   "source": [
    "# quantile normalise cell contexts\n",
    "C_gauss = quantile_gaussianize(C)"
   ]
  },
  {
   "cell_type": "code",
   "execution_count": null,
   "metadata": {},
   "outputs": [],
   "source": []
  },
  {
   "cell_type": "code",
   "execution_count": 23,
   "metadata": {},
   "outputs": [],
   "source": [
    "#####################################\n",
    "############ Phenotypes #############\n",
    "#####################################"
   ]
  },
  {
   "cell_type": "code",
   "execution_count": 24,
   "metadata": {},
   "outputs": [],
   "source": [
    "# Phenotype (meta-cell gene expression)\n",
    "phenotype_file = \"/hps/nobackup/stegle/users/acuomo/all_scripts/struct_LMM2/sc_neuroseq/input_files/DA_all_conditions/phenotype.csv.pkl\"\n",
    "phenotype = pd.read_pickle(phenotype_file)"
   ]
  },
  {
   "cell_type": "code",
   "execution_count": 25,
   "metadata": {},
   "outputs": [
    {
     "name": "stdout",
     "output_type": "stream",
     "text": [
      "Phenotype shape BEFORE selection: (32738, 9982)\n",
      "Phenotype shape AFTER selection: (32738, 8352)\n"
     ]
    }
   ],
   "source": [
    "print(\"Phenotype shape BEFORE selection: {}\".format(phenotype.shape))\n",
    "phenotype = xr.DataArray(phenotype.values, dims=[\"trait\", \"cell\"], coords={\"trait\": phenotype.index.values, \"cell\": phenotype.columns.values})\n",
    "phenotype = phenotype.sel(cell=sample_mapping[\"phenotype_sample_id\"].values)\n",
    "print(\"Phenotype shape AFTER selection: {}\".format(phenotype.shape))\n",
    "assert all(phenotype.cell.values == sample_mapping[\"phenotype_sample_id\"].values)"
   ]
  },
  {
   "cell_type": "code",
   "execution_count": null,
   "metadata": {},
   "outputs": [],
   "source": []
  },
  {
   "cell_type": "code",
   "execution_count": 26,
   "metadata": {},
   "outputs": [],
   "source": [
    "#####################################\n",
    "############ Filter file ############\n",
    "#####################################"
   ]
  },
  {
   "cell_type": "code",
   "execution_count": 27,
   "metadata": {},
   "outputs": [],
   "source": [
    "# Filter on specific gene-SNP pairs\n",
    "# eQTL from neuroseq DA (day30 + day52 + day52 ROT treated)\n",
    "neuro_eqtl_file = \"/hps/nobackup/stegle/users/acuomo/all_scripts/struct_LMM2/sc_neuroseq/input_files/DA_all_conditions/DA_eqtl_allconditions_FDR5pct.csv\" # consider filter further (significant only)\n",
    "neuro_eqtl = pd.read_csv(neuro_eqtl_file)\n",
    "neuro_eqtl[\"chrom\"] = [int(i[:i.find(\"_\")]) for i in neuro_eqtl[\"snp_id\"]]\n",
    "genes = neuro_eqtl[neuro_eqtl['chrom']==int(chrom)]['feature'].unique()"
   ]
  },
  {
   "cell_type": "code",
   "execution_count": 28,
   "metadata": {},
   "outputs": [
    {
     "data": {
      "text/plain": [
       "48"
      ]
     },
     "execution_count": 28,
     "metadata": {},
     "output_type": "execute_result"
    }
   ],
   "source": [
    "len(genes)"
   ]
  },
  {
   "cell_type": "code",
   "execution_count": 29,
   "metadata": {},
   "outputs": [
    {
     "data": {
      "text/plain": [
       "'MMP11'"
      ]
     },
     "execution_count": 29,
     "metadata": {},
     "output_type": "execute_result"
    }
   ],
   "source": [
    "i=0\n",
    "trait_name = genes[i]\n",
    "trait_name"
   ]
  },
  {
   "cell_type": "code",
   "execution_count": 30,
   "metadata": {},
   "outputs": [],
   "source": [
    "leads = neuro_eqtl[neuro_eqtl['feature']==trait_name]['snp_id'].unique()\n",
    "G_sel = G[:,G['snp'].isin(leads)]"
   ]
  },
  {
   "cell_type": "code",
   "execution_count": 31,
   "metadata": {},
   "outputs": [
    {
     "name": "stdout",
     "output_type": "stream",
     "text": [
      "(8352, 1)\n"
     ]
    },
    {
     "name": "stderr",
     "output_type": "stream",
     "text": [
      "/nfs/software/stegle/users/acuomo/conda-envs/struct-lmm2/lib/python3.8/site-packages/xarray/core/indexing.py:1369: PerformanceWarning: Slicing with an out-of-order index is generating 38 times more chunks\n",
      "  return self.array[key]\n"
     ]
    }
   ],
   "source": [
    "############################################\n",
    "##### expand from donors to cells ##########\n",
    "\n",
    "# expand out genotypes from cells to donors (and select relevant donors in the same step)\n",
    "G_expanded = G_sel.sel(sample=sample_mapping[\"genotype_individual_id\"].values)\n",
    "assert all(hK_expanded.sample.values == G_expanded.sample.values)\n",
    "\n",
    "print(G_expanded.shape)"
   ]
  },
  {
   "cell_type": "code",
   "execution_count": null,
   "metadata": {},
   "outputs": [],
   "source": []
  },
  {
   "cell_type": "code",
   "execution_count": 32,
   "metadata": {},
   "outputs": [
    {
     "name": "stdout",
     "output_type": "stream",
     "text": [
      "(8352, 1)\n"
     ]
    }
   ],
   "source": [
    "# select gene\n",
    "y = phenotype.sel(trait=trait_name)\n",
    "# quantile normalise\n",
    "y = quantile_gaussianize(y)\n",
    "# reshape\n",
    "y = y.values.reshape(y.shape[0],1)\n",
    "print(y.shape)"
   ]
  },
  {
   "cell_type": "code",
   "execution_count": 33,
   "metadata": {},
   "outputs": [],
   "source": [
    "######################################\n",
    "############ Covariates ##############\n",
    "######################################\n",
    "\n",
    "# just an intercept in this case\n",
    "n_cells = phenotype.shape[1]\n",
    "W = ones((n_cells, 1))"
   ]
  },
  {
   "cell_type": "code",
   "execution_count": 34,
   "metadata": {},
   "outputs": [
    {
     "name": "stdout",
     "output_type": "stream",
     "text": [
      "Running for gene MMP11\n"
     ]
    }
   ],
   "source": [
    "# unpack G\n",
    "GG = G_expanded.values\n",
    "print(\"Running for gene {}\".format(trait_name))"
   ]
  },
  {
   "cell_type": "code",
   "execution_count": 35,
   "metadata": {},
   "outputs": [
    {
     "name": "stderr",
     "output_type": "stream",
     "text": [
      "100%|██████████| 1/1 [01:35<00:00, 95.95s/it]\n"
     ]
    }
   ],
   "source": [
    "# run association test using CellRegMap\n",
    "pvals = run_interaction(y=y, W=W, E=C_gauss.values[:,0:10], E1=C_gauss.values[:,0:10], E2=C.values[:,0:20], G=GG, hK=hK_expanded)[0]"
   ]
  },
  {
   "cell_type": "code",
   "execution_count": 36,
   "metadata": {},
   "outputs": [
    {
     "data": {
      "text/plain": [
       "array([0.55012854])"
      ]
     },
     "execution_count": 36,
     "metadata": {},
     "output_type": "execute_result"
    }
   ],
   "source": [
    "pvals"
   ]
  },
  {
   "cell_type": "code",
   "execution_count": 37,
   "metadata": {},
   "outputs": [
    {
     "data": {
      "text/html": [
       "<div>\n",
       "<style scoped>\n",
       "    .dataframe tbody tr th:only-of-type {\n",
       "        vertical-align: middle;\n",
       "    }\n",
       "\n",
       "    .dataframe tbody tr th {\n",
       "        vertical-align: top;\n",
       "    }\n",
       "\n",
       "    .dataframe thead th {\n",
       "        text-align: right;\n",
       "    }\n",
       "</style>\n",
       "<table border=\"1\" class=\"dataframe\">\n",
       "  <thead>\n",
       "    <tr style=\"text-align: right;\">\n",
       "      <th></th>\n",
       "      <th>chrom</th>\n",
       "      <th>pv</th>\n",
       "      <th>variant</th>\n",
       "    </tr>\n",
       "  </thead>\n",
       "  <tbody>\n",
       "    <tr>\n",
       "      <th>0</th>\n",
       "      <td>22</td>\n",
       "      <td>0.550129</td>\n",
       "      <td>22_24158149_A_G</td>\n",
       "    </tr>\n",
       "  </tbody>\n",
       "</table>\n",
       "</div>"
      ],
      "text/plain": [
       "  chrom        pv          variant\n",
       "0    22  0.550129  22_24158149_A_G"
      ]
     },
     "execution_count": 37,
     "metadata": {},
     "output_type": "execute_result"
    }
   ],
   "source": [
    "pv = pd.DataFrame({\"chrom\":G_expanded.chrom.values,\n",
    "               \"pv\":pvals,\n",
    "               \"variant\":G_expanded.snp.values})\n",
    "pv.head()"
   ]
  },
  {
   "cell_type": "code",
   "execution_count": 47,
   "metadata": {},
   "outputs": [],
   "source": [
    "# pv.to_csv(outfilename, sep='\\t')"
   ]
  },
  {
   "cell_type": "code",
   "execution_count": null,
   "metadata": {},
   "outputs": [],
   "source": []
  },
  {
   "cell_type": "code",
   "execution_count": null,
   "metadata": {},
   "outputs": [],
   "source": []
  }
 ],
 "metadata": {
  "kernelspec": {
   "display_name": "Python (struct-lmm2)",
   "language": "python",
   "name": "struct-lmm2"
  },
  "language_info": {
   "codemirror_mode": {
    "name": "ipython",
    "version": 3
   },
   "file_extension": ".py",
   "mimetype": "text/x-python",
   "name": "python",
   "nbconvert_exporter": "python",
   "pygments_lexer": "ipython3",
   "version": "3.8.5"
  }
 },
 "nbformat": 4,
 "nbformat_minor": 4
}
