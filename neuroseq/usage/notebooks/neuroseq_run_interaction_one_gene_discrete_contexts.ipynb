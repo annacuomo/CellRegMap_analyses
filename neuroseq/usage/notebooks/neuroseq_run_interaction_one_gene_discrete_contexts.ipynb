{
 "cells": [
  {
   "cell_type": "code",
   "execution_count": 157,
   "metadata": {},
   "outputs": [],
   "source": [
    "import re\n",
    "import os\n",
    "import pandas as pd\n",
    "import xarray as xr\n",
    "from numpy import ones\n",
    "from numpy.linalg import cholesky\n",
    "from pandas_plink import read_plink1_bin\n",
    "from limix.qc import quantile_gaussianize"
   ]
  },
  {
   "cell_type": "code",
   "execution_count": 5,
   "metadata": {},
   "outputs": [],
   "source": [
    "from cellregmap import run_interaction"
   ]
  },
  {
   "cell_type": "code",
   "execution_count": 211,
   "metadata": {},
   "outputs": [],
   "source": [
    "chrom = 22"
   ]
  },
  {
   "cell_type": "code",
   "execution_count": 7,
   "metadata": {},
   "outputs": [],
   "source": [
    "## input files folder\n",
    "input_files_dir = \"/hps/nobackup/stegle/users/acuomo/all_scripts/struct_LMM2/sc_neuroseq/May2021/input_files/\""
   ]
  },
  {
   "cell_type": "code",
   "execution_count": 8,
   "metadata": {},
   "outputs": [],
   "source": [
    "############################################\n",
    "########## Sample mapping file #############\n",
    "############################################"
   ]
  },
  {
   "cell_type": "code",
   "execution_count": 9,
   "metadata": {},
   "outputs": [
    {
     "data": {
      "text/html": [
       "<div>\n",
       "<style scoped>\n",
       "    .dataframe tbody tr th:only-of-type {\n",
       "        vertical-align: middle;\n",
       "    }\n",
       "\n",
       "    .dataframe tbody tr th {\n",
       "        vertical-align: top;\n",
       "    }\n",
       "\n",
       "    .dataframe thead th {\n",
       "        text-align: right;\n",
       "    }\n",
       "</style>\n",
       "<table border=\"1\" class=\"dataframe\">\n",
       "  <thead>\n",
       "    <tr style=\"text-align: right;\">\n",
       "      <th></th>\n",
       "      <th>genotype_individual_id</th>\n",
       "      <th>phenotype_sample_id</th>\n",
       "    </tr>\n",
       "  </thead>\n",
       "  <tbody>\n",
       "    <tr>\n",
       "      <th>0</th>\n",
       "      <td>HPSI0714i-iudw_1</td>\n",
       "      <td>HPSI0714i-iudw_1--DA--d30--0</td>\n",
       "    </tr>\n",
       "    <tr>\n",
       "      <th>1</th>\n",
       "      <td>HPSI0714i-iudw_1</td>\n",
       "      <td>HPSI0714i-iudw_1--DA--d30--1</td>\n",
       "    </tr>\n",
       "    <tr>\n",
       "      <th>2</th>\n",
       "      <td>HPSI0714i-iudw_1</td>\n",
       "      <td>HPSI0714i-iudw_1--DA--d30--2</td>\n",
       "    </tr>\n",
       "    <tr>\n",
       "      <th>3</th>\n",
       "      <td>HPSI0714i-iudw_1</td>\n",
       "      <td>HPSI0714i-iudw_1--DA--d30--3</td>\n",
       "    </tr>\n",
       "    <tr>\n",
       "      <th>4</th>\n",
       "      <td>HPSI0714i-iudw_1</td>\n",
       "      <td>HPSI0714i-iudw_1--DA--d30--4</td>\n",
       "    </tr>\n",
       "  </tbody>\n",
       "</table>\n",
       "</div>"
      ],
      "text/plain": [
       "  genotype_individual_id           phenotype_sample_id\n",
       "0       HPSI0714i-iudw_1  HPSI0714i-iudw_1--DA--d30--0\n",
       "1       HPSI0714i-iudw_1  HPSI0714i-iudw_1--DA--d30--1\n",
       "2       HPSI0714i-iudw_1  HPSI0714i-iudw_1--DA--d30--2\n",
       "3       HPSI0714i-iudw_1  HPSI0714i-iudw_1--DA--d30--3\n",
       "4       HPSI0714i-iudw_1  HPSI0714i-iudw_1--DA--d30--4"
      ]
     },
     "execution_count": 9,
     "metadata": {},
     "output_type": "execute_result"
    }
   ],
   "source": [
    "## this file will map pseudocells to donors, it will also only including donors we have single cell data (a subset of all of HipSci donors)\n",
    "sample_mapping_file = input_files_dir+\"sample_mapping_file.csv\"\n",
    "sample_mapping = pd.read_csv(sample_mapping_file, dtype={\"genotype_individual_id\": str, \"phenotype_sample_id\": str})\n",
    "sample_mapping.head()"
   ]
  },
  {
   "cell_type": "code",
   "execution_count": 10,
   "metadata": {},
   "outputs": [
    {
     "name": "stdout",
     "output_type": "stream",
     "text": [
      "Number of unique donors: 191\n"
     ]
    }
   ],
   "source": [
    "## extract unique individuals\n",
    "donors = sample_mapping[\"genotype_individual_id\"].unique()\n",
    "donors.sort()\n",
    "print(\"Number of unique donors: {}\".format(len(donors)))"
   ]
  },
  {
   "cell_type": "code",
   "execution_count": 11,
   "metadata": {},
   "outputs": [],
   "source": [
    "############################################\n",
    "############# Kinship matrix ###############\n",
    "############################################"
   ]
  },
  {
   "cell_type": "code",
   "execution_count": 12,
   "metadata": {},
   "outputs": [],
   "source": [
    "## read in GRM (genotype relationship matrix; kinship matrix)\n",
    "kinship_folder=\"/hps/nobackup/hipsci/scratch/genotypes/imputed/2017-03-27/Full_Filtered_SNPs_Plink-F/\"\n",
    "kinship_file=kinship_folder+\"hipsci.wec.gtarray.HumanCoreExome.imputed_phased.20170327.genotypes.norm.renamed.kinship\"\n",
    "K = pd.read_csv(kinship_file, sep=\"\\t\", index_col=0)\n",
    "assert all(K.columns == K.index) #symmetric matrix, donors x donors"
   ]
  },
  {
   "cell_type": "code",
   "execution_count": 13,
   "metadata": {},
   "outputs": [
    {
     "name": "stdout",
     "output_type": "stream",
     "text": [
      "Number of donors after kinship intersection: 173\n"
     ]
    }
   ],
   "source": [
    "K = xr.DataArray(K.values, dims=[\"sample_0\", \"sample_1\"], coords={\"sample_0\": K.columns, \"sample_1\": K.index})\n",
    "K = K.sortby(\"sample_0\").sortby(\"sample_1\")\n",
    "donors = sorted(set(list(K.sample_0.values)).intersection(donors))\n",
    "print(\"Number of donors after kinship intersection: {}\".format(len(donors)))"
   ]
  },
  {
   "cell_type": "code",
   "execution_count": 14,
   "metadata": {},
   "outputs": [],
   "source": [
    "## subset to relevant donors\n",
    "K = K.sel(sample_0=donors, sample_1=donors)\n",
    "assert all(K.sample_0 == donors)\n",
    "assert all(K.sample_1 == donors)"
   ]
  },
  {
   "cell_type": "code",
   "execution_count": 15,
   "metadata": {},
   "outputs": [],
   "source": [
    "## and decompose such as K = hK @ hK.T (using Cholesky decomposition)\n",
    "hK = cholesky(K.values)\n",
    "hK = xr.DataArray(hK, dims=[\"sample\", \"col\"], coords={\"sample\": K.sample_0.values})\n",
    "assert all(hK.sample.values == K.sample_0.values)\n",
    "del K"
   ]
  },
  {
   "cell_type": "code",
   "execution_count": 16,
   "metadata": {},
   "outputs": [
    {
     "name": "stdout",
     "output_type": "stream",
     "text": [
      "Sample mapping number of rows BEFORE intersection: 9219\n",
      "Sample mapping number of rows AFTER intersection: 8352\n"
     ]
    }
   ],
   "source": [
    "print(\"Sample mapping number of rows BEFORE intersection: {}\".format(sample_mapping.shape[0]))\n",
    "## subsample sample mapping file to donors in the kinship matrix\n",
    "sample_mapping = sample_mapping[sample_mapping[\"genotype_individual_id\"].isin(donors)]\n",
    "print(\"Sample mapping number of rows AFTER intersection: {}\".format(sample_mapping.shape[0]))"
   ]
  },
  {
   "cell_type": "code",
   "execution_count": 17,
   "metadata": {},
   "outputs": [],
   "source": [
    "############################################\n",
    "##### expand from donors to cells ##########\n",
    "\n",
    "## use sel from xarray to expand hK (using the sample mapping file)\n",
    "hK_expanded = hK.sel(sample=sample_mapping[\"genotype_individual_id\"].values)\n",
    "assert all(hK_expanded.sample.values == sample_mapping[\"genotype_individual_id\"].values)"
   ]
  },
  {
   "cell_type": "code",
   "execution_count": 18,
   "metadata": {},
   "outputs": [
    {
     "data": {
      "text/plain": [
       "(8352, 173)"
      ]
     },
     "execution_count": 18,
     "metadata": {},
     "output_type": "execute_result"
    }
   ],
   "source": [
    "hK_expanded.shape"
   ]
  },
  {
   "cell_type": "code",
   "execution_count": null,
   "metadata": {},
   "outputs": [],
   "source": []
  },
  {
   "cell_type": "code",
   "execution_count": 19,
   "metadata": {},
   "outputs": [],
   "source": [
    "#####################################\n",
    "############ Genotypes ##############\n",
    "#####################################"
   ]
  },
  {
   "cell_type": "code",
   "execution_count": 20,
   "metadata": {},
   "outputs": [
    {
     "name": "stderr",
     "output_type": "stream",
     "text": [
      "\n",
      "Mapping files:   0%|          | 0/3 [00:00<?, ?it/s]\u001b[A\n",
      "Mapping files:  33%|███▎      | 1/3 [00:15<00:31, 15.74s/it]\u001b[A\n",
      "Mapping files:  67%|██████▋   | 2/3 [00:16<00:11, 11.34s/it]\u001b[A\n",
      "Mapping files: 100%|██████████| 3/3 [05:55<00:00, 118.61s/it]\u001b[A\n"
     ]
    }
   ],
   "source": [
    "## read in genotype file (plink format)\n",
    "plink_folder = \"/hps/nobackup/hipsci/scratch/genotypes/imputed/2017-03-27/Full_Filtered_SNPs_Plink/\"\n",
    "plink_file = plink_folder+\"hipsci.wec.gtarray.HumanCoreExome.imputed_phased.20170327.genotypes.norm.renamed.bed\"\n",
    "G = read_plink1_bin(plink_file)"
   ]
  },
  {
   "cell_type": "code",
   "execution_count": 21,
   "metadata": {},
   "outputs": [
    {
     "data": {
      "text/plain": [
       "(1610, 10464962)"
      ]
     },
     "execution_count": 21,
     "metadata": {},
     "output_type": "execute_result"
    }
   ],
   "source": [
    "G.shape"
   ]
  },
  {
   "cell_type": "code",
   "execution_count": null,
   "metadata": {},
   "outputs": [],
   "source": []
  },
  {
   "cell_type": "code",
   "execution_count": null,
   "metadata": {},
   "outputs": [],
   "source": []
  },
  {
   "cell_type": "code",
   "execution_count": 22,
   "metadata": {},
   "outputs": [],
   "source": [
    "######################################\n",
    "########## Cell contexts #############\n",
    "######################################"
   ]
  },
  {
   "cell_type": "code",
   "execution_count": 43,
   "metadata": {},
   "outputs": [
    {
     "data": {
      "text/html": [
       "<div>\n",
       "<style scoped>\n",
       "    .dataframe tbody tr th:only-of-type {\n",
       "        vertical-align: middle;\n",
       "    }\n",
       "\n",
       "    .dataframe tbody tr th {\n",
       "        vertical-align: top;\n",
       "    }\n",
       "\n",
       "    .dataframe thead th {\n",
       "        text-align: right;\n",
       "    }\n",
       "</style>\n",
       "<table border=\"1\" class=\"dataframe\">\n",
       "  <thead>\n",
       "    <tr style=\"text-align: right;\">\n",
       "      <th></th>\n",
       "      <th>condition_d30</th>\n",
       "      <th>condition_d52_tr</th>\n",
       "      <th>condition_d52_untr</th>\n",
       "    </tr>\n",
       "  </thead>\n",
       "  <tbody>\n",
       "    <tr>\n",
       "      <th>HPSI0714i-iudw_1--DA--d30--0</th>\n",
       "      <td>1</td>\n",
       "      <td>0</td>\n",
       "      <td>0</td>\n",
       "    </tr>\n",
       "    <tr>\n",
       "      <th>HPSI0714i-iudw_1--DA--d30--1</th>\n",
       "      <td>1</td>\n",
       "      <td>0</td>\n",
       "      <td>0</td>\n",
       "    </tr>\n",
       "    <tr>\n",
       "      <th>HPSI0714i-iudw_1--DA--d30--2</th>\n",
       "      <td>1</td>\n",
       "      <td>0</td>\n",
       "      <td>0</td>\n",
       "    </tr>\n",
       "    <tr>\n",
       "      <th>HPSI0714i-iudw_1--DA--d30--3</th>\n",
       "      <td>1</td>\n",
       "      <td>0</td>\n",
       "      <td>0</td>\n",
       "    </tr>\n",
       "    <tr>\n",
       "      <th>HPSI0714i-iudw_1--DA--d30--4</th>\n",
       "      <td>1</td>\n",
       "      <td>0</td>\n",
       "      <td>0</td>\n",
       "    </tr>\n",
       "  </tbody>\n",
       "</table>\n",
       "</div>"
      ],
      "text/plain": [
       "                              condition_d30  condition_d52_tr  \\\n",
       "HPSI0714i-iudw_1--DA--d30--0              1                 0   \n",
       "HPSI0714i-iudw_1--DA--d30--1              1                 0   \n",
       "HPSI0714i-iudw_1--DA--d30--2              1                 0   \n",
       "HPSI0714i-iudw_1--DA--d30--3              1                 0   \n",
       "HPSI0714i-iudw_1--DA--d30--4              1                 0   \n",
       "\n",
       "                              condition_d52_untr  \n",
       "HPSI0714i-iudw_1--DA--d30--0                   0  \n",
       "HPSI0714i-iudw_1--DA--d30--1                   0  \n",
       "HPSI0714i-iudw_1--DA--d30--2                   0  \n",
       "HPSI0714i-iudw_1--DA--d30--3                   0  \n",
       "HPSI0714i-iudw_1--DA--d30--4                   0  "
      ]
     },
     "execution_count": 43,
     "metadata": {},
     "output_type": "execute_result"
    }
   ],
   "source": [
    "# cells by dummies (day 30 - day 52 - day 52ROT)\n",
    "C_file = \"/hps/nobackup/stegle/users/acuomo/all_scripts/struct_LMM2/sc_neuroseq/May2021/REVISION/C_discrete.csv\"\n",
    "C = pd.read_csv(C_file, index_col = 0)\n",
    "C.head()"
   ]
  },
  {
   "cell_type": "code",
   "execution_count": 44,
   "metadata": {},
   "outputs": [],
   "source": [
    "C = xr.DataArray(C.values, dims=[\"cell\", \"pc\"], coords={\"cell\": C.index.values, \"pc\": C.columns.values})\n",
    "C = C.sel(cell=sample_mapping[\"phenotype_sample_id\"].values)\n",
    "assert all(C.cell.values == sample_mapping[\"phenotype_sample_id\"].values)"
   ]
  },
  {
   "cell_type": "code",
   "execution_count": 27,
   "metadata": {},
   "outputs": [],
   "source": [
    "# quantile normalise cell contexts\n",
    "C_gauss = C\n",
    "# C_gauss = quantile_gaussianize(C)"
   ]
  },
  {
   "cell_type": "code",
   "execution_count": null,
   "metadata": {},
   "outputs": [],
   "source": []
  },
  {
   "cell_type": "code",
   "execution_count": 28,
   "metadata": {},
   "outputs": [],
   "source": [
    "#####################################\n",
    "############ Phenotypes #############\n",
    "#####################################"
   ]
  },
  {
   "cell_type": "code",
   "execution_count": 29,
   "metadata": {},
   "outputs": [],
   "source": [
    "# Phenotype (meta-cell gene expression)\n",
    "phenotype_file = \"/hps/nobackup/stegle/users/acuomo/all_scripts/struct_LMM2/sc_neuroseq/input_files/DA_all_conditions/phenotype.csv.pkl\"\n",
    "phenotype = pd.read_pickle(phenotype_file)"
   ]
  },
  {
   "cell_type": "code",
   "execution_count": 30,
   "metadata": {},
   "outputs": [
    {
     "name": "stdout",
     "output_type": "stream",
     "text": [
      "Phenotype shape BEFORE selection: (32738, 9982)\n",
      "Phenotype shape AFTER selection: (32738, 8352)\n"
     ]
    }
   ],
   "source": [
    "print(\"Phenotype shape BEFORE selection: {}\".format(phenotype.shape))\n",
    "phenotype = xr.DataArray(phenotype.values, dims=[\"trait\", \"cell\"], coords={\"trait\": phenotype.index.values, \"cell\": phenotype.columns.values})\n",
    "phenotype = phenotype.sel(cell=sample_mapping[\"phenotype_sample_id\"].values)\n",
    "print(\"Phenotype shape AFTER selection: {}\".format(phenotype.shape))\n",
    "assert all(phenotype.cell.values == sample_mapping[\"phenotype_sample_id\"].values)"
   ]
  },
  {
   "cell_type": "code",
   "execution_count": null,
   "metadata": {},
   "outputs": [],
   "source": []
  },
  {
   "cell_type": "code",
   "execution_count": 31,
   "metadata": {},
   "outputs": [],
   "source": [
    "#####################################\n",
    "############ Filter file ############\n",
    "#####################################"
   ]
  },
  {
   "cell_type": "code",
   "execution_count": 212,
   "metadata": {},
   "outputs": [],
   "source": [
    "# Filter on specific gene-SNP pairs\n",
    "# eQTL from neuroseq DA (day30 + day52 + day52 ROT treated)\n",
    "neuro_eqtl_file = \"/hps/nobackup/stegle/users/acuomo/all_scripts/struct_LMM2/sc_neuroseq/input_files/DA_all_conditions/DA_eqtl_allconditions_FDR5pct.csv\" # consider filter further (significant only)\n",
    "neuro_eqtl = pd.read_csv(neuro_eqtl_file)\n",
    "neuro_eqtl[\"chrom\"] = [int(i[:i.find(\"_\")]) for i in neuro_eqtl[\"snp_id\"]]\n",
    "genes = neuro_eqtl[neuro_eqtl['chrom']==int(chrom)]['feature'].unique()"
   ]
  },
  {
   "cell_type": "code",
   "execution_count": 213,
   "metadata": {},
   "outputs": [
    {
     "data": {
      "text/plain": [
       "43"
      ]
     },
     "execution_count": 213,
     "metadata": {},
     "output_type": "execute_result"
    }
   ],
   "source": [
    "len(genes)"
   ]
  },
  {
   "cell_type": "code",
   "execution_count": 214,
   "metadata": {},
   "outputs": [],
   "source": [
    "outdir = \"/hps/nobackup/stegle/users/acuomo/all_scripts/struct_LMM2/sc_neuroseq/May2021/REVISION/CRM_int/\""
   ]
  },
  {
   "cell_type": "code",
   "execution_count": 215,
   "metadata": {},
   "outputs": [
    {
     "data": {
      "text/plain": [
       "array(['TTC5', 'GPATCH2L', 'LIN52', 'SPATA7', 'RPL36AL', 'ARF6',\n",
       "       'TXNDC16', 'NIN', 'ABHD12B', 'ERO1L', 'PPP2R5C', 'MOK', 'APOPT1',\n",
       "       'DTD2', 'NFATC4', 'DHRS4', 'DHRS1', 'DHRS4L2', 'CHMP4A', 'DAAM1',\n",
       "       'KTN1', 'CHURC1', 'IFI27L2', 'IFI27L1', 'NUDT14', 'ELMSAN1',\n",
       "       'RBM23', 'PSMB5', 'C14orf79', 'SIVA1', 'ADSSL1', 'ACYP1', 'RAB15',\n",
       "       'SDR39U1', 'CHGA', 'COX16', 'PTGR2', 'VCPKMT', 'ATP5S', 'LGALS3',\n",
       "       'GSKIP', 'ATXN3', 'TC2N'], dtype=object)"
      ]
     },
     "execution_count": 215,
     "metadata": {},
     "output_type": "execute_result"
    }
   ],
   "source": [
    "genes"
   ]
  },
  {
   "cell_type": "code",
   "execution_count": null,
   "metadata": {
    "scrolled": true
   },
   "outputs": [
    {
     "name": "stderr",
     "output_type": "stream",
     "text": [
      "/nfs/software/stegle/users/acuomo/conda-envs/struct-lmm2/lib/python3.8/site-packages/xarray/core/indexing.py:1369: PerformanceWarning: Slicing with an out-of-order index is generating 38 times more chunks\n",
      "  return self.array[key]\n"
     ]
    },
    {
     "name": "stdout",
     "output_type": "stream",
     "text": [
      "Running for gene TTC5\n"
     ]
    },
    {
     "name": "stderr",
     "output_type": "stream",
     "text": [
      "100%|██████████| 1/1 [00:12<00:00, 12.75s/it]\n",
      "/nfs/software/stegle/users/acuomo/conda-envs/struct-lmm2/lib/python3.8/site-packages/xarray/core/indexing.py:1369: PerformanceWarning: Slicing with an out-of-order index is generating 38 times more chunks\n",
      "  return self.array[key]\n"
     ]
    },
    {
     "name": "stdout",
     "output_type": "stream",
     "text": [
      "Running for gene GPATCH2L\n"
     ]
    },
    {
     "name": "stderr",
     "output_type": "stream",
     "text": [
      "100%|██████████| 1/1 [00:12<00:00, 12.73s/it]\n",
      "/nfs/software/stegle/users/acuomo/conda-envs/struct-lmm2/lib/python3.8/site-packages/xarray/core/indexing.py:1369: PerformanceWarning: Slicing with an out-of-order index is generating 38 times more chunks\n",
      "  return self.array[key]\n"
     ]
    },
    {
     "name": "stdout",
     "output_type": "stream",
     "text": [
      "Running for gene LIN52\n"
     ]
    },
    {
     "name": "stderr",
     "output_type": "stream",
     "text": [
      "100%|██████████| 2/2 [00:27<00:00, 13.59s/it]\n",
      "/nfs/software/stegle/users/acuomo/conda-envs/struct-lmm2/lib/python3.8/site-packages/xarray/core/indexing.py:1369: PerformanceWarning: Slicing with an out-of-order index is generating 38 times more chunks\n",
      "  return self.array[key]\n"
     ]
    },
    {
     "name": "stdout",
     "output_type": "stream",
     "text": [
      "Running for gene SPATA7\n"
     ]
    },
    {
     "name": "stderr",
     "output_type": "stream",
     "text": [
      "100%|██████████| 1/1 [00:12<00:00, 12.56s/it]\n",
      "/nfs/software/stegle/users/acuomo/conda-envs/struct-lmm2/lib/python3.8/site-packages/xarray/core/indexing.py:1369: PerformanceWarning: Slicing with an out-of-order index is generating 38 times more chunks\n",
      "  return self.array[key]\n"
     ]
    },
    {
     "name": "stdout",
     "output_type": "stream",
     "text": [
      "Running for gene RPL36AL\n"
     ]
    },
    {
     "name": "stderr",
     "output_type": "stream",
     "text": [
      "100%|██████████| 2/2 [00:23<00:00, 11.81s/it]\n",
      "/nfs/software/stegle/users/acuomo/conda-envs/struct-lmm2/lib/python3.8/site-packages/xarray/core/indexing.py:1369: PerformanceWarning: Slicing with an out-of-order index is generating 38 times more chunks\n",
      "  return self.array[key]\n"
     ]
    },
    {
     "name": "stdout",
     "output_type": "stream",
     "text": [
      "Running for gene ARF6\n"
     ]
    },
    {
     "name": "stderr",
     "output_type": "stream",
     "text": [
      "100%|██████████| 2/2 [00:25<00:00, 12.63s/it]\n",
      "/nfs/software/stegle/users/acuomo/conda-envs/struct-lmm2/lib/python3.8/site-packages/xarray/core/indexing.py:1369: PerformanceWarning: Slicing with an out-of-order index is generating 38 times more chunks\n",
      "  return self.array[key]\n"
     ]
    },
    {
     "name": "stdout",
     "output_type": "stream",
     "text": [
      "Running for gene TXNDC16\n"
     ]
    },
    {
     "name": "stderr",
     "output_type": "stream",
     "text": [
      "100%|██████████| 1/1 [00:12<00:00, 12.94s/it]\n",
      "/nfs/software/stegle/users/acuomo/conda-envs/struct-lmm2/lib/python3.8/site-packages/xarray/core/indexing.py:1369: PerformanceWarning: Slicing with an out-of-order index is generating 38 times more chunks\n",
      "  return self.array[key]\n"
     ]
    },
    {
     "name": "stdout",
     "output_type": "stream",
     "text": [
      "Running for gene NIN\n"
     ]
    },
    {
     "name": "stderr",
     "output_type": "stream",
     "text": [
      "100%|██████████| 1/1 [00:12<00:00, 12.26s/it]\n",
      "/nfs/software/stegle/users/acuomo/conda-envs/struct-lmm2/lib/python3.8/site-packages/xarray/core/indexing.py:1369: PerformanceWarning: Slicing with an out-of-order index is generating 38 times more chunks\n",
      "  return self.array[key]\n"
     ]
    },
    {
     "name": "stdout",
     "output_type": "stream",
     "text": [
      "Running for gene ABHD12B\n"
     ]
    },
    {
     "name": "stderr",
     "output_type": "stream",
     "text": [
      "100%|██████████| 1/1 [00:13<00:00, 13.09s/it]\n",
      "/nfs/software/stegle/users/acuomo/conda-envs/struct-lmm2/lib/python3.8/site-packages/xarray/core/indexing.py:1369: PerformanceWarning: Slicing with an out-of-order index is generating 38 times more chunks\n",
      "  return self.array[key]\n"
     ]
    }
   ],
   "source": [
    "for trait_name in genes:\n",
    "    outfilename = outdir + str(trait_name) + \".tsv\"\n",
    "    if os.path.exists(outfilename):\n",
    "        print(\"File already exists, exiting\")\n",
    "        continue\n",
    "    leads = neuro_eqtl[neuro_eqtl['feature']==trait_name]['snp_id'].unique()\n",
    "    G_sel = G[:,G['snp'].isin(leads)]\n",
    "    G_expanded = G_sel.sel(sample=sample_mapping[\"genotype_individual_id\"].values)\n",
    "    assert all(hK_expanded.sample.values == G_expanded.sample.values)\n",
    "    trait_name = re.sub(\"-\",\".\",trait_name)\n",
    "    y = phenotype.sel(trait=trait_name)\n",
    "    y = quantile_gaussianize(y)\n",
    "    y = y.values.reshape(y.shape[0],1)\n",
    "    n_cells = phenotype.shape[1]\n",
    "    W = ones((n_cells, 1))\n",
    "    GG = G_expanded.values\n",
    "    print(\"Running for gene {}\".format(trait_name))\n",
    "    pvals = run_interaction(y=y, W=W, E=C_gauss.values[:,0:10], E1=C_gauss.values[:,0:10], E2=C.values[:,0:20], G=GG, hK=hK_expanded)[0]\n",
    "    pv = pd.DataFrame({\"chrom\":G_expanded.chrom.values,\n",
    "           \"pv\":pvals,\n",
    "           \"variant\":G_expanded.snp.values})\n",
    "    pv.to_csv(outfilename)"
   ]
  },
  {
   "cell_type": "code",
   "execution_count": null,
   "metadata": {},
   "outputs": [],
   "source": []
  },
  {
   "cell_type": "code",
   "execution_count": null,
   "metadata": {},
   "outputs": [],
   "source": []
  }
 ],
 "metadata": {
  "kernelspec": {
   "display_name": "Python (struct-lmm2)",
   "language": "python",
   "name": "struct-lmm2"
  },
  "language_info": {
   "codemirror_mode": {
    "name": "ipython",
    "version": 3
   },
   "file_extension": ".py",
   "mimetype": "text/x-python",
   "name": "python",
   "nbconvert_exporter": "python",
   "pygments_lexer": "ipython3",
   "version": "3.8.5"
  }
 },
 "nbformat": 4,
 "nbformat_minor": 4
}
