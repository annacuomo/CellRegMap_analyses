{
 "cells": [
  {
   "cell_type": "code",
   "execution_count": 1,
   "metadata": {},
   "outputs": [],
   "source": [
    "from numpy_sugar.linalg import economic_qs, economic_qs_linear\n",
    "from numpy.random import RandomState, default_rng\n",
    "from numpy import arange, concatenate, newaxis, median\n",
    "from glimix_core.lmm import LMM\n",
    "from scipy.stats import chi2\n",
    "from numpy_sugar import epsilon\n",
    "from numpy import asarray, clip, inf\n",
    "import matplotlib.pyplot as plt\n",
    "\n",
    "from struct_lmm2 import StructLMM2, create_variances, sample_phenotype, sample_phenotype_fixed_gxe"
   ]
  },
  {
   "cell_type": "code",
   "execution_count": 2,
   "metadata": {},
   "outputs": [],
   "source": [
    "def compute_pvalues():\n",
    "    stats[\"pv20\"] = lrt_pvalues(stats[\"lml0\"], stats[\"lml2\"], stats[\"dof20\"])"
   ]
  },
  {
   "cell_type": "code",
   "execution_count": 3,
   "metadata": {},
   "outputs": [],
   "source": [
    "def lrt_pvalues(null_lml, alt_lmls, dof=1):\n",
    "    \"\"\"\n",
    "    Compute p-values from likelihood ratios.\n",
    "\n",
    "    These are likelihood ratio test p-values.\n",
    "\n",
    "    Parameters\n",
    "    ----------\n",
    "    null_lml : float\n",
    "        Log of the marginal likelihood under the null hypothesis.\n",
    "    alt_lmls : array_like\n",
    "        Log of the marginal likelihoods under the alternative hypotheses.\n",
    "    dof : int\n",
    "        Degrees of freedom.\n",
    "\n",
    "    Returns\n",
    "    -------\n",
    "    pvalues : ndarray\n",
    "        P-values.\n",
    "    \"\"\"\n",
    "    lrs = clip(-2 * null_lml + 2 * asarray(alt_lmls, float), epsilon.super_tiny, inf)\n",
    "    pv = chi2(df=dof).sf(lrs)\n",
    "    return clip(pv, epsilon.super_tiny, 1 - epsilon.tiny)"
   ]
  },
  {
   "cell_type": "code",
   "execution_count": 26,
   "metadata": {},
   "outputs": [],
   "source": [
    "random = default_rng(10)\n",
    "\n",
    "n_individuals = 100\n",
    "\n",
    "maf_min = 0.20\n",
    "maf_max = 0.45\n",
    "\n",
    "n_snps = 100\n",
    "# n_snps = 500\n",
    "\n",
    "# n_cells = 100\n",
    "# n_cells = 10\n",
    "n_cells = 2\n",
    "n_cells = arange(n_individuals) + 1"
   ]
  },
  {
   "cell_type": "code",
   "execution_count": 27,
   "metadata": {},
   "outputs": [
    {
     "data": {
      "text/plain": [
       "array([  1,   2,   3,   4,   5,   6,   7,   8,   9,  10,  11,  12,  13,\n",
       "        14,  15,  16,  17,  18,  19,  20,  21,  22,  23,  24,  25,  26,\n",
       "        27,  28,  29,  30,  31,  32,  33,  34,  35,  36,  37,  38,  39,\n",
       "        40,  41,  42,  43,  44,  45,  46,  47,  48,  49,  50,  51,  52,\n",
       "        53,  54,  55,  56,  57,  58,  59,  60,  61,  62,  63,  64,  65,\n",
       "        66,  67,  68,  69,  70,  71,  72,  73,  74,  75,  76,  77,  78,\n",
       "        79,  80,  81,  82,  83,  84,  85,  86,  87,  88,  89,  90,  91,\n",
       "        92,  93,  94,  95,  96,  97,  98,  99, 100])"
      ]
     },
     "execution_count": 27,
     "metadata": {},
     "output_type": "execute_result"
    }
   ],
   "source": [
    "n_cells"
   ]
  },
  {
   "cell_type": "code",
   "execution_count": 28,
   "metadata": {},
   "outputs": [],
   "source": [
    "n_env_groups = 2\n",
    "offset = 0.3\n",
    "\n",
    "# indices of causal SNPs\n",
    "g_causals = [5, 6]\n",
    "gxe_causals = [10, 11]\n",
    "\n",
    "# weight of genetic variance explained by GxE\n",
    "r0 = 0.5\n",
    "# r0 = 0\n",
    "# r0 = 1\n",
    "\n",
    "# total variance explained by genetics (G + GxE)\n",
    "v0 = 0.5\n",
    "# v0 = 0\n",
    "\n",
    "# the variance explained by other terms: k = e = n = (1 - (g+gxe)/3\n",
    "\n",
    "\n",
    "v = create_variances(r0, v0)"
   ]
  },
  {
   "cell_type": "code",
   "execution_count": 29,
   "metadata": {},
   "outputs": [
    {
     "data": {
      "text/plain": [
       "Variances(g=0.25, gxe=0.25, k=0.16666666666666666, e=0.16666666666666666, n=0.16666666666666666)"
      ]
     },
     "execution_count": 29,
     "metadata": {},
     "output_type": "execute_result"
    }
   ],
   "source": [
    "v"
   ]
  },
  {
   "cell_type": "code",
   "execution_count": 30,
   "metadata": {},
   "outputs": [
    {
     "name": "stderr",
     "output_type": "stream",
     "text": [
      "/nfs/software/stegle/users/acuomo/conda-envs/struct-lmm2/lib/python3.8/site-packages/numpy/core/_asarray.py:83: VisibleDeprecationWarning: Creating an ndarray from ragged nested sequences (which is a list-or-tuple of lists-or-tuples-or ndarrays with different lengths or shapes) is deprecated. If you meant to do this, you must specify 'dtype=object' when creating the ndarray\n",
      "  return array(a, dtype, copy=False, order=order)\n"
     ]
    }
   ],
   "source": [
    "# create simulation object (fixed effects)\n",
    "s = sample_phenotype_fixed_gxe(\n",
    "        offset=offset,\n",
    "        n_individuals=n_individuals,\n",
    "        n_snps=n_snps,\n",
    "        n_cells=n_cells,\n",
    "        n_env_groups=n_env_groups,\n",
    "        maf_min=maf_min,\n",
    "        maf_max=maf_max,\n",
    "        g_causals=g_causals,\n",
    "        gxe_causals=gxe_causals,\n",
    "        variances=v,\n",
    "        random=random,\n",
    "    )"
   ]
  },
  {
   "cell_type": "code",
   "execution_count": 33,
   "metadata": {},
   "outputs": [],
   "source": [
    "# kinship matrix (block diagonal)\n",
    "# plot for few individuals to check if it looks good\n",
    "# plt.matshow(s.K)"
   ]
  },
  {
   "cell_type": "code",
   "execution_count": 34,
   "metadata": {},
   "outputs": [],
   "source": [
    "QS = economic_qs_linear(s.Lk)\n",
    "# QS = economic_qs(s.K)"
   ]
  },
  {
   "cell_type": "code",
   "execution_count": 35,
   "metadata": {},
   "outputs": [],
   "source": [
    "# Test 1:\n",
    "#   H0: s.y_e + s.y_k + s.y_n\n",
    "#   H1: s.y_g + s.y_e + s.y_k + s.y_n\n",
    "y = s.offset + s.y_g + 0*s.y_gxe + s.y_e + s.y_k + s.y_n\n",
    "M = concatenate([s.M, s.E], axis=1)\n",
    "lmm = LMM(y, M, QS, restricted=False)\n",
    "lmm.fit(verbose=False)"
   ]
  },
  {
   "cell_type": "code",
   "execution_count": 36,
   "metadata": {},
   "outputs": [
    {
     "name": "stderr",
     "output_type": "stream",
     "text": [
      "Scanning: 100%|██████████| 50/50 [00:00<00:00, 554.66it/s]\n"
     ]
    }
   ],
   "source": [
    "scanner = lmm.get_fast_scanner()\n",
    "data1 = scanner.fast_scan(s.G)\n",
    "# Asserting to make sure that DoF==1\n",
    "assert data1[\"effsizes1\"].ndim == 1"
   ]
  },
  {
   "cell_type": "code",
   "execution_count": 37,
   "metadata": {},
   "outputs": [
    {
     "name": "stdout",
     "output_type": "stream",
     "text": [
      "1.0181690710706422e-09 1.1929817639608787e-06 0.3339458105547522 0.7117697966232103 0.5376754211992842\n"
     ]
    }
   ],
   "source": [
    "dof = 1\n",
    "lml0 = scanner.null_lml()\n",
    "lml1 = data1[\"lml\"]\n",
    "pv = test1_pvalues = lrt_pvalues(lml0, lml1, dof)\n",
    "# show p-values\n",
    "# expected: 5,6 significant (causal); 10,11 not sign (not testing for GxE); median of rest ~0.5 (from uniform distr)\n",
    "print(pv[5], pv[6], pv[10], pv[11], median(pv[12:]))"
   ]
  },
  {
   "cell_type": "code",
   "execution_count": 24,
   "metadata": {},
   "outputs": [],
   "source": [
    "###"
   ]
  },
  {
   "cell_type": "code",
   "execution_count": 38,
   "metadata": {},
   "outputs": [],
   "source": [
    "# build K * E\n",
    "K_E = s.K * (s.E @ s.E.T)\n",
    "QS = economic_qs(K_E)\n",
    "# QS = economic_qs(s.K)"
   ]
  },
  {
   "cell_type": "code",
   "execution_count": 39,
   "metadata": {},
   "outputs": [],
   "source": [
    "# plt.matshow(K_E)"
   ]
  },
  {
   "cell_type": "code",
   "execution_count": 40,
   "metadata": {
    "scrolled": true
   },
   "outputs": [
    {
     "name": "stderr",
     "output_type": "stream",
     "text": [
      "Scanning: 100%|██████████| 1/1 [00:00<00:00, 513.06it/s]\n",
      "Scanning: 100%|██████████| 1/1 [00:00<00:00, 847.85it/s]\n",
      "Scanning: 100%|██████████| 1/1 [00:00<00:00, 649.88it/s]\n",
      "Scanning: 100%|██████████| 1/1 [00:00<00:00, 643.40it/s]\n",
      "Scanning: 100%|██████████| 1/1 [00:00<00:00, 546.63it/s]\n",
      "Scanning: 100%|██████████| 1/1 [00:00<00:00, 500.69it/s]\n",
      "Scanning: 100%|██████████| 1/1 [00:00<00:00, 650.78it/s]\n",
      "Scanning: 100%|██████████| 1/1 [00:00<00:00, 599.44it/s]\n",
      "Scanning: 100%|██████████| 1/1 [00:00<00:00, 339.37it/s]\n",
      "Scanning: 100%|██████████| 1/1 [00:00<00:00, 460.26it/s]\n",
      "Scanning: 100%|██████████| 1/1 [00:00<00:00, 834.19it/s]\n",
      "Scanning: 100%|██████████| 1/1 [00:00<00:00, 794.53it/s]\n",
      "Scanning: 100%|██████████| 1/1 [00:00<00:00, 827.12it/s]\n",
      "Scanning: 100%|██████████| 1/1 [00:00<00:00, 630.63it/s]\n",
      "Scanning: 100%|██████████| 1/1 [00:00<00:00, 605.06it/s]\n",
      "Scanning: 100%|██████████| 1/1 [00:00<00:00, 755.46it/s]\n",
      "Scanning: 100%|██████████| 1/1 [00:00<00:00, 758.60it/s]\n",
      "Scanning: 100%|██████████| 1/1 [00:00<00:00, 874.54it/s]\n",
      "Scanning: 100%|██████████| 1/1 [00:00<00:00, 811.75it/s]\n",
      "Scanning: 100%|██████████| 1/1 [00:00<00:00, 638.79it/s]\n",
      "Scanning: 100%|██████████| 1/1 [00:00<00:00, 874.54it/s]\n",
      "Scanning: 100%|██████████| 1/1 [00:00<00:00, 838.36it/s]\n",
      "Scanning: 100%|██████████| 1/1 [00:00<00:00, 360.49it/s]\n",
      "Scanning: 100%|██████████| 1/1 [00:00<00:00, 761.22it/s]\n",
      "Scanning: 100%|██████████| 1/1 [00:00<00:00, 373.62it/s]\n",
      "Scanning: 100%|██████████| 1/1 [00:00<00:00, 810.18it/s]\n",
      "Scanning: 100%|██████████| 1/1 [00:00<00:00, 568.41it/s]\n",
      "Scanning: 100%|██████████| 1/1 [00:00<00:00, 662.82it/s]\n",
      "Scanning: 100%|██████████| 1/1 [00:00<00:00, 776.15it/s]\n",
      "Scanning: 100%|██████████| 1/1 [00:00<00:00, 739.61it/s]\n",
      "Scanning: 100%|██████████| 1/1 [00:00<00:00, 845.11it/s]\n",
      "Scanning: 100%|██████████| 1/1 [00:00<00:00, 808.77it/s]\n",
      "Scanning: 100%|██████████| 1/1 [00:00<00:00, 675.19it/s]\n",
      "Scanning: 100%|██████████| 1/1 [00:00<00:00, 542.32it/s]\n",
      "Scanning: 100%|██████████| 1/1 [00:00<00:00, 830.56it/s]\n",
      "Scanning: 100%|██████████| 1/1 [00:00<00:00, 871.45it/s]\n",
      "Scanning: 100%|██████████| 1/1 [00:00<00:00, 810.34it/s]\n",
      "Scanning: 100%|██████████| 1/1 [00:00<00:00, 619.18it/s]\n",
      "Scanning: 100%|██████████| 1/1 [00:00<00:00, 677.05it/s]\n",
      "Scanning: 100%|██████████| 1/1 [00:00<00:00, 655.77it/s]\n",
      "Scanning: 100%|██████████| 1/1 [00:00<00:00, 801.51it/s]\n",
      "Scanning: 100%|██████████| 1/1 [00:00<00:00, 850.43it/s]\n",
      "Scanning: 100%|██████████| 1/1 [00:00<00:00, 841.05it/s]\n",
      "Scanning: 100%|██████████| 1/1 [00:00<00:00, 652.40it/s]\n",
      "Scanning: 100%|██████████| 1/1 [00:00<00:00, 784.86it/s]\n",
      "Scanning: 100%|██████████| 1/1 [00:00<00:00, 806.13it/s]\n",
      "Scanning: 100%|██████████| 1/1 [00:00<00:00, 663.13it/s]\n",
      "Scanning: 100%|██████████| 1/1 [00:00<00:00, 662.82it/s]\n",
      "Scanning: 100%|██████████| 1/1 [00:00<00:00, 658.45it/s]\n",
      "Scanning: 100%|██████████| 1/1 [00:00<00:00, 627.89it/s]\n",
      "Scanning: 100%|██████████| 1/1 [00:00<00:00, 845.80it/s]\n",
      "Scanning: 100%|██████████| 1/1 [00:00<00:00, 843.92it/s]\n",
      "Scanning: 100%|██████████| 1/1 [00:00<00:00, 654.44it/s]\n",
      "Scanning: 100%|██████████| 1/1 [00:00<00:00, 669.59it/s]\n",
      "Scanning: 100%|██████████| 1/1 [00:00<00:00, 808.77it/s]\n",
      "Scanning: 100%|██████████| 1/1 [00:00<00:00, 759.84it/s]\n",
      "Scanning: 100%|██████████| 1/1 [00:00<00:00, 775.86it/s]\n",
      "Scanning: 100%|██████████| 1/1 [00:00<00:00, 752.48it/s]\n",
      "Scanning: 100%|██████████| 1/1 [00:00<00:00, 667.78it/s]\n",
      "Scanning: 100%|██████████| 1/1 [00:00<00:00, 794.38it/s]\n",
      "Scanning: 100%|██████████| 1/1 [00:00<00:00, 811.59it/s]\n",
      "Scanning: 100%|██████████| 1/1 [00:00<00:00, 818.72it/s]\n",
      "Scanning: 100%|██████████| 1/1 [00:00<00:00, 828.10it/s]\n",
      "Scanning: 100%|██████████| 1/1 [00:00<00:00, 869.29it/s]\n",
      "Scanning: 100%|██████████| 1/1 [00:00<00:00, 804.28it/s]\n",
      "Scanning: 100%|██████████| 1/1 [00:00<00:00, 650.48it/s]\n",
      "Scanning: 100%|██████████| 1/1 [00:00<00:00, 790.93it/s]\n",
      "Scanning: 100%|██████████| 1/1 [00:00<00:00, 810.65it/s]\n",
      "Scanning: 100%|██████████| 1/1 [00:00<00:00, 657.21it/s]\n",
      "Scanning: 100%|██████████| 1/1 [00:00<00:00, 644.88it/s]\n",
      "Scanning: 100%|██████████| 1/1 [00:00<00:00, 646.47it/s]\n",
      "Scanning: 100%|██████████| 1/1 [00:00<00:00, 722.78it/s]\n",
      "Scanning: 100%|██████████| 1/1 [00:00<00:00, 824.84it/s]\n",
      "Scanning: 100%|██████████| 1/1 [00:00<00:00, 844.60it/s]\n",
      "Scanning: 100%|██████████| 1/1 [00:00<00:00, 799.07it/s]\n",
      "Scanning: 100%|██████████| 1/1 [00:00<00:00, 779.90it/s]\n",
      "Scanning: 100%|██████████| 1/1 [00:00<00:00, 796.19it/s]\n",
      "Scanning: 100%|██████████| 1/1 [00:00<00:00, 859.84it/s]\n",
      "Scanning: 100%|██████████| 1/1 [00:00<00:00, 655.87it/s]\n",
      "Scanning: 100%|██████████| 1/1 [00:00<00:00, 767.06it/s]\n",
      "Scanning: 100%|██████████| 1/1 [00:00<00:00, 608.66it/s]\n",
      "Scanning: 100%|██████████| 1/1 [00:00<00:00, 614.19it/s]\n",
      "Scanning: 100%|██████████| 1/1 [00:00<00:00, 802.12it/s]\n",
      "Scanning: 100%|██████████| 1/1 [00:00<00:00, 611.86it/s]\n",
      "Scanning: 100%|██████████| 1/1 [00:00<00:00, 787.07it/s]\n",
      "Scanning: 100%|██████████| 1/1 [00:00<00:00, 780.77it/s]\n",
      "Scanning: 100%|██████████| 1/1 [00:00<00:00, 763.16it/s]\n",
      "Scanning: 100%|██████████| 1/1 [00:00<00:00, 782.52it/s]\n",
      "Scanning: 100%|██████████| 1/1 [00:00<00:00, 777.88it/s]\n",
      "Scanning: 100%|██████████| 1/1 [00:00<00:00, 769.46it/s]\n",
      "Scanning: 100%|██████████| 1/1 [00:00<00:00, 600.56it/s]\n",
      "Scanning: 100%|██████████| 1/1 [00:00<00:00, 789.00it/s]\n",
      "Scanning: 100%|██████████| 1/1 [00:00<00:00, 796.94it/s]\n",
      "Scanning: 100%|██████████| 1/1 [00:00<00:00, 805.98it/s]\n",
      "Scanning: 100%|██████████| 1/1 [00:00<00:00, 795.28it/s]\n",
      "Scanning: 100%|██████████| 1/1 [00:00<00:00, 798.46it/s]\n",
      "Scanning: 100%|██████████| 1/1 [00:00<00:00, 624.43it/s]\n",
      "Scanning: 100%|██████████| 1/1 [00:00<00:00, 605.76it/s]\n",
      "Scanning: 100%|██████████| 1/1 [00:00<00:00, 819.68it/s]\n",
      "Scanning: 100%|██████████| 1/1 [00:00<00:00, 868.21it/s]\n"
     ]
    }
   ],
   "source": [
    "# Test 2:\n",
    "#   H0: s.y_g + s.y_e + s.y_k + s.y_n\n",
    "#   H1: s.y_gxe + s.y_g + s.y_e + s.y_k + s.y_n\n",
    "y = s.offset + s.y_gxe + s.y_g + s.y_e + s.y_k + s.y_n\n",
    "assert min(abs(y - s.y)) < 1e-10\n",
    "data2 = {\"lml0\": [], \"lml1\": []}\n",
    "dof = 1\n",
    "for g in s.G.T:\n",
    "    g = g[:, newaxis]\n",
    "    M = concatenate([s.M, g, s.E], axis=1)\n",
    "    lmm = LMM(y, M, QS, restricted=False)\n",
    "    lmm.fit(verbose=False)\n",
    "    scanner = lmm.get_fast_scanner()\n",
    "    d = scanner.fast_scan(s.E * g)\n",
    "    # Asserting to make sure that DoF==1\n",
    "    assert d[\"effsizes1\"].ndim == 1\n",
    "    lml0 = scanner.null_lml()\n",
    "    lml1 = d[\"lml\"]\n",
    "    data2[\"lml0\"].append(lml0)\n",
    "    data2[\"lml1\"].append(lml1)"
   ]
  },
  {
   "cell_type": "code",
   "execution_count": 41,
   "metadata": {},
   "outputs": [
    {
     "name": "stdout",
     "output_type": "stream",
     "text": [
      "0.736330519107421 0.16707612676294226 1.1684778820678078e-09 3.6126708880348605e-11 0.5557717336710954\n"
     ]
    }
   ],
   "source": [
    "lml0 = asarray(data2[\"lml0\"])\n",
    "lml1 = concatenate(data2[\"lml1\"])\n",
    "pv = test2_pvalues = lrt_pvalues(lml0, lml1, dof)\n",
    "# show p-values\n",
    "# expected: 5,6 not sign (not testing for G); 10,11 significant (causal GxE); median of rest ~0.5 (from uniform distr)\n",
    "print(pv[5], pv[6], pv[10], pv[11], median(pv[12:]))"
   ]
  },
  {
   "cell_type": "code",
   "execution_count": null,
   "metadata": {},
   "outputs": [],
   "source": []
  }
 ],
 "metadata": {
  "kernelspec": {
   "display_name": "Python (struct-lmm2)",
   "language": "python",
   "name": "struct-lmm2"
  },
  "language_info": {
   "codemirror_mode": {
    "name": "ipython",
    "version": 3
   },
   "file_extension": ".py",
   "mimetype": "text/x-python",
   "name": "python",
   "nbconvert_exporter": "python",
   "pygments_lexer": "ipython3",
   "version": "3.8.5"
  }
 },
 "nbformat": 4,
 "nbformat_minor": 4
}
