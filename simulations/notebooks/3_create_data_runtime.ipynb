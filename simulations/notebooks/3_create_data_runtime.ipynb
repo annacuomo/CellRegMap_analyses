{
 "cells": [
  {
   "cell_type": "markdown",
   "metadata": {},
   "source": [
    "# Prepare input data for runtime evaluation\n",
    "\n",
    "For the runtime evaluation we use simulated individuals / genotypes in combination with the observed single-cell expression profiles."
   ]
  },
  {
   "cell_type": "code",
   "execution_count": 1,
   "metadata": {},
   "outputs": [],
   "source": [
    "import sys\n",
    "\n",
    "sys.path.append('..')\n",
    "import utils.settings as settings\n",
    "\n",
    "import pandas as pd\n",
    "import numpy as np\n",
    "\n",
    "import scanpy as sc"
   ]
  },
  {
   "cell_type": "code",
   "execution_count": 2,
   "metadata": {},
   "outputs": [],
   "source": [
    "N_CELLS = settings.RUNTIME_N_CELLS\n",
    "N_DONORS = settings.RUNTIME_N_DONORS \n",
    "N_SNPS = settings.RUNTIME_N_SNPS\n",
    "N_GENES = settings.RUNTIME_N_GENES"
   ]
  },
  {
   "cell_type": "code",
   "execution_count": 5,
   "metadata": {},
   "outputs": [],
   "source": [
    "rng = np.random.default_rng(123)"
   ]
  },
  {
   "cell_type": "markdown",
   "metadata": {},
   "source": [
    "## Create data "
   ]
  },
  {
   "cell_type": "code",
   "execution_count": 6,
   "metadata": {},
   "outputs": [],
   "source": [
    "DONORS = ['donor_%d' % i for i in range(max(N_DONORS))]\n",
    "SNPS = ['snp_%d' % i for i in range(N_SNPS)]"
   ]
  },
  {
   "cell_type": "code",
   "execution_count": 8,
   "metadata": {},
   "outputs": [],
   "source": [
    "K = pd.DataFrame(np.eye(max(N_DONORS)), index=DONORS, columns=DONORS) "
   ]
  },
  {
   "cell_type": "code",
   "execution_count": 9,
   "metadata": {},
   "outputs": [
    {
     "name": "stderr",
     "output_type": "stream",
     "text": [
      "/tmp/ipykernel_43205/4056858891.py:3: ImplicitModificationWarning: Trying to modify attribute `.var` of view, initializing view as actual.\n",
      "  adata.var['snpID'] = ','.join(SNPS)\n"
     ]
    }
   ],
   "source": [
    "adata = sc.read(settings.DATA_DIR + '/filtered/adata.h5ad')\n",
    "adata = adata[:, rng.choice(adata.shape[1], N_GENES, replace=False)]\n",
    "adata.var['snpID'] = ','.join(SNPS)"
   ]
  },
  {
   "cell_type": "code",
   "execution_count": 10,
   "metadata": {},
   "outputs": [],
   "source": [
    "G = pd.DataFrame(rng.choice([0, 1, 2], size=[max(N_DONORS), N_SNPS]), index=DONORS, columns=SNPS)"
   ]
  },
  {
   "cell_type": "code",
   "execution_count": 11,
   "metadata": {},
   "outputs": [],
   "source": [
    "n_donors = 100\n",
    "for n_cells in N_CELLS:\n",
    "    adata_sub = adata[rng.choice(adata.shape[0], n_cells, replace=False), :].copy()\n",
    "    cells_per_donor = adata_sub.shape[0] // n_donors\n",
    "    donors = rng.permutation(np.tile(DONORS[:n_donors], cells_per_donor)).tolist()\n",
    "    donors += rng.choice(DONORS[:n_donors], adata_sub.shape[0] - cells_per_donor * n_donors).tolist()\n",
    "    adata_sub.obs['donor_long_id'] = donors\n",
    "    sc.write(settings.DATA_DIR + f'/filtered/adata_runtime_ncells~{n_cells}_ndonors~{n_donors}.h5ad', adata_sub)"
   ]
  },
  {
   "cell_type": "code",
   "execution_count": 12,
   "metadata": {},
   "outputs": [],
   "source": [
    "n_cells = 10000\n",
    "for n_donors in N_DONORS:\n",
    "    adata_sub = adata[rng.choice(adata.shape[0], n_cells, replace=False), :].copy()\n",
    "    cells_per_donor = adata_sub.shape[0] // n_donors\n",
    "    donors = rng.permutation(np.tile(DONORS[:n_donors], cells_per_donor)).tolist()\n",
    "    donors += rng.choice(DONORS[:n_donors], adata_sub.shape[0] - cells_per_donor * n_donors).tolist()\n",
    "    adata_sub.obs['donor_long_id'] = donors\n",
    "    sc.write(settings.DATA_DIR + f'/filtered/adata_runtime_ncells~{n_cells}_ndonors~{n_donors}.h5ad', adata_sub)"
   ]
  },
  {
   "cell_type": "code",
   "execution_count": 13,
   "metadata": {},
   "outputs": [],
   "source": [
    "K.to_csv(settings.DATA_DIR + '/filtered/kinship_runtime.csv')\n",
    "G.to_csv(settings.DATA_DIR + '/filtered/genotypes_runtime.csv')"
   ]
  }
 ],
 "metadata": {
  "kernelspec": {
   "display_name": "cellregmap",
   "language": "python",
   "name": "cellregmap"
  },
  "language_info": {
   "codemirror_mode": {
    "name": "ipython",
    "version": 3
   },
   "file_extension": ".py",
   "mimetype": "text/x-python",
   "name": "python",
   "nbconvert_exporter": "python",
   "pygments_lexer": "ipython3",
   "version": "3.8.5"
  }
 },
 "nbformat": 4,
 "nbformat_minor": 4
}
