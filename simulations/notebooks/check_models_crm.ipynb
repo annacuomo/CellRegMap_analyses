{
 "cells": [
  {
   "cell_type": "code",
   "execution_count": 1,
   "metadata": {},
   "outputs": [],
   "source": [
    "import matplotlib.pyplot as plt\n",
    "from scipy.stats import probplot\n",
    "import seaborn as sns"
   ]
  },
  {
   "cell_type": "code",
   "execution_count": 2,
   "metadata": {},
   "outputs": [],
   "source": [
    "import sys\n",
    "sys.path.append('../scripts/')"
   ]
  },
  {
   "cell_type": "code",
   "execution_count": 3,
   "metadata": {},
   "outputs": [],
   "source": [
    "import numpy as np\n",
    "import pandas as pd\n",
    "\n",
    "from joblib import Parallel, delayed\n",
    "import time\n",
    "\n",
    "from numpy_sugar import ddot\n",
    "from numpy_sugar.linalg import economic_qs\n",
    "\n",
    "from limix.qc import quantile_gaussianize\n",
    "from cellregmap import CellRegMap\n",
    "\n",
    "from settings import DEFAULT_PARAMS, FILTERED_KINSHIP_PATH\n",
    "from sim_utils import (\n",
    "    create_variances,\n",
    "    set_causal_ids,\n",
    "    sample_clusters,\n",
    "    sample_endo,\n",
    "    create_environment_factors,\n",
    "    # create_kinship_matrix,\n",
    "    create_kinship_factors,\n",
    "    simulate_data,\n",
    "    sample_nb,\n",
    "    run_cellregmap_fixed,\n",
    ")"
   ]
  },
  {
   "cell_type": "code",
   "execution_count": 4,
   "metadata": {},
   "outputs": [],
   "source": [
    "params = DEFAULT_PARAMS"
   ]
  },
  {
   "cell_type": "code",
   "execution_count": 5,
   "metadata": {},
   "outputs": [],
   "source": [
    "params['model'] = 'cellregmap'"
   ]
  },
  {
   "cell_type": "code",
   "execution_count": 6,
   "metadata": {},
   "outputs": [],
   "source": [
    "params['threads'] = 1"
   ]
  },
  {
   "cell_type": "code",
   "execution_count": 7,
   "metadata": {},
   "outputs": [
    {
     "data": {
      "text/plain": [
       "{'n_snps': 50,\n",
       " 'n_individuals': 50,\n",
       " 'n_genes': 50,\n",
       " 'cells_per_individual': 'fixed',\n",
       " 'n_cells': 100,\n",
       " 'maf_min': 0.2,\n",
       " 'maf_max': 0.45,\n",
       " 'real_genotypes': True,\n",
       " 'env': 'endo',\n",
       " 'n_env': 20,\n",
       " 'n_env_gxe': 20,\n",
       " 'n_env_tested': 20,\n",
       " 'offset': 2.5,\n",
       " 'n_causal_g': 1,\n",
       " 'n_causal_gxe': 1,\n",
       " 'n_causal_shared': 1,\n",
       " 'r0': 0.5,\n",
       " 'v0': 0.03,\n",
       " 'likelihood': 'negbin',\n",
       " 'nb_dispersion': 2,\n",
       " 'p_dropout': 0.05,\n",
       " 'normalize': True,\n",
       " 'dirichlet_alpha': 2,\n",
       " 'seed': 19350,\n",
       " 'model': 'cellregmap',\n",
       " 'threads': 1}"
      ]
     },
     "execution_count": 7,
     "metadata": {},
     "output_type": "execute_result"
    }
   ],
   "source": [
    "params"
   ]
  },
  {
   "cell_type": "code",
   "execution_count": 8,
   "metadata": {},
   "outputs": [],
   "source": [
    "params['n_env'] = 10\n",
    "params['n_env_gxe'] = 10\n",
    "params['n_env_tested'] = 10"
   ]
  },
  {
   "cell_type": "code",
   "execution_count": 9,
   "metadata": {},
   "outputs": [],
   "source": [
    "params['real_genotypes'] = False"
   ]
  },
  {
   "cell_type": "code",
   "execution_count": 10,
   "metadata": {},
   "outputs": [],
   "source": [
    "params['n_individuals'] = 15\n",
    "params['n_snps'] = 250\n",
    "params['n_cells'] = 50\n",
    "params['v0'] = 0"
   ]
  },
  {
   "cell_type": "code",
   "execution_count": 11,
   "metadata": {},
   "outputs": [
    {
     "name": "stdout",
     "output_type": "stream",
     "text": [
      "Setting up environment matrix ...\n",
      "Setting up kinship matrix ...\n"
     ]
    }
   ],
   "source": [
    "# ===============================================================================\n",
    "# Check values\n",
    "# ===============================================================================\n",
    "n_causal = params[\"n_causal_g\"] + params[\"n_causal_gxe\"] - params[\"n_causal_shared\"]\n",
    "if n_causal > params[\"n_snps\"]:\n",
    "    raise ValueError(\"Number SNPs with genetic effects has to be < n_snps.\")\n",
    "if params[\"v0\"] > 0:\n",
    "    if (params[\"n_causal_g\"] == 0) ^ (params[\"r0\"] == 1):\n",
    "        print(\n",
    "            \"Warning: Only one of n_causal_g, 1-r0 is zero. Simulating no persistent effect.\"\n",
    "        )\n",
    "    if (params[\"n_causal_gxe\"] == 0) ^ (params[\"r0\"] == 0):\n",
    "        print(\n",
    "            \"Warning: Only one of n_causal_gxe, r0 is zero. Simulating no gxe effect.\"\n",
    "        )\n",
    "if params[\"n_env_tested\"] > params[\"n_env\"]:\n",
    "    raise ValueError(\"n_env_tested has to be smaller than n_env\")\n",
    "\n",
    "# ===============================================================================\n",
    "# Simulate data & run tests in parallel across multiple genes\n",
    "# ===============================================================================\n",
    "# initialize random number generator\n",
    "random = np.random.default_rng(params[\"seed\"])\n",
    "\n",
    "# (1) set parameters which are fixed for all genes, such as the envrionment\n",
    "# matrix, population/repeat structure and their respective factorizations:\n",
    "\n",
    "# set indices of causal SNPs\n",
    "(g_causals, gxe_causals) = set_causal_ids(\n",
    "    n_causal_g=params[\"n_causal_g\"],\n",
    "    n_causal_gxe=params[\"n_causal_gxe\"],\n",
    "    n_causal_shared=params[\"n_causal_shared\"],\n",
    ")\n",
    "\n",
    "# set cells per donor\n",
    "if params[\"cells_per_individual\"] == \"fixed\":\n",
    "    n_cells = params[\"n_cells\"]\n",
    "elif params[\"cells_per_individual\"] == \"variable\":\n",
    "    # n_cells = np.arange(params['n_individuals']) + 1\n",
    "    # make sure n_cells.sum() equals params['n_cells'] * params['n_individuals']\n",
    "    n = params[\"n_individuals\"]\n",
    "    n_cells = np.linspace(1, n, n) * 2 * params[\"n_cells\"] / (n + 1)\n",
    "    n_cells = n_cells.round().astype(int)\n",
    "else:\n",
    "    raise ValueError(\n",
    "        \"Invalid cells_per_individual value: %s\" % params[\"cells_per_individual\"]\n",
    "    )\n",
    "\n",
    "print(\"Setting up environment matrix ...\")\n",
    "# create environment matrix and decomposition\n",
    "if params[\"env\"] == \"endo\":\n",
    "    # sample cells for one simulated individual from only one real individual\n",
    "    respect_individuals = True\n",
    "    if params[\"n_individuals\"] > 124:\n",
    "        respect_individuals = False\n",
    "    E = sample_endo(\n",
    "        params[\"n_env\"],\n",
    "        params[\"n_individuals\"],\n",
    "        n_cells,\n",
    "        random,\n",
    "        respect_individuals=respect_individuals,\n",
    "    )\n",
    "elif params[\"env\"] == \"cluster_uniform\":\n",
    "    E = sample_clusters(params[\"n_env\"], params[\"n_individuals\"], n_cells, random)\n",
    "elif params[\"env\"] == \"cluster_biased\":\n",
    "    E = sample_clusters(\n",
    "        params[\"n_env\"],\n",
    "        params[\"n_individuals\"],\n",
    "        n_cells,\n",
    "        random,\n",
    "        params[\"dirichlet_alpha\"],\n",
    "    )\n",
    "else:\n",
    "    raise ValueError(\"Invalid env value: %s\" % params[\"env\"])\n",
    "env = create_environment_factors(E)\n",
    "\n",
    "print(\"Setting up kinship matrix ...\")\n",
    "# create factors of kinship matrix\n",
    "if params[\"real_genotypes\"]:\n",
    "    if params[\"n_individuals\"] > 100:\n",
    "        raise ValueError(\"n_individuals > 100. Use artificial genotypes.\")\n",
    "    K = pd.read_csv(FILTERED_KINSHIP_PATH, index_col=0)\n",
    "    donor_ids = K.index[: params[\"n_individuals\"]].tolist()\n",
    "    K = K.iloc[: params[\"n_individuals\"], : params[\"n_individuals\"]].to_numpy()\n",
    "else:\n",
    "    K = np.eye(params[\"n_individuals\"])\n",
    "    donor_ids = None\n",
    "Lk = create_kinship_factors(K).Lk\n",
    "# expand from donors to cells\n",
    "Lk = Lk[np.repeat(range(params[\"n_individuals\"]), n_cells), :]\n",
    "\n",
    "# create factors of E + K * E\n",
    "us = env.U * env.S\n",
    "Ls = tuple([ddot(us[:, i], Lk) for i in range(us.shape[1])])\n",
    "\n",
    "# compute QS if using fixed effect model (these models also include E as fixed effects)\n",
    "QS = None\n",
    "if params[\"model\"].startswith(\"cellregmap_fixed\"):\n",
    "    print(\"Factorizing K * EE ... \")\n",
    "    QS = economic_qs((Lk @ Lk.T) * (env.E @ env.E.T))\n",
    "\n",
    "# set variances\n",
    "v = create_variances(\n",
    "    r0=params[\"r0\"], v0=params[\"v0\"], include_noise=params[\"likelihood\"] == \"gaussian\"\n",
    ")\n",
    "\n",
    "\n",
    "# (2) simulate data for each gene and run tests:"
   ]
  },
  {
   "cell_type": "code",
   "execution_count": 12,
   "metadata": {},
   "outputs": [],
   "source": [
    "def sim_and_test(random: np.random.Generator):\n",
    "    # simulates data for one gene and computes p-values\n",
    "\n",
    "    # set ids of environments with GxE effects\n",
    "    env_gxe_active = random.choice(E.shape[1], params[\"n_env_gxe\"])\n",
    "\n",
    "    s = simulate_data(\n",
    "        offset=params[\"offset\"],\n",
    "        n_individuals=params[\"n_individuals\"],\n",
    "        n_snps=params[\"n_snps\"],\n",
    "        n_cells=n_cells,\n",
    "        env=env,\n",
    "        env_gxe_active=env_gxe_active,\n",
    "        Ls=Ls,\n",
    "        maf_min=params[\"maf_min\"],\n",
    "        maf_max=params[\"maf_max\"],\n",
    "        real_genotypes=params[\"real_genotypes\"],\n",
    "        donor_ids=donor_ids,\n",
    "        g_causals=g_causals,\n",
    "        gxe_causals=gxe_causals,\n",
    "        variances=v,\n",
    "        random=random,\n",
    "    )\n",
    "\n",
    "    # adjust likelihood model\n",
    "    if params[\"likelihood\"] == \"gaussian\":\n",
    "        y = s.y\n",
    "    elif params[\"likelihood\"] == \"negbin\":\n",
    "        mu = np.exp(params[\"offset\"] + s.y_g + s.y_gxe + s.y_k + s.y_e)\n",
    "        y = sample_nb(mu=mu, phi=params[\"nb_dispersion\"], random=random)\n",
    "        y = np.log(y + 1)\n",
    "    elif params[\"likelihood\"] == \"zinb\":\n",
    "        mu = np.exp(params[\"offset\"] + s.y_g + s.y_gxe + s.y_k + s.y_e)\n",
    "        y = sample_nb(mu=mu, phi=params[\"nb_dispersion\"], random=random)\n",
    "        y *= random.binomial(1, 1 - params[\"p_dropout\"], size=y.size)\n",
    "        y = np.log(y + 1)\n",
    "    elif params[\"likelihood\"] == \"poisson\":\n",
    "        lam = np.exp(params[\"offset\"] + s.y_g + s.y_gxe + s.y_k + s.y_e)\n",
    "        y = random.poisson(lam=lam)\n",
    "        y = np.log(y + 1)\n",
    "    else:\n",
    "        raise ValueError(\"Unknown likelihood %s\" % params[\"likelihood\"])\n",
    "\n",
    "    if params[\"normalize\"] and params[\"likelihood\"] != \"gaussian\":\n",
    "        y = quantile_gaussianize(y)\n",
    "\n",
    "    # set up model & run test\n",
    "    y = y.reshape(y.shape[0], 1)\n",
    "    M = np.ones_like(y)\n",
    "\n",
    "    t_start = time.time()\n",
    "    if params[\"model\"] == \"cellregmap\":\n",
    "        model = CellRegMap(\n",
    "            y=y, W=M, E=None, E0=env.E[:, : params[\"n_env_tested\"]], E1=env.E, Ls=s.Ls\n",
    "        )\n",
    "        pv = model.scan_interaction(s.G)[0]\n",
    "    elif params[\"model\"] == \"cellregmap_assoc\":\n",
    "        model = CellRegMap(\n",
    "            y=y, W=M, E=None, E0=env.E[:, : params[\"n_env_tested\"]], E1=env.E, Ls=s.Ls\n",
    "        )\n",
    "        pv = model.scan_association(s.G)[0]\n",
    "    elif params[\"model\"] == \"structlmm\":\n",
    "        model = CellRegMap(\n",
    "            y=y, W=M, E=None, E0=env.E[:, : params[\"n_env_tested\"]], E1=env.E\n",
    "        )\n",
    "        pv = model.scan_interaction(s.G)[0]\n",
    "    elif params[\"model\"] == \"cellregmap_fixed_single_env\":\n",
    "        pv = run_cellregmap_fixed(\n",
    "            y=y,\n",
    "            M=M,\n",
    "            E0=env.E[:, : params[\"n_env_tested\"]],\n",
    "            E1=env.E,\n",
    "            G=s.G,\n",
    "            QS=QS,\n",
    "            joint=False,\n",
    "        )\n",
    "    elif params[\"model\"] == \"cellregmap_fixed_multi_env\":\n",
    "        pv = run_cellregmap_fixed(\n",
    "            y=y,\n",
    "            M=M,\n",
    "            E0=env.E[:, : params[\"n_env_tested\"]],\n",
    "            E1=env.E,\n",
    "            G=s.G,\n",
    "            QS=QS,\n",
    "            joint=True,\n",
    "        )\n",
    "    else:\n",
    "        raise ValueError(\"Unknown model %s\" % params[\"model\"])\n",
    "    time_elapsed = time.time() - t_start\n",
    "    return np.asarray(pv, float), s.snp_ids, time_elapsed, s"
   ]
  },
  {
   "cell_type": "code",
   "execution_count": 20,
   "metadata": {},
   "outputs": [],
   "source": [
    "def qqplot(x, ax, **plot_kwargs):\n",
    "    (osm, osr), _ = probplot(x, dist='uniform')\n",
    "    df = pd.DataFrame({'osm': -np.log10(osm), 'osr': -np.log10(osr)})\n",
    "    sns.scatterplot(x='osm', y='osr', data=df, ax=ax, edgecolor=None, s=12, **plot_kwargs)\n",
    "    m = max(ax.get_xlim()[1], ax.get_ylim()[1])\n",
    "    ax.plot([0, m], [0, m], c='grey', linestyle=':')\n",
    "    ax.set(xlabel=r'Expected $-\\log_{10} P$', ylabel=r'Observed $-\\log_{10} P$')"
   ]
  },
  {
   "cell_type": "code",
   "execution_count": 13,
   "metadata": {},
   "outputs": [],
   "source": [
    "adw = 1245321"
   ]
  },
  {
   "cell_type": "code",
   "execution_count": 14,
   "metadata": {},
   "outputs": [],
   "source": [
    "params['model'] = 'cellregmap'"
   ]
  },
  {
   "cell_type": "code",
   "execution_count": 15,
   "metadata": {},
   "outputs": [
    {
     "name": "stderr",
     "output_type": "stream",
     "text": [
      "100%|██████████| 250/250 [09:15<00:00,  2.22s/it]\n"
     ]
    }
   ],
   "source": [
    "pvals, snp_ids, times, s = sim_and_test(np.random.default_rng(adw))"
   ]
  },
  {
   "cell_type": "code",
   "execution_count": 16,
   "metadata": {},
   "outputs": [
    {
     "data": {
      "text/plain": [
       "array([0.41012967, 0.67737708, 0.54870192, 0.56012368, 0.34827251,\n",
       "       0.198678  , 0.28850517, 0.30546612, 0.11820375, 0.99402159,\n",
       "       0.82905391, 0.34611979, 0.69372648, 0.86830655, 0.10330423,\n",
       "       0.75313833, 0.34496345, 0.6251454 , 0.95904763, 0.34108279,\n",
       "       0.42356354, 0.33138736, 0.38213647, 0.39675127, 0.70002054,\n",
       "       0.9322221 , 0.50752225, 0.922691  , 0.2155578 , 0.07505084,\n",
       "       0.76588254, 0.36676767, 0.30560683, 0.40385769, 0.82870155,\n",
       "       0.83481511, 0.15734198, 0.63431076, 0.59856218, 0.57355658,\n",
       "       0.48232816, 0.29240042, 0.06257108, 0.44277517, 0.83171063,\n",
       "       0.65481881, 0.02716859, 0.07715919, 0.18664515, 0.66291566,\n",
       "       0.03915296, 0.47245245, 0.31197214, 0.2154648 , 0.01242101,\n",
       "       0.63126972, 0.1827062 , 0.61965232, 0.51307385, 0.26985156,\n",
       "       0.36537828, 0.58308665, 0.31282442, 0.4594537 , 0.1449654 ,\n",
       "       0.13915558, 0.28606622, 0.8308257 , 0.82178155, 0.47002694,\n",
       "       0.89827215, 0.33216916, 0.32409131, 0.71902344, 0.66650942,\n",
       "       0.85202443, 0.07629725, 0.91437587, 0.8953064 , 0.15101755,\n",
       "       0.00786786, 0.10817262, 0.30279867, 0.34573895, 0.7528343 ,\n",
       "       0.86732649, 0.23416027, 0.34793672, 0.27836595, 0.57033692,\n",
       "       0.31759539, 0.49921291, 0.84326497, 0.23494495, 0.38168485,\n",
       "       0.12401011, 0.26066916, 0.145934  , 0.60270122, 0.9013692 ,\n",
       "       0.41895552, 0.20027992, 0.38557793, 0.46831688, 0.8242073 ,\n",
       "       0.17997067, 0.66876344, 0.92710951, 0.07470754, 0.9305953 ,\n",
       "       0.18434993, 0.44139627, 0.3875613 , 0.89195387, 0.45781053,\n",
       "       0.75900998, 0.99962788, 0.0534733 , 0.75446776, 0.02229949,\n",
       "       0.79750122, 0.08949787, 0.20926151, 0.69367157, 0.33401527,\n",
       "       0.90583452, 0.18655336, 0.71754363, 0.96893133, 0.99258888,\n",
       "       0.71437212, 0.94390836, 0.929243  , 0.00814588, 0.18449613,\n",
       "       0.69543929, 0.3113983 , 0.38845469, 0.36228551, 0.50269739,\n",
       "       0.08545626, 0.84003624, 0.49011408, 0.99373143, 0.93261371,\n",
       "       0.6404465 , 0.11915517, 0.26229882, 0.24793264, 0.82716525,\n",
       "       0.60048264, 0.57828408, 0.70862708, 0.54115285, 0.68861371,\n",
       "       0.46996478, 0.2414513 , 0.3956525 , 0.61626504, 0.45004564,\n",
       "       0.97432547, 0.97557335, 0.86423978, 0.53012223, 0.19708526,\n",
       "       0.76925835, 0.94495708, 0.73004446, 0.54751521, 0.44835503,\n",
       "       0.44493783, 0.14077849, 0.79271725, 0.60240341, 0.51286658,\n",
       "       0.22064966, 0.1970997 , 0.93318379, 0.21896932, 0.52857221,\n",
       "       0.3332029 , 0.48536692, 0.29526808, 0.98262677, 0.8939972 ,\n",
       "       0.7335324 , 0.77404885, 0.19714834, 0.69522579, 0.59845999,\n",
       "       0.89799715, 0.36539989, 0.89460227, 0.49859625, 0.28098393,\n",
       "       0.56207782, 0.25825815, 0.26540212, 0.19769458, 0.62555533,\n",
       "       0.0911589 , 0.45966411, 0.54966744, 0.46121843, 0.04533649,\n",
       "       0.11663323, 0.24290685, 0.79076562, 0.83135108, 0.76519753,\n",
       "       0.90010273, 0.28724146, 0.53649856, 0.88612169, 0.5717739 ,\n",
       "       0.54428206, 0.61214578, 0.38422217, 0.65954341, 0.3118661 ,\n",
       "       0.09814419, 0.24354353, 0.02788277, 0.40884739, 0.171267  ,\n",
       "       0.52797944, 0.82423431, 0.25338333, 0.3347812 , 0.91078914,\n",
       "       0.56226105, 0.25119094, 0.73049858, 0.51539754, 0.08427529,\n",
       "       0.4851195 , 0.38745167, 0.46603744, 0.62890617, 0.05816788,\n",
       "       0.25560162, 0.51726623, 0.30853132, 0.14120541, 0.94603432,\n",
       "       0.76768749, 0.39661918, 0.51272901, 0.44217537, 0.18895582])"
      ]
     },
     "execution_count": 16,
     "metadata": {},
     "output_type": "execute_result"
    }
   ],
   "source": [
    "pvals"
   ]
  },
  {
   "cell_type": "code",
   "execution_count": 22,
   "metadata": {},
   "outputs": [
    {
     "data": {
      "image/png": "[encoded data removed]",
      "text/plain": [
       "<Figure size 432x288 with 1 Axes>"
      ]
     },
     "metadata": {
      "needs_background": "light"
     },
     "output_type": "display_data"
    }
   ],
   "source": [
    "fig, ax = plt.subplots()\n",
    "qqplot(pvals, ax)"
   ]
  },
  {
   "cell_type": "code",
   "execution_count": 23,
   "metadata": {},
   "outputs": [],
   "source": [
    "params['model'] = 'cellregmap_fixed_single_env'"
   ]
  },
  {
   "cell_type": "code",
   "execution_count": null,
   "metadata": {},
   "outputs": [
    {
     "name": "stderr",
     "output_type": "stream",
     "text": [
      "  4%|▍         | 11/250 [00:01<00:56,  4.24it/s]/omics/groups/OE0540/internal/users/heinent/miniconda3/envs/cellregmap/lib/python3.8/site-packages/glimix_core/lmm/_lmm_scan.py:389: RuntimeWarning: invalid value encountered in sqrt\n",
      "  se = sqrt(nice_inv(left).diagonal())\n",
      " 97%|█████████▋| 243/250 [4:42:03<28:31, 244.47s/it]  "
     ]
    }
   ],
   "source": [
    "pvals, snp_ids, times, s = sim_and_test(np.random.default_rng(adw))"
   ]
  },
  {
   "cell_type": "code",
   "execution_count": null,
   "metadata": {},
   "outputs": [],
   "source": [
    "pvals"
   ]
  },
  {
   "cell_type": "code",
   "execution_count": null,
   "metadata": {},
   "outputs": [],
   "source": [
    "daw"
   ]
  },
  {
   "cell_type": "code",
   "execution_count": null,
   "metadata": {},
   "outputs": [],
   "source": [
    "params['model'] = 'cellregmap_fixed_multi_env'"
   ]
  },
  {
   "cell_type": "code",
   "execution_count": null,
   "metadata": {},
   "outputs": [],
   "source": [
    "pvals, snp_ids, times, s = sim_and_test(np.random.default_rng(adw))"
   ]
  },
  {
   "cell_type": "code",
   "execution_count": null,
   "metadata": {},
   "outputs": [],
   "source": [
    "pvals"
   ]
  },
  {
   "cell_type": "code",
   "execution_count": null,
   "metadata": {},
   "outputs": [],
   "source": [
    "params['model'] = 'cellregmap_assoc'"
   ]
  },
  {
   "cell_type": "code",
   "execution_count": null,
   "metadata": {},
   "outputs": [],
   "source": [
    "pvals, snp_ids, times, s = sim_and_test(np.random.default_rng(adw))"
   ]
  },
  {
   "cell_type": "code",
   "execution_count": null,
   "metadata": {},
   "outputs": [],
   "source": [
    "pvals"
   ]
  },
  {
   "cell_type": "code",
   "execution_count": null,
   "metadata": {},
   "outputs": [],
   "source": []
  }
 ],
 "metadata": {
  "kernelspec": {
   "display_name": "cellregmap",
   "language": "python",
   "name": "cellregmap"
  },
  "language_info": {
   "codemirror_mode": {
    "name": "ipython",
    "version": 3
   },
   "file_extension": ".py",
   "mimetype": "text/x-python",
   "name": "python",
   "nbconvert_exporter": "python",
   "pygments_lexer": "ipython3",
   "version": "3.8.5"
  }
 },
 "nbformat": 4,
 "nbformat_minor": 4
}
