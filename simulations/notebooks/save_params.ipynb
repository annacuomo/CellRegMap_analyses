{
 "cells": [
  {
   "cell_type": "markdown",
   "metadata": {},
   "source": [
    "# Create params.csv"
   ]
  },
  {
   "cell_type": "code",
   "execution_count": 1,
   "metadata": {},
   "outputs": [],
   "source": [
    "import pandas as pd\n",
    "import numpy as np"
   ]
  },
  {
   "cell_type": "code",
   "execution_count": 2,
   "metadata": {},
   "outputs": [],
   "source": [
    "import sys\n",
    "sys.path.append('../scripts/')\n",
    "from settings import DEFAULT_PARAMS"
   ]
  },
  {
   "cell_type": "code",
   "execution_count": 3,
   "metadata": {},
   "outputs": [],
   "source": [
    "from itertools import product"
   ]
  },
  {
   "cell_type": "code",
   "execution_count": 4,
   "metadata": {},
   "outputs": [
    {
     "data": {
      "text/plain": [
       "{'n_snps': 50,\n",
       " 'n_individuals': 50,\n",
       " 'n_genes': 50,\n",
       " 'cells_per_individual': 'fixed',\n",
       " 'n_cells': 100,\n",
       " 'maf_min': 0.2,\n",
       " 'maf_max': 0.45,\n",
       " 'real_genotypes': False,\n",
       " 'env': 'endo',\n",
       " 'n_env': 10,\n",
       " 'n_env_gxe': 10,\n",
       " 'n_env_tested': 10,\n",
       " 'offset': 2.5,\n",
       " 'n_causal_g': 1,\n",
       " 'n_causal_gxe': 1,\n",
       " 'n_causal_shared': 1,\n",
       " 'r0': 0.5,\n",
       " 'v0': 0.03,\n",
       " 'likelihood': 'negbin',\n",
       " 'nb_dispersion': 2,\n",
       " 'p_dropout': 0.05,\n",
       " 'normalize': True,\n",
       " 'dirichlet_alpha': 2,\n",
       " 'seed': 19350,\n",
       " 'model': 'cellregmap_assoc'}"
      ]
     },
     "execution_count": 4,
     "metadata": {},
     "output_type": "execute_result"
    }
   ],
   "source": [
    "DEFAULT_PARAMS"
   ]
  },
  {
   "cell_type": "code",
   "execution_count": 5,
   "metadata": {},
   "outputs": [],
   "source": [
    "params = pd.DataFrame()"
   ]
  },
  {
   "cell_type": "markdown",
   "metadata": {},
   "source": [
    "### Calibration assessment for QQ plots"
   ]
  },
  {
   "cell_type": "code",
   "execution_count": 6,
   "metadata": {},
   "outputs": [],
   "source": [
    "# # simulate without persistent effect\n",
    "# model = ['cellregmap', 'cellregmap_fixed_single_env', 'cellregmap_assoc']\n",
    "\n",
    "# df = pd.DataFrame({'model': model})\n",
    "\n",
    "# df['n_causal_g'] = 0\n",
    "# df['n_causal_shared'] = 0\n",
    "# df['n_causal_gxe'] = 0\n",
    "# df['v0'] = 0.0\n",
    "# df['r0'] = 0.0\n",
    "\n",
    "# for k, v in DEFAULT_PARAMS.items():\n",
    "#     if k not in df.columns:\n",
    "#         df[k] = v"
   ]
  },
  {
   "cell_type": "code",
   "execution_count": 7,
   "metadata": {},
   "outputs": [],
   "source": [
    "# params = pd.concat([params, df]).reset_index(drop=True)"
   ]
  },
  {
   "cell_type": "markdown",
   "metadata": {},
   "source": [
    "### Calibration for varying numbers of tested environments"
   ]
  },
  {
   "cell_type": "code",
   "execution_count": 8,
   "metadata": {},
   "outputs": [],
   "source": [
    "# #model = ['cellregmap', 'cellregmap_fixed_single_env', 'cellregmap_fixed_multi_env']\n",
    "# model = ['cellregmap', 'cellregmap_fixed_single_env', 'cellregmap_fixed_multi_env']\n",
    "# n_env_tested = [10, 20]\n",
    "# n_cells = [50, 100]\n",
    "# df = pd.DataFrame(\n",
    "#     list(product(n_cells, n_env_tested, model)),\n",
    "#     columns=['n_cells', 'n_env_tested', 'model'])\n",
    "\n",
    "# df['n_env'] = 20\n",
    "# df['n_env_gxe'] = 20\n",
    "\n",
    "# df['n_causal_g'] = 0\n",
    "# df['n_causal_shared'] = 0\n",
    "# df['n_causal_gxe'] = 0\n",
    "# df['v0'] = 0.0\n",
    "# df['r0'] = 0.0\n",
    "\n",
    "# for k, v in DEFAULT_PARAMS.items():\n",
    "#     if k not in df.columns:\n",
    "#         df[k] = v"
   ]
  },
  {
   "cell_type": "code",
   "execution_count": 9,
   "metadata": {},
   "outputs": [],
   "source": [
    "# params = pd.concat([params, df]).reset_index(drop=True)"
   ]
  },
  {
   "cell_type": "markdown",
   "metadata": {},
   "source": [
    "### Runtime"
   ]
  },
  {
   "cell_type": "code",
   "execution_count": 10,
   "metadata": {},
   "outputs": [],
   "source": [
    "# simulate without persistent effect\n",
    "model = ['cellregmap', 'cellregmap_assoc']\n",
    "n_cells = np.arange(25, 150, step=25)\n",
    "n_individuals = [50, 100, 150]\n",
    "df = pd.DataFrame(\n",
    "    list(product(n_cells, model, n_individuals)),\n",
    "    columns=['n_cells', 'model', 'n_individuals'])\n",
    "df['n_genes'] = 1\n",
    "\n",
    "for k, v in DEFAULT_PARAMS.items():\n",
    "    if k not in df.columns:\n",
    "        df[k] = v"
   ]
  },
  {
   "cell_type": "code",
   "execution_count": 11,
   "metadata": {},
   "outputs": [],
   "source": [
    "params = pd.concat([params, df]).reset_index(drop=True)"
   ]
  },
  {
   "cell_type": "markdown",
   "metadata": {},
   "source": [
    "## Summarize"
   ]
  },
  {
   "cell_type": "code",
   "execution_count": 12,
   "metadata": {},
   "outputs": [
    {
     "data": {
      "text/plain": [
       "(30, 25)"
      ]
     },
     "execution_count": 12,
     "metadata": {},
     "output_type": "execute_result"
    }
   ],
   "source": [
    "params.shape"
   ]
  },
  {
   "cell_type": "markdown",
   "metadata": {},
   "source": [
    "Remove unused columns and rows"
   ]
  },
  {
   "cell_type": "code",
   "execution_count": 13,
   "metadata": {},
   "outputs": [
    {
     "data": {
      "text/html": [
       "<div>\n",
       "<style scoped>\n",
       "    .dataframe tbody tr th:only-of-type {\n",
       "        vertical-align: middle;\n",
       "    }\n",
       "\n",
       "    .dataframe tbody tr th {\n",
       "        vertical-align: top;\n",
       "    }\n",
       "\n",
       "    .dataframe thead th {\n",
       "        text-align: right;\n",
       "    }\n",
       "</style>\n",
       "<table border=\"1\" class=\"dataframe\">\n",
       "  <thead>\n",
       "    <tr style=\"text-align: right;\">\n",
       "      <th></th>\n",
       "      <th>n_cells</th>\n",
       "      <th>model</th>\n",
       "      <th>n_individuals</th>\n",
       "    </tr>\n",
       "  </thead>\n",
       "  <tbody>\n",
       "    <tr>\n",
       "      <th>0</th>\n",
       "      <td>25</td>\n",
       "      <td>cellregmap</td>\n",
       "      <td>50</td>\n",
       "    </tr>\n",
       "    <tr>\n",
       "      <th>1</th>\n",
       "      <td>25</td>\n",
       "      <td>cellregmap</td>\n",
       "      <td>100</td>\n",
       "    </tr>\n",
       "    <tr>\n",
       "      <th>2</th>\n",
       "      <td>25</td>\n",
       "      <td>cellregmap</td>\n",
       "      <td>150</td>\n",
       "    </tr>\n",
       "    <tr>\n",
       "      <th>3</th>\n",
       "      <td>25</td>\n",
       "      <td>cellregmap_assoc</td>\n",
       "      <td>50</td>\n",
       "    </tr>\n",
       "    <tr>\n",
       "      <th>4</th>\n",
       "      <td>25</td>\n",
       "      <td>cellregmap_assoc</td>\n",
       "      <td>100</td>\n",
       "    </tr>\n",
       "    <tr>\n",
       "      <th>5</th>\n",
       "      <td>25</td>\n",
       "      <td>cellregmap_assoc</td>\n",
       "      <td>150</td>\n",
       "    </tr>\n",
       "    <tr>\n",
       "      <th>6</th>\n",
       "      <td>50</td>\n",
       "      <td>cellregmap</td>\n",
       "      <td>50</td>\n",
       "    </tr>\n",
       "    <tr>\n",
       "      <th>7</th>\n",
       "      <td>50</td>\n",
       "      <td>cellregmap</td>\n",
       "      <td>100</td>\n",
       "    </tr>\n",
       "    <tr>\n",
       "      <th>8</th>\n",
       "      <td>50</td>\n",
       "      <td>cellregmap</td>\n",
       "      <td>150</td>\n",
       "    </tr>\n",
       "    <tr>\n",
       "      <th>9</th>\n",
       "      <td>50</td>\n",
       "      <td>cellregmap_assoc</td>\n",
       "      <td>50</td>\n",
       "    </tr>\n",
       "    <tr>\n",
       "      <th>10</th>\n",
       "      <td>50</td>\n",
       "      <td>cellregmap_assoc</td>\n",
       "      <td>100</td>\n",
       "    </tr>\n",
       "    <tr>\n",
       "      <th>11</th>\n",
       "      <td>50</td>\n",
       "      <td>cellregmap_assoc</td>\n",
       "      <td>150</td>\n",
       "    </tr>\n",
       "    <tr>\n",
       "      <th>12</th>\n",
       "      <td>75</td>\n",
       "      <td>cellregmap</td>\n",
       "      <td>50</td>\n",
       "    </tr>\n",
       "    <tr>\n",
       "      <th>13</th>\n",
       "      <td>75</td>\n",
       "      <td>cellregmap</td>\n",
       "      <td>100</td>\n",
       "    </tr>\n",
       "    <tr>\n",
       "      <th>14</th>\n",
       "      <td>75</td>\n",
       "      <td>cellregmap</td>\n",
       "      <td>150</td>\n",
       "    </tr>\n",
       "    <tr>\n",
       "      <th>15</th>\n",
       "      <td>75</td>\n",
       "      <td>cellregmap_assoc</td>\n",
       "      <td>50</td>\n",
       "    </tr>\n",
       "    <tr>\n",
       "      <th>16</th>\n",
       "      <td>75</td>\n",
       "      <td>cellregmap_assoc</td>\n",
       "      <td>100</td>\n",
       "    </tr>\n",
       "    <tr>\n",
       "      <th>17</th>\n",
       "      <td>75</td>\n",
       "      <td>cellregmap_assoc</td>\n",
       "      <td>150</td>\n",
       "    </tr>\n",
       "    <tr>\n",
       "      <th>18</th>\n",
       "      <td>100</td>\n",
       "      <td>cellregmap</td>\n",
       "      <td>50</td>\n",
       "    </tr>\n",
       "    <tr>\n",
       "      <th>19</th>\n",
       "      <td>100</td>\n",
       "      <td>cellregmap</td>\n",
       "      <td>100</td>\n",
       "    </tr>\n",
       "    <tr>\n",
       "      <th>20</th>\n",
       "      <td>100</td>\n",
       "      <td>cellregmap</td>\n",
       "      <td>150</td>\n",
       "    </tr>\n",
       "    <tr>\n",
       "      <th>21</th>\n",
       "      <td>100</td>\n",
       "      <td>cellregmap_assoc</td>\n",
       "      <td>50</td>\n",
       "    </tr>\n",
       "    <tr>\n",
       "      <th>22</th>\n",
       "      <td>100</td>\n",
       "      <td>cellregmap_assoc</td>\n",
       "      <td>100</td>\n",
       "    </tr>\n",
       "    <tr>\n",
       "      <th>23</th>\n",
       "      <td>100</td>\n",
       "      <td>cellregmap_assoc</td>\n",
       "      <td>150</td>\n",
       "    </tr>\n",
       "    <tr>\n",
       "      <th>24</th>\n",
       "      <td>125</td>\n",
       "      <td>cellregmap</td>\n",
       "      <td>50</td>\n",
       "    </tr>\n",
       "    <tr>\n",
       "      <th>25</th>\n",
       "      <td>125</td>\n",
       "      <td>cellregmap</td>\n",
       "      <td>100</td>\n",
       "    </tr>\n",
       "    <tr>\n",
       "      <th>26</th>\n",
       "      <td>125</td>\n",
       "      <td>cellregmap</td>\n",
       "      <td>150</td>\n",
       "    </tr>\n",
       "    <tr>\n",
       "      <th>27</th>\n",
       "      <td>125</td>\n",
       "      <td>cellregmap_assoc</td>\n",
       "      <td>50</td>\n",
       "    </tr>\n",
       "    <tr>\n",
       "      <th>28</th>\n",
       "      <td>125</td>\n",
       "      <td>cellregmap_assoc</td>\n",
       "      <td>100</td>\n",
       "    </tr>\n",
       "    <tr>\n",
       "      <th>29</th>\n",
       "      <td>125</td>\n",
       "      <td>cellregmap_assoc</td>\n",
       "      <td>150</td>\n",
       "    </tr>\n",
       "  </tbody>\n",
       "</table>\n",
       "</div>"
      ],
      "text/plain": [
       "    n_cells             model  n_individuals\n",
       "0        25        cellregmap             50\n",
       "1        25        cellregmap            100\n",
       "2        25        cellregmap            150\n",
       "3        25  cellregmap_assoc             50\n",
       "4        25  cellregmap_assoc            100\n",
       "5        25  cellregmap_assoc            150\n",
       "6        50        cellregmap             50\n",
       "7        50        cellregmap            100\n",
       "8        50        cellregmap            150\n",
       "9        50  cellregmap_assoc             50\n",
       "10       50  cellregmap_assoc            100\n",
       "11       50  cellregmap_assoc            150\n",
       "12       75        cellregmap             50\n",
       "13       75        cellregmap            100\n",
       "14       75        cellregmap            150\n",
       "15       75  cellregmap_assoc             50\n",
       "16       75  cellregmap_assoc            100\n",
       "17       75  cellregmap_assoc            150\n",
       "18      100        cellregmap             50\n",
       "19      100        cellregmap            100\n",
       "20      100        cellregmap            150\n",
       "21      100  cellregmap_assoc             50\n",
       "22      100  cellregmap_assoc            100\n",
       "23      100  cellregmap_assoc            150\n",
       "24      125        cellregmap             50\n",
       "25      125        cellregmap            100\n",
       "26      125        cellregmap            150\n",
       "27      125  cellregmap_assoc             50\n",
       "28      125  cellregmap_assoc            100\n",
       "29      125  cellregmap_assoc            150"
      ]
     },
     "execution_count": 13,
     "metadata": {},
     "output_type": "execute_result"
    }
   ],
   "source": [
    "params = params.loc[:, (params != params.iloc[0]).any()].drop_duplicates().reset_index(drop=True)\n",
    "params"
   ]
  },
  {
   "cell_type": "markdown",
   "metadata": {},
   "source": [
    "## Filter"
   ]
  },
  {
   "cell_type": "code",
   "execution_count": 14,
   "metadata": {},
   "outputs": [],
   "source": [
    "# params = params.query('model == \"cellregmap_fixed_single_env\" and n_cells == 100')\n",
    "\n",
    "# params"
   ]
  },
  {
   "cell_type": "markdown",
   "metadata": {},
   "source": [
    "## Save"
   ]
  },
  {
   "cell_type": "code",
   "execution_count": 15,
   "metadata": {},
   "outputs": [],
   "source": [
    "params.to_csv('../params.csv', index=False)"
   ]
  },
  {
   "cell_type": "code",
   "execution_count": null,
   "metadata": {},
   "outputs": [],
   "source": []
  }
 ],
 "metadata": {
  "kernelspec": {
   "display_name": "Python 3 (ipykernel)",
   "language": "python",
   "name": "python3"
  },
  "language_info": {
   "codemirror_mode": {
    "name": "ipython",
    "version": 3
   },
   "file_extension": ".py",
   "mimetype": "text/x-python",
   "name": "python",
   "nbconvert_exporter": "python",
   "pygments_lexer": "ipython3",
   "version": "3.8.12"
  }
 },
 "nbformat": 4,
 "nbformat_minor": 4
}
