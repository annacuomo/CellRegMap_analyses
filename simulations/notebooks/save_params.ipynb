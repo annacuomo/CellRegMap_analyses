{
 "cells": [
  {
   "cell_type": "markdown",
   "metadata": {},
   "source": [
    "# Create params.csv"
   ]
  },
  {
   "cell_type": "code",
   "execution_count": 1,
   "metadata": {},
   "outputs": [],
   "source": [
    "import pandas as pd\n",
    "import numpy as np"
   ]
  },
  {
   "cell_type": "code",
   "execution_count": 2,
   "metadata": {},
   "outputs": [],
   "source": [
    "import sys\n",
    "sys.path.append('../scripts/')\n",
    "from settings import DEFAULT_PARAMS"
   ]
  },
  {
   "cell_type": "code",
   "execution_count": 3,
   "metadata": {},
   "outputs": [],
   "source": [
    "from itertools import product"
   ]
  },
  {
   "cell_type": "code",
   "execution_count": 4,
   "metadata": {},
   "outputs": [
    {
     "data": {
      "text/plain": [
       "{'n_snps': 1,\n",
       " 'n_individuals': 50,\n",
       " 'n_genes': 150,\n",
       " 'cells_per_individual': 'fixed',\n",
       " 'n_cells': 50,\n",
       " 'maf_min': 0.2,\n",
       " 'maf_max': 0.45,\n",
       " 'env': 'endo',\n",
       " 'n_env': 20,\n",
       " 'n_env_gxe': 20,\n",
       " 'n_env_tested': 20,\n",
       " 'offset': 2.5,\n",
       " 'n_causal_g': 1,\n",
       " 'n_causal_gxe': 1,\n",
       " 'n_causal_shared': 1,\n",
       " 'r0': 0.5,\n",
       " 'v0': 0.03,\n",
       " 'likelihood': 'gaussian',\n",
       " 'nb_dispersion': 1.5,\n",
       " 'p_dropout': 0.05,\n",
       " 'normalize': True,\n",
       " 'dirichlet_alpha': 2,\n",
       " 'seed': 19350,\n",
       " 'model': 'structlmm2'}"
      ]
     },
     "execution_count": 4,
     "metadata": {},
     "output_type": "execute_result"
    }
   ],
   "source": [
    "DEFAULT_PARAMS"
   ]
  },
  {
   "cell_type": "markdown",
   "metadata": {},
   "source": [
    "## Parameters for calibration assessment"
   ]
  },
  {
   "cell_type": "code",
   "execution_count": 5,
   "metadata": {},
   "outputs": [],
   "source": [
    "likelihood = ['gaussian', 'negbin']\n",
    "model = ['structlmm', 'structlmm2']\n",
    "cells_per_individual = ['fixed']\n",
    "\n",
    "# simulate with and without persistent effect\n",
    "v0 = [DEFAULT_PARAMS['v0'], 0]\n",
    "\n",
    "# simulate with and without repeat structure\n",
    "n_cells = [50, 1]\n",
    "\n",
    "df = pd.DataFrame(\n",
    "    list(product(n_cells, model, likelihood, v0)),\n",
    "    columns=['n_cells', 'model', 'likelihood', 'v0'])\n",
    "\n",
    "n_snps = 200\n",
    "df['n_causal_g'] = n_snps\n",
    "df['n_causal_shared'] = 0\n",
    "df['n_causal_gxe'] = 0\n",
    "df['r0'] = 0\n",
    "df['n_snps'] = n_snps\n",
    "df['n_genes'] = 1\n",
    "\n",
    "df['n_individuals'] = DEFAULT_PARAMS['n_individuals']\n",
    "df.loc[df['n_cells'] == 1, 'n_individuals'] = max(n_cells) * DEFAULT_PARAMS['n_individuals']\n",
    "\n",
    "for k, v in DEFAULT_PARAMS.items():\n",
    "    if k not in df.columns:\n",
    "        df[k] = v"
   ]
  },
  {
   "cell_type": "code",
   "execution_count": 6,
   "metadata": {},
   "outputs": [],
   "source": [
    "params = df.reset_index(drop=True)"
   ]
  },
  {
   "cell_type": "markdown",
   "metadata": {},
   "source": [
    "## Parameters for power simulations"
   ]
  },
  {
   "cell_type": "code",
   "execution_count": 7,
   "metadata": {},
   "outputs": [],
   "source": [
    "cells_per_individual = ['fixed', 'variable']\n",
    "likelihood = ['gaussian', 'negbin']\n",
    "model = ['structlmm2', 'structlmm2_fixed']\n",
    "# seed = np.random.randint(1, 50000, 10)\n",
    "# seed = [48104, 19350, 35955, 44900, 13387, 45461, 16116, 32306, 619, 25220]\n",
    "seed = [19350, 44900, 45461, 32306, 619, 25220]"
   ]
  },
  {
   "cell_type": "code",
   "execution_count": 8,
   "metadata": {},
   "outputs": [],
   "source": [
    "def create_alternative_params_df(n_env_gxe, n_env_tested, seed, r0):\n",
    "    df = pd.DataFrame(\n",
    "        list(product(cells_per_individual, model, likelihood, r0, n_env_gxe, n_env_tested, seed)),\n",
    "        columns=['cells_per_individual', 'model', 'likelihood', 'r0', 'n_env_gxe', 'n_env_tested', 'seed'])\n",
    "    for k, v in DEFAULT_PARAMS.items():\n",
    "        if k not in df.columns:\n",
    "            df[k] = v\n",
    "    return df"
   ]
  },
  {
   "cell_type": "code",
   "execution_count": 9,
   "metadata": {},
   "outputs": [],
   "source": [
    "r0 = [0, 0.25, 0.5, 0.75, 1]\n",
    "n_env_gxe = [20]\n",
    "n_env_tested = [20]\n",
    "\n",
    "params = pd.concat([params, create_alternative_params_df(n_env_gxe, n_env_tested, seed, r0)], 0)"
   ]
  },
  {
   "cell_type": "code",
   "execution_count": 10,
   "metadata": {},
   "outputs": [],
   "source": [
    "r0 = [DEFAULT_PARAMS['r0']]\n",
    "n_env_gxe = [2, 5, 10, 15, 20]\n",
    "n_env_tested = [20]\n",
    "\n",
    "params = pd.concat([params, create_alternative_params_df(n_env_gxe, n_env_tested, seed, r0)], 0)"
   ]
  },
  {
   "cell_type": "code",
   "execution_count": 11,
   "metadata": {},
   "outputs": [],
   "source": [
    "r0 = [DEFAULT_PARAMS['r0']]\n",
    "n_env_gxe = [20]\n",
    "n_env_tested = [2, 5, 10, 15, 20]\n",
    "\n",
    "params = pd.concat([params, create_alternative_params_df(n_env_gxe, n_env_tested, seed, r0)], 0)"
   ]
  },
  {
   "cell_type": "code",
   "execution_count": 12,
   "metadata": {},
   "outputs": [],
   "source": [
    "params = params.reset_index(drop=True)"
   ]
  },
  {
   "cell_type": "markdown",
   "metadata": {},
   "source": [
    "## Change fraction of genetic variance for negative binomial simulations"
   ]
  },
  {
   "cell_type": "code",
   "execution_count": 13,
   "metadata": {},
   "outputs": [],
   "source": [
    "ids = params.query('likelihood == \"negbin\" and v0 > 0').index"
   ]
  },
  {
   "cell_type": "code",
   "execution_count": 14,
   "metadata": {},
   "outputs": [],
   "source": [
    "params.loc[ids, 'v0'] = 0.15"
   ]
  },
  {
   "cell_type": "markdown",
   "metadata": {},
   "source": [
    "## Summarize"
   ]
  },
  {
   "cell_type": "code",
   "execution_count": 15,
   "metadata": {},
   "outputs": [
    {
     "data": {
      "text/html": [
       "<div>\n",
       "<style scoped>\n",
       "    .dataframe tbody tr th:only-of-type {\n",
       "        vertical-align: middle;\n",
       "    }\n",
       "\n",
       "    .dataframe tbody tr th {\n",
       "        vertical-align: top;\n",
       "    }\n",
       "\n",
       "    .dataframe thead th {\n",
       "        text-align: right;\n",
       "    }\n",
       "</style>\n",
       "<table border=\"1\" class=\"dataframe\">\n",
       "  <thead>\n",
       "    <tr style=\"text-align: right;\">\n",
       "      <th></th>\n",
       "      <th>n_cells</th>\n",
       "      <th>model</th>\n",
       "      <th>likelihood</th>\n",
       "      <th>v0</th>\n",
       "      <th>n_causal_g</th>\n",
       "      <th>n_causal_shared</th>\n",
       "      <th>n_causal_gxe</th>\n",
       "      <th>r0</th>\n",
       "      <th>n_snps</th>\n",
       "      <th>n_genes</th>\n",
       "      <th>n_individuals</th>\n",
       "      <th>cells_per_individual</th>\n",
       "      <th>n_env_gxe</th>\n",
       "      <th>n_env_tested</th>\n",
       "      <th>seed</th>\n",
       "    </tr>\n",
       "  </thead>\n",
       "  <tbody>\n",
       "    <tr>\n",
       "      <th>0</th>\n",
       "      <td>50</td>\n",
       "      <td>structlmm</td>\n",
       "      <td>gaussian</td>\n",
       "      <td>0.03</td>\n",
       "      <td>200</td>\n",
       "      <td>0</td>\n",
       "      <td>0</td>\n",
       "      <td>0.0</td>\n",
       "      <td>200</td>\n",
       "      <td>1</td>\n",
       "      <td>50</td>\n",
       "      <td>fixed</td>\n",
       "      <td>20</td>\n",
       "      <td>20</td>\n",
       "      <td>19350</td>\n",
       "    </tr>\n",
       "    <tr>\n",
       "      <th>1</th>\n",
       "      <td>50</td>\n",
       "      <td>structlmm</td>\n",
       "      <td>gaussian</td>\n",
       "      <td>0.00</td>\n",
       "      <td>200</td>\n",
       "      <td>0</td>\n",
       "      <td>0</td>\n",
       "      <td>0.0</td>\n",
       "      <td>200</td>\n",
       "      <td>1</td>\n",
       "      <td>50</td>\n",
       "      <td>fixed</td>\n",
       "      <td>20</td>\n",
       "      <td>20</td>\n",
       "      <td>19350</td>\n",
       "    </tr>\n",
       "    <tr>\n",
       "      <th>2</th>\n",
       "      <td>50</td>\n",
       "      <td>structlmm</td>\n",
       "      <td>negbin</td>\n",
       "      <td>0.15</td>\n",
       "      <td>200</td>\n",
       "      <td>0</td>\n",
       "      <td>0</td>\n",
       "      <td>0.0</td>\n",
       "      <td>200</td>\n",
       "      <td>1</td>\n",
       "      <td>50</td>\n",
       "      <td>fixed</td>\n",
       "      <td>20</td>\n",
       "      <td>20</td>\n",
       "      <td>19350</td>\n",
       "    </tr>\n",
       "    <tr>\n",
       "      <th>3</th>\n",
       "      <td>50</td>\n",
       "      <td>structlmm</td>\n",
       "      <td>negbin</td>\n",
       "      <td>0.00</td>\n",
       "      <td>200</td>\n",
       "      <td>0</td>\n",
       "      <td>0</td>\n",
       "      <td>0.0</td>\n",
       "      <td>200</td>\n",
       "      <td>1</td>\n",
       "      <td>50</td>\n",
       "      <td>fixed</td>\n",
       "      <td>20</td>\n",
       "      <td>20</td>\n",
       "      <td>19350</td>\n",
       "    </tr>\n",
       "    <tr>\n",
       "      <th>4</th>\n",
       "      <td>50</td>\n",
       "      <td>structlmm2</td>\n",
       "      <td>gaussian</td>\n",
       "      <td>0.03</td>\n",
       "      <td>200</td>\n",
       "      <td>0</td>\n",
       "      <td>0</td>\n",
       "      <td>0.0</td>\n",
       "      <td>200</td>\n",
       "      <td>1</td>\n",
       "      <td>50</td>\n",
       "      <td>fixed</td>\n",
       "      <td>20</td>\n",
       "      <td>20</td>\n",
       "      <td>19350</td>\n",
       "    </tr>\n",
       "    <tr>\n",
       "      <th>...</th>\n",
       "      <td>...</td>\n",
       "      <td>...</td>\n",
       "      <td>...</td>\n",
       "      <td>...</td>\n",
       "      <td>...</td>\n",
       "      <td>...</td>\n",
       "      <td>...</td>\n",
       "      <td>...</td>\n",
       "      <td>...</td>\n",
       "      <td>...</td>\n",
       "      <td>...</td>\n",
       "      <td>...</td>\n",
       "      <td>...</td>\n",
       "      <td>...</td>\n",
       "      <td>...</td>\n",
       "    </tr>\n",
       "    <tr>\n",
       "      <th>725</th>\n",
       "      <td>50</td>\n",
       "      <td>structlmm2_fixed</td>\n",
       "      <td>negbin</td>\n",
       "      <td>0.15</td>\n",
       "      <td>1</td>\n",
       "      <td>1</td>\n",
       "      <td>1</td>\n",
       "      <td>0.5</td>\n",
       "      <td>1</td>\n",
       "      <td>150</td>\n",
       "      <td>50</td>\n",
       "      <td>variable</td>\n",
       "      <td>20</td>\n",
       "      <td>15</td>\n",
       "      <td>44900</td>\n",
       "    </tr>\n",
       "    <tr>\n",
       "      <th>726</th>\n",
       "      <td>50</td>\n",
       "      <td>structlmm2_fixed</td>\n",
       "      <td>negbin</td>\n",
       "      <td>0.15</td>\n",
       "      <td>1</td>\n",
       "      <td>1</td>\n",
       "      <td>1</td>\n",
       "      <td>0.5</td>\n",
       "      <td>1</td>\n",
       "      <td>150</td>\n",
       "      <td>50</td>\n",
       "      <td>variable</td>\n",
       "      <td>20</td>\n",
       "      <td>15</td>\n",
       "      <td>45461</td>\n",
       "    </tr>\n",
       "    <tr>\n",
       "      <th>727</th>\n",
       "      <td>50</td>\n",
       "      <td>structlmm2_fixed</td>\n",
       "      <td>negbin</td>\n",
       "      <td>0.15</td>\n",
       "      <td>1</td>\n",
       "      <td>1</td>\n",
       "      <td>1</td>\n",
       "      <td>0.5</td>\n",
       "      <td>1</td>\n",
       "      <td>150</td>\n",
       "      <td>50</td>\n",
       "      <td>variable</td>\n",
       "      <td>20</td>\n",
       "      <td>15</td>\n",
       "      <td>32306</td>\n",
       "    </tr>\n",
       "    <tr>\n",
       "      <th>728</th>\n",
       "      <td>50</td>\n",
       "      <td>structlmm2_fixed</td>\n",
       "      <td>negbin</td>\n",
       "      <td>0.15</td>\n",
       "      <td>1</td>\n",
       "      <td>1</td>\n",
       "      <td>1</td>\n",
       "      <td>0.5</td>\n",
       "      <td>1</td>\n",
       "      <td>150</td>\n",
       "      <td>50</td>\n",
       "      <td>variable</td>\n",
       "      <td>20</td>\n",
       "      <td>15</td>\n",
       "      <td>619</td>\n",
       "    </tr>\n",
       "    <tr>\n",
       "      <th>729</th>\n",
       "      <td>50</td>\n",
       "      <td>structlmm2_fixed</td>\n",
       "      <td>negbin</td>\n",
       "      <td>0.15</td>\n",
       "      <td>1</td>\n",
       "      <td>1</td>\n",
       "      <td>1</td>\n",
       "      <td>0.5</td>\n",
       "      <td>1</td>\n",
       "      <td>150</td>\n",
       "      <td>50</td>\n",
       "      <td>variable</td>\n",
       "      <td>20</td>\n",
       "      <td>15</td>\n",
       "      <td>25220</td>\n",
       "    </tr>\n",
       "  </tbody>\n",
       "</table>\n",
       "<p>640 rows × 15 columns</p>\n",
       "</div>"
      ],
      "text/plain": [
       "     n_cells             model likelihood    v0  n_causal_g  n_causal_shared  \\\n",
       "0         50         structlmm   gaussian  0.03         200                0   \n",
       "1         50         structlmm   gaussian  0.00         200                0   \n",
       "2         50         structlmm     negbin  0.15         200                0   \n",
       "3         50         structlmm     negbin  0.00         200                0   \n",
       "4         50        structlmm2   gaussian  0.03         200                0   \n",
       "..       ...               ...        ...   ...         ...              ...   \n",
       "725       50  structlmm2_fixed     negbin  0.15           1                1   \n",
       "726       50  structlmm2_fixed     negbin  0.15           1                1   \n",
       "727       50  structlmm2_fixed     negbin  0.15           1                1   \n",
       "728       50  structlmm2_fixed     negbin  0.15           1                1   \n",
       "729       50  structlmm2_fixed     negbin  0.15           1                1   \n",
       "\n",
       "     n_causal_gxe   r0  n_snps  n_genes  n_individuals cells_per_individual  \\\n",
       "0               0  0.0     200        1             50                fixed   \n",
       "1               0  0.0     200        1             50                fixed   \n",
       "2               0  0.0     200        1             50                fixed   \n",
       "3               0  0.0     200        1             50                fixed   \n",
       "4               0  0.0     200        1             50                fixed   \n",
       "..            ...  ...     ...      ...            ...                  ...   \n",
       "725             1  0.5       1      150             50             variable   \n",
       "726             1  0.5       1      150             50             variable   \n",
       "727             1  0.5       1      150             50             variable   \n",
       "728             1  0.5       1      150             50             variable   \n",
       "729             1  0.5       1      150             50             variable   \n",
       "\n",
       "     n_env_gxe  n_env_tested   seed  \n",
       "0           20            20  19350  \n",
       "1           20            20  19350  \n",
       "2           20            20  19350  \n",
       "3           20            20  19350  \n",
       "4           20            20  19350  \n",
       "..         ...           ...    ...  \n",
       "725         20            15  44900  \n",
       "726         20            15  45461  \n",
       "727         20            15  32306  \n",
       "728         20            15    619  \n",
       "729         20            15  25220  \n",
       "\n",
       "[640 rows x 15 columns]"
      ]
     },
     "execution_count": 15,
     "metadata": {},
     "output_type": "execute_result"
    }
   ],
   "source": [
    "params = params.reset_index(drop=True)\n",
    "params = params.loc[:, (params != params.iloc[0]).any()].drop_duplicates()\n",
    "params"
   ]
  },
  {
   "cell_type": "markdown",
   "metadata": {},
   "source": [
    "## Save"
   ]
  },
  {
   "cell_type": "code",
   "execution_count": 16,
   "metadata": {},
   "outputs": [],
   "source": [
    "params.to_csv('../params.csv', index=False)"
   ]
  }
 ],
 "metadata": {
  "kernelspec": {
   "display_name": "structlmm2",
   "language": "python",
   "name": "structlmm2"
  },
  "language_info": {
   "codemirror_mode": {
    "name": "ipython",
    "version": 3
   },
   "file_extension": ".py",
   "mimetype": "text/x-python",
   "name": "python",
   "nbconvert_exporter": "python",
   "pygments_lexer": "ipython3",
   "version": "3.9.2"
  }
 },
 "nbformat": 4,
 "nbformat_minor": 4
}
