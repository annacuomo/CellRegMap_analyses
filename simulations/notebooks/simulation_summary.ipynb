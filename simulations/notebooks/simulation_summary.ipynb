{
 "cells": [
  {
   "cell_type": "markdown",
   "metadata": {},
   "source": [
    "## Summarize simulation results"
   ]
  },
  {
   "cell_type": "code",
   "execution_count": 1,
   "metadata": {},
   "outputs": [],
   "source": [
    "import os\n",
    "import sys\n",
    "sys.path.append('../scripts/')"
   ]
  },
  {
   "cell_type": "code",
   "execution_count": 2,
   "metadata": {},
   "outputs": [],
   "source": [
    "from settings import DEFAULT_PARAMS\n",
    "from sim_utils import set_causal_snps"
   ]
  },
  {
   "cell_type": "code",
   "execution_count": 3,
   "metadata": {},
   "outputs": [],
   "source": [
    "import numpy as np\n",
    "import pandas as pd\n",
    "from snakemake.utils import Paramspace"
   ]
  },
  {
   "cell_type": "code",
   "execution_count": 4,
   "metadata": {},
   "outputs": [],
   "source": [
    "import seaborn as sns"
   ]
  },
  {
   "cell_type": "markdown",
   "metadata": {},
   "source": [
    "### Read dataframe with simulation parameters"
   ]
  },
  {
   "cell_type": "code",
   "execution_count": 5,
   "metadata": {},
   "outputs": [],
   "source": [
    "params = pd.read_csv('../params.csv')\n",
    "params['outfile'] = [p + '.txt' for p in Paramspace(params).instance_patterns]"
   ]
  },
  {
   "cell_type": "code",
   "execution_count": 6,
   "metadata": {},
   "outputs": [
    {
     "data": {
      "text/html": [
       "<div>\n",
       "<style scoped>\n",
       "    .dataframe tbody tr th:only-of-type {\n",
       "        vertical-align: middle;\n",
       "    }\n",
       "\n",
       "    .dataframe tbody tr th {\n",
       "        vertical-align: top;\n",
       "    }\n",
       "\n",
       "    .dataframe thead th {\n",
       "        text-align: right;\n",
       "    }\n",
       "</style>\n",
       "<table border=\"1\" class=\"dataframe\">\n",
       "  <thead>\n",
       "    <tr style=\"text-align: right;\">\n",
       "      <th></th>\n",
       "      <th>r0</th>\n",
       "      <th>v0</th>\n",
       "      <th>cells_per_individual</th>\n",
       "      <th>outfile</th>\n",
       "    </tr>\n",
       "  </thead>\n",
       "  <tbody>\n",
       "    <tr>\n",
       "      <th>0</th>\n",
       "      <td>0.00</td>\n",
       "      <td>0.10</td>\n",
       "      <td>fixed</td>\n",
       "      <td>r0~0.0/v0~0.1/cells_per_individual~fixed.txt</td>\n",
       "    </tr>\n",
       "    <tr>\n",
       "      <th>1</th>\n",
       "      <td>0.25</td>\n",
       "      <td>0.10</td>\n",
       "      <td>fixed</td>\n",
       "      <td>r0~0.25/v0~0.1/cells_per_individual~fixed.txt</td>\n",
       "    </tr>\n",
       "    <tr>\n",
       "      <th>2</th>\n",
       "      <td>0.50</td>\n",
       "      <td>0.10</td>\n",
       "      <td>fixed</td>\n",
       "      <td>r0~0.5/v0~0.1/cells_per_individual~fixed.txt</td>\n",
       "    </tr>\n",
       "    <tr>\n",
       "      <th>3</th>\n",
       "      <td>0.00</td>\n",
       "      <td>0.25</td>\n",
       "      <td>fixed</td>\n",
       "      <td>r0~0.0/v0~0.25/cells_per_individual~fixed.txt</td>\n",
       "    </tr>\n",
       "    <tr>\n",
       "      <th>4</th>\n",
       "      <td>0.25</td>\n",
       "      <td>0.25</td>\n",
       "      <td>fixed</td>\n",
       "      <td>r0~0.25/v0~0.25/cells_per_individual~fixed.txt</td>\n",
       "    </tr>\n",
       "    <tr>\n",
       "      <th>5</th>\n",
       "      <td>0.50</td>\n",
       "      <td>0.25</td>\n",
       "      <td>fixed</td>\n",
       "      <td>r0~0.5/v0~0.25/cells_per_individual~fixed.txt</td>\n",
       "    </tr>\n",
       "    <tr>\n",
       "      <th>6</th>\n",
       "      <td>0.00</td>\n",
       "      <td>0.10</td>\n",
       "      <td>variable</td>\n",
       "      <td>r0~0.0/v0~0.1/cells_per_individual~variable.txt</td>\n",
       "    </tr>\n",
       "    <tr>\n",
       "      <th>7</th>\n",
       "      <td>0.25</td>\n",
       "      <td>0.10</td>\n",
       "      <td>variable</td>\n",
       "      <td>r0~0.25/v0~0.1/cells_per_individual~variable.txt</td>\n",
       "    </tr>\n",
       "    <tr>\n",
       "      <th>8</th>\n",
       "      <td>0.50</td>\n",
       "      <td>0.10</td>\n",
       "      <td>variable</td>\n",
       "      <td>r0~0.5/v0~0.1/cells_per_individual~variable.txt</td>\n",
       "    </tr>\n",
       "    <tr>\n",
       "      <th>9</th>\n",
       "      <td>0.00</td>\n",
       "      <td>0.25</td>\n",
       "      <td>variable</td>\n",
       "      <td>r0~0.0/v0~0.25/cells_per_individual~variable.txt</td>\n",
       "    </tr>\n",
       "    <tr>\n",
       "      <th>10</th>\n",
       "      <td>0.25</td>\n",
       "      <td>0.25</td>\n",
       "      <td>variable</td>\n",
       "      <td>r0~0.25/v0~0.25/cells_per_individual~variable.txt</td>\n",
       "    </tr>\n",
       "    <tr>\n",
       "      <th>11</th>\n",
       "      <td>0.50</td>\n",
       "      <td>0.25</td>\n",
       "      <td>variable</td>\n",
       "      <td>r0~0.5/v0~0.25/cells_per_individual~variable.txt</td>\n",
       "    </tr>\n",
       "  </tbody>\n",
       "</table>\n",
       "</div>"
      ],
      "text/plain": [
       "      r0    v0 cells_per_individual  \\\n",
       "0   0.00  0.10                fixed   \n",
       "1   0.25  0.10                fixed   \n",
       "2   0.50  0.10                fixed   \n",
       "3   0.00  0.25                fixed   \n",
       "4   0.25  0.25                fixed   \n",
       "5   0.50  0.25                fixed   \n",
       "6   0.00  0.10             variable   \n",
       "7   0.25  0.10             variable   \n",
       "8   0.50  0.10             variable   \n",
       "9   0.00  0.25             variable   \n",
       "10  0.25  0.25             variable   \n",
       "11  0.50  0.25             variable   \n",
       "\n",
       "                                              outfile  \n",
       "0        r0~0.0/v0~0.1/cells_per_individual~fixed.txt  \n",
       "1       r0~0.25/v0~0.1/cells_per_individual~fixed.txt  \n",
       "2        r0~0.5/v0~0.1/cells_per_individual~fixed.txt  \n",
       "3       r0~0.0/v0~0.25/cells_per_individual~fixed.txt  \n",
       "4      r0~0.25/v0~0.25/cells_per_individual~fixed.txt  \n",
       "5       r0~0.5/v0~0.25/cells_per_individual~fixed.txt  \n",
       "6     r0~0.0/v0~0.1/cells_per_individual~variable.txt  \n",
       "7    r0~0.25/v0~0.1/cells_per_individual~variable.txt  \n",
       "8     r0~0.5/v0~0.1/cells_per_individual~variable.txt  \n",
       "9    r0~0.0/v0~0.25/cells_per_individual~variable.txt  \n",
       "10  r0~0.25/v0~0.25/cells_per_individual~variable.txt  \n",
       "11   r0~0.5/v0~0.25/cells_per_individual~variable.txt  "
      ]
     },
     "execution_count": 6,
     "metadata": {},
     "output_type": "execute_result"
    }
   ],
   "source": [
    "params"
   ]
  },
  {
   "cell_type": "markdown",
   "metadata": {},
   "source": [
    "### Compute true positives (power) and false positives"
   ]
  },
  {
   "cell_type": "code",
   "execution_count": 36,
   "metadata": {},
   "outputs": [],
   "source": [
    "def compute_tpr(pvals, gxe_causals, threshold=0.05):\n",
    "    \"\"\"\"True positive rate across all tested SNPs.\"\"\"\n",
    "    if len(gxe_causals) == 0:\n",
    "        return 1\n",
    "    return (pvals[:, gxe_causals] < threshold / pvals.shape[1]).mean()\n",
    "\n",
    "def compute_fpr(pvals, gxe_causals, threshold=0.05):\n",
    "    \"\"\"\"False positive rate across all tested SNPs.\"\"\"\n",
    "    return (pvals[:, [i for i in range(pvals.shape[1]) if i not in gxe_causals]] < threshold / pvals.shape[1]).mean()\n",
    "\n",
    "def get_causal_gxe(idx):\n",
    "    \"\"\"Check if default simulation parameters were changed and return ids of causal gxe SNPs.\"\"\"\n",
    "    if params.loc[i, 'r0'] == 0:\n",
    "        return []\n",
    "    n_causal_g = params.loc[idx, 'n_causal_g'] if 'n_causal_g' in params.columns else DEFAULT_PARAMS['n_causal_g']\n",
    "    n_causal_gxe = params.loc[idx, 'n_causal_gxe'] if 'n_causal_gxe' in params.columns else DEFAULT_PARAMS['n_causal_gxe']\n",
    "    return set_causal_snps(n_causal_g=n_causal_g, n_causal_gxe=n_causal_gxe)[1]"
   ]
  },
  {
   "cell_type": "code",
   "execution_count": 37,
   "metadata": {},
   "outputs": [],
   "source": [
    "params[['tpr', 'fpr']] = np.nan\n",
    "\n",
    "for i in params.index:\n",
    "    fname = '../results/simulations/' + params.loc[i, 'outfile']\n",
    "    if os.path.exists(fname):\n",
    "        pvals = pd.read_csv(fname, header=None).to_numpy()\n",
    "        causals = get_causal_gxe(i)\n",
    "        params.loc[i, 'tpr'] = compute_tpr(pvals, causals)\n",
    "        params.loc[i, 'fpr'] = compute_fpr(pvals, causals)"
   ]
  },
  {
   "cell_type": "code",
   "execution_count": 39,
   "metadata": {},
   "outputs": [
    {
     "data": {
      "text/html": [
       "<div>\n",
       "<style scoped>\n",
       "    .dataframe tbody tr th:only-of-type {\n",
       "        vertical-align: middle;\n",
       "    }\n",
       "\n",
       "    .dataframe tbody tr th {\n",
       "        vertical-align: top;\n",
       "    }\n",
       "\n",
       "    .dataframe thead th {\n",
       "        text-align: right;\n",
       "    }\n",
       "</style>\n",
       "<table border=\"1\" class=\"dataframe\">\n",
       "  <thead>\n",
       "    <tr style=\"text-align: right;\">\n",
       "      <th></th>\n",
       "      <th>r0</th>\n",
       "      <th>v0</th>\n",
       "      <th>cells_per_individual</th>\n",
       "      <th>outfile</th>\n",
       "      <th>tpr</th>\n",
       "      <th>fpr</th>\n",
       "    </tr>\n",
       "  </thead>\n",
       "  <tbody>\n",
       "    <tr>\n",
       "      <th>0</th>\n",
       "      <td>0.00</td>\n",
       "      <td>0.10</td>\n",
       "      <td>fixed</td>\n",
       "      <td>r0~0.0/v0~0.1/cells_per_individual~fixed.txt</td>\n",
       "      <td>1.00</td>\n",
       "      <td>0.000800</td>\n",
       "    </tr>\n",
       "    <tr>\n",
       "      <th>1</th>\n",
       "      <td>0.25</td>\n",
       "      <td>0.10</td>\n",
       "      <td>fixed</td>\n",
       "      <td>r0~0.25/v0~0.1/cells_per_individual~fixed.txt</td>\n",
       "      <td>0.98</td>\n",
       "      <td>0.003333</td>\n",
       "    </tr>\n",
       "    <tr>\n",
       "      <th>2</th>\n",
       "      <td>0.50</td>\n",
       "      <td>0.10</td>\n",
       "      <td>fixed</td>\n",
       "      <td>r0~0.5/v0~0.1/cells_per_individual~fixed.txt</td>\n",
       "      <td>1.00</td>\n",
       "      <td>0.005000</td>\n",
       "    </tr>\n",
       "    <tr>\n",
       "      <th>3</th>\n",
       "      <td>0.00</td>\n",
       "      <td>0.25</td>\n",
       "      <td>fixed</td>\n",
       "      <td>r0~0.0/v0~0.25/cells_per_individual~fixed.txt</td>\n",
       "      <td>1.00</td>\n",
       "      <td>0.000800</td>\n",
       "    </tr>\n",
       "    <tr>\n",
       "      <th>4</th>\n",
       "      <td>0.25</td>\n",
       "      <td>0.25</td>\n",
       "      <td>fixed</td>\n",
       "      <td>r0~0.25/v0~0.25/cells_per_individual~fixed.txt</td>\n",
       "      <td>NaN</td>\n",
       "      <td>NaN</td>\n",
       "    </tr>\n",
       "    <tr>\n",
       "      <th>5</th>\n",
       "      <td>0.50</td>\n",
       "      <td>0.25</td>\n",
       "      <td>fixed</td>\n",
       "      <td>r0~0.5/v0~0.25/cells_per_individual~fixed.txt</td>\n",
       "      <td>1.00</td>\n",
       "      <td>0.016667</td>\n",
       "    </tr>\n",
       "    <tr>\n",
       "      <th>6</th>\n",
       "      <td>0.00</td>\n",
       "      <td>0.10</td>\n",
       "      <td>variable</td>\n",
       "      <td>r0~0.0/v0~0.1/cells_per_individual~variable.txt</td>\n",
       "      <td>1.00</td>\n",
       "      <td>0.002400</td>\n",
       "    </tr>\n",
       "    <tr>\n",
       "      <th>7</th>\n",
       "      <td>0.25</td>\n",
       "      <td>0.10</td>\n",
       "      <td>variable</td>\n",
       "      <td>r0~0.25/v0~0.1/cells_per_individual~variable.txt</td>\n",
       "      <td>0.96</td>\n",
       "      <td>0.002500</td>\n",
       "    </tr>\n",
       "    <tr>\n",
       "      <th>8</th>\n",
       "      <td>0.50</td>\n",
       "      <td>0.10</td>\n",
       "      <td>variable</td>\n",
       "      <td>r0~0.5/v0~0.1/cells_per_individual~variable.txt</td>\n",
       "      <td>1.00</td>\n",
       "      <td>0.004167</td>\n",
       "    </tr>\n",
       "    <tr>\n",
       "      <th>9</th>\n",
       "      <td>0.00</td>\n",
       "      <td>0.25</td>\n",
       "      <td>variable</td>\n",
       "      <td>r0~0.0/v0~0.25/cells_per_individual~variable.txt</td>\n",
       "      <td>NaN</td>\n",
       "      <td>NaN</td>\n",
       "    </tr>\n",
       "    <tr>\n",
       "      <th>10</th>\n",
       "      <td>0.25</td>\n",
       "      <td>0.25</td>\n",
       "      <td>variable</td>\n",
       "      <td>r0~0.25/v0~0.25/cells_per_individual~variable.txt</td>\n",
       "      <td>1.00</td>\n",
       "      <td>0.005000</td>\n",
       "    </tr>\n",
       "    <tr>\n",
       "      <th>11</th>\n",
       "      <td>0.50</td>\n",
       "      <td>0.25</td>\n",
       "      <td>variable</td>\n",
       "      <td>r0~0.5/v0~0.25/cells_per_individual~variable.txt</td>\n",
       "      <td>1.00</td>\n",
       "      <td>0.006667</td>\n",
       "    </tr>\n",
       "  </tbody>\n",
       "</table>\n",
       "</div>"
      ],
      "text/plain": [
       "      r0    v0 cells_per_individual  \\\n",
       "0   0.00  0.10                fixed   \n",
       "1   0.25  0.10                fixed   \n",
       "2   0.50  0.10                fixed   \n",
       "3   0.00  0.25                fixed   \n",
       "4   0.25  0.25                fixed   \n",
       "5   0.50  0.25                fixed   \n",
       "6   0.00  0.10             variable   \n",
       "7   0.25  0.10             variable   \n",
       "8   0.50  0.10             variable   \n",
       "9   0.00  0.25             variable   \n",
       "10  0.25  0.25             variable   \n",
       "11  0.50  0.25             variable   \n",
       "\n",
       "                                              outfile   tpr       fpr  \n",
       "0        r0~0.0/v0~0.1/cells_per_individual~fixed.txt  1.00  0.000800  \n",
       "1       r0~0.25/v0~0.1/cells_per_individual~fixed.txt  0.98  0.003333  \n",
       "2        r0~0.5/v0~0.1/cells_per_individual~fixed.txt  1.00  0.005000  \n",
       "3       r0~0.0/v0~0.25/cells_per_individual~fixed.txt  1.00  0.000800  \n",
       "4      r0~0.25/v0~0.25/cells_per_individual~fixed.txt   NaN       NaN  \n",
       "5       r0~0.5/v0~0.25/cells_per_individual~fixed.txt  1.00  0.016667  \n",
       "6     r0~0.0/v0~0.1/cells_per_individual~variable.txt  1.00  0.002400  \n",
       "7    r0~0.25/v0~0.1/cells_per_individual~variable.txt  0.96  0.002500  \n",
       "8     r0~0.5/v0~0.1/cells_per_individual~variable.txt  1.00  0.004167  \n",
       "9    r0~0.0/v0~0.25/cells_per_individual~variable.txt   NaN       NaN  \n",
       "10  r0~0.25/v0~0.25/cells_per_individual~variable.txt  1.00  0.005000  \n",
       "11   r0~0.5/v0~0.25/cells_per_individual~variable.txt  1.00  0.006667  "
      ]
     },
     "execution_count": 39,
     "metadata": {},
     "output_type": "execute_result"
    }
   ],
   "source": [
    "params"
   ]
  },
  {
   "cell_type": "markdown",
   "metadata": {},
   "source": [
    "### Visualize"
   ]
  },
  {
   "cell_type": "code",
   "execution_count": 40,
   "metadata": {},
   "outputs": [
    {
     "data": {
      "text/plain": [
       "<seaborn.axisgrid.FacetGrid at 0x7f23109978b0>"
      ]
     },
     "execution_count": 40,
     "metadata": {},
     "output_type": "execute_result"
    },
    {
     "data": {
      "image/png": "[encoded data removed]",
      "text/plain": [
       "<Figure size 432x288 with 6 Axes>"
      ]
     },
     "metadata": {
      "needs_background": "light"
     },
     "output_type": "display_data"
    }
   ],
   "source": [
    "sns.catplot(x='cells_per_individual', y='tpr', col='r0', row='v0', data=params, kind='bar', margin_titles=True, height=2);"
   ]
  },
  {
   "cell_type": "code",
   "execution_count": 41,
   "metadata": {},
   "outputs": [
    {
     "data": {
      "text/plain": [
       "<seaborn.axisgrid.FacetGrid at 0x7f23107966d0>"
      ]
     },
     "execution_count": 41,
     "metadata": {},
     "output_type": "execute_result"
    },
    {
     "data": {
      "image/png": "[encoded data removed]",
      "text/plain": [
       "<Figure size 432x288 with 6 Axes>"
      ]
     },
     "metadata": {
      "needs_background": "light"
     },
     "output_type": "display_data"
    }
   ],
   "source": [
    "sns.catplot(x='cells_per_individual', y='fpr', col='r0', row='v0', data=params, kind='bar', margin_titles=True, height=2);"
   ]
  }
 ],
 "metadata": {
  "kernelspec": {
   "display_name": "structlmm2",
   "language": "python",
   "name": "structlmm2"
  },
  "language_info": {
   "codemirror_mode": {
    "name": "ipython",
    "version": 3
   },
   "file_extension": ".py",
   "mimetype": "text/x-python",
   "name": "python",
   "nbconvert_exporter": "python",
   "pygments_lexer": "ipython3",
   "version": "3.9.2"
  }
 },
 "nbformat": 4,
 "nbformat_minor": 4
}
