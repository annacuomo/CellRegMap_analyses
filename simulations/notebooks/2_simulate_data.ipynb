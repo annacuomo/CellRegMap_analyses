{
 "cells": [
  {
   "cell_type": "markdown",
   "metadata": {},
   "source": [
    "# Generate synthetic data"
   ]
  },
  {
   "cell_type": "code",
   "execution_count": 1,
   "metadata": {},
   "outputs": [],
   "source": [
    "import os\n",
    "import sys\n",
    "sys.path.append('..')\n",
    "\n",
    "import utils.settings as settings\n",
    "\n",
    "import pandas as pd\n",
    "import numpy as np\n",
    "\n",
    "from pandas_plink import read_plink1_bin, write_plink1_bin\n",
    "\n",
    "from limix.qc import quantile_gaussianize\n",
    "\n",
    "from cellregmap._simulate import (\n",
    "    sample_persistent_effsizes,\n",
    "    sample_persistent_effects,\n",
    "    sample_gxe_effects,\n",
    "    column_normalize\n",
    ")\n",
    "\n",
    "import scanpy as sc"
   ]
  },
  {
   "cell_type": "code",
   "execution_count": 2,
   "metadata": {},
   "outputs": [],
   "source": [
    "rng = np.random.default_rng(123)"
   ]
  },
  {
   "cell_type": "markdown",
   "metadata": {},
   "source": [
    "## Load data"
   ]
  },
  {
   "cell_type": "code",
   "execution_count": 3,
   "metadata": {},
   "outputs": [
    {
     "name": "stderr",
     "output_type": "stream",
     "text": [
      "Mapping files: 100%|██████████| 3/3 [00:11<00:00,  3.73s/it]\n"
     ]
    }
   ],
   "source": [
    "adata = sc.read(settings.DATA_DIR + '/filtered/adata.h5ad')\n",
    "genotypes = read_plink1_bin(settings.DATA_DIR + '/filtered/genotypes.bed')"
   ]
  },
  {
   "cell_type": "code",
   "execution_count": 4,
   "metadata": {},
   "outputs": [
    {
     "name": "stderr",
     "output_type": "stream",
     "text": [
      "/tmp/ipykernel_57130/1542287780.py:4: ImplicitModificationWarning: Trying to modify attribute `.obs` of view, initializing view as actual.\n",
      "  adata.obs['donor_long_id'] = adata.obs['donor_long_id'].cat.remove_unused_categories()\n"
     ]
    },
    {
     "data": {
      "text/plain": [
       "View of AnnData object with n_obs × n_vars = 5000 × 500\n",
       "    obs: 'assigned', 'auxDir', 'cell_filter', 'cell_name', 'compatible_fragment_ratio', 'day', 'donor', 'expected_format', 'experiment', 'frag_dist_length', 'gc_bias_correct', 'is_cell_control', 'is_cell_control_bulk', 'is_cell_control_control', 'library_types', 'libType', 'log10_total_counts', 'log10_total_counts_endogenous', 'log10_total_counts_ERCC', 'log10_total_counts_feature_control', 'log10_total_counts_MT', 'log10_total_features', 'log10_total_features_endogenous', 'log10_total_features_ERCC', 'log10_total_features_feature_control', 'log10_total_features_MT', 'mapping_type', 'mates1', 'mates2', 'n_alt_reads', 'n_total_reads', 'num_assigned_fragments', 'num_bias_bins', 'num_bootstraps', 'num_compatible_fragments', 'num_consistent_mappings', 'num_inconsistent_mappings', 'num_libraries', 'num_mapped', 'num_processed', 'num_targets', 'nvars_used', 'pct_counts_endogenous', 'pct_counts_ERCC', 'pct_counts_feature_control', 'pct_counts_MT', 'pct_counts_top_100_features', 'pct_counts_top_100_features_endogenous', 'pct_counts_top_100_features_feature_control', 'pct_counts_top_200_features', 'pct_counts_top_200_features_endogenous', 'pct_counts_top_50_features', 'pct_counts_top_50_features_endogenous', 'pct_counts_top_50_features_ERCC', 'pct_counts_top_50_features_feature_control', 'pct_counts_top_500_features', 'pct_counts_top_500_features_endogenous', 'percent_mapped', 'plate_id', 'plate_well_id', 'post_prob', 'public_name', 'read_files', 'salmon_version', 'samp_type', 'sample_id', 'seq_bias_correct', 'size_factor', 'start_time', 'strand_mapping_bias', 'total_counts', 'total_counts_endogenous', 'total_counts_ERCC', 'total_counts_feature_control', 'total_counts_MT', 'total_features', 'total_features_endogenous', 'total_features_ERCC', 'total_features_feature_control', 'total_features_MT', 'used_in_expt', 'well_id', 'well_type', 'donor_short_id', 'donor_long_id', 'pseudo', 'PC1_top100hvgs', 'PC1_top200hvgs', 'PC1_top500hvgs', 'PC1_top1000hvgs', 'PC1_top2000hvgs', 'princ_curve', 'princ_curve_scaled01', 'leiden12', 'leiden24'\n",
       "    uns: 'day_colors', 'leiden', 'leiden12_colors', 'leiden24_colors', 'neighbors', 'umap'\n",
       "    obsm: 'X_mofa', 'X_umap'\n",
       "    obsp: 'connectivities', 'distances'"
      ]
     },
     "execution_count": 4,
     "metadata": {},
     "output_type": "execute_result"
    }
   ],
   "source": [
    "# sample cells from donors with most cells and sample genes uniformly\n",
    "top_donors = adata.obs['donor_long_id'].value_counts()[:settings.N_DONORS].index\n",
    "adata = adata[adata.obs['donor_long_id'].isin(top_donors), :]\n",
    "adata.obs['donor_long_id'] = adata.obs['donor_long_id'].cat.remove_unused_categories()\n",
    "\n",
    "cell_filter = adata.obs.groupby('donor_long_id').sample(n=settings.N_CELLS, random_state=42).index # sample settings.N_CELLS genes for simulation\n",
    "\n",
    "gene_filter = adata.var_names.to_series().sample(settings.N_GENES, random_state=42) # sample settings.N_GENES genes for simulation\n",
    "\n",
    "adata = adata[cell_filter, gene_filter]\n",
    "adata"
   ]
  },
  {
   "cell_type": "code",
   "execution_count": 5,
   "metadata": {},
   "outputs": [
    {
     "data": {
      "text/plain": [
       "(50, 2610302)"
      ]
     },
     "execution_count": 5,
     "metadata": {},
     "output_type": "execute_result"
    }
   ],
   "source": [
    "genotypes = genotypes[pd.Series(genotypes.sample.values).isin(top_donors), :] # restrict to top donors\n",
    "genotypes = genotypes[:, genotypes.values.sum(0) / (2 * genotypes.shape[0]) > 0.05] # filter by MAF\n",
    "genotypes = genotypes[:, genotypes.values.std(0) > 0.0] # remove low-variance SNPs\n",
    "\n",
    "genotypes.shape"
   ]
  },
  {
   "cell_type": "markdown",
   "metadata": {},
   "source": [
    "## Sample SNPs for each gene from a different chromosome"
   ]
  },
  {
   "cell_type": "code",
   "execution_count": 6,
   "metadata": {},
   "outputs": [],
   "source": [
    "gene_annotation = pd.read_csv(settings.DATA_DIR + '/gene_annotation.tsv', sep='\\t')[['Gene stable ID', 'Chromosome/scaffold name']].drop_duplicates()\n",
    "gene_annotation.columns = ['gene', 'chrom']\n",
    "gene_annotation = gene_annotation.set_index('gene')"
   ]
  },
  {
   "cell_type": "code",
   "execution_count": 7,
   "metadata": {},
   "outputs": [
    {
     "name": "stderr",
     "output_type": "stream",
     "text": [
      "/tmp/ipykernel_57130/3829750848.py:2: ImplicitModificationWarning: Trying to modify attribute `.var` of view, initializing view as actual.\n",
      "  adata.var['chrom'] = gene_annotation.loc[ensembl_ids, 'chrom'].tolist()\n"
     ]
    }
   ],
   "source": [
    "ensembl_ids = gene_filter.str.split('_', expand=True)[0]\n",
    "adata.var['chrom'] = gene_annotation.loc[ensembl_ids, 'chrom'].tolist()"
   ]
  },
  {
   "cell_type": "code",
   "execution_count": 8,
   "metadata": {},
   "outputs": [
    {
     "name": "stdout",
     "output_type": "stream",
     "text": [
      "[=========================]\r"
     ]
    }
   ],
   "source": [
    "chroms = adata.var['chrom'].unique()\n",
    "n_chroms = chroms.size\n",
    "for i, chrom in enumerate(chroms):\n",
    "    print('[' + ((i+1) * '=') + ((n_chroms - i-1) * ' ') + ']', end='\\r')\n",
    "    ids = adata.var['chrom'] == chrom\n",
    "    variants = rng.choice(genotypes.snp[genotypes.chrom != chrom], settings.N_SNPS * ids.sum())\n",
    "    adata.var.loc[ids, 'snpID'] = pd.DataFrame(variants.reshape((ids.sum(), settings.N_SNPS))).apply(lambda x: ','.join(x), 1).tolist()"
   ]
  },
  {
   "cell_type": "code",
   "execution_count": 9,
   "metadata": {},
   "outputs": [],
   "source": [
    "snps = ','.join(adata.var['snpID'].tolist()).split(',')"
   ]
  },
  {
   "cell_type": "code",
   "execution_count": 10,
   "metadata": {},
   "outputs": [
    {
     "data": {
      "text/plain": [
       "(50, 500)"
      ]
     },
     "execution_count": 10,
     "metadata": {},
     "output_type": "execute_result"
    }
   ],
   "source": [
    "genotypes = genotypes[:, pd.Series(genotypes.snp).isin(np.unique(snps))]\n",
    "genotypes.shape"
   ]
  },
  {
   "cell_type": "markdown",
   "metadata": {},
   "source": [
    "## Save"
   ]
  },
  {
   "cell_type": "code",
   "execution_count": 11,
   "metadata": {},
   "outputs": [
    {
     "name": "stderr",
     "output_type": "stream",
     "text": [
      "Writing BED: 100%|██████████| 1/1 [00:01<00:00,  1.81s/it]"
     ]
    },
    {
     "name": "stdout",
     "output_type": "stream",
     "text": [
      "Writing FAM... done.\n",
      "Writing BIM... done.\n"
     ]
    },
    {
     "name": "stderr",
     "output_type": "stream",
     "text": [
      "\n"
     ]
    }
   ],
   "source": [
    "write_plink1_bin(genotypes, settings.DATA_DIR + '/filtered/genotypes_sim.bed')"
   ]
  },
  {
   "cell_type": "code",
   "execution_count": 12,
   "metadata": {},
   "outputs": [],
   "source": [
    "adata.obsm['X_mofa'] = column_normalize(quantile_gaussianize(adata.obsm['X_mofa']))"
   ]
  },
  {
   "cell_type": "markdown",
   "metadata": {},
   "source": [
    "## Simulate eQTLs"
   ]
  },
  {
   "cell_type": "code",
   "execution_count": 13,
   "metadata": {},
   "outputs": [],
   "source": [
    "if not os.path.exists(settings.DATA_DIR + '/simulated'):\n",
    "    os.mkdir(settings.DATA_DIR + '/simulated')\n",
    "else:\n",
    "    print('Warning: Dir exists')"
   ]
  },
  {
   "cell_type": "code",
   "execution_count": 14,
   "metadata": {},
   "outputs": [],
   "source": [
    "def simulate(gvar, fev_gxc, ncontexts, adata=adata):\n",
    "    path = settings.DATA_DIR + f'/simulated/gvar~{gvar}_fevgxc~{fev_gxc}_ncontexts~{ncontexts}'    \n",
    "    print(path)\n",
    "    \n",
    "    if not os.path.exists(path):\n",
    "        os.mkdir(path)\n",
    "    else:\n",
    "        return None\n",
    "        \n",
    "    y_persistent = np.zeros_like(adata.X)\n",
    "    y_gxc = np.zeros_like(adata.X)\n",
    "\n",
    "    # fraction of explained variance by GxC and G\n",
    "    v_g = gvar * (1 - fev_gxc)\n",
    "    v_gxc = gvar * fev_gxc\n",
    "\n",
    "    # contexts with GxC\n",
    "    C = adata.obsm['X_mofa'][:, :ncontexts] / np.sqrt(ncontexts)\n",
    "    # simulate data for each gene\n",
    "    for i, g in enumerate(adata.var_names):\n",
    "        # SNPs for this gene\n",
    "        G = genotypes[:, pd.Series(genotypes.snp).isin(adata.var.loc[g, 'snpID'].split(','))]\n",
    "        # expand to cell-level\n",
    "        G = G.sel(sample=adata.obs['donor_long_id'].tolist()).values\n",
    "        G = column_normalize(G)\n",
    "        \n",
    "        # sample\n",
    "        beta_g = sample_persistent_effsizes(settings.N_SNPS, [0], v_g, rng)\n",
    "        y_persistent[:, i] = sample_persistent_effects(G, beta_g, v_g)\n",
    "        y_gxc[:, i] = sample_gxe_effects(G, C, [0], v_gxc, rng)\n",
    "\n",
    "    # map to Poisson rate and sample\n",
    "    y_mean = np.exp(adata.X + y_persistent + y_gxc)\n",
    "    y = rng.poisson(lam=y_mean)\n",
    "\n",
    "    \n",
    "    adata.layers['y_base'] = adata.X\n",
    "    adata.layers['y_persistent'] = y_persistent\n",
    "    adata.layers['y_gxc'] = y_gxc\n",
    "    adata.X = y\n",
    "    \n",
    "    sc.write(path + '/adata.h5ad', adata)"
   ]
  },
  {
   "cell_type": "markdown",
   "metadata": {},
   "source": [
    "### Simulated data 1: Vary FEV by GxC"
   ]
  },
  {
   "cell_type": "code",
   "execution_count": 15,
   "metadata": {},
   "outputs": [
    {
     "name": "stdout",
     "output_type": "stream",
     "text": [
      "../utils/../data/simulated/gvar~0.01_fevgxc~0.0_ncontexts~10\n",
      "../utils/../data/simulated/gvar~0.01_fevgxc~0.25_ncontexts~10\n",
      "../utils/../data/simulated/gvar~0.01_fevgxc~0.5_ncontexts~10\n",
      "../utils/../data/simulated/gvar~0.01_fevgxc~0.75_ncontexts~10\n",
      "../utils/../data/simulated/gvar~0.01_fevgxc~1.0_ncontexts~10\n",
      "../utils/../data/simulated/gvar~0.025_fevgxc~0.0_ncontexts~10\n",
      "../utils/../data/simulated/gvar~0.025_fevgxc~0.25_ncontexts~10\n",
      "../utils/../data/simulated/gvar~0.025_fevgxc~0.5_ncontexts~10\n",
      "../utils/../data/simulated/gvar~0.025_fevgxc~0.75_ncontexts~10\n",
      "../utils/../data/simulated/gvar~0.025_fevgxc~1.0_ncontexts~10\n"
     ]
    }
   ],
   "source": [
    "for gvar in settings.GENETIC_VAR:    \n",
    "    for fev_gxc in settings.FEV_GXC:        \n",
    "        ncontexts = settings.NUM_CONTEXTS_DEFAULT\n",
    "        _ = simulate(gvar=gvar, fev_gxc=fev_gxc, ncontexts=ncontexts, adata=adata.copy())  "
   ]
  },
  {
   "cell_type": "markdown",
   "metadata": {},
   "source": [
    "### Simulated data 2: Vary number of contexts with GxC"
   ]
  },
  {
   "cell_type": "code",
   "execution_count": 16,
   "metadata": {},
   "outputs": [
    {
     "name": "stdout",
     "output_type": "stream",
     "text": [
      "../utils/../data/simulated/gvar~0.01_fevgxc~0.5_ncontexts~2\n",
      "../utils/../data/simulated/gvar~0.01_fevgxc~0.5_ncontexts~5\n",
      "../utils/../data/simulated/gvar~0.01_fevgxc~0.5_ncontexts~10\n",
      "../utils/../data/simulated/gvar~0.01_fevgxc~0.5_ncontexts~15\n",
      "../utils/../data/simulated/gvar~0.01_fevgxc~0.5_ncontexts~20\n",
      "../utils/../data/simulated/gvar~0.025_fevgxc~0.5_ncontexts~2\n",
      "../utils/../data/simulated/gvar~0.025_fevgxc~0.5_ncontexts~5\n",
      "../utils/../data/simulated/gvar~0.025_fevgxc~0.5_ncontexts~10\n",
      "../utils/../data/simulated/gvar~0.025_fevgxc~0.5_ncontexts~15\n",
      "../utils/../data/simulated/gvar~0.025_fevgxc~0.5_ncontexts~20\n"
     ]
    }
   ],
   "source": [
    "for gvar in settings.GENETIC_VAR:    \n",
    "    for ncontexts in settings.NUM_CONTEXTS:\n",
    "        fev_gxc = settings.FEV_GXC_DEFAULT\n",
    "        _ = simulate(gvar=gvar, fev_gxc=fev_gxc, ncontexts=ncontexts, adata=adata.copy())  "
   ]
  },
  {
   "cell_type": "markdown",
   "metadata": {},
   "source": [
    "### Simulated data 3: Null"
   ]
  },
  {
   "cell_type": "code",
   "execution_count": 17,
   "metadata": {},
   "outputs": [
    {
     "name": "stdout",
     "output_type": "stream",
     "text": [
      "../utils/../data/simulated/gvar~0.01_fevgxc~0.0_ncontexts~10\n",
      "../utils/../data/simulated/gvar~0.025_fevgxc~0.0_ncontexts~10\n",
      "../utils/../data/simulated/gvar~0.0_fevgxc~0.0_ncontexts~10\n"
     ]
    }
   ],
   "source": [
    "for gvar in settings.GENETIC_VAR + [0.0]:    \n",
    "    ncontexts = settings.NUM_CONTEXTS_DEFAULT\n",
    "    fev_gxc = 0.0\n",
    "    _ = simulate(gvar=gvar, fev_gxc=fev_gxc, ncontexts=ncontexts, adata=adata.copy())  "
   ]
  }
 ],
 "metadata": {
  "kernelspec": {
   "display_name": "cellregmap",
   "language": "python",
   "name": "cellregmap"
  },
  "language_info": {
   "codemirror_mode": {
    "name": "ipython",
    "version": 3
   },
   "file_extension": ".py",
   "mimetype": "text/x-python",
   "name": "python",
   "nbconvert_exporter": "python",
   "pygments_lexer": "ipython3",
   "version": "3.8.5"
  }
 },
 "nbformat": 4,
 "nbformat_minor": 4
}
