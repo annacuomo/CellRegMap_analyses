{
 "cells": [
  {
   "cell_type": "markdown",
   "metadata": {},
   "source": [
    "# Calibration analysis"
   ]
  },
  {
   "cell_type": "code",
   "execution_count": 155,
   "metadata": {},
   "outputs": [],
   "source": [
    "import os\n",
    "import numpy as np\n",
    "import pandas as pd\n",
    "\n",
    "from snakemake.utils import Paramspace\n",
    "\n",
    "import matplotlib.pyplot as plt\n",
    "import seaborn as sns\n",
    "from scipy.stats import probplot\n",
    "\n",
    "from itertools import product"
   ]
  },
  {
   "cell_type": "code",
   "execution_count": 156,
   "metadata": {},
   "outputs": [],
   "source": [
    "def qqplot(x, ax, **plot_kwargs):\n",
    "    (osm, osr), _ = probplot(x, dist='uniform')\n",
    "    df = pd.DataFrame({'osm': -np.log10(osm), 'osr': -np.log10(osr)})\n",
    "    sns.scatterplot(x='osm', y='osr', data=df, ax=ax, edgecolor=None, s=12, **plot_kwargs)\n",
    "    m = min(ax.get_xlim()[1], ax.get_ylim()[1])\n",
    "    ax.plot([0, m], [0, m], c='grey', linestyle=':')\n",
    "    ax.set(xlabel=r'Expected $-\\log_{10} P$', ylabel=r'Observed $-\\log_{10} P$')"
   ]
  },
  {
   "cell_type": "code",
   "execution_count": 157,
   "metadata": {},
   "outputs": [],
   "source": [
    "test_colors = {\n",
    "    'CellRegMap': 'royalblue',\n",
    "    'CellRegMap-FixedSingleEnv': 'orangered',\n",
    "    'CellRegMap-FixedMultiEnv': 'green',\n",
    "    'CellRegMap-Association': 'darkred',\n",
    "}"
   ]
  },
  {
   "cell_type": "markdown",
   "metadata": {},
   "source": [
    "## Read dataframe with simulation parameters"
   ]
  },
  {
   "cell_type": "code",
   "execution_count": 158,
   "metadata": {},
   "outputs": [],
   "source": [
    "params = pd.read_csv('../params.csv')\n",
    "params['outfile'] = [p + '_pvals.txt' for p in Paramspace(params).instance_patterns]"
   ]
  },
  {
   "cell_type": "markdown",
   "metadata": {},
   "source": [
    "Filter for experiments with no causal GxE effect:"
   ]
  },
  {
   "cell_type": "code",
   "execution_count": 159,
   "metadata": {},
   "outputs": [],
   "source": [
    "params['exists'] = params['outfile'].apply(lambda x: os.path.exists('../results/simulations/' + x))"
   ]
  },
  {
   "cell_type": "code",
   "execution_count": 160,
   "metadata": {},
   "outputs": [
    {
     "data": {
      "text/html": [
       "<div>\n",
       "<style scoped>\n",
       "    .dataframe tbody tr th:only-of-type {\n",
       "        vertical-align: middle;\n",
       "    }\n",
       "\n",
       "    .dataframe tbody tr th {\n",
       "        vertical-align: top;\n",
       "    }\n",
       "\n",
       "    .dataframe thead th {\n",
       "        text-align: right;\n",
       "    }\n",
       "</style>\n",
       "<table border=\"1\" class=\"dataframe\">\n",
       "  <thead>\n",
       "    <tr style=\"text-align: right;\">\n",
       "      <th></th>\n",
       "      <th>model</th>\n",
       "      <th>n_cells</th>\n",
       "      <th>n_env_tested</th>\n",
       "      <th>outfile</th>\n",
       "      <th>exists</th>\n",
       "    </tr>\n",
       "  </thead>\n",
       "  <tbody>\n",
       "    <tr>\n",
       "      <th>0</th>\n",
       "      <td>cellregmap</td>\n",
       "      <td>100</td>\n",
       "      <td>20</td>\n",
       "      <td>model~cellregmap/n_cells~100/n_env_tested~20_p...</td>\n",
       "      <td>True</td>\n",
       "    </tr>\n",
       "    <tr>\n",
       "      <th>1</th>\n",
       "      <td>cellregmap_fixed_single_env</td>\n",
       "      <td>100</td>\n",
       "      <td>20</td>\n",
       "      <td>model~cellregmap_fixed_single_env/n_cells~100/...</td>\n",
       "      <td>True</td>\n",
       "    </tr>\n",
       "    <tr>\n",
       "      <th>2</th>\n",
       "      <td>cellregmap_assoc</td>\n",
       "      <td>100</td>\n",
       "      <td>20</td>\n",
       "      <td>model~cellregmap_assoc/n_cells~100/n_env_teste...</td>\n",
       "      <td>True</td>\n",
       "    </tr>\n",
       "    <tr>\n",
       "      <th>3</th>\n",
       "      <td>cellregmap</td>\n",
       "      <td>50</td>\n",
       "      <td>10</td>\n",
       "      <td>model~cellregmap/n_cells~50/n_env_tested~10_pv...</td>\n",
       "      <td>True</td>\n",
       "    </tr>\n",
       "    <tr>\n",
       "      <th>4</th>\n",
       "      <td>cellregmap_fixed_single_env</td>\n",
       "      <td>50</td>\n",
       "      <td>10</td>\n",
       "      <td>model~cellregmap_fixed_single_env/n_cells~50/n...</td>\n",
       "      <td>True</td>\n",
       "    </tr>\n",
       "    <tr>\n",
       "      <th>5</th>\n",
       "      <td>cellregmap_fixed_multi_env</td>\n",
       "      <td>50</td>\n",
       "      <td>10</td>\n",
       "      <td>model~cellregmap_fixed_multi_env/n_cells~50/n_...</td>\n",
       "      <td>True</td>\n",
       "    </tr>\n",
       "    <tr>\n",
       "      <th>6</th>\n",
       "      <td>cellregmap</td>\n",
       "      <td>50</td>\n",
       "      <td>20</td>\n",
       "      <td>model~cellregmap/n_cells~50/n_env_tested~20_pv...</td>\n",
       "      <td>True</td>\n",
       "    </tr>\n",
       "    <tr>\n",
       "      <th>7</th>\n",
       "      <td>cellregmap_fixed_single_env</td>\n",
       "      <td>50</td>\n",
       "      <td>20</td>\n",
       "      <td>model~cellregmap_fixed_single_env/n_cells~50/n...</td>\n",
       "      <td>True</td>\n",
       "    </tr>\n",
       "    <tr>\n",
       "      <th>8</th>\n",
       "      <td>cellregmap_fixed_multi_env</td>\n",
       "      <td>50</td>\n",
       "      <td>20</td>\n",
       "      <td>model~cellregmap_fixed_multi_env/n_cells~50/n_...</td>\n",
       "      <td>False</td>\n",
       "    </tr>\n",
       "    <tr>\n",
       "      <th>9</th>\n",
       "      <td>cellregmap</td>\n",
       "      <td>100</td>\n",
       "      <td>10</td>\n",
       "      <td>model~cellregmap/n_cells~100/n_env_tested~10_p...</td>\n",
       "      <td>True</td>\n",
       "    </tr>\n",
       "    <tr>\n",
       "      <th>10</th>\n",
       "      <td>cellregmap_fixed_single_env</td>\n",
       "      <td>100</td>\n",
       "      <td>10</td>\n",
       "      <td>model~cellregmap_fixed_single_env/n_cells~100/...</td>\n",
       "      <td>True</td>\n",
       "    </tr>\n",
       "    <tr>\n",
       "      <th>11</th>\n",
       "      <td>cellregmap_fixed_multi_env</td>\n",
       "      <td>100</td>\n",
       "      <td>10</td>\n",
       "      <td>model~cellregmap_fixed_multi_env/n_cells~100/n...</td>\n",
       "      <td>True</td>\n",
       "    </tr>\n",
       "    <tr>\n",
       "      <th>12</th>\n",
       "      <td>cellregmap_fixed_multi_env</td>\n",
       "      <td>100</td>\n",
       "      <td>20</td>\n",
       "      <td>model~cellregmap_fixed_multi_env/n_cells~100/n...</td>\n",
       "      <td>False</td>\n",
       "    </tr>\n",
       "  </tbody>\n",
       "</table>\n",
       "</div>"
      ],
      "text/plain": [
       "                          model  n_cells  n_env_tested  \\\n",
       "0                    cellregmap      100            20   \n",
       "1   cellregmap_fixed_single_env      100            20   \n",
       "2              cellregmap_assoc      100            20   \n",
       "3                    cellregmap       50            10   \n",
       "4   cellregmap_fixed_single_env       50            10   \n",
       "5    cellregmap_fixed_multi_env       50            10   \n",
       "6                    cellregmap       50            20   \n",
       "7   cellregmap_fixed_single_env       50            20   \n",
       "8    cellregmap_fixed_multi_env       50            20   \n",
       "9                    cellregmap      100            10   \n",
       "10  cellregmap_fixed_single_env      100            10   \n",
       "11   cellregmap_fixed_multi_env      100            10   \n",
       "12   cellregmap_fixed_multi_env      100            20   \n",
       "\n",
       "                                              outfile  exists  \n",
       "0   model~cellregmap/n_cells~100/n_env_tested~20_p...    True  \n",
       "1   model~cellregmap_fixed_single_env/n_cells~100/...    True  \n",
       "2   model~cellregmap_assoc/n_cells~100/n_env_teste...    True  \n",
       "3   model~cellregmap/n_cells~50/n_env_tested~10_pv...    True  \n",
       "4   model~cellregmap_fixed_single_env/n_cells~50/n...    True  \n",
       "5   model~cellregmap_fixed_multi_env/n_cells~50/n_...    True  \n",
       "6   model~cellregmap/n_cells~50/n_env_tested~20_pv...    True  \n",
       "7   model~cellregmap_fixed_single_env/n_cells~50/n...    True  \n",
       "8   model~cellregmap_fixed_multi_env/n_cells~50/n_...   False  \n",
       "9   model~cellregmap/n_cells~100/n_env_tested~10_p...    True  \n",
       "10  model~cellregmap_fixed_single_env/n_cells~100/...    True  \n",
       "11  model~cellregmap_fixed_multi_env/n_cells~100/n...    True  \n",
       "12  model~cellregmap_fixed_multi_env/n_cells~100/n...   False  "
      ]
     },
     "execution_count": 160,
     "metadata": {},
     "output_type": "execute_result"
    }
   ],
   "source": [
    "params"
   ]
  },
  {
   "cell_type": "code",
   "execution_count": 161,
   "metadata": {},
   "outputs": [],
   "source": [
    "params = params.query('exists').reset_index(drop=True)"
   ]
  },
  {
   "cell_type": "code",
   "execution_count": 162,
   "metadata": {},
   "outputs": [
    {
     "data": {
      "text/html": [
       "<div>\n",
       "<style scoped>\n",
       "    .dataframe tbody tr th:only-of-type {\n",
       "        vertical-align: middle;\n",
       "    }\n",
       "\n",
       "    .dataframe tbody tr th {\n",
       "        vertical-align: top;\n",
       "    }\n",
       "\n",
       "    .dataframe thead th {\n",
       "        text-align: right;\n",
       "    }\n",
       "</style>\n",
       "<table border=\"1\" class=\"dataframe\">\n",
       "  <thead>\n",
       "    <tr style=\"text-align: right;\">\n",
       "      <th></th>\n",
       "      <th>model</th>\n",
       "      <th>n_cells</th>\n",
       "      <th>n_env_tested</th>\n",
       "      <th>outfile</th>\n",
       "      <th>exists</th>\n",
       "    </tr>\n",
       "  </thead>\n",
       "  <tbody>\n",
       "    <tr>\n",
       "      <th>0</th>\n",
       "      <td>cellregmap</td>\n",
       "      <td>100</td>\n",
       "      <td>20</td>\n",
       "      <td>model~cellregmap/n_cells~100/n_env_tested~20_p...</td>\n",
       "      <td>True</td>\n",
       "    </tr>\n",
       "    <tr>\n",
       "      <th>1</th>\n",
       "      <td>cellregmap_fixed_single_env</td>\n",
       "      <td>100</td>\n",
       "      <td>20</td>\n",
       "      <td>model~cellregmap_fixed_single_env/n_cells~100/...</td>\n",
       "      <td>True</td>\n",
       "    </tr>\n",
       "    <tr>\n",
       "      <th>2</th>\n",
       "      <td>cellregmap_assoc</td>\n",
       "      <td>100</td>\n",
       "      <td>20</td>\n",
       "      <td>model~cellregmap_assoc/n_cells~100/n_env_teste...</td>\n",
       "      <td>True</td>\n",
       "    </tr>\n",
       "    <tr>\n",
       "      <th>3</th>\n",
       "      <td>cellregmap</td>\n",
       "      <td>50</td>\n",
       "      <td>10</td>\n",
       "      <td>model~cellregmap/n_cells~50/n_env_tested~10_pv...</td>\n",
       "      <td>True</td>\n",
       "    </tr>\n",
       "    <tr>\n",
       "      <th>4</th>\n",
       "      <td>cellregmap_fixed_single_env</td>\n",
       "      <td>50</td>\n",
       "      <td>10</td>\n",
       "      <td>model~cellregmap_fixed_single_env/n_cells~50/n...</td>\n",
       "      <td>True</td>\n",
       "    </tr>\n",
       "    <tr>\n",
       "      <th>5</th>\n",
       "      <td>cellregmap_fixed_multi_env</td>\n",
       "      <td>50</td>\n",
       "      <td>10</td>\n",
       "      <td>model~cellregmap_fixed_multi_env/n_cells~50/n_...</td>\n",
       "      <td>True</td>\n",
       "    </tr>\n",
       "    <tr>\n",
       "      <th>6</th>\n",
       "      <td>cellregmap</td>\n",
       "      <td>50</td>\n",
       "      <td>20</td>\n",
       "      <td>model~cellregmap/n_cells~50/n_env_tested~20_pv...</td>\n",
       "      <td>True</td>\n",
       "    </tr>\n",
       "    <tr>\n",
       "      <th>7</th>\n",
       "      <td>cellregmap_fixed_single_env</td>\n",
       "      <td>50</td>\n",
       "      <td>20</td>\n",
       "      <td>model~cellregmap_fixed_single_env/n_cells~50/n...</td>\n",
       "      <td>True</td>\n",
       "    </tr>\n",
       "    <tr>\n",
       "      <th>8</th>\n",
       "      <td>cellregmap</td>\n",
       "      <td>100</td>\n",
       "      <td>10</td>\n",
       "      <td>model~cellregmap/n_cells~100/n_env_tested~10_p...</td>\n",
       "      <td>True</td>\n",
       "    </tr>\n",
       "    <tr>\n",
       "      <th>9</th>\n",
       "      <td>cellregmap_fixed_single_env</td>\n",
       "      <td>100</td>\n",
       "      <td>10</td>\n",
       "      <td>model~cellregmap_fixed_single_env/n_cells~100/...</td>\n",
       "      <td>True</td>\n",
       "    </tr>\n",
       "    <tr>\n",
       "      <th>10</th>\n",
       "      <td>cellregmap_fixed_multi_env</td>\n",
       "      <td>100</td>\n",
       "      <td>10</td>\n",
       "      <td>model~cellregmap_fixed_multi_env/n_cells~100/n...</td>\n",
       "      <td>True</td>\n",
       "    </tr>\n",
       "  </tbody>\n",
       "</table>\n",
       "</div>"
      ],
      "text/plain": [
       "                          model  n_cells  n_env_tested  \\\n",
       "0                    cellregmap      100            20   \n",
       "1   cellregmap_fixed_single_env      100            20   \n",
       "2              cellregmap_assoc      100            20   \n",
       "3                    cellregmap       50            10   \n",
       "4   cellregmap_fixed_single_env       50            10   \n",
       "5    cellregmap_fixed_multi_env       50            10   \n",
       "6                    cellregmap       50            20   \n",
       "7   cellregmap_fixed_single_env       50            20   \n",
       "8                    cellregmap      100            10   \n",
       "9   cellregmap_fixed_single_env      100            10   \n",
       "10   cellregmap_fixed_multi_env      100            10   \n",
       "\n",
       "                                              outfile  exists  \n",
       "0   model~cellregmap/n_cells~100/n_env_tested~20_p...    True  \n",
       "1   model~cellregmap_fixed_single_env/n_cells~100/...    True  \n",
       "2   model~cellregmap_assoc/n_cells~100/n_env_teste...    True  \n",
       "3   model~cellregmap/n_cells~50/n_env_tested~10_pv...    True  \n",
       "4   model~cellregmap_fixed_single_env/n_cells~50/n...    True  \n",
       "5   model~cellregmap_fixed_multi_env/n_cells~50/n_...    True  \n",
       "6   model~cellregmap/n_cells~50/n_env_tested~20_pv...    True  \n",
       "7   model~cellregmap_fixed_single_env/n_cells~50/n...    True  \n",
       "8   model~cellregmap/n_cells~100/n_env_tested~10_p...    True  \n",
       "9   model~cellregmap_fixed_single_env/n_cells~100/...    True  \n",
       "10  model~cellregmap_fixed_multi_env/n_cells~100/n...    True  "
      ]
     },
     "execution_count": 162,
     "metadata": {},
     "output_type": "execute_result"
    }
   ],
   "source": [
    "params"
   ]
  },
  {
   "cell_type": "code",
   "execution_count": 163,
   "metadata": {},
   "outputs": [],
   "source": [
    "params['model'] = params['model'].replace({\n",
    "    'cellregmap': 'CellRegMap',\n",
    "    'cellregmap_fixed_single_env': 'CellRegMap-FixedSingleEnv',\n",
    "    'cellregmap_fixed_multi_env': 'CellRegMap-FixedMultiEnv',\n",
    "    'cellregmap_assoc': 'CellRegMap-Association'\n",
    "})"
   ]
  },
  {
   "cell_type": "markdown",
   "metadata": {},
   "source": [
    "## Plot quantile distribution"
   ]
  },
  {
   "cell_type": "code",
   "execution_count": 164,
   "metadata": {},
   "outputs": [
    {
     "data": {
      "text/html": [
       "<div>\n",
       "<style scoped>\n",
       "    .dataframe tbody tr th:only-of-type {\n",
       "        vertical-align: middle;\n",
       "    }\n",
       "\n",
       "    .dataframe tbody tr th {\n",
       "        vertical-align: top;\n",
       "    }\n",
       "\n",
       "    .dataframe thead th {\n",
       "        text-align: right;\n",
       "    }\n",
       "</style>\n",
       "<table border=\"1\" class=\"dataframe\">\n",
       "  <thead>\n",
       "    <tr style=\"text-align: right;\">\n",
       "      <th></th>\n",
       "      <th>model</th>\n",
       "      <th>n_cells</th>\n",
       "      <th>n_env_tested</th>\n",
       "      <th>outfile</th>\n",
       "      <th>exists</th>\n",
       "    </tr>\n",
       "  </thead>\n",
       "  <tbody>\n",
       "    <tr>\n",
       "      <th>3</th>\n",
       "      <td>CellRegMap</td>\n",
       "      <td>50</td>\n",
       "      <td>10</td>\n",
       "      <td>model~cellregmap/n_cells~50/n_env_tested~10_pv...</td>\n",
       "      <td>True</td>\n",
       "    </tr>\n",
       "    <tr>\n",
       "      <th>4</th>\n",
       "      <td>CellRegMap-FixedSingleEnv</td>\n",
       "      <td>50</td>\n",
       "      <td>10</td>\n",
       "      <td>model~cellregmap_fixed_single_env/n_cells~50/n...</td>\n",
       "      <td>True</td>\n",
       "    </tr>\n",
       "    <tr>\n",
       "      <th>5</th>\n",
       "      <td>CellRegMap-FixedMultiEnv</td>\n",
       "      <td>50</td>\n",
       "      <td>10</td>\n",
       "      <td>model~cellregmap_fixed_multi_env/n_cells~50/n_...</td>\n",
       "      <td>True</td>\n",
       "    </tr>\n",
       "    <tr>\n",
       "      <th>6</th>\n",
       "      <td>CellRegMap</td>\n",
       "      <td>50</td>\n",
       "      <td>20</td>\n",
       "      <td>model~cellregmap/n_cells~50/n_env_tested~20_pv...</td>\n",
       "      <td>True</td>\n",
       "    </tr>\n",
       "    <tr>\n",
       "      <th>7</th>\n",
       "      <td>CellRegMap-FixedSingleEnv</td>\n",
       "      <td>50</td>\n",
       "      <td>20</td>\n",
       "      <td>model~cellregmap_fixed_single_env/n_cells~50/n...</td>\n",
       "      <td>True</td>\n",
       "    </tr>\n",
       "  </tbody>\n",
       "</table>\n",
       "</div>"
      ],
      "text/plain": [
       "                       model  n_cells  n_env_tested  \\\n",
       "3                 CellRegMap       50            10   \n",
       "4  CellRegMap-FixedSingleEnv       50            10   \n",
       "5   CellRegMap-FixedMultiEnv       50            10   \n",
       "6                 CellRegMap       50            20   \n",
       "7  CellRegMap-FixedSingleEnv       50            20   \n",
       "\n",
       "                                             outfile  exists  \n",
       "3  model~cellregmap/n_cells~50/n_env_tested~10_pv...    True  \n",
       "4  model~cellregmap_fixed_single_env/n_cells~50/n...    True  \n",
       "5  model~cellregmap_fixed_multi_env/n_cells~50/n_...    True  \n",
       "6  model~cellregmap/n_cells~50/n_env_tested~20_pv...    True  \n",
       "7  model~cellregmap_fixed_single_env/n_cells~50/n...    True  "
      ]
     },
     "execution_count": 164,
     "metadata": {},
     "output_type": "execute_result"
    }
   ],
   "source": [
    "params.query('n_cells == 50')"
   ]
  },
  {
   "cell_type": "code",
   "execution_count": 165,
   "metadata": {},
   "outputs": [
    {
     "data": {
      "text/html": [
       "<div>\n",
       "<style scoped>\n",
       "    .dataframe tbody tr th:only-of-type {\n",
       "        vertical-align: middle;\n",
       "    }\n",
       "\n",
       "    .dataframe tbody tr th {\n",
       "        vertical-align: top;\n",
       "    }\n",
       "\n",
       "    .dataframe thead th {\n",
       "        text-align: right;\n",
       "    }\n",
       "</style>\n",
       "<table border=\"1\" class=\"dataframe\">\n",
       "  <thead>\n",
       "    <tr style=\"text-align: right;\">\n",
       "      <th></th>\n",
       "      <th>model</th>\n",
       "      <th>n_cells</th>\n",
       "      <th>n_env_tested</th>\n",
       "      <th>outfile</th>\n",
       "      <th>exists</th>\n",
       "    </tr>\n",
       "  </thead>\n",
       "  <tbody>\n",
       "    <tr>\n",
       "      <th>0</th>\n",
       "      <td>CellRegMap</td>\n",
       "      <td>100</td>\n",
       "      <td>20</td>\n",
       "      <td>model~cellregmap/n_cells~100/n_env_tested~20_p...</td>\n",
       "      <td>True</td>\n",
       "    </tr>\n",
       "    <tr>\n",
       "      <th>1</th>\n",
       "      <td>CellRegMap-FixedSingleEnv</td>\n",
       "      <td>100</td>\n",
       "      <td>20</td>\n",
       "      <td>model~cellregmap_fixed_single_env/n_cells~100/...</td>\n",
       "      <td>True</td>\n",
       "    </tr>\n",
       "    <tr>\n",
       "      <th>2</th>\n",
       "      <td>CellRegMap-Association</td>\n",
       "      <td>100</td>\n",
       "      <td>20</td>\n",
       "      <td>model~cellregmap_assoc/n_cells~100/n_env_teste...</td>\n",
       "      <td>True</td>\n",
       "    </tr>\n",
       "    <tr>\n",
       "      <th>8</th>\n",
       "      <td>CellRegMap</td>\n",
       "      <td>100</td>\n",
       "      <td>10</td>\n",
       "      <td>model~cellregmap/n_cells~100/n_env_tested~10_p...</td>\n",
       "      <td>True</td>\n",
       "    </tr>\n",
       "    <tr>\n",
       "      <th>9</th>\n",
       "      <td>CellRegMap-FixedSingleEnv</td>\n",
       "      <td>100</td>\n",
       "      <td>10</td>\n",
       "      <td>model~cellregmap_fixed_single_env/n_cells~100/...</td>\n",
       "      <td>True</td>\n",
       "    </tr>\n",
       "    <tr>\n",
       "      <th>10</th>\n",
       "      <td>CellRegMap-FixedMultiEnv</td>\n",
       "      <td>100</td>\n",
       "      <td>10</td>\n",
       "      <td>model~cellregmap_fixed_multi_env/n_cells~100/n...</td>\n",
       "      <td>True</td>\n",
       "    </tr>\n",
       "  </tbody>\n",
       "</table>\n",
       "</div>"
      ],
      "text/plain": [
       "                        model  n_cells  n_env_tested  \\\n",
       "0                  CellRegMap      100            20   \n",
       "1   CellRegMap-FixedSingleEnv      100            20   \n",
       "2      CellRegMap-Association      100            20   \n",
       "8                  CellRegMap      100            10   \n",
       "9   CellRegMap-FixedSingleEnv      100            10   \n",
       "10   CellRegMap-FixedMultiEnv      100            10   \n",
       "\n",
       "                                              outfile  exists  \n",
       "0   model~cellregmap/n_cells~100/n_env_tested~20_p...    True  \n",
       "1   model~cellregmap_fixed_single_env/n_cells~100/...    True  \n",
       "2   model~cellregmap_assoc/n_cells~100/n_env_teste...    True  \n",
       "8   model~cellregmap/n_cells~100/n_env_tested~10_p...    True  \n",
       "9   model~cellregmap_fixed_single_env/n_cells~100/...    True  \n",
       "10  model~cellregmap_fixed_multi_env/n_cells~100/n...    True  "
      ]
     },
     "execution_count": 165,
     "metadata": {},
     "output_type": "execute_result"
    }
   ],
   "source": [
    "params.query('n_cells == 100')"
   ]
  },
  {
   "cell_type": "code",
   "execution_count": 166,
   "metadata": {},
   "outputs": [
    {
     "name": "stdout",
     "output_type": "stream",
     "text": [
      "../results/simulations/model~cellregmap/n_cells~50/n_env_tested~10_pvals.txt\n",
      "../results/simulations/model~cellregmap_fixed_single_env/n_cells~50/n_env_tested~10_pvals.txt\n",
      "../results/simulations/model~cellregmap_fixed_multi_env/n_cells~50/n_env_tested~10_pvals.txt\n"
     ]
    },
    {
     "data": {
      "image/png": "[encoded data removed]",
      "text/plain": [
       "<Figure size 288x216 with 1 Axes>"
      ]
     },
     "metadata": {
      "needs_background": "light"
     },
     "output_type": "display_data"
    }
   ],
   "source": [
    "fig, ax = plt.subplots(figsize=(4, 3))\n",
    "for i in params.query('n_cells == 50 and n_env_tested == 10').index:\n",
    "    fname = '../results/simulations/' + params.loc[i, 'outfile']\n",
    "    print(fname)\n",
    "    pvals = pd.read_csv(fname, header=None).to_numpy()\n",
    "    pvals.shape\n",
    "    pvals = pvals.flatten()\n",
    "    model = params.loc[i, 'model']\n",
    "    qqplot(pvals, ax, label=model, color=test_colors[model])\n",
    "ax.set(xlim=[-0.2, 4], ylim=[-1, 6])\n",
    "m = min(ax.get_xlim()[1], ax.get_ylim()[1])\n",
    "ax.plot([0, m], [0, m], c='grey', linestyle=':')\n",
    "# Shrink current axis by 20%\n",
    "box = ax.get_position()\n",
    "ax.set_position([box.x0, box.y0, box.width * 0.8, box.height])\n",
    "\n",
    "# Put a legend to the right of the current axis\n",
    "ax.legend(loc='center left', bbox_to_anchor=(1, 0.5))\n",
    "\n",
    "ax.set(title='#contexts tested: 10')\n",
    "sns.despine()"
   ]
  },
  {
   "cell_type": "code",
   "execution_count": 144,
   "metadata": {},
   "outputs": [
    {
     "name": "stdout",
     "output_type": "stream",
     "text": [
      "../results/simulations/model~cellregmap_assoc/n_cells~100/n_env_tested~20_pvals.txt\n"
     ]
    },
    {
     "data": {
      "image/png": "[encoded data removed]",
      "text/plain": [
       "<Figure size 288x216 with 1 Axes>"
      ]
     },
     "metadata": {
      "needs_background": "light"
     },
     "output_type": "display_data"
    }
   ],
   "source": [
    "fig, ax = plt.subplots(figsize=(4, 3))\n",
    "entry = params.query('model == \"CellRegMap-Association\"')\n",
    "fname = '../results/simulations/' + entry['outfile'].item()\n",
    "print(fname)\n",
    "pvals = pd.read_csv(fname, header=None).to_numpy()\n",
    "pvals.shape\n",
    "pvals = pvals.flatten()\n",
    "model = entry['model'].item()\n",
    "qqplot(pvals, ax, label=model, color=test_colors[model])   \n",
    "# Shrink current axis by 20%\n",
    "box = ax.get_position()\n",
    "ax.set_position([box.x0, box.y0, box.width * 0.8, box.height])\n",
    "\n",
    "# Put a legend to the right of the current axis\n",
    "ax.legend(loc='center left', bbox_to_anchor=(1, 0.5))\n",
    "\n",
    "ax.set(title='#contexts tested: 20')\n",
    "sns.despine()"
   ]
  },
  {
   "cell_type": "markdown",
   "metadata": {},
   "source": [
    "## Runtime"
   ]
  },
  {
   "cell_type": "code",
   "execution_count": 199,
   "metadata": {},
   "outputs": [],
   "source": [
    "df = pd.DataFrame({\n",
    "    25: [3.5],\n",
    "    50: [4.8],\n",
    "    75: [6.8780763149261475],\n",
    "    100: [7.466227293014526]\n",
    "})"
   ]
  },
  {
   "cell_type": "code",
   "execution_count": 200,
   "metadata": {},
   "outputs": [],
   "source": [
    "df = df.T.reset_index()\n",
    "df.columns = ['n_cells', 'time']"
   ]
  },
  {
   "cell_type": "code",
   "execution_count": 202,
   "metadata": {},
   "outputs": [
    {
     "data": {
      "image/png": "[encoded data removed]",
      "text/plain": [
       "<Figure size 432x288 with 1 Axes>"
      ]
     },
     "metadata": {
      "needs_background": "light"
     },
     "output_type": "display_data"
    }
   ],
   "source": [
    "sns.lineplot(x='n_cells', y='time', data=df)\n",
    "sns.despine()"
   ]
  }
 ],
 "metadata": {
  "kernelspec": {
   "display_name": "structlmm2",
   "language": "python",
   "name": "structlmm2"
  },
  "language_info": {
   "codemirror_mode": {
    "name": "ipython",
    "version": 3
   },
   "file_extension": ".py",
   "mimetype": "text/x-python",
   "name": "python",
   "nbconvert_exporter": "python",
   "pygments_lexer": "ipython3",
   "version": "3.9.2"
  }
 },
 "nbformat": 4,
 "nbformat_minor": 4
}
