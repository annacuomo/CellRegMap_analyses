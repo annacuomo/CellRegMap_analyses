{
 "cells": [
  {
   "cell_type": "code",
   "execution_count": 1,
   "metadata": {},
   "outputs": [],
   "source": [
    "from numpy_sugar.linalg import economic_qs, economic_qs_linear\n",
    "from numpy.random import RandomState, default_rng\n",
    "from numpy import arange, concatenate, newaxis, median, asarray\n",
    "from glimix_core.lmm import LMM\n",
    "from scipy.stats import chi2\n",
    "from numpy_sugar import epsilon\n",
    "from numpy import asarray, clip, inf, ones, sqrt\n",
    "from sklearn.decomposition import PCA\n",
    "import matplotlib.pyplot as plt\n",
    "\n",
    "from struct_lmm2 import StructLMM2, create_variances, sample_phenotype_gxe"
   ]
  },
  {
   "cell_type": "code",
   "execution_count": 2,
   "metadata": {},
   "outputs": [
    {
     "data": {
      "text/plain": [
       "<module 'struct_lmm2' from '/hps/nobackup/stegle/users/acuomo/git_repos/struct-lmm2/struct_lmm2/__init__.py'>"
      ]
     },
     "execution_count": 2,
     "metadata": {},
     "output_type": "execute_result"
    }
   ],
   "source": [
    "import struct_lmm2 # check that it refers to code in repo\n",
    "struct_lmm2"
   ]
  },
  {
   "cell_type": "code",
   "execution_count": 3,
   "metadata": {},
   "outputs": [],
   "source": [
    "def _symmetric_decomp(H):\n",
    "    # H = L @ L.T\n",
    "    # Returns L\n",
    "    [U, S, _] = economic_svd(H)\n",
    "    L = ddot(U, sqrt(S))\n",
    "    return L"
   ]
  },
  {
   "cell_type": "code",
   "execution_count": 5,
   "metadata": {},
   "outputs": [],
   "source": [
    "random = default_rng(20)\n",
    "\n",
    "n_individuals = 100\n",
    "\n",
    "maf_min = 0.40\n",
    "maf_max = 0.45\n",
    "\n",
    "n_snps = 100\n",
    "# n_snps = 500\n",
    "\n",
    "# n_cells = 100\n",
    "# n_cells = 10\n",
    "# n_cells = 2\n",
    "n_cells = arange(n_individuals) + 1\n",
    "\n",
    "n_env_groups = 10\n",
    "offset = 0.3\n",
    "\n",
    "# indices of causal SNPs\n",
    "g_causals = [5, 6]\n",
    "gxe_causals = [10, 11]\n",
    "\n",
    "# weight of genetic variance explained by GxE\n",
    "r0 = 0.5\n",
    "# r0 = 0\n",
    "# r0 = 1\n",
    "\n",
    "# total variance explained by genetics (G + GxE)\n",
    "v0 = 0.5\n",
    "# v0 = 0\n",
    "\n",
    "\n",
    "v = create_variances(r0, v0)"
   ]
  },
  {
   "cell_type": "code",
   "execution_count": 6,
   "metadata": {},
   "outputs": [
    {
     "name": "stderr",
     "output_type": "stream",
     "text": [
      "/nfs/software/stegle/users/acuomo/conda-envs/struct-lmm2/lib/python3.8/site-packages/numpy/core/_asarray.py:83: VisibleDeprecationWarning: Creating an ndarray from ragged nested sequences (which is a list-or-tuple of lists-or-tuples-or ndarrays with different lengths or shapes) is deprecated. If you meant to do this, you must specify 'dtype=object' when creating the ndarray\n",
      "  return array(a, dtype, copy=False, order=order)\n"
     ]
    }
   ],
   "source": [
    "s = sample_phenotype_gxe(\n",
    "        offset=offset,\n",
    "        n_individuals=n_individuals,\n",
    "        n_snps=n_snps,\n",
    "        n_cells=n_cells,\n",
    "        n_env_groups=n_env_groups,\n",
    "        \n",
    "        maf_min=maf_min,\n",
    "        maf_max=maf_max,\n",
    "        g_causals=g_causals,\n",
    "        gxe_causals=gxe_causals,\n",
    "        variances=v,\n",
    "        random=random,\n",
    "    )"
   ]
  },
  {
   "cell_type": "code",
   "execution_count": 7,
   "metadata": {},
   "outputs": [
    {
     "data": {
      "text/plain": [
       "<matplotlib.image.AxesImage at 0x2acb7be696a0>"
      ]
     },
     "execution_count": 7,
     "metadata": {},
     "output_type": "execute_result"
    },
    {
     "data": {
      "image/png": "[encoded data removed]",
      "text/plain": [
       "<Figure size 288x288 with 1 Axes>"
      ]
     },
     "metadata": {
      "needs_background": "light"
     },
     "output_type": "display_data"
    }
   ],
   "source": [
    "# kinship matrix (block diagonal)\n",
    "# plot for few individuals to check if it looks good\n",
    "plt.matshow(s.K)"
   ]
  },
  {
   "cell_type": "code",
   "execution_count": 8,
   "metadata": {},
   "outputs": [
    {
     "data": {
      "text/plain": [
       "<matplotlib.image.AxesImage at 0x2acb7bf5c0a0>"
      ]
     },
     "execution_count": 8,
     "metadata": {},
     "output_type": "execute_result"
    },
    {
     "data": {
      "image/png": "[encoded data removed]",
      "text/plain": [
       "<Figure size 288x288 with 1 Axes>"
      ]
     },
     "metadata": {
      "needs_background": "light"
     },
     "output_type": "display_data"
    }
   ],
   "source": [
    "plt.matshow(s.E @ s.E.T)"
   ]
  },
  {
   "cell_type": "code",
   "execution_count": 9,
   "metadata": {},
   "outputs": [],
   "source": [
    "# set up model\n",
    "# covariates (just ones here)\n",
    "M = ones((s.y.shape[0], 1))"
   ]
  },
  {
   "cell_type": "code",
   "execution_count": 10,
   "metadata": {},
   "outputs": [],
   "source": [
    "y = s.y.reshape(s.y.shape[0],1)"
   ]
  },
  {
   "cell_type": "code",
   "execution_count": 11,
   "metadata": {},
   "outputs": [],
   "source": [
    "slmm2 = StructLMM2(y, M, s.E, s.Ls)"
   ]
  },
  {
   "cell_type": "code",
   "execution_count": 12,
   "metadata": {
    "scrolled": true
   },
   "outputs": [
    {
     "name": "stderr",
     "output_type": "stream",
     "text": [
      "100%|██████████| 100/100 [42:12<00:00, 25.33s/it]\n"
     ]
    }
   ],
   "source": [
    "pv = slmm2.scan_interaction(s.G)"
   ]
  },
  {
   "cell_type": "code",
   "execution_count": 13,
   "metadata": {},
   "outputs": [],
   "source": [
    "p=pv[0]"
   ]
  },
  {
   "cell_type": "code",
   "execution_count": 14,
   "metadata": {},
   "outputs": [
    {
     "name": "stdout",
     "output_type": "stream",
     "text": [
      "0.471458421788032 0.9484420357802292 1.2701111259392058e-30 2.5017330323932364e-30 0.8825650444273913\n"
     ]
    }
   ],
   "source": [
    "# show p-values\n",
    "# expected: 5,6 not sign (not testing for G); 10,11 significant (causal GxE); median of rest ~0.5 (from uniform distr)\n",
    "print(p[5], p[6], p[10], p[11], median(p[12:]))"
   ]
  },
  {
   "cell_type": "code",
   "execution_count": null,
   "metadata": {},
   "outputs": [],
   "source": []
  },
  {
   "cell_type": "code",
   "execution_count": null,
   "metadata": {},
   "outputs": [],
   "source": []
  }
 ],
 "metadata": {
  "kernelspec": {
   "display_name": "Python (struct-lmm2)",
   "language": "python",
   "name": "struct-lmm2"
  },
  "language_info": {
   "codemirror_mode": {
    "name": "ipython",
    "version": 3
   },
   "file_extension": ".py",
   "mimetype": "text/x-python",
   "name": "python",
   "nbconvert_exporter": "python",
   "pygments_lexer": "ipython3",
   "version": "3.8.5"
  }
 },
 "nbformat": 4,
 "nbformat_minor": 4
}
