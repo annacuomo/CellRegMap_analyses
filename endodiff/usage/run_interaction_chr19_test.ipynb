{
 "cells": [
  {
   "cell_type": "code",
   "execution_count": 1,
   "id": "fdcfe8f4",
   "metadata": {},
   "outputs": [],
   "source": [
    "import re\n",
    "import time\n",
    "import pandas as pd\n",
    "import xarray as xr\n",
    "from numpy import ones\n",
    "from numpy.linalg import cholesky\n",
    "from pandas_plink import read_plink1_bin\n",
    "from limix.qc import quantile_gaussianize"
   ]
  },
  {
   "cell_type": "code",
   "execution_count": 2,
   "id": "4a553549",
   "metadata": {},
   "outputs": [
    {
     "data": {
      "text/plain": [
       "<module 'cellregmap' from '/hps/nobackup/stegle/users/acuomo/git_repos/CellRegMap/cellregmap/__init__.py'>"
      ]
     },
     "execution_count": 2,
     "metadata": {},
     "output_type": "execute_result"
    }
   ],
   "source": [
    "import cellregmap \n",
    "cellregmap "
   ]
  },
  {
   "cell_type": "code",
   "execution_count": 3,
   "id": "ba56d6c4",
   "metadata": {},
   "outputs": [],
   "source": [
    "from cellregmap import run_interaction"
   ]
  },
  {
   "cell_type": "code",
   "execution_count": 4,
   "id": "334627f8",
   "metadata": {},
   "outputs": [],
   "source": [
    "input_files_dir = \"/hps/nobackup/stegle/users/acuomo/all_scripts/struct_LMM2/sc_endodiff/new/input_files/\""
   ]
  },
  {
   "cell_type": "code",
   "execution_count": 5,
   "id": "e335fd07",
   "metadata": {},
   "outputs": [],
   "source": [
    "## sample mapping file\n",
    "## this file will map cells to donors \n",
    "## it will also only include donors we have single-cell data for (a subset of all of HipSci donors)\n",
    "sample_mapping_file = input_files_dir+\"sample_mapping_file.csv\"\n",
    "sample_mapping = pd.read_csv(sample_mapping_file, dtype={\"genotype_individual_id\": str, \"phenotype_sample_id\": str})"
   ]
  },
  {
   "cell_type": "code",
   "execution_count": 6,
   "id": "2376f693",
   "metadata": {},
   "outputs": [
    {
     "data": {
      "text/html": [
       "<div>\n",
       "<style scoped>\n",
       "    .dataframe tbody tr th:only-of-type {\n",
       "        vertical-align: middle;\n",
       "    }\n",
       "\n",
       "    .dataframe tbody tr th {\n",
       "        vertical-align: top;\n",
       "    }\n",
       "\n",
       "    .dataframe thead th {\n",
       "        text-align: right;\n",
       "    }\n",
       "</style>\n",
       "<table border=\"1\" class=\"dataframe\">\n",
       "  <thead>\n",
       "    <tr style=\"text-align: right;\">\n",
       "      <th></th>\n",
       "      <th>genotype_individual_id</th>\n",
       "      <th>phenotype_sample_id</th>\n",
       "    </tr>\n",
       "  </thead>\n",
       "  <tbody>\n",
       "    <tr>\n",
       "      <th>0</th>\n",
       "      <td>HPSI0114i-joxm_1</td>\n",
       "      <td>21843_1#10</td>\n",
       "    </tr>\n",
       "    <tr>\n",
       "      <th>1</th>\n",
       "      <td>HPSI0314i-fafq_1</td>\n",
       "      <td>21843_1#100</td>\n",
       "    </tr>\n",
       "    <tr>\n",
       "      <th>2</th>\n",
       "      <td>HPSI0314i-fafq_1</td>\n",
       "      <td>21843_1#101</td>\n",
       "    </tr>\n",
       "    <tr>\n",
       "      <th>3</th>\n",
       "      <td>HPSI1013i-wuye_2</td>\n",
       "      <td>21843_1#102</td>\n",
       "    </tr>\n",
       "    <tr>\n",
       "      <th>4</th>\n",
       "      <td>HPSI0114i-joxm_1</td>\n",
       "      <td>21843_1#103</td>\n",
       "    </tr>\n",
       "  </tbody>\n",
       "</table>\n",
       "</div>"
      ],
      "text/plain": [
       "  genotype_individual_id phenotype_sample_id\n",
       "0       HPSI0114i-joxm_1          21843_1#10\n",
       "1       HPSI0314i-fafq_1         21843_1#100\n",
       "2       HPSI0314i-fafq_1         21843_1#101\n",
       "3       HPSI1013i-wuye_2         21843_1#102\n",
       "4       HPSI0114i-joxm_1         21843_1#103"
      ]
     },
     "execution_count": 6,
     "metadata": {},
     "output_type": "execute_result"
    }
   ],
   "source": [
    "## genotype_individual_id are donor IDs, as found in the genotype matrix (G) and GRM covariance (K)\n",
    "## phenotype_sample_id are cell IDs, as found in the scRNA-seq phenotype vector (y) and cell context covariance (C)\n",
    "sample_mapping.head()"
   ]
  },
  {
   "cell_type": "code",
   "execution_count": 7,
   "id": "36438945",
   "metadata": {},
   "outputs": [
    {
     "name": "stdout",
     "output_type": "stream",
     "text": [
      "Number of unique donors: 126\n"
     ]
    }
   ],
   "source": [
    "## extract unique individuals\n",
    "donors = sample_mapping[\"genotype_individual_id\"].unique()\n",
    "donors.sort()\n",
    "print(\"Number of unique donors: {}\".format(len(donors)))"
   ]
  },
  {
   "cell_type": "code",
   "execution_count": 8,
   "id": "a877e72a",
   "metadata": {},
   "outputs": [],
   "source": [
    "############################################\n",
    "################ Kinship matrix ############\n",
    "############################################"
   ]
  },
  {
   "cell_type": "code",
   "execution_count": 9,
   "id": "81fee358",
   "metadata": {},
   "outputs": [],
   "source": [
    "## read in GRM (genotype relationship matrix; kinship matrix)\n",
    "kinship_folder=\"/hps/nobackup/hipsci/scratch/genotypes/imputed/2017-03-27/Full_Filtered_SNPs_Plink-F/\"\n",
    "kinship_file=kinship_folder+\"hipsci.wec.gtarray.HumanCoreExome.imputed_phased.20170327.genotypes.norm.renamed.kinship\"\n",
    "K = pd.read_csv(kinship_file, sep=\"\\t\", index_col=0)\n",
    "assert all(K.columns == K.index) #symmetric matrix, donors x donors"
   ]
  },
  {
   "cell_type": "code",
   "execution_count": 10,
   "id": "e45b9e45",
   "metadata": {},
   "outputs": [
    {
     "name": "stdout",
     "output_type": "stream",
     "text": [
      "Number of donors after kinship intersection: 125\n"
     ]
    }
   ],
   "source": [
    "K = xr.DataArray(K.values, dims=[\"sample_0\", \"sample_1\"], coords={\"sample_0\": K.columns, \"sample_1\": K.index})\n",
    "K = K.sortby(\"sample_0\").sortby(\"sample_1\")\n",
    "donors = sorted(set(list(K.sample_0.values)).intersection(donors))\n",
    "print(\"Number of donors after kinship intersection: {}\".format(len(donors)))"
   ]
  },
  {
   "cell_type": "code",
   "execution_count": 11,
   "id": "93129520",
   "metadata": {},
   "outputs": [],
   "source": [
    "## subset to relevant donors\n",
    "K = K.sel(sample_0=donors, sample_1=donors)\n",
    "assert all(K.sample_0 == donors)\n",
    "assert all(K.sample_1 == donors)"
   ]
  },
  {
   "cell_type": "code",
   "execution_count": 12,
   "id": "731b83fc",
   "metadata": {},
   "outputs": [],
   "source": [
    "## and decompose such as K = hK @ hK.T (using Cholesky decomposition)\n",
    "hK = cholesky(K.values)\n",
    "hK = xr.DataArray(hK, dims=[\"sample\", \"col\"], coords={\"sample\": K.sample_0.values})\n",
    "assert all(hK.sample.values == K.sample_0.values)"
   ]
  },
  {
   "cell_type": "code",
   "execution_count": 13,
   "id": "f23d6aaa",
   "metadata": {},
   "outputs": [
    {
     "name": "stdout",
     "output_type": "stream",
     "text": [
      "Sample mapping number of rows BEFORE intersection: 34256\n",
      "Sample mapping number of rows AFTER intersection: 33964\n"
     ]
    }
   ],
   "source": [
    "del K\n",
    "print(\"Sample mapping number of rows BEFORE intersection: {}\".format(sample_mapping.shape[0]))\n",
    "## subsample sample mapping file to donors in the kinship matrix\n",
    "sample_mapping = sample_mapping[sample_mapping[\"genotype_individual_id\"].isin(donors)]\n",
    "print(\"Sample mapping number of rows AFTER intersection: {}\".format(sample_mapping.shape[0]))"
   ]
  },
  {
   "cell_type": "code",
   "execution_count": 14,
   "id": "dcd69eab",
   "metadata": {},
   "outputs": [],
   "source": [
    "############################################\n",
    "##### expand from donors to cells ##########"
   ]
  },
  {
   "cell_type": "code",
   "execution_count": 15,
   "id": "a79f1b11",
   "metadata": {},
   "outputs": [],
   "source": [
    "## use sel from xarray to expand hK (using the sample mapping file)\n",
    "hK_expanded = hK.sel(sample=sample_mapping[\"genotype_individual_id\"].values)\n",
    "assert all(hK_expanded.sample.values == sample_mapping[\"genotype_individual_id\"].values)"
   ]
  },
  {
   "cell_type": "code",
   "execution_count": null,
   "id": "33b8a4b7",
   "metadata": {},
   "outputs": [],
   "source": []
  },
  {
   "cell_type": "code",
   "execution_count": 16,
   "id": "d4737a86",
   "metadata": {},
   "outputs": [],
   "source": [
    "######################################\n",
    "############### Genotypes ############\n",
    "######################################"
   ]
  },
  {
   "cell_type": "code",
   "execution_count": 17,
   "id": "f074819d",
   "metadata": {},
   "outputs": [
    {
     "name": "stderr",
     "output_type": "stream",
     "text": [
      "Mapping files: 100%|██████████| 3/3 [07:03<00:00, 141.07s/it]\n"
     ]
    }
   ],
   "source": [
    "## read in genotype file (plink format)\n",
    "plink_folder = \"/hps/nobackup/hipsci/scratch/genotypes/imputed/2017-03-27/Full_Filtered_SNPs_Plink/\"\n",
    "plink_file = plink_folder+\"hipsci.wec.gtarray.HumanCoreExome.imputed_phased.20170327.genotypes.norm.renamed.bed\"\n",
    "G = read_plink1_bin(plink_file)"
   ]
  },
  {
   "cell_type": "code",
   "execution_count": 18,
   "id": "23fd8df2",
   "metadata": {},
   "outputs": [],
   "source": [
    "#############################\n",
    "###### SNP selection"
   ]
  },
  {
   "cell_type": "code",
   "execution_count": 19,
   "id": "e52051c9",
   "metadata": {},
   "outputs": [
    {
     "data": {
      "text/html": [
       "<div>\n",
       "<style scoped>\n",
       "    .dataframe tbody tr th:only-of-type {\n",
       "        vertical-align: middle;\n",
       "    }\n",
       "\n",
       "    .dataframe tbody tr th {\n",
       "        vertical-align: top;\n",
       "    }\n",
       "\n",
       "    .dataframe thead th {\n",
       "        text-align: right;\n",
       "    }\n",
       "</style>\n",
       "<table border=\"1\" class=\"dataframe\">\n",
       "  <thead>\n",
       "    <tr style=\"text-align: right;\">\n",
       "      <th></th>\n",
       "      <th>snp_id</th>\n",
       "      <th>feature</th>\n",
       "      <th>stage</th>\n",
       "      <th>chrom</th>\n",
       "    </tr>\n",
       "  </thead>\n",
       "  <tbody>\n",
       "    <tr>\n",
       "      <th>0</th>\n",
       "      <td>5_149826526_C_T</td>\n",
       "      <td>ENSG00000164587_RPS14</td>\n",
       "      <td>ips</td>\n",
       "      <td>5</td>\n",
       "    </tr>\n",
       "    <tr>\n",
       "      <th>1</th>\n",
       "      <td>11_57283988_C_T</td>\n",
       "      <td>ENSG00000134809_TIMM10</td>\n",
       "      <td>ips</td>\n",
       "      <td>11</td>\n",
       "    </tr>\n",
       "  </tbody>\n",
       "</table>\n",
       "</div>"
      ],
      "text/plain": [
       "            snp_id                 feature stage  chrom\n",
       "0  5_149826526_C_T   ENSG00000164587_RPS14   ips      5\n",
       "1  11_57283988_C_T  ENSG00000134809_TIMM10   ips     11"
      ]
     },
     "execution_count": 19,
     "metadata": {},
     "output_type": "execute_result"
    }
   ],
   "source": [
    "# filter file (columns: snp_id, gene)\n",
    "endo_eqtl_file = input_files_dir+\"endodiff_eqtl_allconditions_FDR10pct.csv\"\n",
    "endo_eqtl = pd.read_csv(endo_eqtl_file, index_col = False)\n",
    "endo_eqtl[\"chrom\"] = [int(i[:i.find(\"_\")]) for i in endo_eqtl[\"snp_id\"]]\n",
    "endo_eqtl.head(2)"
   ]
  },
  {
   "cell_type": "code",
   "execution_count": 20,
   "id": "e4e15bfc",
   "metadata": {},
   "outputs": [],
   "source": [
    "chrom = 19\n",
    "# and consider eGenes on that chromosome\n",
    "genes = endo_eqtl[endo_eqtl['chrom']==int(chrom)]['feature'].unique()"
   ]
  },
  {
   "cell_type": "code",
   "execution_count": 21,
   "id": "473fd49d",
   "metadata": {},
   "outputs": [],
   "source": [
    "#########################################################\n",
    "# cis window around a specific gene (discovery)"
   ]
  },
  {
   "cell_type": "code",
   "execution_count": 22,
   "id": "33162c42",
   "metadata": {},
   "outputs": [],
   "source": [
    "def cis_snp_selection(feature_id, annotation_df, G, window_size):\n",
    "    feature = annotation_df.query(\"feature_id==\\\"{}\\\"\".format(feature_id)).squeeze()\n",
    "    chrom = str(feature['chromosome'])\n",
    "    start = feature['start']\n",
    "    end = feature['end']\n",
    "    # make robust to features self-specified back-to-front\n",
    "    lowest = min([start,end])\n",
    "    highest = max([start,end])\n",
    "    # for cis, we sequentially add snps that fall within each region\n",
    "    G = G.where((G.chrom == str(chrom)) & (G.pos > (lowest-window_size)) & (G.pos < (highest+window_size)), drop=True)\n",
    "    return G"
   ]
  },
  {
   "cell_type": "code",
   "execution_count": 23,
   "id": "b718d62b",
   "metadata": {},
   "outputs": [
    {
     "data": {
      "text/plain": [
       "'ENSG00000186230'"
      ]
     },
     "execution_count": 23,
     "metadata": {},
     "output_type": "execute_result"
    }
   ],
   "source": [
    "# (1) gene name (feature_id)\n",
    "gene_name = genes[0]\n",
    "trait_name = re.sub(\"_.*\",\"\",gene_name)\n",
    "trait_name"
   ]
  },
  {
   "cell_type": "code",
   "execution_count": 24,
   "id": "8ed10a25",
   "metadata": {},
   "outputs": [
    {
     "data": {
      "text/html": [
       "<div>\n",
       "<style scoped>\n",
       "    .dataframe tbody tr th:only-of-type {\n",
       "        vertical-align: middle;\n",
       "    }\n",
       "\n",
       "    .dataframe tbody tr th {\n",
       "        vertical-align: top;\n",
       "    }\n",
       "\n",
       "    .dataframe thead th {\n",
       "        text-align: right;\n",
       "    }\n",
       "</style>\n",
       "<table border=\"1\" class=\"dataframe\">\n",
       "  <thead>\n",
       "    <tr style=\"text-align: right;\">\n",
       "      <th></th>\n",
       "      <th>chromosome</th>\n",
       "      <th>start</th>\n",
       "      <th>end</th>\n",
       "    </tr>\n",
       "    <tr>\n",
       "      <th>feature_id</th>\n",
       "      <th></th>\n",
       "      <th></th>\n",
       "      <th></th>\n",
       "    </tr>\n",
       "  </thead>\n",
       "  <tbody>\n",
       "    <tr>\n",
       "      <th>ENSG00000271782</th>\n",
       "      <td>1</td>\n",
       "      <td>50902700</td>\n",
       "      <td>50902978</td>\n",
       "    </tr>\n",
       "    <tr>\n",
       "      <th>ENSG00000232753</th>\n",
       "      <td>1</td>\n",
       "      <td>103817769</td>\n",
       "      <td>103828355</td>\n",
       "    </tr>\n",
       "  </tbody>\n",
       "</table>\n",
       "</div>"
      ],
      "text/plain": [
       "                chromosome      start        end\n",
       "feature_id                                      \n",
       "ENSG00000271782          1   50902700   50902978\n",
       "ENSG00000232753          1  103817769  103828355"
      ]
     },
     "execution_count": 24,
     "metadata": {},
     "output_type": "execute_result"
    }
   ],
   "source": [
    "# (2) annotation linking gene to genomic position\n",
    "annotation_file = \"/hps/nobackup/hipsci/scratch/processed_data/rna_seq/annotationFiles/Ensembl_75_Limix_Annotation_FC_Gene.txt\"\n",
    "anno_df = pd.read_csv(annotation_file, sep=\"\\t\", index_col=0)\n",
    "anno_df.head(2)"
   ]
  },
  {
   "cell_type": "code",
   "execution_count": 25,
   "id": "ab28c118",
   "metadata": {},
   "outputs": [],
   "source": [
    "# (3) window size (cis)\n",
    "w = 100000"
   ]
  },
  {
   "cell_type": "code",
   "execution_count": 26,
   "id": "81b51ecd",
   "metadata": {},
   "outputs": [],
   "source": [
    "G_sel = cis_snp_selection(trait_name, anno_df, G, w)"
   ]
  },
  {
   "cell_type": "code",
   "execution_count": 27,
   "id": "efe8a93b",
   "metadata": {},
   "outputs": [
    {
     "data": {
      "text/plain": [
       "(1610, 900)"
      ]
     },
     "execution_count": 27,
     "metadata": {},
     "output_type": "execute_result"
    }
   ],
   "source": [
    "G_sel.shape"
   ]
  },
  {
   "cell_type": "code",
   "execution_count": null,
   "id": "2cc7f802",
   "metadata": {},
   "outputs": [],
   "source": []
  },
  {
   "cell_type": "code",
   "execution_count": 28,
   "id": "417860ef",
   "metadata": {},
   "outputs": [],
   "source": [
    "############################################\n",
    "##### expand from donors to cells ##########"
   ]
  },
  {
   "cell_type": "code",
   "execution_count": 29,
   "id": "21bf6373",
   "metadata": {},
   "outputs": [
    {
     "name": "stderr",
     "output_type": "stream",
     "text": [
      "/nfs/software/stegle/users/acuomo/conda-envs/struct-lmm2/lib/python3.8/site-packages/xarray/core/indexing.py:1369: PerformanceWarning: Slicing with an out-of-order index is generating 2383 times more chunks\n",
      "  return self.array[key]\n"
     ]
    }
   ],
   "source": [
    "# expand out genotypes from cells to donors (and select relevant donors in the same step)\n",
    "G_expanded = G_sel.sel(sample=sample_mapping[\"genotype_individual_id\"].values)\n",
    "assert all(hK_expanded.sample.values == G_expanded.sample.values)"
   ]
  },
  {
   "cell_type": "code",
   "execution_count": 30,
   "id": "ce37358d",
   "metadata": {},
   "outputs": [
    {
     "data": {
      "text/plain": [
       "(33964, 900)"
      ]
     },
     "execution_count": 30,
     "metadata": {},
     "output_type": "execute_result"
    }
   ],
   "source": [
    "G_expanded.shape"
   ]
  },
  {
   "cell_type": "code",
   "execution_count": null,
   "id": "0bcd98ca",
   "metadata": {},
   "outputs": [],
   "source": []
  },
  {
   "cell_type": "code",
   "execution_count": 31,
   "id": "367c187c",
   "metadata": {},
   "outputs": [],
   "source": [
    "######################################\n",
    "############## Phenotypes ############\n",
    "######################################"
   ]
  },
  {
   "cell_type": "code",
   "execution_count": 32,
   "id": "9e3ae394",
   "metadata": {},
   "outputs": [
    {
     "name": "stdout",
     "output_type": "stream",
     "text": [
      "Phenotype shape BEFORE selection: (11231, 34256)\n",
      "Phenotype shape AFTER selection: (11231, 33964)\n"
     ]
    }
   ],
   "source": [
    "# Phenotype (single-cell expression)\n",
    "phenotype_file = input_files_dir+\"phenotype.csv.pkl\"\n",
    "phenotype = pd.read_pickle(phenotype_file)\n",
    "print(\"Phenotype shape BEFORE selection: {}\".format(phenotype.shape))\n",
    "phenotype = xr.DataArray(phenotype.values, dims=[\"trait\", \"cell\"], coords={\"trait\": phenotype.index.values, \"cell\": phenotype.columns.values})\n",
    "phenotype = phenotype.sel(cell=sample_mapping[\"phenotype_sample_id\"].values)\n",
    "print(\"Phenotype shape AFTER selection: {}\".format(phenotype.shape))\n",
    "assert all(phenotype.cell.values == sample_mapping[\"phenotype_sample_id\"].values)"
   ]
  },
  {
   "cell_type": "code",
   "execution_count": 33,
   "id": "810e813d",
   "metadata": {},
   "outputs": [],
   "source": [
    "# select gene\n",
    "y = phenotype.sel(trait=gene_name)\n",
    "# quantile normalise\n",
    "y = quantile_gaussianize(y)"
   ]
  },
  {
   "cell_type": "code",
   "execution_count": null,
   "id": "9b3663fd",
   "metadata": {},
   "outputs": [],
   "source": []
  },
  {
   "cell_type": "code",
   "execution_count": 34,
   "id": "65c6ac78",
   "metadata": {},
   "outputs": [],
   "source": [
    "######################################\n",
    "########## Cell contexts #############\n",
    "######################################"
   ]
  },
  {
   "cell_type": "code",
   "execution_count": 35,
   "id": "46b13bff",
   "metadata": {},
   "outputs": [],
   "source": [
    "# cells by MOFA factors (20)\n",
    "C_file = \"/hps/nobackup/stegle/users/acuomo/all_scripts/struct_LMM2/sc_endodiff/debug_May2021/mofa_logcounts_model_factors.csv\"\n",
    "C = pd.read_csv(C_file, index_col = 0)\n",
    "C = xr.DataArray(C.values, dims=[\"cell\", \"pc\"], coords={\"cell\": C.index.values, \"pc\": C.columns.values})\n",
    "C = C.sel(cell=sample_mapping[\"phenotype_sample_id\"].values)\n",
    "assert all(C.cell.values == sample_mapping[\"phenotype_sample_id\"].values)"
   ]
  },
  {
   "cell_type": "code",
   "execution_count": 36,
   "id": "649d9b53",
   "metadata": {},
   "outputs": [],
   "source": [
    "# quantile normalise cell contexts\n",
    "C = quantile_gaussianize(C)"
   ]
  },
  {
   "cell_type": "code",
   "execution_count": null,
   "id": "5b9cafa2",
   "metadata": {},
   "outputs": [],
   "source": []
  },
  {
   "cell_type": "code",
   "execution_count": 37,
   "id": "209c5f56",
   "metadata": {},
   "outputs": [],
   "source": [
    "######################################\n",
    "############ Covariates ##############\n",
    "######################################"
   ]
  },
  {
   "cell_type": "code",
   "execution_count": 38,
   "id": "d766e993",
   "metadata": {},
   "outputs": [],
   "source": [
    "n_cells = phenotype.shape[1]\n",
    "W = ones((n_cells, 1))"
   ]
  },
  {
   "cell_type": "code",
   "execution_count": null,
   "id": "d392b068",
   "metadata": {},
   "outputs": [],
   "source": []
  },
  {
   "cell_type": "code",
   "execution_count": 39,
   "id": "8ac0aac6",
   "metadata": {},
   "outputs": [
    {
     "data": {
      "text/plain": [
       "(33964, 1)"
      ]
     },
     "execution_count": 39,
     "metadata": {},
     "output_type": "execute_result"
    }
   ],
   "source": [
    "y = y.values.reshape(y.shape[0],1)\n",
    "y.shape"
   ]
  },
  {
   "cell_type": "code",
   "execution_count": 40,
   "id": "ab305874",
   "metadata": {},
   "outputs": [
    {
     "data": {
      "text/plain": [
       "array([[1.],\n",
       "       [1.],\n",
       "       [1.],\n",
       "       ...,\n",
       "       [1.],\n",
       "       [1.],\n",
       "       [1.]])"
      ]
     },
     "execution_count": 40,
     "metadata": {},
     "output_type": "execute_result"
    }
   ],
   "source": [
    "W"
   ]
  },
  {
   "cell_type": "code",
   "execution_count": 41,
   "id": "5ec161de",
   "metadata": {},
   "outputs": [
    {
     "data": {
      "text/plain": [
       "array([[-0.22698835,  0.82917178,  0.23411244, ...,  0.07390445,\n",
       "         0.30870685, -0.66988754],\n",
       "       [ 0.11928532,  2.94980516,  0.8196344 , ..., -0.3224365 ,\n",
       "         1.85295159, -0.70238707],\n",
       "       [ 0.05970302,  1.86963924,  0.02166209, ...,  0.1331965 ,\n",
       "         1.00717123,  0.75346536],\n",
       "       ...,\n",
       "       [-0.39533548,  0.72850657, -1.20369879, ..., -0.20673893,\n",
       "         0.31816383, -0.3551869 ],\n",
       "       [-0.26984302,  1.04975257, -0.57387367, ...,  0.13543057,\n",
       "         0.58636113, -0.12188718],\n",
       "       [-0.38132928,  1.2401305 , -0.68501989, ...,  0.33271513,\n",
       "         0.47799852,  0.28748933]])"
      ]
     },
     "execution_count": 41,
     "metadata": {},
     "output_type": "execute_result"
    }
   ],
   "source": [
    "C.values[:,0:10].shape\n",
    "C.values[:,0:10]"
   ]
  },
  {
   "cell_type": "code",
   "execution_count": 42,
   "id": "984dc601",
   "metadata": {},
   "outputs": [
    {
     "name": "stdout",
     "output_type": "stream",
     "text": [
      "--- 333.06118965148926 seconds ---\n"
     ]
    }
   ],
   "source": [
    "start_time = time.time()\n",
    "GG = G_expanded.values\n",
    "print(\"--- %s seconds ---\" % (time.time() - start_time))"
   ]
  },
  {
   "cell_type": "code",
   "execution_count": 43,
   "id": "35040283",
   "metadata": {},
   "outputs": [
    {
     "data": {
      "text/plain": [
       "(33964, 900)"
      ]
     },
     "execution_count": 43,
     "metadata": {},
     "output_type": "execute_result"
    }
   ],
   "source": [
    "GG.shape"
   ]
  },
  {
   "cell_type": "code",
   "execution_count": 44,
   "id": "e19f3b2f",
   "metadata": {},
   "outputs": [
    {
     "data": {
      "text/plain": [
       "array([[2., 0., 0., ..., 0., 0., 0.],\n",
       "       [2., 0., 0., ..., 0., 0., 0.],\n",
       "       [2., 0., 0., ..., 0., 0., 0.],\n",
       "       ...,\n",
       "       [1., 0., 0., ..., 0., 0., 0.],\n",
       "       [2., 0., 1., ..., 0., 0., 0.],\n",
       "       [2., 0., 1., ..., 0., 0., 0.]], dtype=float32)"
      ]
     },
     "execution_count": 44,
     "metadata": {},
     "output_type": "execute_result"
    }
   ],
   "source": [
    "GG"
   ]
  },
  {
   "cell_type": "code",
   "execution_count": null,
   "id": "1357eb44",
   "metadata": {},
   "outputs": [],
   "source": []
  },
  {
   "cell_type": "code",
   "execution_count": 45,
   "id": "5a52ae29",
   "metadata": {},
   "outputs": [
    {
     "name": "stderr",
     "output_type": "stream",
     "text": [
      "100%|██████████| 5/5 [13:14<00:00, 158.96s/it]"
     ]
    },
    {
     "name": "stdout",
     "output_type": "stream",
     "text": [
      "--- 826.6832358837128 seconds ---\n"
     ]
    },
    {
     "name": "stderr",
     "output_type": "stream",
     "text": [
      "\n"
     ]
    }
   ],
   "source": [
    "start_time = time.time()\n",
    "pvals = run_interaction(y, W, C.values[:,0:10], G=GG[:,0:5], hK=hK_expanded)[0]\n",
    "print(\"--- %s seconds ---\" % (time.time() - start_time))"
   ]
  },
  {
   "cell_type": "code",
   "execution_count": 46,
   "id": "6ebfbbb3",
   "metadata": {},
   "outputs": [
    {
     "data": {
      "text/html": [
       "<div>\n",
       "<style scoped>\n",
       "    .dataframe tbody tr th:only-of-type {\n",
       "        vertical-align: middle;\n",
       "    }\n",
       "\n",
       "    .dataframe tbody tr th {\n",
       "        vertical-align: top;\n",
       "    }\n",
       "\n",
       "    .dataframe thead th {\n",
       "        text-align: right;\n",
       "    }\n",
       "</style>\n",
       "<table border=\"1\" class=\"dataframe\">\n",
       "  <thead>\n",
       "    <tr style=\"text-align: right;\">\n",
       "      <th></th>\n",
       "      <th>chrom</th>\n",
       "      <th>pv</th>\n",
       "      <th>variant</th>\n",
       "    </tr>\n",
       "  </thead>\n",
       "  <tbody>\n",
       "    <tr>\n",
       "      <th>0</th>\n",
       "      <td>19</td>\n",
       "      <td>0.604436</td>\n",
       "      <td>19_57847904_C_T</td>\n",
       "    </tr>\n",
       "    <tr>\n",
       "      <th>1</th>\n",
       "      <td>19</td>\n",
       "      <td>0.536828</td>\n",
       "      <td>19_57847915_G_A</td>\n",
       "    </tr>\n",
       "    <tr>\n",
       "      <th>2</th>\n",
       "      <td>19</td>\n",
       "      <td>0.880548</td>\n",
       "      <td>19_57848002_C_T</td>\n",
       "    </tr>\n",
       "    <tr>\n",
       "      <th>3</th>\n",
       "      <td>19</td>\n",
       "      <td>0.667731</td>\n",
       "      <td>19_57848207_T_C</td>\n",
       "    </tr>\n",
       "    <tr>\n",
       "      <th>4</th>\n",
       "      <td>19</td>\n",
       "      <td>0.880548</td>\n",
       "      <td>19_57848474_G_T</td>\n",
       "    </tr>\n",
       "  </tbody>\n",
       "</table>\n",
       "</div>"
      ],
      "text/plain": [
       "  chrom        pv          variant\n",
       "0    19  0.604436  19_57847904_C_T\n",
       "1    19  0.536828  19_57847915_G_A\n",
       "2    19  0.880548  19_57848002_C_T\n",
       "3    19  0.667731  19_57848207_T_C\n",
       "4    19  0.880548  19_57848474_G_T"
      ]
     },
     "execution_count": 46,
     "metadata": {},
     "output_type": "execute_result"
    }
   ],
   "source": [
    "pv = pd.DataFrame({\"chrom\":G_expanded[:,0:5].chrom.values,\n",
    "               \"pv\":pvals,\n",
    "               \"variant\":G_expanded[:,0:5].snp.values})\n",
    "pv.head()"
   ]
  },
  {
   "cell_type": "code",
   "execution_count": null,
   "id": "bb7cc5d8",
   "metadata": {},
   "outputs": [],
   "source": []
  }
 ],
 "metadata": {
  "kernelspec": {
   "display_name": "Python (struct-lmm2)",
   "language": "python",
   "name": "struct-lmm2"
  },
  "language_info": {
   "codemirror_mode": {
    "name": "ipython",
    "version": 3
   },
   "file_extension": ".py",
   "mimetype": "text/x-python",
   "name": "python",
   "nbconvert_exporter": "python",
   "pygments_lexer": "ipython3",
   "version": "3.8.5"
  }
 },
 "nbformat": 4,
 "nbformat_minor": 5
}
