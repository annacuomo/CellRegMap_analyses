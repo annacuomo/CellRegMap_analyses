{
 "cells": [
  {
   "cell_type": "code",
   "execution_count": 1,
   "id": "457ca89a",
   "metadata": {},
   "outputs": [],
   "source": [
    "# in case someone couldn't compute an actual kinship matrix.\n",
    "# it would still be better than nothing to use a block diagonal matrix encoding repeat observations (cells)\n",
    "# here I work out what (expanded) hK looks like in this case (K is just the identity with no relatedness info)\n",
    "# and build a function to obtain such an hK to input into CellRegMap"
   ]
  },
  {
   "cell_type": "code",
   "execution_count": 17,
   "id": "43299f9a",
   "metadata": {},
   "outputs": [],
   "source": [
    "import pandas as pd\n",
    "import matplotlib.pyplot as plt\n",
    "from numpy import array, split, cumsum, zeros, append\n",
    "import itertools"
   ]
  },
  {
   "cell_type": "code",
   "execution_count": 115,
   "id": "79205cb6",
   "metadata": {},
   "outputs": [],
   "source": [
    "# toy example with 3,2,4 cells respectively for 3 donors\n",
    "data = [['donor1', 'cell1'], ['donor1', 'cell2'], ['donor1', 'cell3'],\n",
    "       ['donor2', 'cell4'],['donor2', 'cell5'],\n",
    "       ['donor3', 'cell6'],['donor3', 'cell7'],['donor3', 'cell8'],['donor3', 'cell9']]\n",
    " \n",
    "# Create the pandas DataFrame\n",
    "smf_df = pd.DataFrame(data, columns = ['donor', 'cell'])"
   ]
  },
  {
   "cell_type": "code",
   "execution_count": 116,
   "id": "f7b6fa45",
   "metadata": {},
   "outputs": [
    {
     "data": {
      "text/html": [
       "<div>\n",
       "<style scoped>\n",
       "    .dataframe tbody tr th:only-of-type {\n",
       "        vertical-align: middle;\n",
       "    }\n",
       "\n",
       "    .dataframe tbody tr th {\n",
       "        vertical-align: top;\n",
       "    }\n",
       "\n",
       "    .dataframe thead th {\n",
       "        text-align: right;\n",
       "    }\n",
       "</style>\n",
       "<table border=\"1\" class=\"dataframe\">\n",
       "  <thead>\n",
       "    <tr style=\"text-align: right;\">\n",
       "      <th></th>\n",
       "      <th>donor</th>\n",
       "      <th>cell</th>\n",
       "    </tr>\n",
       "  </thead>\n",
       "  <tbody>\n",
       "    <tr>\n",
       "      <th>0</th>\n",
       "      <td>donor1</td>\n",
       "      <td>cell1</td>\n",
       "    </tr>\n",
       "    <tr>\n",
       "      <th>1</th>\n",
       "      <td>donor1</td>\n",
       "      <td>cell2</td>\n",
       "    </tr>\n",
       "    <tr>\n",
       "      <th>2</th>\n",
       "      <td>donor1</td>\n",
       "      <td>cell3</td>\n",
       "    </tr>\n",
       "    <tr>\n",
       "      <th>3</th>\n",
       "      <td>donor2</td>\n",
       "      <td>cell4</td>\n",
       "    </tr>\n",
       "    <tr>\n",
       "      <th>4</th>\n",
       "      <td>donor2</td>\n",
       "      <td>cell5</td>\n",
       "    </tr>\n",
       "  </tbody>\n",
       "</table>\n",
       "</div>"
      ],
      "text/plain": [
       "    donor   cell\n",
       "0  donor1  cell1\n",
       "1  donor1  cell2\n",
       "2  donor1  cell3\n",
       "3  donor2  cell4\n",
       "4  donor2  cell5"
      ]
     },
     "execution_count": 116,
     "metadata": {},
     "output_type": "execute_result"
    }
   ],
   "source": [
    "smf_df.head()"
   ]
  },
  {
   "cell_type": "code",
   "execution_count": 128,
   "id": "7c01c9c5",
   "metadata": {},
   "outputs": [],
   "source": [
    "def get_groups_from_smf(smf_df):\n",
    "    n_samples = smf_df.shape[0]\n",
    "    donors = smf_df['donor'].unique()\n",
    "    n_donors = len(donors)\n",
    "    n_cells = array([],dtype=int)\n",
    "    for donor in donors:\n",
    "        n_cells = append(n_cells, array(smf_df[smf_df['donor']==donor].shape[0], dtype=int))\n",
    "    groups = split(range(n_samples), cumsum(n_cells))[:-1]\n",
    "    return groups"
   ]
  },
  {
   "cell_type": "code",
   "execution_count": 129,
   "id": "60f6e0c9",
   "metadata": {},
   "outputs": [],
   "source": [
    "def get_block_hK_from_groups(groups):\n",
    "    n_samples = len(list(itertools.chain.from_iterable(groups)))\n",
    "    hM = zeros((n_samples, len(groups)))\n",
    "    for i, idx in enumerate(groups):\n",
    "        hM[idx, i] = 1.0\n",
    "    return hM"
   ]
  },
  {
   "cell_type": "code",
   "execution_count": 130,
   "id": "7ffd17f5",
   "metadata": {},
   "outputs": [
    {
     "data": {
      "text/plain": [
       "[array([0, 1, 2]), array([3, 4]), array([5, 6, 7, 8])]"
      ]
     },
     "execution_count": 130,
     "metadata": {},
     "output_type": "execute_result"
    }
   ],
   "source": [
    "# indices for each group of cells (group=individual)\n",
    "groups = get_groups_from_smf(smf_df)\n",
    "groups"
   ]
  },
  {
   "cell_type": "code",
   "execution_count": 131,
   "id": "ae1a078c",
   "metadata": {},
   "outputs": [],
   "source": [
    "hK = get_block_hK_from_groups(groups)"
   ]
  },
  {
   "cell_type": "code",
   "execution_count": 132,
   "id": "18b27c44",
   "metadata": {},
   "outputs": [
    {
     "data": {
      "text/plain": [
       "<matplotlib.image.AxesImage at 0x2b35769530d0>"
      ]
     },
     "execution_count": 132,
     "metadata": {},
     "output_type": "execute_result"
    },
    {
     "data": {
      "image/png": "[encoded data removed]",
      "text/plain": [
       "<Figure size 288x864 with 1 Axes>"
      ]
     },
     "metadata": {
      "needs_background": "light"
     },
     "output_type": "display_data"
    }
   ],
   "source": [
    "plt.matshow(hK)"
   ]
  },
  {
   "cell_type": "code",
   "execution_count": 133,
   "id": "f9608ab0",
   "metadata": {},
   "outputs": [],
   "source": [
    "K = hK @ hK.T"
   ]
  },
  {
   "cell_type": "code",
   "execution_count": 134,
   "id": "53d51664",
   "metadata": {},
   "outputs": [
    {
     "data": {
      "text/plain": [
       "<matplotlib.image.AxesImage at 0x2b35769af760>"
      ]
     },
     "execution_count": 134,
     "metadata": {},
     "output_type": "execute_result"
    },
    {
     "data": {
      "image/png": "[encoded data removed]",
      "text/plain": [
       "<Figure size 288x288 with 1 Axes>"
      ]
     },
     "metadata": {
      "needs_background": "light"
     },
     "output_type": "display_data"
    }
   ],
   "source": [
    "plt.matshow(K)"
   ]
  },
  {
   "cell_type": "code",
   "execution_count": null,
   "id": "39fb823d",
   "metadata": {},
   "outputs": [],
   "source": []
  },
  {
   "cell_type": "code",
   "execution_count": null,
   "id": "6c5e1168",
   "metadata": {},
   "outputs": [],
   "source": []
  },
  {
   "cell_type": "code",
   "execution_count": null,
   "id": "7547023a",
   "metadata": {},
   "outputs": [],
   "source": []
  }
 ],
 "metadata": {
  "kernelspec": {
   "display_name": "Python (struct-lmm2)",
   "language": "python",
   "name": "struct-lmm2"
  },
  "language_info": {
   "codemirror_mode": {
    "name": "ipython",
    "version": 3
   },
   "file_extension": ".py",
   "mimetype": "text/x-python",
   "name": "python",
   "nbconvert_exporter": "python",
   "pygments_lexer": "ipython3",
   "version": "3.8.5"
  }
 },
 "nbformat": 4,
 "nbformat_minor": 5
}
