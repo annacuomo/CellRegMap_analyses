{
 "cells": [
  {
   "cell_type": "code",
   "execution_count": 1,
   "id": "a84ba682",
   "metadata": {},
   "outputs": [
    {
     "name": "stderr",
     "output_type": "stream",
     "text": [
      "\n",
      "Attaching package: ‘dplyr’\n",
      "\n",
      "The following objects are masked from ‘package:stats’:\n",
      "\n",
      "    filter, lag\n",
      "\n",
      "The following objects are masked from ‘package:base’:\n",
      "\n",
      "    intersect, setdiff, setequal, union\n",
      "\n"
     ]
    }
   ],
   "source": [
    "library(dplyr)\n",
    "library(ggplot2)\n",
    "library(qvalue)"
   ]
  },
  {
   "cell_type": "code",
   "execution_count": 2,
   "id": "ebb8956d",
   "metadata": {},
   "outputs": [],
   "source": [
    "mydir = \"/hps/nobackup/stegle/users/acuomo/all_scripts/struct_LMM2/sc_endodiff/debug_May2021/\""
   ]
  },
  {
   "cell_type": "code",
   "execution_count": 3,
   "id": "c01914ab",
   "metadata": {},
   "outputs": [
    {
     "data": {
      "text/html": [
       "4470"
      ],
      "text/latex": [
       "4470"
      ],
      "text/markdown": [
       "4470"
      ],
      "text/plain": [
       "[1] 4470"
      ]
     },
     "metadata": {},
     "output_type": "display_data"
    },
    {
     "data": {
      "text/html": [
       "<table>\n",
       "<thead><tr><th></th><th scope=col>gene</th><th scope=col>n_snps</th><th scope=col>chrom</th><th scope=col>pv_raw</th><th scope=col>snpID</th><th scope=col>pv</th></tr></thead>\n",
       "<tbody>\n",
       "\t<tr><th scope=row>0</th><td>ENSG00000140905_GCSH </td><td>1                    </td><td>16                   </td><td>0.3328208357         </td><td>16_81118466_A_G      </td><td>0.3328208357         </td></tr>\n",
       "\t<tr><th scope=row>1</th><td>ENSG00000011523_CEP68</td><td>2                    </td><td> 2                   </td><td>0.0004224424         </td><td>2_65279223_C_T       </td><td>0.0008448849         </td></tr>\n",
       "</tbody>\n",
       "</table>\n"
      ],
      "text/latex": [
       "\\begin{tabular}{r|llllll}\n",
       "  & gene & n\\_snps & chrom & pv\\_raw & snpID & pv\\\\\n",
       "\\hline\n",
       "\t0 & ENSG00000140905\\_GCSH  & 1                       & 16                      & 0.3328208357            & 16\\_81118466\\_A\\_G   & 0.3328208357           \\\\\n",
       "\t1 & ENSG00000011523\\_CEP68 & 2                       &  2                      & 0.0004224424            & 2\\_65279223\\_C\\_T    & 0.0008448849           \\\\\n",
       "\\end{tabular}\n"
      ],
      "text/markdown": [
       "\n",
       "| <!--/--> | gene | n_snps | chrom | pv_raw | snpID | pv |\n",
       "|---|---|---|---|---|---|---|\n",
       "| 0 | ENSG00000140905_GCSH  | 1                     | 16                    | 0.3328208357          | 16_81118466_A_G       | 0.3328208357          |\n",
       "| 1 | ENSG00000011523_CEP68 | 2                     |  2                    | 0.0004224424          | 2_65279223_C_T        | 0.0008448849          |\n",
       "\n"
      ],
      "text/plain": [
       "  gene                  n_snps chrom pv_raw       snpID           pv          \n",
       "0 ENSG00000140905_GCSH  1      16    0.3328208357 16_81118466_A_G 0.3328208357\n",
       "1 ENSG00000011523_CEP68 2       2    0.0004224424 2_65279223_C_T  0.0008448849"
      ]
     },
     "metadata": {},
     "output_type": "display_data"
    }
   ],
   "source": [
    "########## MOFA 1\n",
    "# results when using only the first MOFA component as cell context\n",
    "file0 = paste0(mydir, \"MOFA1/new4/summary.csv\")\n",
    "df0 = read.csv(file0, row.names=1)\n",
    "nrow(df0)\n",
    "head(df0,2)"
   ]
  },
  {
   "cell_type": "code",
   "execution_count": 4,
   "id": "6fb2bb36",
   "metadata": {},
   "outputs": [
    {
     "data": {
      "text/html": [
       "239"
      ],
      "text/latex": [
       "239"
      ],
      "text/markdown": [
       "239"
      ],
      "text/plain": [
       "[1] 239"
      ]
     },
     "metadata": {},
     "output_type": "display_data"
    },
    {
     "data": {
      "text/html": [
       "183"
      ],
      "text/latex": [
       "183"
      ],
      "text/markdown": [
       "183"
      ],
      "text/plain": [
       "[1] 183"
      ]
     },
     "metadata": {},
     "output_type": "display_data"
    }
   ],
   "source": [
    "df0$qv = qvalue(df0$pv, pi0 = 1)$qvalue\n",
    "# significant eQTLs (FDR<5%)\n",
    "nrow(df0[df0$qv<0.05,]) \n",
    "# significant eGenes (FDR<5%)\n",
    "length(unique(df0[df0$qv<0.05,\"gene\"]))"
   ]
  },
  {
   "cell_type": "code",
   "execution_count": 5,
   "id": "4e328b37",
   "metadata": {},
   "outputs": [
    {
     "data": {
      "text/html": [
       "4470"
      ],
      "text/latex": [
       "4470"
      ],
      "text/markdown": [
       "4470"
      ],
      "text/plain": [
       "[1] 4470"
      ]
     },
     "metadata": {},
     "output_type": "display_data"
    },
    {
     "data": {
      "text/html": [
       "<table>\n",
       "<thead><tr><th></th><th scope=col>gene</th><th scope=col>n_snps</th><th scope=col>chrom</th><th scope=col>pv_raw</th><th scope=col>snpID</th><th scope=col>pv</th></tr></thead>\n",
       "<tbody>\n",
       "\t<tr><th scope=row>0</th><td>ENSG00000140905_GCSH </td><td>1                    </td><td>16                   </td><td>0.02606257           </td><td>16_81118466_A_G      </td><td>0.02606257           </td></tr>\n",
       "\t<tr><th scope=row>1</th><td>ENSG00000011523_CEP68</td><td>2                    </td><td> 2                   </td><td>0.03995225           </td><td>2_65279223_C_T       </td><td>0.07990451           </td></tr>\n",
       "</tbody>\n",
       "</table>\n"
      ],
      "text/latex": [
       "\\begin{tabular}{r|llllll}\n",
       "  & gene & n\\_snps & chrom & pv\\_raw & snpID & pv\\\\\n",
       "\\hline\n",
       "\t0 & ENSG00000140905\\_GCSH  & 1                       & 16                      & 0.02606257              & 16\\_81118466\\_A\\_G   & 0.02606257             \\\\\n",
       "\t1 & ENSG00000011523\\_CEP68 & 2                       &  2                      & 0.03995225              & 2\\_65279223\\_C\\_T    & 0.07990451             \\\\\n",
       "\\end{tabular}\n"
      ],
      "text/markdown": [
       "\n",
       "| <!--/--> | gene | n_snps | chrom | pv_raw | snpID | pv |\n",
       "|---|---|---|---|---|---|---|\n",
       "| 0 | ENSG00000140905_GCSH  | 1                     | 16                    | 0.02606257            | 16_81118466_A_G       | 0.02606257            |\n",
       "| 1 | ENSG00000011523_CEP68 | 2                     |  2                    | 0.03995225            | 2_65279223_C_T        | 0.07990451            |\n",
       "\n"
      ],
      "text/plain": [
       "  gene                  n_snps chrom pv_raw     snpID           pv        \n",
       "0 ENSG00000140905_GCSH  1      16    0.02606257 16_81118466_A_G 0.02606257\n",
       "1 ENSG00000011523_CEP68 2       2    0.03995225 2_65279223_C_T  0.07990451"
      ]
     },
     "metadata": {},
     "output_type": "display_data"
    }
   ],
   "source": [
    "########## MOFA 1:10\n",
    "# results when using MOFA components 1-10 as cell context\n",
    "file1 = paste0(mydir, \"MOFA10/new4/summary.csv\")\n",
    "df1 = read.csv(file1, row.names=1)\n",
    "nrow(df1)\n",
    "head(df1,2)"
   ]
  },
  {
   "cell_type": "code",
   "execution_count": 6,
   "id": "72ae25a2",
   "metadata": {},
   "outputs": [
    {
     "data": {
      "text/html": [
       "411"
      ],
      "text/latex": [
       "411"
      ],
      "text/markdown": [
       "411"
      ],
      "text/plain": [
       "[1] 411"
      ]
     },
     "metadata": {},
     "output_type": "display_data"
    },
    {
     "data": {
      "text/html": [
       "315"
      ],
      "text/latex": [
       "315"
      ],
      "text/markdown": [
       "315"
      ],
      "text/plain": [
       "[1] 315"
      ]
     },
     "metadata": {},
     "output_type": "display_data"
    }
   ],
   "source": [
    "df1$qv = qvalue(df1$pv, pi0 = 1)$qvalue\n",
    "# significant eQTLs (FDR<5%)\n",
    "nrow(df1[df1$qv<0.05,])\n",
    "# significant eGenes (FDR<5%)\n",
    "length(unique(df1[df1$qv<0.05,\"gene\"]))"
   ]
  },
  {
   "cell_type": "code",
   "execution_count": 7,
   "id": "9b93cfc0",
   "metadata": {},
   "outputs": [
    {
     "data": {
      "text/html": [
       "4470"
      ],
      "text/latex": [
       "4470"
      ],
      "text/markdown": [
       "4470"
      ],
      "text/plain": [
       "[1] 4470"
      ]
     },
     "metadata": {},
     "output_type": "display_data"
    }
   ],
   "source": [
    "df2 = inner_join(df0, df1, by = c(\"gene\",\"chrom\",\"n_snps\",\"snpID\"), suffix = c(\".1\",\".10\"))\n",
    "nrow(df2)"
   ]
  },
  {
   "cell_type": "code",
   "execution_count": 8,
   "id": "0249d7f3",
   "metadata": {},
   "outputs": [
    {
     "data": {
      "text/html": [
       "3240"
      ],
      "text/latex": [
       "3240"
      ],
      "text/markdown": [
       "3240"
      ],
      "text/plain": [
       "[1] 3240"
      ]
     },
     "metadata": {},
     "output_type": "display_data"
    }
   ],
   "source": [
    "length(unique(df2$gene))"
   ]
  },
  {
   "cell_type": "code",
   "execution_count": 9,
   "id": "891e9dbe",
   "metadata": {},
   "outputs": [
    {
     "data": {
      "image/png": "[encoded data removed]",
      "text/plain": [
       "plot without title"
      ]
     },
     "metadata": {},
     "output_type": "display_data"
    }
   ],
   "source": [
    "options(repr.plot.width = 4, repr.plot.height = 4) \n",
    "df2[as.numeric(df2$pv.10) < 10^-30,\"pv.10\"] = 10^-30\n",
    "df2[as.numeric(df2$pv.1) < 10^-30,\"pv.1\"] = 10^-30\n",
    "m = -log10(min(min(df2$pv.1),min(df2$pv.10)))\n",
    "p = ggplot(df2, aes(x = -log10(pv.1), y = -log10(pv.10))) + geom_point(size = 1, alpha = 0.8) \n",
    "p = p + theme_bw() + geom_abline(alpha=0.2) + xlim(c(0,m)) + ylim(c(0,m))\n",
    "p1 = max(df2[df2$qv.1<0.05,\"pv.1\"])\n",
    "q1 = -log10(p1)\n",
    "p10 = max(df2[df2$qv.10<0.05,\"pv.10\"])\n",
    "q10 = -log10(p10)\n",
    "p = p + geom_vline(xintercept=q1, alpha=0.6, col=\"firebrick\") + geom_hline(yintercept=q10, alpha=0.6, col=\"firebrick\")\n",
    "p = p + geom_point(aes(x=-log10(pv.1),y=-log10(pv.10)),data=df2[grep(\"6_30639412_A_G\",df2$snpID),],col=\"red\",size=2)\n",
    "p = p + geom_point(aes(x=-log10(pv.1),y=-log10(pv.10)),data=df2[grep(\"12_75737206_G_A\",df2$snpID),],col=\"lightslateblue\",size=2)\n",
    "p = p + geom_point(aes(x=-log10(pv.1),y=-log10(pv.10)),data=df2[grep(\"6_31785228_G_C\",df2$snpID),],col=\"yellow\",size=2)\n",
    "p = p + geom_point(aes(x=-log10(pv.1),y=-log10(pv.10)),data=df2[grep(\"7_73258087_T_A\",df2$snpID),],col=\"limegreen\",size=2)\n",
    "p + theme_classic() + theme(axis.text.x = element_text(size = 15),axis.text.y = element_text(size = 15))"
   ]
  },
  {
   "cell_type": "code",
   "execution_count": null,
   "id": "c17bee4c",
   "metadata": {},
   "outputs": [],
   "source": []
  }
 ],
 "metadata": {
  "kernelspec": {
   "display_name": "R",
   "language": "R",
   "name": "ir"
  },
  "language_info": {
   "codemirror_mode": "r",
   "file_extension": ".r",
   "mimetype": "text/x-r-source",
   "name": "R",
   "pygments_lexer": "r",
   "version": "3.6.1"
  }
 },
 "nbformat": 4,
 "nbformat_minor": 5
}
