{
 "cells": [
  {
   "cell_type": "code",
   "execution_count": 1,
   "id": "b43828a3",
   "metadata": {},
   "outputs": [
    {
     "name": "stderr",
     "output_type": "stream",
     "text": [
      "\n",
      "Attaching package: ‘dplyr’\n",
      "\n",
      "The following objects are masked from ‘package:stats’:\n",
      "\n",
      "    filter, lag\n",
      "\n",
      "The following objects are masked from ‘package:base’:\n",
      "\n",
      "    intersect, setdiff, setequal, union\n",
      "\n",
      "\n",
      "********************************************************\n",
      "Note: As of version 1.0.0, cowplot does not change the\n",
      "  default ggplot2 theme anymore. To recover the previous\n",
      "  behavior, execute:\n",
      "  theme_set(theme_cowplot())\n",
      "********************************************************\n",
      "\n"
     ]
    }
   ],
   "source": [
    "library(dplyr)\n",
    "library(ggplot2)\n",
    "library(cowplot)\n",
    "library(qvalue)"
   ]
  },
  {
   "cell_type": "code",
   "execution_count": 2,
   "id": "12d598cd",
   "metadata": {},
   "outputs": [],
   "source": [
    "revision_folder = \"/hps/nobackup2/stegle/users/acuomo/all_scripts/struct_LMM2/sc_endodiff/debug_May2021/REVISION/\""
   ]
  },
  {
   "cell_type": "code",
   "execution_count": null,
   "id": "dc88b96e",
   "metadata": {},
   "outputs": [],
   "source": []
  },
  {
   "cell_type": "code",
   "execution_count": 4,
   "id": "96ce2537",
   "metadata": {},
   "outputs": [],
   "source": [
    "crm_file = paste0(revision_folder, \"Annas_results_all_common_eqtls.csv\")\n",
    "crm = read.csv(crm_file, row.names=1)"
   ]
  },
  {
   "cell_type": "code",
   "execution_count": 5,
   "id": "19251e69",
   "metadata": {},
   "outputs": [],
   "source": [
    "crm_assoc = crm[crm$chrom %in% c(20,21,22),]"
   ]
  },
  {
   "cell_type": "code",
   "execution_count": 6,
   "id": "4308a47f",
   "metadata": {},
   "outputs": [
    {
     "data": {
      "text/html": [
       "<table>\n",
       "<thead><tr><th></th><th scope=col>gene</th><th scope=col>n_snps</th><th scope=col>chrom</th><th scope=col>pv_raw</th><th scope=col>snpID</th><th scope=col>pv</th><th scope=col>eqtl</th></tr></thead>\n",
       "<tbody>\n",
       "\t<tr><th scope=row>7476</th><td>ENSG00000100206                </td><td>639                            </td><td>22                             </td><td>0.4846768                      </td><td>22_38815543_G_T                </td><td>1                              </td><td>ENSG00000100206-22_38815543_G_T</td></tr>\n",
       "\t<tr><th scope=row>7477</th><td>ENSG00000100206                </td><td>639                            </td><td>22                             </td><td>0.5735132                      </td><td>22_38815767_C_T                </td><td>1                              </td><td>ENSG00000100206-22_38815767_C_T</td></tr>\n",
       "\t<tr><th scope=row>7478</th><td>ENSG00000100206                </td><td>639                            </td><td>22                             </td><td>0.8756466                      </td><td>22_38816059_T_C                </td><td>1                              </td><td>ENSG00000100206-22_38816059_T_C</td></tr>\n",
       "\t<tr><th scope=row>7479</th><td>ENSG00000100206                </td><td>639                            </td><td>22                             </td><td>0.1460246                      </td><td>22_38816351_G_A                </td><td>1                              </td><td>ENSG00000100206-22_38816351_G_A</td></tr>\n",
       "\t<tr><th scope=row>7480</th><td>ENSG00000100206                </td><td>639                            </td><td>22                             </td><td>0.2546127                      </td><td>22_38817047_A_G                </td><td>1                              </td><td>ENSG00000100206-22_38817047_A_G</td></tr>\n",
       "\t<tr><th scope=row>7481</th><td>ENSG00000100206                </td><td>639                            </td><td>22                             </td><td>0.1834585                      </td><td>22_38817105_C_T                </td><td>1                              </td><td>ENSG00000100206-22_38817105_C_T</td></tr>\n",
       "</tbody>\n",
       "</table>\n"
      ],
      "text/latex": [
       "\\begin{tabular}{r|lllllll}\n",
       "  & gene & n\\_snps & chrom & pv\\_raw & snpID & pv & eqtl\\\\\n",
       "\\hline\n",
       "\t7476 & ENSG00000100206                       & 639                                   & 22                                    & 0.4846768                             & 22\\_38815543\\_G\\_T                 & 1                                     & ENSG00000100206-22\\_38815543\\_G\\_T\\\\\n",
       "\t7477 & ENSG00000100206                       & 639                                   & 22                                    & 0.5735132                             & 22\\_38815767\\_C\\_T                 & 1                                     & ENSG00000100206-22\\_38815767\\_C\\_T\\\\\n",
       "\t7478 & ENSG00000100206                       & 639                                   & 22                                    & 0.8756466                             & 22\\_38816059\\_T\\_C                 & 1                                     & ENSG00000100206-22\\_38816059\\_T\\_C\\\\\n",
       "\t7479 & ENSG00000100206                       & 639                                   & 22                                    & 0.1460246                             & 22\\_38816351\\_G\\_A                 & 1                                     & ENSG00000100206-22\\_38816351\\_G\\_A\\\\\n",
       "\t7480 & ENSG00000100206                       & 639                                   & 22                                    & 0.2546127                             & 22\\_38817047\\_A\\_G                 & 1                                     & ENSG00000100206-22\\_38817047\\_A\\_G\\\\\n",
       "\t7481 & ENSG00000100206                       & 639                                   & 22                                    & 0.1834585                             & 22\\_38817105\\_C\\_T                 & 1                                     & ENSG00000100206-22\\_38817105\\_C\\_T\\\\\n",
       "\\end{tabular}\n"
      ],
      "text/markdown": [
       "\n",
       "| <!--/--> | gene | n_snps | chrom | pv_raw | snpID | pv | eqtl |\n",
       "|---|---|---|---|---|---|---|---|\n",
       "| 7476 | ENSG00000100206                 | 639                             | 22                              | 0.4846768                       | 22_38815543_G_T                 | 1                               | ENSG00000100206-22_38815543_G_T |\n",
       "| 7477 | ENSG00000100206                 | 639                             | 22                              | 0.5735132                       | 22_38815767_C_T                 | 1                               | ENSG00000100206-22_38815767_C_T |\n",
       "| 7478 | ENSG00000100206                 | 639                             | 22                              | 0.8756466                       | 22_38816059_T_C                 | 1                               | ENSG00000100206-22_38816059_T_C |\n",
       "| 7479 | ENSG00000100206                 | 639                             | 22                              | 0.1460246                       | 22_38816351_G_A                 | 1                               | ENSG00000100206-22_38816351_G_A |\n",
       "| 7480 | ENSG00000100206                 | 639                             | 22                              | 0.2546127                       | 22_38817047_A_G                 | 1                               | ENSG00000100206-22_38817047_A_G |\n",
       "| 7481 | ENSG00000100206                 | 639                             | 22                              | 0.1834585                       | 22_38817105_C_T                 | 1                               | ENSG00000100206-22_38817105_C_T |\n",
       "\n"
      ],
      "text/plain": [
       "     gene            n_snps chrom pv_raw    snpID           pv\n",
       "7476 ENSG00000100206 639    22    0.4846768 22_38815543_G_T 1 \n",
       "7477 ENSG00000100206 639    22    0.5735132 22_38815767_C_T 1 \n",
       "7478 ENSG00000100206 639    22    0.8756466 22_38816059_T_C 1 \n",
       "7479 ENSG00000100206 639    22    0.1460246 22_38816351_G_A 1 \n",
       "7480 ENSG00000100206 639    22    0.2546127 22_38817047_A_G 1 \n",
       "7481 ENSG00000100206 639    22    0.1834585 22_38817105_C_T 1 \n",
       "     eqtl                           \n",
       "7476 ENSG00000100206-22_38815543_G_T\n",
       "7477 ENSG00000100206-22_38815767_C_T\n",
       "7478 ENSG00000100206-22_38816059_T_C\n",
       "7479 ENSG00000100206-22_38816351_G_A\n",
       "7480 ENSG00000100206-22_38817047_A_G\n",
       "7481 ENSG00000100206-22_38817105_C_T"
      ]
     },
     "metadata": {},
     "output_type": "display_data"
    }
   ],
   "source": [
    "head(crm_assoc)"
   ]
  },
  {
   "cell_type": "code",
   "execution_count": null,
   "id": "0072662c",
   "metadata": {},
   "outputs": [],
   "source": []
  },
  {
   "cell_type": "code",
   "execution_count": 7,
   "id": "14ac4a45",
   "metadata": {},
   "outputs": [
    {
     "data": {
      "text/html": [
       "34742"
      ],
      "text/latex": [
       "34742"
      ],
      "text/markdown": [
       "34742"
      ],
      "text/plain": [
       "[1] 34742"
      ]
     },
     "metadata": {},
     "output_type": "display_data"
    }
   ],
   "source": [
    "res_dir = \"/hps/nobackup2/stegle/users/acuomo/all_scripts/struct_LMM2/sc_endodiff/debug_May2021/REVISION/CRM_interaction_chr22/results/\"\n",
    "all_files = list.files(res_dir)\n",
    "length(all_files)"
   ]
  },
  {
   "cell_type": "code",
   "execution_count": 8,
   "id": "c928ebf9",
   "metadata": {},
   "outputs": [
    {
     "data": {
      "text/html": [
       "34741"
      ],
      "text/latex": [
       "34741"
      ],
      "text/markdown": [
       "34741"
      ],
      "text/plain": [
       "[1] 34741"
      ]
     },
     "metadata": {},
     "output_type": "display_data"
    }
   ],
   "source": [
    "correct_files = list.files(res_dir,\"*0.tsv\")\n",
    "length(correct_files)"
   ]
  },
  {
   "cell_type": "code",
   "execution_count": 9,
   "id": "e51e8db3",
   "metadata": {},
   "outputs": [
    {
     "data": {
      "text/html": [
       "'summary.csv'"
      ],
      "text/latex": [
       "'summary.csv'"
      ],
      "text/markdown": [
       "'summary.csv'"
      ],
      "text/plain": [
       "[1] \"summary.csv\""
      ]
     },
     "metadata": {},
     "output_type": "display_data"
    }
   ],
   "source": [
    "all_files[!(all_files %in% correct_files)]"
   ]
  },
  {
   "cell_type": "code",
   "execution_count": null,
   "id": "4dcadd2e",
   "metadata": {},
   "outputs": [],
   "source": []
  },
  {
   "cell_type": "code",
   "execution_count": 10,
   "id": "73e9efa9",
   "metadata": {},
   "outputs": [
    {
     "data": {
      "text/html": [
       "344430"
      ],
      "text/latex": [
       "344430"
      ],
      "text/markdown": [
       "344430"
      ],
      "text/plain": [
       "[1] 344430"
      ]
     },
     "metadata": {},
     "output_type": "display_data"
    },
    {
     "data": {
      "text/html": [
       "<table>\n",
       "<thead><tr><th></th><th scope=col>gene</th><th scope=col>n_snps</th><th scope=col>chrom</th><th scope=col>pv_raw</th><th scope=col>snpID</th></tr></thead>\n",
       "<tbody>\n",
       "\t<tr><th scope=row>0</th><td>ENSG00000250479</td><td>10             </td><td>22             </td><td>0.3439653      </td><td>22_24071877_G_A</td></tr>\n",
       "\t<tr><th scope=row>1</th><td>ENSG00000250479</td><td>10             </td><td>22             </td><td>0.4098352      </td><td>22_24072256_G_C</td></tr>\n",
       "</tbody>\n",
       "</table>\n"
      ],
      "text/latex": [
       "\\begin{tabular}{r|lllll}\n",
       "  & gene & n\\_snps & chrom & pv\\_raw & snpID\\\\\n",
       "\\hline\n",
       "\t0 & ENSG00000250479       & 10                    & 22                    & 0.3439653             & 22\\_24071877\\_G\\_A\\\\\n",
       "\t1 & ENSG00000250479       & 10                    & 22                    & 0.4098352             & 22\\_24072256\\_G\\_C\\\\\n",
       "\\end{tabular}\n"
      ],
      "text/markdown": [
       "\n",
       "| <!--/--> | gene | n_snps | chrom | pv_raw | snpID |\n",
       "|---|---|---|---|---|---|\n",
       "| 0 | ENSG00000250479 | 10              | 22              | 0.3439653       | 22_24071877_G_A |\n",
       "| 1 | ENSG00000250479 | 10              | 22              | 0.4098352       | 22_24072256_G_C |\n",
       "\n"
      ],
      "text/plain": [
       "  gene            n_snps chrom pv_raw    snpID          \n",
       "0 ENSG00000250479 10     22    0.3439653 22_24071877_G_A\n",
       "1 ENSG00000250479 10     22    0.4098352 22_24072256_G_C"
      ]
     },
     "metadata": {},
     "output_type": "display_data"
    }
   ],
   "source": [
    "crm_int_file = paste0(revision_folder, \"CRM_interaction_chr22/results/summary.csv\")\n",
    "crm_int = read.csv(crm_int_file, row.names=1)\n",
    "nrow(crm_int)\n",
    "head(crm_int,2)"
   ]
  },
  {
   "cell_type": "code",
   "execution_count": 11,
   "id": "3b555638",
   "metadata": {},
   "outputs": [
    {
     "data": {
      "text/html": [
       "'/hps/nobackup2/stegle/users/acuomo/all_scripts/struct_LMM2/sc_endodiff/debug_May2021/REVISION/CRM_interaction_chr22/results/summary.csv'"
      ],
      "text/latex": [
       "'/hps/nobackup2/stegle/users/acuomo/all\\_scripts/struct\\_LMM2/sc\\_endodiff/debug\\_May2021/REVISION/CRM\\_interaction\\_chr22/results/summary.csv'"
      ],
      "text/markdown": [
       "'/hps/nobackup2/stegle/users/acuomo/all_scripts/struct_LMM2/sc_endodiff/debug_May2021/REVISION/CRM_interaction_chr22/results/summary.csv'"
      ],
      "text/plain": [
       "[1] \"/hps/nobackup2/stegle/users/acuomo/all_scripts/struct_LMM2/sc_endodiff/debug_May2021/REVISION/CRM_interaction_chr22/results/summary.csv\""
      ]
     },
     "metadata": {},
     "output_type": "display_data"
    }
   ],
   "source": [
    "crm_int_file"
   ]
  },
  {
   "cell_type": "code",
   "execution_count": 12,
   "id": "08fb9844",
   "metadata": {},
   "outputs": [
    {
     "data": {
      "text/html": [
       "<ol class=list-inline>\n",
       "\t<li>'22'</li>\n",
       "\t<li>'20'</li>\n",
       "\t<li>'21'</li>\n",
       "</ol>\n"
      ],
      "text/latex": [
       "\\begin{enumerate*}\n",
       "\\item '22'\n",
       "\\item '20'\n",
       "\\item '21'\n",
       "\\end{enumerate*}\n"
      ],
      "text/markdown": [
       "1. '22'\n",
       "2. '20'\n",
       "3. '21'\n",
       "\n",
       "\n"
      ],
      "text/plain": [
       "[1] \"22\" \"20\" \"21\""
      ]
     },
     "metadata": {},
     "output_type": "display_data"
    }
   ],
   "source": [
    "unique(as.character(crm_int$chrom))"
   ]
  },
  {
   "cell_type": "code",
   "execution_count": 13,
   "id": "4f774efd",
   "metadata": {},
   "outputs": [
    {
     "data": {
      "text/html": [
       "280"
      ],
      "text/latex": [
       "280"
      ],
      "text/markdown": [
       "280"
      ],
      "text/plain": [
       "[1] 280"
      ]
     },
     "metadata": {},
     "output_type": "display_data"
    },
    {
     "data": {
      "text/html": [
       "93"
      ],
      "text/latex": [
       "93"
      ],
      "text/markdown": [
       "93"
      ],
      "text/plain": [
       "[1] 93"
      ]
     },
     "metadata": {},
     "output_type": "display_data"
    },
    {
     "data": {
      "text/html": [
       "271"
      ],
      "text/latex": [
       "271"
      ],
      "text/markdown": [
       "271"
      ],
      "text/plain": [
       "[1] 271"
      ]
     },
     "metadata": {},
     "output_type": "display_data"
    }
   ],
   "source": [
    "# unique(as.character(crm_int[crm_int$chrom == 20, ]$gene))\n",
    "length(unique(as.character(crm_int[crm_int$chrom == 20, ]$gene)))\n",
    "length(unique(as.character(crm_int[crm_int$chrom == 21, ]$gene)))\n",
    "length(unique(as.character(crm_int[crm_int$chrom == 22, ]$gene)))"
   ]
  },
  {
   "cell_type": "code",
   "execution_count": 14,
   "id": "4a8caf72",
   "metadata": {},
   "outputs": [
    {
     "data": {
      "text/html": [
       "644"
      ],
      "text/latex": [
       "644"
      ],
      "text/markdown": [
       "644"
      ],
      "text/plain": [
       "[1] 644"
      ]
     },
     "metadata": {},
     "output_type": "display_data"
    }
   ],
   "source": [
    "length(unique(as.character(crm_int$gene)))"
   ]
  },
  {
   "cell_type": "code",
   "execution_count": 16,
   "id": "0bbc9ebb",
   "metadata": {},
   "outputs": [],
   "source": [
    "df_join = inner_join(crm_assoc, crm_int, by=c(\"snpID\",\"gene\"), suffix=c(\".assoc\",\".int\"))"
   ]
  },
  {
   "cell_type": "code",
   "execution_count": 17,
   "id": "b14eb8a1",
   "metadata": {},
   "outputs": [
    {
     "data": {
      "text/html": [
       "344430"
      ],
      "text/latex": [
       "344430"
      ],
      "text/markdown": [
       "344430"
      ],
      "text/plain": [
       "[1] 344430"
      ]
     },
     "metadata": {},
     "output_type": "display_data"
    }
   ],
   "source": [
    "nrow(df_join)"
   ]
  },
  {
   "cell_type": "code",
   "execution_count": 18,
   "id": "d35bd7e9",
   "metadata": {},
   "outputs": [
    {
     "data": {
      "text/plain": [
       "\n",
       "\tPearson's product-moment correlation\n",
       "\n",
       "data:  -log10(df_join$pv_raw.assoc) and -log10(df_join$pv_raw.int)\n",
       "t = 200.92, df = 344428, p-value < 2.2e-16\n",
       "alternative hypothesis: true correlation is not equal to 0\n",
       "95 percent confidence interval:\n",
       " 0.3209111 0.3268896\n",
       "sample estimates:\n",
       "      cor \n",
       "0.3239036 \n"
      ]
     },
     "metadata": {},
     "output_type": "display_data"
    }
   ],
   "source": [
    "cor.test(-log10(df_join$pv_raw.assoc),-log10(df_join$pv_raw.int))"
   ]
  },
  {
   "cell_type": "code",
   "execution_count": 19,
   "id": "829aa469",
   "metadata": {},
   "outputs": [
    {
     "data": {
      "image/png": "[encoded data removed]",
      "text/plain": [
       "plot without title"
      ]
     },
     "metadata": {},
     "output_type": "display_data"
    }
   ],
   "source": [
    "options(repr.plot.width = 5, repr.plot.height = 5)\n",
    "p = ggplot(df_join, aes(x=-log10(pv_raw.assoc),y=-log10(pv_raw.int))) + geom_point()\n",
    "p + theme_classic()"
   ]
  },
  {
   "cell_type": "code",
   "execution_count": 26,
   "id": "419b47eb",
   "metadata": {},
   "outputs": [
    {
     "data": {
      "text/html": [
       "221104"
      ],
      "text/latex": [
       "221104"
      ],
      "text/markdown": [
       "221104"
      ],
      "text/plain": [
       "[1] 221104"
      ]
     },
     "metadata": {},
     "output_type": "display_data"
    }
   ],
   "source": [
    "df_all = df_join\n",
    "nrow(df_all)"
   ]
  },
  {
   "cell_type": "code",
   "execution_count": 27,
   "id": "55aff7d5",
   "metadata": {},
   "outputs": [
    {
     "data": {
      "text/html": [
       "<table>\n",
       "<thead><tr><th scope=col>gene</th><th scope=col>n_snps.assoc</th><th scope=col>chrom.assoc</th><th scope=col>pv_raw.assoc</th><th scope=col>snpID</th><th scope=col>pv</th><th scope=col>eqtl</th><th scope=col>n_snps.int</th><th scope=col>chrom.int</th><th scope=col>pv_raw.int</th><th scope=col>fdr</th><th scope=col>fdr_assoc</th></tr></thead>\n",
       "<tbody>\n",
       "\t<tr><td>ENSG00000100206                </td><td>639                            </td><td>22                             </td><td>0.4846768                      </td><td>22_38815543_G_T                </td><td>1                              </td><td>ENSG00000100206-22_38815543_G_T</td><td>10                             </td><td>22                             </td><td>0.6147924                      </td><td>0.9999857                      </td><td>0.8612892                      </td></tr>\n",
       "\t<tr><td>ENSG00000100206                </td><td>639                            </td><td>22                             </td><td>0.5735132                      </td><td>22_38815767_C_T                </td><td>1                              </td><td>ENSG00000100206-22_38815767_C_T</td><td>10                             </td><td>22                             </td><td>0.6793908                      </td><td>0.9999857                      </td><td>0.8952501                      </td></tr>\n",
       "</tbody>\n",
       "</table>\n"
      ],
      "text/latex": [
       "\\begin{tabular}{r|llllllllllll}\n",
       " gene & n\\_snps.assoc & chrom.assoc & pv\\_raw.assoc & snpID & pv & eqtl & n\\_snps.int & chrom.int & pv\\_raw.int & fdr & fdr\\_assoc\\\\\n",
       "\\hline\n",
       "\t ENSG00000100206                       & 639                                   & 22                                    & 0.4846768                             & 22\\_38815543\\_G\\_T                 & 1                                     & ENSG00000100206-22\\_38815543\\_G\\_T & 10                                    & 22                                    & 0.6147924                             & 0.9999857                             & 0.8612892                            \\\\\n",
       "\t ENSG00000100206                       & 639                                   & 22                                    & 0.5735132                             & 22\\_38815767\\_C\\_T                 & 1                                     & ENSG00000100206-22\\_38815767\\_C\\_T & 10                                    & 22                                    & 0.6793908                             & 0.9999857                             & 0.8952501                            \\\\\n",
       "\\end{tabular}\n"
      ],
      "text/markdown": [
       "\n",
       "| gene | n_snps.assoc | chrom.assoc | pv_raw.assoc | snpID | pv | eqtl | n_snps.int | chrom.int | pv_raw.int | fdr | fdr_assoc |\n",
       "|---|---|---|---|---|---|---|---|---|---|---|---|\n",
       "| ENSG00000100206                 | 639                             | 22                              | 0.4846768                       | 22_38815543_G_T                 | 1                               | ENSG00000100206-22_38815543_G_T | 10                              | 22                              | 0.6147924                       | 0.9999857                       | 0.8612892                       |\n",
       "| ENSG00000100206                 | 639                             | 22                              | 0.5735132                       | 22_38815767_C_T                 | 1                               | ENSG00000100206-22_38815767_C_T | 10                              | 22                              | 0.6793908                       | 0.9999857                       | 0.8952501                       |\n",
       "\n"
      ],
      "text/plain": [
       "  gene            n_snps.assoc chrom.assoc pv_raw.assoc snpID           pv\n",
       "1 ENSG00000100206 639          22          0.4846768    22_38815543_G_T 1 \n",
       "2 ENSG00000100206 639          22          0.5735132    22_38815767_C_T 1 \n",
       "  eqtl                            n_snps.int chrom.int pv_raw.int fdr      \n",
       "1 ENSG00000100206-22_38815543_G_T 10         22        0.6147924  0.9999857\n",
       "2 ENSG00000100206-22_38815767_C_T 10         22        0.6793908  0.9999857\n",
       "  fdr_assoc\n",
       "1 0.8612892\n",
       "2 0.8952501"
      ]
     },
     "metadata": {},
     "output_type": "display_data"
    }
   ],
   "source": [
    "head(df_all,2)"
   ]
  },
  {
   "cell_type": "code",
   "execution_count": 28,
   "id": "52b8e1b0",
   "metadata": {},
   "outputs": [
    {
     "data": {
      "text/html": [
       "221104"
      ],
      "text/latex": [
       "221104"
      ],
      "text/markdown": [
       "221104"
      ],
      "text/plain": [
       "[1] 221104"
      ]
     },
     "metadata": {},
     "output_type": "display_data"
    }
   ],
   "source": [
    "nrow(df_join)"
   ]
  },
  {
   "cell_type": "code",
   "execution_count": 45,
   "id": "e15a0efc",
   "metadata": {},
   "outputs": [],
   "source": [
    "df_join$fdr_assoc = p.adjust(df_join$pv_raw.assoc, method = \"BH\")"
   ]
  },
  {
   "cell_type": "code",
   "execution_count": 46,
   "id": "044f7bb3",
   "metadata": {},
   "outputs": [],
   "source": [
    "thresholds = seq(0, 1, length.out = 100)"
   ]
  },
  {
   "cell_type": "code",
   "execution_count": 55,
   "id": "8eed1719",
   "metadata": {},
   "outputs": [
    {
     "data": {
      "text/html": [
       "<ol class=list-inline>\n",
       "\t<li>'holm'</li>\n",
       "\t<li>'hochberg'</li>\n",
       "\t<li>'hommel'</li>\n",
       "\t<li>'bonferroni'</li>\n",
       "\t<li>'BH'</li>\n",
       "\t<li>'BY'</li>\n",
       "\t<li>'fdr'</li>\n",
       "\t<li>'none'</li>\n",
       "</ol>\n"
      ],
      "text/latex": [
       "\\begin{enumerate*}\n",
       "\\item 'holm'\n",
       "\\item 'hochberg'\n",
       "\\item 'hommel'\n",
       "\\item 'bonferroni'\n",
       "\\item 'BH'\n",
       "\\item 'BY'\n",
       "\\item 'fdr'\n",
       "\\item 'none'\n",
       "\\end{enumerate*}\n"
      ],
      "text/markdown": [
       "1. 'holm'\n",
       "2. 'hochberg'\n",
       "3. 'hommel'\n",
       "4. 'bonferroni'\n",
       "5. 'BH'\n",
       "6. 'BY'\n",
       "7. 'fdr'\n",
       "8. 'none'\n",
       "\n",
       "\n"
      ],
      "text/plain": [
       "[1] \"holm\"       \"hochberg\"   \"hommel\"     \"bonferroni\" \"BH\"        \n",
       "[6] \"BY\"         \"fdr\"        \"none\"      "
      ]
     },
     "metadata": {},
     "output_type": "display_data"
    }
   ],
   "source": [
    "p.adjust.methods"
   ]
  },
  {
   "cell_type": "code",
   "execution_count": 63,
   "id": "2c8e222f",
   "metadata": {},
   "outputs": [],
   "source": [
    "df_plot = data.frame(assoc_FDR = thresholds, n_GxC=0, n_eGenes=0)\n",
    "# FDR < 0.1%\n",
    "for (t in thresholds){\n",
    "    res = df_join[df_join$fdr_assoc < t,]\n",
    "    nrow(res)\n",
    "    res$fdr = p.adjust(res$pv_raw.int, method =\"BY\")\n",
    "    df_plot[df_plot$assoc_FDR == t,\"n\"] = nrow(res)\n",
    "    df_plot[df_plot$assoc_FDR == t,\"n_GxC\"] = nrow(res[res$fdr < 0.01,])\n",
    "}"
   ]
  },
  {
   "cell_type": "code",
   "execution_count": 68,
   "id": "52ac46d5",
   "metadata": {},
   "outputs": [
    {
     "data": {
      "image/png": "[encoded data removed]",
      "text/plain": [
       "plot without title"
      ]
     },
     "metadata": {},
     "output_type": "display_data"
    }
   ],
   "source": [
    "# other y axis: how many variants tested\n",
    "coeff <- 150\n",
    "options(repr.plot.width = 8, repr.plot.height = 4)\n",
    "p = ggplot(df_plot, aes(x=assoc_FDR)) + theme_classic() +\n",
    "  \n",
    "  geom_line( aes(y=n_GxC)) + \n",
    "  geom_line( aes(y=n / coeff), linetype=\"dashed\") + # Divide by 150 to get the same range than the GxC\n",
    "  \n",
    "  scale_y_continuous(\n",
    "    \n",
    "    # Features of the first axis\n",
    "    name = \"n GxC\",\n",
    "    \n",
    "    # Add a second axis and specify its features\n",
    "    sec.axis = sec_axis(~.*coeff, name=\"n tested\")\n",
    "  )\n",
    "p"
   ]
  },
  {
   "cell_type": "code",
   "execution_count": 69,
   "id": "d368b126",
   "metadata": {},
   "outputs": [
    {
     "data": {
      "text/html": [
       "<strong>png:</strong> 2"
      ],
      "text/latex": [
       "\\textbf{png:} 2"
      ],
      "text/markdown": [
       "**png:** 2"
      ],
      "text/plain": [
       "png \n",
       "  2 "
      ]
     },
     "metadata": {},
     "output_type": "display_data"
    }
   ],
   "source": [
    "fig_dir = \"/hps/nobackup2/stegle/users/acuomo/CellRegMap_data/figures/\"\n",
    "pdf(paste0(fig_dir,\"SF9A_FDR_curve.pdf\"), width=8, height=4)\n",
    "p\n",
    "dev.off()"
   ]
  },
  {
   "cell_type": "code",
   "execution_count": null,
   "id": "94472ce9",
   "metadata": {},
   "outputs": [],
   "source": []
  },
  {
   "cell_type": "code",
   "execution_count": null,
   "id": "b9b7d6c9",
   "metadata": {},
   "outputs": [],
   "source": []
  }
 ],
 "metadata": {
  "kernelspec": {
   "display_name": "R",
   "language": "R",
   "name": "ir"
  },
  "language_info": {
   "codemirror_mode": "r",
   "file_extension": ".r",
   "mimetype": "text/x-r-source",
   "name": "R",
   "pygments_lexer": "r",
   "version": "3.6.1"
  }
 },
 "nbformat": 4,
 "nbformat_minor": 5
}
