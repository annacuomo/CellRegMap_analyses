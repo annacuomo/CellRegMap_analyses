{
 "cells": [
  {
   "cell_type": "code",
   "execution_count": 29,
   "id": "df540fe4",
   "metadata": {},
   "outputs": [],
   "source": [
    "library(dplyr)\n",
    "library(ggplot2)\n",
    "library(qvalue)"
   ]
  },
  {
   "cell_type": "code",
   "execution_count": 2,
   "id": "0faca119",
   "metadata": {},
   "outputs": [],
   "source": [
    "##### results from paper (Cuomo*, Seaton*, McCarthy* et al Nat Commun 2020)"
   ]
  },
  {
   "cell_type": "code",
   "execution_count": 3,
   "id": "6079fbc2",
   "metadata": {},
   "outputs": [],
   "source": [
    "# union of ips + mesendo + defendo eQTL (pseudobulk, expanded K)"
   ]
  },
  {
   "cell_type": "code",
   "execution_count": 4,
   "id": "62d39ce5",
   "metadata": {},
   "outputs": [],
   "source": [
    "# load lead variant results sc stages (iPS, mesendo, defendo)\n",
    "leads.ips = read.csv(\"/nfs/leia/research/stegle/acuomo/mean/day0/all_expts/leads.csv\", row.names = 1)\n",
    "leads.mes = read.csv(\"/nfs/leia/research/stegle/acuomo/mean/mesendo_est_June20/leads.csv\", row.names = 1)\n",
    "leads.defendo = read.csv(\"/nfs/leia/research/stegle/acuomo/mean/defendo_est_June20/leads.csv\", row.names = 1)"
   ]
  },
  {
   "cell_type": "code",
   "execution_count": 5,
   "id": "5914ff54",
   "metadata": {},
   "outputs": [],
   "source": [
    "leads.ips$stage = \"ips\"\n",
    "leads.mes$stage = \"mesendo\"\n",
    "leads.defendo$stage = \"defendo\""
   ]
  },
  {
   "cell_type": "code",
   "execution_count": 6,
   "id": "f4716c18",
   "metadata": {},
   "outputs": [],
   "source": [
    "### combine results"
   ]
  },
  {
   "cell_type": "code",
   "execution_count": 7,
   "id": "1bc94068",
   "metadata": {},
   "outputs": [],
   "source": [
    "leads = rbind(leads.ips, leads.mes, leads.defendo)"
   ]
  },
  {
   "cell_type": "code",
   "execution_count": 8,
   "id": "294ae10f",
   "metadata": {},
   "outputs": [],
   "source": [
    "leads$ensembl_gene_id = gsub(\"_.*\",\"\",leads$feature)"
   ]
  },
  {
   "cell_type": "code",
   "execution_count": 9,
   "id": "afd908b8",
   "metadata": {},
   "outputs": [
    {
     "data": {
      "text/html": [
       "<table>\n",
       "<thead><tr><th scope=col>beta</th><th scope=col>beta_se</th><th scope=col>empirical_feature_p_value</th><th scope=col>p_value</th><th scope=col>snp_id</th><th scope=col>feature</th><th scope=col>global_corr_p_value</th><th scope=col>chrom</th><th scope=col>pos</th><th scope=col>ref_allele</th><th scope=col>...</th><th scope=col>permutation_2</th><th scope=col>permutation_3</th><th scope=col>permutation_4</th><th scope=col>permutation_5</th><th scope=col>permutation_6</th><th scope=col>permutation_7</th><th scope=col>permutation_8</th><th scope=col>permutation_9</th><th scope=col>stage</th><th scope=col>ensembl_gene_id</th></tr></thead>\n",
       "<tbody>\n",
       "\t<tr><td>-1.0048674            </td><td>0.08005311            </td><td>3.631688e-34          </td><td>3.851118e-36          </td><td>5_149826526_C_T       </td><td>ENSG00000164587_RPS14 </td><td>2.880363e-30          </td><td> 5                    </td><td>149826526             </td><td>C                     </td><td>...                   </td><td>0.56508683            </td><td>0.6296458             </td><td>0.004683908           </td><td>0.5159591             </td><td>0.7734028             </td><td>0.6450821             </td><td>0.6001209             </td><td>0.9876646             </td><td>ips                   </td><td>ENSG00000164587       </td></tr>\n",
       "\t<tr><td>-0.9881017            </td><td>0.08648823            </td><td>2.432216e-26          </td><td>3.147553e-30          </td><td>11_57283988_C_T       </td><td>ENSG00000134809_TIMM10</td><td>8.853960e-23          </td><td>11                    </td><td> 57283988             </td><td>C                     </td><td>...                   </td><td>0.08194005            </td><td>0.6897261             </td><td>0.683497330           </td><td>0.5137511             </td><td>0.7877572             </td><td>0.6064095             </td><td>0.5419861             </td><td>0.5654441             </td><td>ips                   </td><td>ENSG00000134809       </td></tr>\n",
       "</tbody>\n",
       "</table>\n"
      ],
      "text/latex": [
       "\\begin{tabular}{r|lllllllllllllllllllllll}\n",
       " beta & beta\\_se & empirical\\_feature\\_p\\_value & p\\_value & snp\\_id & feature & global\\_corr\\_p\\_value & chrom & pos & ref\\_allele & ... & permutation\\_2 & permutation\\_3 & permutation\\_4 & permutation\\_5 & permutation\\_6 & permutation\\_7 & permutation\\_8 & permutation\\_9 & stage & ensembl\\_gene\\_id\\\\\n",
       "\\hline\n",
       "\t -1.0048674               & 0.08005311               & 3.631688e-34             & 3.851118e-36             & 5\\_149826526\\_C\\_T    & ENSG00000164587\\_RPS14  & 2.880363e-30             &  5                       & 149826526                & C                        & ...                      & 0.56508683               & 0.6296458                & 0.004683908              & 0.5159591                & 0.7734028                & 0.6450821                & 0.6001209                & 0.9876646                & ips                      & ENSG00000164587         \\\\\n",
       "\t -0.9881017               & 0.08648823               & 2.432216e-26             & 3.147553e-30             & 11\\_57283988\\_C\\_T    & ENSG00000134809\\_TIMM10 & 8.853960e-23             & 11                       &  57283988                & C                        & ...                      & 0.08194005               & 0.6897261                & 0.683497330              & 0.5137511                & 0.7877572                & 0.6064095                & 0.5419861                & 0.5654441                & ips                      & ENSG00000134809         \\\\\n",
       "\\end{tabular}\n"
      ],
      "text/markdown": [
       "\n",
       "| beta | beta_se | empirical_feature_p_value | p_value | snp_id | feature | global_corr_p_value | chrom | pos | ref_allele | ... | permutation_2 | permutation_3 | permutation_4 | permutation_5 | permutation_6 | permutation_7 | permutation_8 | permutation_9 | stage | ensembl_gene_id |\n",
       "|---|---|---|---|---|---|---|---|---|---|---|---|---|---|---|---|---|---|---|---|---|\n",
       "| -1.0048674             | 0.08005311             | 3.631688e-34           | 3.851118e-36           | 5_149826526_C_T        | ENSG00000164587_RPS14  | 2.880363e-30           |  5                     | 149826526              | C                      | ...                    | 0.56508683             | 0.6296458              | 0.004683908            | 0.5159591              | 0.7734028              | 0.6450821              | 0.6001209              | 0.9876646              | ips                    | ENSG00000164587        |\n",
       "| -0.9881017             | 0.08648823             | 2.432216e-26           | 3.147553e-30           | 11_57283988_C_T        | ENSG00000134809_TIMM10 | 8.853960e-23           | 11                     |  57283988              | C                      | ...                    | 0.08194005             | 0.6897261              | 0.683497330            | 0.5137511              | 0.7877572              | 0.6064095              | 0.5419861              | 0.5654441              | ips                    | ENSG00000134809        |\n",
       "\n"
      ],
      "text/plain": [
       "  beta       beta_se    empirical_feature_p_value p_value      snp_id         \n",
       "1 -1.0048674 0.08005311 3.631688e-34              3.851118e-36 5_149826526_C_T\n",
       "2 -0.9881017 0.08648823 2.432216e-26              3.147553e-30 11_57283988_C_T\n",
       "  feature                global_corr_p_value chrom pos       ref_allele ...\n",
       "1 ENSG00000164587_RPS14  2.880363e-30         5    149826526 C          ...\n",
       "2 ENSG00000134809_TIMM10 8.853960e-23        11     57283988 C          ...\n",
       "  permutation_2 permutation_3 permutation_4 permutation_5 permutation_6\n",
       "1 0.56508683    0.6296458     0.004683908   0.5159591     0.7734028    \n",
       "2 0.08194005    0.6897261     0.683497330   0.5137511     0.7877572    \n",
       "  permutation_7 permutation_8 permutation_9 stage ensembl_gene_id\n",
       "1 0.6450821     0.6001209     0.9876646     ips   ENSG00000164587\n",
       "2 0.6064095     0.5419861     0.5654441     ips   ENSG00000134809"
      ]
     },
     "metadata": {},
     "output_type": "display_data"
    }
   ],
   "source": [
    "head(leads,2)"
   ]
  },
  {
   "cell_type": "code",
   "execution_count": 10,
   "id": "bf5e2616",
   "metadata": {},
   "outputs": [],
   "source": [
    "#### pick top SNP per gene (min p-value across stages)"
   ]
  },
  {
   "cell_type": "code",
   "execution_count": 11,
   "id": "e763faee",
   "metadata": {},
   "outputs": [
    {
     "data": {
      "text/html": [
       "32665"
      ],
      "text/latex": [
       "32665"
      ],
      "text/markdown": [
       "32665"
      ],
      "text/plain": [
       "[1] 32665"
      ]
     },
     "metadata": {},
     "output_type": "display_data"
    },
    {
     "data": {
      "text/html": [
       "10788"
      ],
      "text/latex": [
       "10788"
      ],
      "text/markdown": [
       "10788"
      ],
      "text/plain": [
       "[1] 10788"
      ]
     },
     "metadata": {},
     "output_type": "display_data"
    }
   ],
   "source": [
    "nrow(leads)\n",
    "leads = leads[order(leads$p_value),]\n",
    "leads = leads[-which(duplicated(leads$feature)),]\n",
    "nrow(leads)"
   ]
  },
  {
   "cell_type": "code",
   "execution_count": 12,
   "id": "26fcc189",
   "metadata": {},
   "outputs": [],
   "source": [
    "# input_files_dir = \"/hps/nobackup/stegle/users/acuomo/all_scripts/struct_LMM2/sc_endodiff/new/input_files/\"\n",
    "# write.csv(leads[,c(\"feature\",\"chrom\")], paste0(input_files_dir,\"genes_tested.csv\"))"
   ]
  },
  {
   "cell_type": "code",
   "execution_count": 13,
   "id": "4fb25ded",
   "metadata": {},
   "outputs": [],
   "source": [
    "# load all results sc stages (iPS, mesendo, defendo)\n",
    "res.ips = read.csv(\"/nfs/leia/research/stegle/acuomo/mean/day0/all_expts/allresults.csv\", row.names = 1)\n",
    "res.mes = read.csv(\"/nfs/leia/research/stegle/acuomo/mean/mesendo_est_June20/allresults.csv\", row.names = 1)\n",
    "res.defendo = read.csv(\"/nfs/leia/research/stegle/acuomo/mean/defendo_est_June20/allresults.csv\", row.names = 1)"
   ]
  },
  {
   "cell_type": "code",
   "execution_count": 14,
   "id": "4314e583",
   "metadata": {},
   "outputs": [],
   "source": [
    "res.ips$stage = \"ips\"\n",
    "res.mes$stage = \"mesendo\"\n",
    "res.defendo$stage = \"defendo\""
   ]
  },
  {
   "cell_type": "code",
   "execution_count": 15,
   "id": "ffb08488",
   "metadata": {},
   "outputs": [],
   "source": [
    "res = rbind(res.ips, res.mes, res.defendo)"
   ]
  },
  {
   "cell_type": "code",
   "execution_count": 16,
   "id": "32b3512b",
   "metadata": {},
   "outputs": [],
   "source": [
    "res$ensembl_gene_id = gsub(\"_.*\",\"\",res$feature)"
   ]
  },
  {
   "cell_type": "code",
   "execution_count": 17,
   "id": "69cc2da4",
   "metadata": {},
   "outputs": [
    {
     "data": {
      "text/html": [
       "<table>\n",
       "<thead><tr><th scope=col>beta</th><th scope=col>beta_se</th><th scope=col>empirical_feature_p_value</th><th scope=col>p_value</th><th scope=col>snp_id</th><th scope=col>feature</th><th scope=col>permutation_0</th><th scope=col>permutation_1</th><th scope=col>permutation_2</th><th scope=col>permutation_3</th><th scope=col>...</th><th scope=col>permutation_6</th><th scope=col>permutation_7</th><th scope=col>permutation_8</th><th scope=col>permutation_9</th><th scope=col>ensembl_gene_id</th><th scope=col>chrom</th><th scope=col>pos</th><th scope=col>ref_allele</th><th scope=col>alt_allele</th><th scope=col>stage</th></tr></thead>\n",
       "<tbody>\n",
       "\t<tr><td>0.1034053             </td><td>0.1156505             </td><td>1                     </td><td>0.3712581             </td><td>1_100712195_G_C       </td><td>ENSG00000079335_CDC14A</td><td>0.4119083             </td><td>0.02609394            </td><td>0.6008147             </td><td>0.1373799             </td><td>...                   </td><td>0.1993281             </td><td>0.2655322             </td><td>0.9174491             </td><td>0.8586736             </td><td>ENSG00000079335       </td><td>1                     </td><td>100712195             </td><td>G                     </td><td>C                     </td><td>ips                   </td></tr>\n",
       "\t<tr><td>0.1034053             </td><td>0.1156505             </td><td>1                     </td><td>0.3712581             </td><td>1_100713300_G_T       </td><td>ENSG00000079335_CDC14A</td><td>0.4119083             </td><td>0.02609394            </td><td>0.6008147             </td><td>0.1373799             </td><td>...                   </td><td>0.1993281             </td><td>0.2655322             </td><td>0.9174491             </td><td>0.8586736             </td><td>ENSG00000079335       </td><td>1                     </td><td>100713300             </td><td>G                     </td><td>T                     </td><td>ips                   </td></tr>\n",
       "</tbody>\n",
       "</table>\n"
      ],
      "text/latex": [
       "\\begin{tabular}{r|llllllllllllllllllllll}\n",
       " beta & beta\\_se & empirical\\_feature\\_p\\_value & p\\_value & snp\\_id & feature & permutation\\_0 & permutation\\_1 & permutation\\_2 & permutation\\_3 & ... & permutation\\_6 & permutation\\_7 & permutation\\_8 & permutation\\_9 & ensembl\\_gene\\_id & chrom & pos & ref\\_allele & alt\\_allele & stage\\\\\n",
       "\\hline\n",
       "\t 0.1034053                & 0.1156505                & 1                        & 0.3712581                & 1\\_100712195\\_G\\_C    & ENSG00000079335\\_CDC14A & 0.4119083                & 0.02609394               & 0.6008147                & 0.1373799                & ...                      & 0.1993281                & 0.2655322                & 0.9174491                & 0.8586736                & ENSG00000079335          & 1                        & 100712195                & G                        & C                        & ips                     \\\\\n",
       "\t 0.1034053                & 0.1156505                & 1                        & 0.3712581                & 1\\_100713300\\_G\\_T    & ENSG00000079335\\_CDC14A & 0.4119083                & 0.02609394               & 0.6008147                & 0.1373799                & ...                      & 0.1993281                & 0.2655322                & 0.9174491                & 0.8586736                & ENSG00000079335          & 1                        & 100713300                & G                        & T                        & ips                     \\\\\n",
       "\\end{tabular}\n"
      ],
      "text/markdown": [
       "\n",
       "| beta | beta_se | empirical_feature_p_value | p_value | snp_id | feature | permutation_0 | permutation_1 | permutation_2 | permutation_3 | ... | permutation_6 | permutation_7 | permutation_8 | permutation_9 | ensembl_gene_id | chrom | pos | ref_allele | alt_allele | stage |\n",
       "|---|---|---|---|---|---|---|---|---|---|---|---|---|---|---|---|---|---|---|---|---|\n",
       "| 0.1034053              | 0.1156505              | 1                      | 0.3712581              | 1_100712195_G_C        | ENSG00000079335_CDC14A | 0.4119083              | 0.02609394             | 0.6008147              | 0.1373799              | ...                    | 0.1993281              | 0.2655322              | 0.9174491              | 0.8586736              | ENSG00000079335        | 1                      | 100712195              | G                      | C                      | ips                    |\n",
       "| 0.1034053              | 0.1156505              | 1                      | 0.3712581              | 1_100713300_G_T        | ENSG00000079335_CDC14A | 0.4119083              | 0.02609394             | 0.6008147              | 0.1373799              | ...                    | 0.1993281              | 0.2655322              | 0.9174491              | 0.8586736              | ENSG00000079335        | 1                      | 100713300              | G                      | T                      | ips                    |\n",
       "\n"
      ],
      "text/plain": [
       "  beta      beta_se   empirical_feature_p_value p_value   snp_id         \n",
       "1 0.1034053 0.1156505 1                         0.3712581 1_100712195_G_C\n",
       "2 0.1034053 0.1156505 1                         0.3712581 1_100713300_G_T\n",
       "  feature                permutation_0 permutation_1 permutation_2\n",
       "1 ENSG00000079335_CDC14A 0.4119083     0.02609394    0.6008147    \n",
       "2 ENSG00000079335_CDC14A 0.4119083     0.02609394    0.6008147    \n",
       "  permutation_3 ... permutation_6 permutation_7 permutation_8 permutation_9\n",
       "1 0.1373799     ... 0.1993281     0.2655322     0.9174491     0.8586736    \n",
       "2 0.1373799     ... 0.1993281     0.2655322     0.9174491     0.8586736    \n",
       "  ensembl_gene_id chrom pos       ref_allele alt_allele stage\n",
       "1 ENSG00000079335 1     100712195 G          C          ips  \n",
       "2 ENSG00000079335 1     100713300 G          T          ips  "
      ]
     },
     "metadata": {},
     "output_type": "display_data"
    }
   ],
   "source": [
    "head(res,2)"
   ]
  },
  {
   "cell_type": "code",
   "execution_count": 18,
   "id": "c7b69626",
   "metadata": {},
   "outputs": [],
   "source": [
    "#### pick top eQTL per stage (min p-value across stages)"
   ]
  },
  {
   "cell_type": "code",
   "execution_count": 19,
   "id": "3f467029",
   "metadata": {},
   "outputs": [
    {
     "data": {
      "text/html": [
       "16059303"
      ],
      "text/latex": [
       "16059303"
      ],
      "text/markdown": [
       "16059303"
      ],
      "text/plain": [
       "[1] 16059303"
      ]
     },
     "metadata": {},
     "output_type": "display_data"
    }
   ],
   "source": [
    "res$eqtl = paste0(res$feature,\"-\",res$snp_id)\n",
    "nrow(res)"
   ]
  },
  {
   "cell_type": "code",
   "execution_count": 20,
   "id": "ef842939",
   "metadata": {},
   "outputs": [
    {
     "data": {
      "text/html": [
       "5567940"
      ],
      "text/latex": [
       "5567940"
      ],
      "text/markdown": [
       "5567940"
      ],
      "text/plain": [
       "[1] 5567940"
      ]
     },
     "metadata": {},
     "output_type": "display_data"
    }
   ],
   "source": [
    "res = res[order(res$p_value),]\n",
    "res = res[-which(duplicated(res$eqtl)),]\n",
    "nrow(res)"
   ]
  },
  {
   "cell_type": "code",
   "execution_count": 21,
   "id": "da0e851f",
   "metadata": {},
   "outputs": [],
   "source": [
    "##### CellRegMap association test"
   ]
  },
  {
   "cell_type": "code",
   "execution_count": 24,
   "id": "0c5741ac",
   "metadata": {},
   "outputs": [],
   "source": [
    "revision_folder = \"/hps/nobackup2/stegle/users/acuomo/all_scripts/struct_LMM2/sc_endodiff/debug_May2021/REVISION/\"\n",
    "crm_file = paste0(revision_folder, \"CRM_association/summary.csv\")"
   ]
  },
  {
   "cell_type": "code",
   "execution_count": 25,
   "id": "0da39550",
   "metadata": {},
   "outputs": [
    {
     "data": {
      "text/html": [
       "10003258"
      ],
      "text/latex": [
       "10003258"
      ],
      "text/markdown": [
       "10003258"
      ],
      "text/plain": [
       "[1] 10003258"
      ]
     },
     "metadata": {},
     "output_type": "display_data"
    },
    {
     "data": {
      "text/html": [
       "<table>\n",
       "<thead><tr><th></th><th scope=col>feature_id</th><th scope=col>n_snps</th><th scope=col>feature_chromosome</th><th scope=col>p_value</th><th scope=col>snp_id</th><th scope=col>p_value_Bonferroni</th></tr></thead>\n",
       "<tbody>\n",
       "\t<tr><th scope=row>0</th><td>ENSG00000250462</td><td>909            </td><td>17             </td><td>0.5215900      </td><td>17_28857239_G_A</td><td>1              </td></tr>\n",
       "\t<tr><th scope=row>1</th><td>ENSG00000250462</td><td>909            </td><td>17             </td><td>0.6535075      </td><td>17_28857794_C_T</td><td>1              </td></tr>\n",
       "</tbody>\n",
       "</table>\n"
      ],
      "text/latex": [
       "\\begin{tabular}{r|llllll}\n",
       "  & feature\\_id & n\\_snps & feature\\_chromosome & p\\_value & snp\\_id & p\\_value\\_Bonferroni\\\\\n",
       "\\hline\n",
       "\t0 & ENSG00000250462       & 909                   & 17                    & 0.5215900             & 17\\_28857239\\_G\\_A & 1                    \\\\\n",
       "\t1 & ENSG00000250462       & 909                   & 17                    & 0.6535075             & 17\\_28857794\\_C\\_T & 1                    \\\\\n",
       "\\end{tabular}\n"
      ],
      "text/markdown": [
       "\n",
       "| <!--/--> | feature_id | n_snps | feature_chromosome | p_value | snp_id | p_value_Bonferroni |\n",
       "|---|---|---|---|---|---|---|\n",
       "| 0 | ENSG00000250462 | 909             | 17              | 0.5215900       | 17_28857239_G_A | 1               |\n",
       "| 1 | ENSG00000250462 | 909             | 17              | 0.6535075       | 17_28857794_C_T | 1               |\n",
       "\n"
      ],
      "text/plain": [
       "  feature_id      n_snps feature_chromosome p_value   snp_id         \n",
       "0 ENSG00000250462 909    17                 0.5215900 17_28857239_G_A\n",
       "1 ENSG00000250462 909    17                 0.6535075 17_28857794_C_T\n",
       "  p_value_Bonferroni\n",
       "0 1                 \n",
       "1 1                 "
      ]
     },
     "metadata": {},
     "output_type": "display_data"
    }
   ],
   "source": [
    "crm = read.csv(crm_file, row.names=1)\n",
    "colnames(crm) = c(\"feature_id\", \"n_snps\", \"feature_chromosome\",\"p_value\",\"snp_id\",\"p_value_Bonferroni\") \n",
    "nrow(crm)\n",
    "head(crm,2)"
   ]
  },
  {
   "cell_type": "code",
   "execution_count": 26,
   "id": "a5cbe72e",
   "metadata": {},
   "outputs": [
    {
     "data": {
      "text/html": [
       "10493"
      ],
      "text/latex": [
       "10493"
      ],
      "text/markdown": [
       "10493"
      ],
      "text/plain": [
       "[1] 10493"
      ]
     },
     "metadata": {},
     "output_type": "display_data"
    }
   ],
   "source": [
    "# number of genes\n",
    "df0 = crm\n",
    "length(unique(df0$feature_id))"
   ]
  },
  {
   "cell_type": "code",
   "execution_count": 27,
   "id": "2ee19758",
   "metadata": {},
   "outputs": [],
   "source": [
    "df = df0[order(df0$p_value),]\n",
    "df = df[-which(duplicated(df$feature_id)),]"
   ]
  },
  {
   "cell_type": "code",
   "execution_count": 30,
   "id": "9e500e7b",
   "metadata": {},
   "outputs": [],
   "source": [
    "df$qv = qvalue(df$p_value)$qvalues"
   ]
  },
  {
   "cell_type": "code",
   "execution_count": 31,
   "id": "dba82560",
   "metadata": {},
   "outputs": [],
   "source": [
    "####################\n",
    "#### merge"
   ]
  },
  {
   "cell_type": "code",
   "execution_count": 32,
   "id": "a1cbdf98",
   "metadata": {},
   "outputs": [],
   "source": [
    "genes_new = as.character(unique(df0$feature_id))\n",
    "genes_old = as.character(unique(res$ensembl_gene_id))"
   ]
  },
  {
   "cell_type": "code",
   "execution_count": 33,
   "id": "ac810ecf",
   "metadata": {},
   "outputs": [
    {
     "data": {
      "text/html": [
       "10788"
      ],
      "text/latex": [
       "10788"
      ],
      "text/markdown": [
       "10788"
      ],
      "text/plain": [
       "[1] 10788"
      ]
     },
     "metadata": {},
     "output_type": "display_data"
    },
    {
     "data": {
      "text/html": [
       "<ol class=list-inline>\n",
       "\t<li>'ENSG00000163682'</li>\n",
       "\t<li>'ENSG00000226278'</li>\n",
       "</ol>\n"
      ],
      "text/latex": [
       "\\begin{enumerate*}\n",
       "\\item 'ENSG00000163682'\n",
       "\\item 'ENSG00000226278'\n",
       "\\end{enumerate*}\n"
      ],
      "text/markdown": [
       "1. 'ENSG00000163682'\n",
       "2. 'ENSG00000226278'\n",
       "\n",
       "\n"
      ],
      "text/plain": [
       "[1] \"ENSG00000163682\" \"ENSG00000226278\""
      ]
     },
     "metadata": {},
     "output_type": "display_data"
    }
   ],
   "source": [
    "length(genes_old)\n",
    "head(genes_old,2)"
   ]
  },
  {
   "cell_type": "code",
   "execution_count": 34,
   "id": "0f878ca6",
   "metadata": {},
   "outputs": [
    {
     "data": {
      "text/html": [
       "10493"
      ],
      "text/latex": [
       "10493"
      ],
      "text/markdown": [
       "10493"
      ],
      "text/plain": [
       "[1] 10493"
      ]
     },
     "metadata": {},
     "output_type": "display_data"
    },
    {
     "data": {
      "text/html": [
       "<ol class=list-inline>\n",
       "\t<li>'ENSG00000250462'</li>\n",
       "\t<li>'ENSG00000131558'</li>\n",
       "</ol>\n"
      ],
      "text/latex": [
       "\\begin{enumerate*}\n",
       "\\item 'ENSG00000250462'\n",
       "\\item 'ENSG00000131558'\n",
       "\\end{enumerate*}\n"
      ],
      "text/markdown": [
       "1. 'ENSG00000250462'\n",
       "2. 'ENSG00000131558'\n",
       "\n",
       "\n"
      ],
      "text/plain": [
       "[1] \"ENSG00000250462\" \"ENSG00000131558\""
      ]
     },
     "metadata": {},
     "output_type": "display_data"
    }
   ],
   "source": [
    "length(genes_new)\n",
    "head(genes_new,2)"
   ]
  },
  {
   "cell_type": "code",
   "execution_count": 35,
   "id": "9f2a5f5f",
   "metadata": {},
   "outputs": [
    {
     "data": {
      "text/html": [
       "10493"
      ],
      "text/latex": [
       "10493"
      ],
      "text/markdown": [
       "10493"
      ],
      "text/plain": [
       "[1] 10493"
      ]
     },
     "metadata": {},
     "output_type": "display_data"
    }
   ],
   "source": [
    "common_genes = genes_new[genes_new %in% genes_old]\n",
    "length(common_genes)"
   ]
  },
  {
   "cell_type": "code",
   "execution_count": 36,
   "id": "c4f08780",
   "metadata": {},
   "outputs": [],
   "source": [
    "########## new leads & old results"
   ]
  },
  {
   "cell_type": "code",
   "execution_count": 37,
   "id": "8b43b8ad",
   "metadata": {},
   "outputs": [],
   "source": [
    "df$ensembl_gene_id = df$feature_id"
   ]
  },
  {
   "cell_type": "code",
   "execution_count": 38,
   "id": "56487862",
   "metadata": {},
   "outputs": [],
   "source": [
    "df1 = inner_join(df,res, by=c(\"ensembl_gene_id\",\"snp_id\"), suffix = c(\".new\",\".old\"))"
   ]
  },
  {
   "cell_type": "code",
   "execution_count": 39,
   "id": "5d245228",
   "metadata": {},
   "outputs": [
    {
     "data": {
      "text/html": [
       "4600"
      ],
      "text/latex": [
       "4600"
      ],
      "text/markdown": [
       "4600"
      ],
      "text/plain": [
       "[1] 4600"
      ]
     },
     "metadata": {},
     "output_type": "display_data"
    }
   ],
   "source": [
    "nrow(df1)"
   ]
  },
  {
   "cell_type": "code",
   "execution_count": 40,
   "id": "37abfb75",
   "metadata": {},
   "outputs": [
    {
     "data": {
      "text/plain": [
       "\n",
       "\tPearson's product-moment correlation\n",
       "\n",
       "data:  -log10(df1$p_value.new) and -log10(df1$p_value.old)\n",
       "t = 89.003, df = 4598, p-value < 2.2e-16\n",
       "alternative hypothesis: true correlation is not equal to 0\n",
       "95 percent confidence interval:\n",
       " 0.7845814 0.8058203\n",
       "sample estimates:\n",
       "     cor \n",
       "0.795445 \n"
      ]
     },
     "metadata": {},
     "output_type": "display_data"
    }
   ],
   "source": [
    "cor.test(-log10(df1$p_value.new),-log10(df1$p_value.old))"
   ]
  },
  {
   "cell_type": "code",
   "execution_count": 88,
   "id": "329ee17f",
   "metadata": {},
   "outputs": [],
   "source": [
    "options(repr.plot.width = 5, repr.plot.height = 5)\n",
    "p = ggplot(df1, aes(x=-log10(p_value.new),y=-log10(p_value.old))) + geom_point() + theme_classic() + geom_abline()"
   ]
  },
  {
   "cell_type": "code",
   "execution_count": 89,
   "id": "1b1626d4",
   "metadata": {},
   "outputs": [
    {
     "data": {
      "image/png": "[encoded data removed]",
      "text/plain": [
       "plot without title"
      ]
     },
     "metadata": {},
     "output_type": "display_data"
    }
   ],
   "source": [
    "p"
   ]
  },
  {
   "cell_type": "code",
   "execution_count": 90,
   "id": "2d6a8b9f",
   "metadata": {},
   "outputs": [
    {
     "data": {
      "text/html": [
       "<strong>png:</strong> 2"
      ],
      "text/latex": [
       "\\textbf{png:} 2"
      ],
      "text/markdown": [
       "**png:** 2"
      ],
      "text/plain": [
       "png \n",
       "  2 "
      ]
     },
     "metadata": {},
     "output_type": "display_data"
    }
   ],
   "source": [
    "fig_dir = \"/hps/nobackup2/stegle/users/acuomo/CellRegMap_data/figures/\"\n",
    "pdf(paste0(fig_dir,\"SF4_scatter_newleads.pdf\"), width=5, height=5)\n",
    "p\n",
    "dev.off()"
   ]
  },
  {
   "cell_type": "code",
   "execution_count": 48,
   "id": "67f8829c",
   "metadata": {},
   "outputs": [],
   "source": [
    "########## old leads & new results"
   ]
  },
  {
   "cell_type": "code",
   "execution_count": 49,
   "id": "9c3da967",
   "metadata": {},
   "outputs": [],
   "source": [
    "df0$ensembl_gene_id = df0$feature_id\n",
    "df2 = inner_join(df0,leads, by=c(\"ensembl_gene_id\",\"snp_id\"), suffix = c(\".new\",\".old\"))"
   ]
  },
  {
   "cell_type": "code",
   "execution_count": 50,
   "id": "98f836c8",
   "metadata": {},
   "outputs": [
    {
     "data": {
      "text/html": [
       "10493"
      ],
      "text/latex": [
       "10493"
      ],
      "text/markdown": [
       "10493"
      ],
      "text/plain": [
       "[1] 10493"
      ]
     },
     "metadata": {},
     "output_type": "display_data"
    }
   ],
   "source": [
    "nrow(df2)"
   ]
  },
  {
   "cell_type": "code",
   "execution_count": 51,
   "id": "8d8d5462",
   "metadata": {},
   "outputs": [
    {
     "data": {
      "text/plain": [
       "\n",
       "\tPearson's product-moment correlation\n",
       "\n",
       "data:  -log10(df2$p_value.new) and -log10(df2$p_value.old)\n",
       "t = 157.35, df = 10491, p-value < 2.2e-16\n",
       "alternative hypothesis: true correlation is not equal to 0\n",
       "95 percent confidence interval:\n",
       " 0.8323037 0.8436953\n",
       "sample estimates:\n",
       "      cor \n",
       "0.8380908 \n"
      ]
     },
     "metadata": {},
     "output_type": "display_data"
    }
   ],
   "source": [
    "cor.test(-log10(df2$p_value.new),-log10(df2$p_value.old))"
   ]
  },
  {
   "cell_type": "code",
   "execution_count": 84,
   "id": "67d19718",
   "metadata": {},
   "outputs": [
    {
     "data": {
      "image/png": "[encoded data removed]",
      "text/plain": [
       "plot without title"
      ]
     },
     "metadata": {},
     "output_type": "display_data"
    }
   ],
   "source": [
    "options(repr.plot.width = 5, repr.plot.height = 5)\n",
    "p = ggplot(df2, aes(x=-log10(p_value.new),y=-log10(p_value.old))) + geom_point() + theme_classic() + geom_abline()\n",
    "p"
   ]
  },
  {
   "cell_type": "code",
   "execution_count": 85,
   "id": "143125da",
   "metadata": {},
   "outputs": [
    {
     "data": {
      "text/html": [
       "<strong>png:</strong> 2"
      ],
      "text/latex": [
       "\\textbf{png:} 2"
      ],
      "text/markdown": [
       "**png:** 2"
      ],
      "text/plain": [
       "png \n",
       "  2 "
      ]
     },
     "metadata": {},
     "output_type": "display_data"
    }
   ],
   "source": [
    "fig_dir = \"/hps/nobackup2/stegle/users/acuomo/CellRegMap_data/figures/\"\n",
    "pdf(paste0(fig_dir,\"SF4_scatter_oldleads.pdf\"), width=5, height=5)\n",
    "p\n",
    "dev.off()"
   ]
  },
  {
   "cell_type": "code",
   "execution_count": 91,
   "id": "1516e378",
   "metadata": {},
   "outputs": [],
   "source": [
    "########## old & new results"
   ]
  },
  {
   "cell_type": "code",
   "execution_count": 92,
   "id": "37fb6525",
   "metadata": {},
   "outputs": [],
   "source": [
    "df3 = inner_join(df0,res, by=c(\"ensembl_gene_id\",\"snp_id\"), suffix = c(\".new\",\".old\"))"
   ]
  },
  {
   "cell_type": "code",
   "execution_count": 93,
   "id": "2cbbcbe5",
   "metadata": {},
   "outputs": [
    {
     "data": {
      "text/html": [
       "5413076"
      ],
      "text/latex": [
       "5413076"
      ],
      "text/markdown": [
       "5413076"
      ],
      "text/plain": [
       "[1] 5413076"
      ]
     },
     "metadata": {},
     "output_type": "display_data"
    }
   ],
   "source": [
    "nrow(df3)"
   ]
  },
  {
   "cell_type": "code",
   "execution_count": 94,
   "id": "6dc6dbc4",
   "metadata": {},
   "outputs": [
    {
     "data": {
      "text/plain": [
       "\n",
       "\tPearson's product-moment correlation\n",
       "\n",
       "data:  -log10(df3$p_value.new) and -log10(df3$p_value.old)\n",
       "t = 2829.5, df = 5413074, p-value < 2.2e-16\n",
       "alternative hypothesis: true correlation is not equal to 0\n",
       "95 percent confidence interval:\n",
       " 0.7720667 0.7727463\n",
       "sample estimates:\n",
       "      cor \n",
       "0.7724067 \n"
      ]
     },
     "metadata": {},
     "output_type": "display_data"
    }
   ],
   "source": [
    "cor.test(-log10(df3$p_value.new),-log10(df3$p_value.old))"
   ]
  },
  {
   "cell_type": "code",
   "execution_count": 96,
   "id": "8458b889",
   "metadata": {},
   "outputs": [
    {
     "data": {
      "image/png": "[encoded data removed]",
      "text/plain": [
       "plot without title"
      ]
     },
     "metadata": {},
     "output_type": "display_data"
    }
   ],
   "source": [
    "p = ggplot(df3, aes(x=-log10(p_value.new),y=-log10(p_value.old))) + geom_point() + theme_classic() + geom_abline()\n",
    "p"
   ]
  },
  {
   "cell_type": "code",
   "execution_count": 97,
   "id": "589052b5",
   "metadata": {},
   "outputs": [
    {
     "data": {
      "text/html": [
       "<strong>png:</strong> 2"
      ],
      "text/latex": [
       "\\textbf{png:} 2"
      ],
      "text/markdown": [
       "**png:** 2"
      ],
      "text/plain": [
       "png \n",
       "  2 "
      ]
     },
     "metadata": {},
     "output_type": "display_data"
    }
   ],
   "source": [
    "fig_dir = \"/hps/nobackup2/stegle/users/acuomo/CellRegMap_data/figures/\"\n",
    "pdf(paste0(fig_dir,\"SF4_scatter_allresults.pdf\"), width=5, height=5)\n",
    "p\n",
    "dev.off()"
   ]
  },
  {
   "cell_type": "code",
   "execution_count": null,
   "id": "3eb6f056",
   "metadata": {},
   "outputs": [],
   "source": []
  }
 ],
 "metadata": {
  "kernelspec": {
   "display_name": "R",
   "language": "R",
   "name": "ir"
  },
  "language_info": {
   "codemirror_mode": "r",
   "file_extension": ".r",
   "mimetype": "text/x-r-source",
   "name": "R",
   "pygments_lexer": "r",
   "version": "3.6.1"
  }
 },
 "nbformat": 4,
 "nbformat_minor": 5
}
