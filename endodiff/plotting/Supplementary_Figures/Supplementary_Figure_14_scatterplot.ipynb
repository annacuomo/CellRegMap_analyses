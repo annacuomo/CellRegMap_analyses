{
 "cells": [
  {
   "cell_type": "code",
   "execution_count": 1,
   "id": "5a08e2cb",
   "metadata": {},
   "outputs": [],
   "source": [
    "library(ggplot2)"
   ]
  },
  {
   "cell_type": "code",
   "execution_count": null,
   "id": "eddd52a6",
   "metadata": {},
   "outputs": [],
   "source": []
  },
  {
   "cell_type": "code",
   "execution_count": 2,
   "id": "35b9b3aa",
   "metadata": {},
   "outputs": [],
   "source": [
    "endo_folder = \"/hps/nobackup2/stegle/users/acuomo/all_scripts/struct_LMM2/sc_endodiff/debug_May2021/\""
   ]
  },
  {
   "cell_type": "code",
   "execution_count": 3,
   "id": "e15e676d",
   "metadata": {},
   "outputs": [
    {
     "data": {
      "text/html": [
       "<table>\n",
       "<thead><tr><th></th><th scope=col>gene</th><th scope=col>n_snps</th><th scope=col>chrom</th><th scope=col>pv_raw</th><th scope=col>snpID</th><th scope=col>pv</th><th scope=col>gene_name</th></tr></thead>\n",
       "<tbody>\n",
       "\t<tr><th scope=row>15</th><td>ENSG00000189306      </td><td>3                    </td><td>22                   </td><td>0.09209385           </td><td>22_42896474_T_C      </td><td>0.2762815            </td><td>ENSG00000189306_RRP7A</td></tr>\n",
       "\t<tr><th scope=row>16</th><td>ENSG00000189306      </td><td>3                    </td><td>22                   </td><td>0.01806787           </td><td>22_42897414_A_C      </td><td>0.0542036            </td><td>ENSG00000189306_RRP7A</td></tr>\n",
       "</tbody>\n",
       "</table>\n"
      ],
      "text/latex": [
       "\\begin{tabular}{r|lllllll}\n",
       "  & gene & n\\_snps & chrom & pv\\_raw & snpID & pv & gene\\_name\\\\\n",
       "\\hline\n",
       "\t15 & ENSG00000189306         & 3                       & 22                      & 0.09209385              & 22\\_42896474\\_T\\_C   & 0.2762815               & ENSG00000189306\\_RRP7A\\\\\n",
       "\t16 & ENSG00000189306         & 3                       & 22                      & 0.01806787              & 22\\_42897414\\_A\\_C   & 0.0542036               & ENSG00000189306\\_RRP7A\\\\\n",
       "\\end{tabular}\n"
      ],
      "text/markdown": [
       "\n",
       "| <!--/--> | gene | n_snps | chrom | pv_raw | snpID | pv | gene_name |\n",
       "|---|---|---|---|---|---|---|---|\n",
       "| 15 | ENSG00000189306       | 3                     | 22                    | 0.09209385            | 22_42896474_T_C       | 0.2762815             | ENSG00000189306_RRP7A |\n",
       "| 16 | ENSG00000189306       | 3                     | 22                    | 0.01806787            | 22_42897414_A_C       | 0.0542036             | ENSG00000189306_RRP7A |\n",
       "\n"
      ],
      "text/plain": [
       "   gene            n_snps chrom pv_raw     snpID           pv       \n",
       "15 ENSG00000189306 3      22    0.09209385 22_42896474_T_C 0.2762815\n",
       "16 ENSG00000189306 3      22    0.01806787 22_42897414_A_C 0.0542036\n",
       "   gene_name            \n",
       "15 ENSG00000189306_RRP7A\n",
       "16 ENSG00000189306_RRP7A"
      ]
     },
     "metadata": {},
     "output_type": "display_data"
    },
    {
     "data": {
      "text/html": [
       "121"
      ],
      "text/latex": [
       "121"
      ],
      "text/markdown": [
       "121"
      ],
      "text/plain": [
       "[1] 121"
      ]
     },
     "metadata": {},
     "output_type": "display_data"
    }
   ],
   "source": [
    "#### MOFA\n",
    "mofa_filename = paste0(endo_folder, 'MOFA10/new4/summary.csv')\n",
    "mofa = read.csv(mofa_filename, row.names=1)\n",
    "mofa$gene_name = mofa$gene\n",
    "mofa$gene = gsub(\"_.*\",\"\",mofa$gene)\n",
    "mofa = mofa[mofa$chrom == 22,]\n",
    "head(mofa,2)\n",
    "nrow(mofa)"
   ]
  },
  {
   "cell_type": "code",
   "execution_count": 4,
   "id": "87d77866",
   "metadata": {},
   "outputs": [
    {
     "data": {
      "text/html": [
       "<table>\n",
       "<thead><tr><th scope=col>chrom</th><th scope=col>gene</th><th scope=col>pv</th><th scope=col>variant</th><th scope=col>snpID</th><th scope=col>pv_raw</th><th scope=col>gene_name</th></tr></thead>\n",
       "<tbody>\n",
       "\t<tr><td>22                      </td><td>ENSG00000100058         </td><td>6.129443e-10            </td><td>22_25845855_C_G         </td><td>22_25845855_C_G         </td><td>6.129443e-10            </td><td>ENSG00000100058_CRYBB2P1</td></tr>\n",
       "\t<tr><td>22                      </td><td>ENSG00000100058         </td><td>1.097532e-02            </td><td>22_25924999_G_A         </td><td>22_25924999_G_A         </td><td>1.097532e-02            </td><td>ENSG00000100058_CRYBB2P1</td></tr>\n",
       "</tbody>\n",
       "</table>\n"
      ],
      "text/latex": [
       "\\begin{tabular}{r|lllllll}\n",
       " chrom & gene & pv & variant & snpID & pv\\_raw & gene\\_name\\\\\n",
       "\\hline\n",
       "\t 22                         & ENSG00000100058            & 6.129443e-10               & 22\\_25845855\\_C\\_G      & 22\\_25845855\\_C\\_G      & 6.129443e-10               & ENSG00000100058\\_CRYBB2P1\\\\\n",
       "\t 22                         & ENSG00000100058            & 1.097532e-02               & 22\\_25924999\\_G\\_A      & 22\\_25924999\\_G\\_A      & 1.097532e-02               & ENSG00000100058\\_CRYBB2P1\\\\\n",
       "\\end{tabular}\n"
      ],
      "text/markdown": [
       "\n",
       "| chrom | gene | pv | variant | snpID | pv_raw | gene_name |\n",
       "|---|---|---|---|---|---|---|\n",
       "| 22                       | ENSG00000100058          | 6.129443e-10             | 22_25845855_C_G          | 22_25845855_C_G          | 6.129443e-10             | ENSG00000100058_CRYBB2P1 |\n",
       "| 22                       | ENSG00000100058          | 1.097532e-02             | 22_25924999_G_A          | 22_25924999_G_A          | 1.097532e-02             | ENSG00000100058_CRYBB2P1 |\n",
       "\n"
      ],
      "text/plain": [
       "  chrom gene            pv           variant         snpID          \n",
       "1 22    ENSG00000100058 6.129443e-10 22_25845855_C_G 22_25845855_C_G\n",
       "2 22    ENSG00000100058 1.097532e-02 22_25924999_G_A 22_25924999_G_A\n",
       "  pv_raw       gene_name               \n",
       "1 6.129443e-10 ENSG00000100058_CRYBB2P1\n",
       "2 1.097532e-02 ENSG00000100058_CRYBB2P1"
      ]
     },
     "metadata": {},
     "output_type": "display_data"
    },
    {
     "data": {
      "text/html": [
       "121"
      ],
      "text/latex": [
       "121"
      ],
      "text/markdown": [
       "121"
      ],
      "text/plain": [
       "[1] 121"
      ]
     },
     "metadata": {},
     "output_type": "display_data"
    }
   ],
   "source": [
    "######## PCA\n",
    "pca1_filename = paste0(endo_folder,\"REVISION/CRM_int_PCA/summary_new.csv\")\n",
    "pca1 = read.csv(pca1_filename)\n",
    "pca1$snpID = pca1$variant\n",
    "pca1$pv_raw = pca1$pv\n",
    "pca1$gene_name = pca1$gene\n",
    "pca1$gene = gsub(\"_.*\",\"\",pca1$gene)\n",
    "pca1$X <- c()\n",
    "head(pca1,2)\n",
    "nrow(pca1)"
   ]
  },
  {
   "cell_type": "code",
   "execution_count": 5,
   "id": "137f8f4c",
   "metadata": {},
   "outputs": [
    {
     "name": "stderr",
     "output_type": "stream",
     "text": [
      "\n",
      "Attaching package: ‘dplyr’\n",
      "\n",
      "The following objects are masked from ‘package:stats’:\n",
      "\n",
      "    filter, lag\n",
      "\n",
      "The following objects are masked from ‘package:base’:\n",
      "\n",
      "    intersect, setdiff, setequal, union\n",
      "\n"
     ]
    }
   ],
   "source": [
    "library(dplyr)\n",
    "df1 = inner_join(mofa, pca1, by=c(\"snpID\",\"gene\"), suffix=c(\".m\",\".p\"))"
   ]
  },
  {
   "cell_type": "code",
   "execution_count": 6,
   "id": "cf83eb05",
   "metadata": {},
   "outputs": [
    {
     "data": {
      "text/plain": [
       "\n",
       "\tPearson's product-moment correlation\n",
       "\n",
       "data:  x and y1\n",
       "t = 17.412, df = 119, p-value < 2.2e-16\n",
       "alternative hypothesis: true correlation is not equal to 0\n",
       "95 percent confidence interval:\n",
       " 0.7881364 0.8911226\n",
       "sample estimates:\n",
       "      cor \n",
       "0.8474184 \n"
      ]
     },
     "metadata": {},
     "output_type": "display_data"
    },
    {
     "data": {
      "text/plain": [
       "\n",
       "\tPearson's product-moment correlation\n",
       "\n",
       "data:  -log10(x) and -log10(y1)\n",
       "t = 31.974, df = 119, p-value < 2.2e-16\n",
       "alternative hypothesis: true correlation is not equal to 0\n",
       "95 percent confidence interval:\n",
       " 0.9240385 0.9623540\n",
       "sample estimates:\n",
       "      cor \n",
       "0.9464326 \n"
      ]
     },
     "metadata": {},
     "output_type": "display_data"
    }
   ],
   "source": [
    "x = df1$pv_raw.m\n",
    "y1 = df1$pv_raw.p\n",
    "cor.test(x,y1)\n",
    "cor.test(-log10(x),-log10(y1))"
   ]
  },
  {
   "cell_type": "code",
   "execution_count": 8,
   "id": "c66ed27a",
   "metadata": {},
   "outputs": [
    {
     "data": {
      "image/png": "[encoded data removed]",
      "text/plain": [
       "plot without title"
      ]
     },
     "metadata": {},
     "output_type": "display_data"
    }
   ],
   "source": [
    "options(repr.plot.width = 5, repr.plot.height = 5)\n",
    "p1 = ggplot(df1, aes(x=-log10(pv_raw.m), y=-log10(pv_raw.p))) + geom_point() + theme_classic() + geom_abline()\n",
    "p1 = p1 + xlab(\"MOFA\") + ylab(\"PCA\") + xlim(c(0,20)) + ylim(c(0,20))\n",
    "p1"
   ]
  },
  {
   "cell_type": "code",
   "execution_count": 9,
   "id": "99e17127",
   "metadata": {},
   "outputs": [
    {
     "data": {
      "text/html": [
       "<strong>png:</strong> 2"
      ],
      "text/latex": [
       "\\textbf{png:} 2"
      ],
      "text/markdown": [
       "**png:** 2"
      ],
      "text/plain": [
       "png \n",
       "  2 "
      ]
     },
     "metadata": {},
     "output_type": "display_data"
    }
   ],
   "source": [
    "fig_dir = \"/hps/nobackup2/stegle/users/acuomo/CellRegMap_data/figures/\"\n",
    "pdf(paste0(fig_dir,\"SF10_scatterplot_MOFA_PCA.pdf\"), width=5, height=5)\n",
    "p1\n",
    "dev.off()"
   ]
  },
  {
   "cell_type": "code",
   "execution_count": null,
   "id": "00d659ed",
   "metadata": {},
   "outputs": [],
   "source": []
  },
  {
   "cell_type": "code",
   "execution_count": 579,
   "id": "217fa32e",
   "metadata": {},
   "outputs": [],
   "source": [
    "##### LDVAE"
   ]
  },
  {
   "cell_type": "code",
   "execution_count": 31,
   "id": "29005181",
   "metadata": {},
   "outputs": [
    {
     "data": {
      "text/html": [
       "<table>\n",
       "<thead><tr><th scope=col>chrom</th><th scope=col>gene</th><th scope=col>pv</th><th scope=col>variant</th><th scope=col>snpID</th><th scope=col>pv_raw</th><th scope=col>gene_name</th></tr></thead>\n",
       "<tbody>\n",
       "\t<tr><td>22                      </td><td>ENSG00000100058         </td><td>1.913650e-07            </td><td>22_25845855_C_G         </td><td>22_25845855_C_G         </td><td>1.913650e-07            </td><td>ENSG00000100058_CRYBB2P1</td></tr>\n",
       "\t<tr><td>22                      </td><td>ENSG00000100058         </td><td>1.247358e-01            </td><td>22_25924999_G_A         </td><td>22_25924999_G_A         </td><td>1.247358e-01            </td><td>ENSG00000100058_CRYBB2P1</td></tr>\n",
       "</tbody>\n",
       "</table>\n"
      ],
      "text/latex": [
       "\\begin{tabular}{r|lllllll}\n",
       " chrom & gene & pv & variant & snpID & pv\\_raw & gene\\_name\\\\\n",
       "\\hline\n",
       "\t 22                         & ENSG00000100058            & 1.913650e-07               & 22\\_25845855\\_C\\_G      & 22\\_25845855\\_C\\_G      & 1.913650e-07               & ENSG00000100058\\_CRYBB2P1\\\\\n",
       "\t 22                         & ENSG00000100058            & 1.247358e-01               & 22\\_25924999\\_G\\_A      & 22\\_25924999\\_G\\_A      & 1.247358e-01               & ENSG00000100058\\_CRYBB2P1\\\\\n",
       "\\end{tabular}\n"
      ],
      "text/markdown": [
       "\n",
       "| chrom | gene | pv | variant | snpID | pv_raw | gene_name |\n",
       "|---|---|---|---|---|---|---|\n",
       "| 22                       | ENSG00000100058          | 1.913650e-07             | 22_25845855_C_G          | 22_25845855_C_G          | 1.913650e-07             | ENSG00000100058_CRYBB2P1 |\n",
       "| 22                       | ENSG00000100058          | 1.247358e-01             | 22_25924999_G_A          | 22_25924999_G_A          | 1.247358e-01             | ENSG00000100058_CRYBB2P1 |\n",
       "\n"
      ],
      "text/plain": [
       "  chrom gene            pv           variant         snpID          \n",
       "1 22    ENSG00000100058 1.913650e-07 22_25845855_C_G 22_25845855_C_G\n",
       "2 22    ENSG00000100058 1.247358e-01 22_25924999_G_A 22_25924999_G_A\n",
       "  pv_raw       gene_name               \n",
       "1 1.913650e-07 ENSG00000100058_CRYBB2P1\n",
       "2 1.247358e-01 ENSG00000100058_CRYBB2P1"
      ]
     },
     "metadata": {},
     "output_type": "display_data"
    },
    {
     "data": {
      "text/html": [
       "121"
      ],
      "text/latex": [
       "121"
      ],
      "text/markdown": [
       "121"
      ],
      "text/plain": [
       "[1] 121"
      ]
     },
     "metadata": {},
     "output_type": "display_data"
    }
   ],
   "source": [
    "ld_filename = paste0(endo_folder,\"REVISION/CRM_int_LDVAE/summary_new.csv\")\n",
    "ld = read.csv(ld_filename)\n",
    "ld$snpID = ld$variant\n",
    "ld$pv_raw = ld$pv\n",
    "ld$gene_name = ld$gene\n",
    "ld$gene = gsub(\"_.*\",\"\",ld$gene)\n",
    "ld$X <- c()\n",
    "head(ld,2)\n",
    "nrow(ld)"
   ]
  },
  {
   "cell_type": "code",
   "execution_count": 32,
   "id": "cdc3eb8a",
   "metadata": {},
   "outputs": [],
   "source": [
    "df2 = inner_join(mofa, ld, by=c(\"snpID\",\"gene\"), suffix=c(\".m\",\".l\"))"
   ]
  },
  {
   "cell_type": "code",
   "execution_count": 33,
   "id": "5c9ecf7f",
   "metadata": {},
   "outputs": [
    {
     "data": {
      "text/plain": [
       "\n",
       "\tPearson's product-moment correlation\n",
       "\n",
       "data:  x and y1\n",
       "t = 10.538, df = 119, p-value < 2.2e-16\n",
       "alternative hypothesis: true correlation is not equal to 0\n",
       "95 percent confidence interval:\n",
       " 0.5893611 0.7769168\n",
       "sample estimates:\n",
       "      cor \n",
       "0.6947687 \n"
      ]
     },
     "metadata": {},
     "output_type": "display_data"
    },
    {
     "data": {
      "text/plain": [
       "\n",
       "\tPearson's product-moment correlation\n",
       "\n",
       "data:  -log10(x) and -log10(y1)\n",
       "t = 12.199, df = 119, p-value < 2.2e-16\n",
       "alternative hypothesis: true correlation is not equal to 0\n",
       "95 percent confidence interval:\n",
       " 0.6539532 0.8154330\n",
       "sample estimates:\n",
       "      cor \n",
       "0.7454361 \n"
      ]
     },
     "metadata": {},
     "output_type": "display_data"
    }
   ],
   "source": [
    "x = df2$pv_raw.m\n",
    "y1 = df2$pv_raw.l\n",
    "cor.test(x,y1)\n",
    "cor.test(-log10(x),-log10(y1))"
   ]
  },
  {
   "cell_type": "code",
   "execution_count": 34,
   "id": "582053cb",
   "metadata": {},
   "outputs": [
    {
     "data": {
      "image/png": "[encoded data removed]",
      "text/plain": [
       "plot without title"
      ]
     },
     "metadata": {},
     "output_type": "display_data"
    }
   ],
   "source": [
    "options(repr.plot.width = 5, repr.plot.height = 5)\n",
    "p1 = ggplot(df2, aes(x=-log10(pv_raw.m), y=-log10(pv_raw.l))) + geom_point() + theme_classic() + geom_abline()\n",
    "p1 = p1 + xlab(\"MOFA\") + ylab(\"LDVAE\") + xlim(c(0,20)) + ylim(c(0,20))\n",
    "p1"
   ]
  },
  {
   "cell_type": "code",
   "execution_count": 15,
   "id": "36b0c8f9",
   "metadata": {},
   "outputs": [
    {
     "data": {
      "text/html": [
       "<strong>png:</strong> 2"
      ],
      "text/latex": [
       "\\textbf{png:} 2"
      ],
      "text/markdown": [
       "**png:** 2"
      ],
      "text/plain": [
       "png \n",
       "  2 "
      ]
     },
     "metadata": {},
     "output_type": "display_data"
    }
   ],
   "source": [
    "fig_dir = \"/hps/nobackup2/stegle/users/acuomo/CellRegMap_data/figures/\"\n",
    "pdf(paste0(fig_dir,\"SF10_scatterplot_MOFA_LDVAE.pdf\"), width=5, height=5)\n",
    "p1\n",
    "dev.off()"
   ]
  },
  {
   "cell_type": "code",
   "execution_count": null,
   "id": "01b133cd",
   "metadata": {},
   "outputs": [],
   "source": []
  },
  {
   "cell_type": "code",
   "execution_count": 134,
   "id": "fb7fd402",
   "metadata": {},
   "outputs": [],
   "source": [
    "##### ZINB-WaVE"
   ]
  },
  {
   "cell_type": "code",
   "execution_count": 35,
   "id": "5238ac59",
   "metadata": {},
   "outputs": [
    {
     "data": {
      "text/html": [
       "<table>\n",
       "<thead><tr><th scope=col>chrom</th><th scope=col>gene</th><th scope=col>pv</th><th scope=col>variant</th><th scope=col>snpID</th><th scope=col>pv_raw</th><th scope=col>gene_name</th></tr></thead>\n",
       "<tbody>\n",
       "\t<tr><td>22                      </td><td>ENSG00000100058         </td><td>0.001058924             </td><td>22_25845855_C_G         </td><td>22_25845855_C_G         </td><td>0.001058924             </td><td>ENSG00000100058_CRYBB2P1</td></tr>\n",
       "\t<tr><td>22                      </td><td>ENSG00000100058         </td><td>0.001896708             </td><td>22_25924999_G_A         </td><td>22_25924999_G_A         </td><td>0.001896708             </td><td>ENSG00000100058_CRYBB2P1</td></tr>\n",
       "</tbody>\n",
       "</table>\n"
      ],
      "text/latex": [
       "\\begin{tabular}{r|lllllll}\n",
       " chrom & gene & pv & variant & snpID & pv\\_raw & gene\\_name\\\\\n",
       "\\hline\n",
       "\t 22                         & ENSG00000100058            & 0.001058924                & 22\\_25845855\\_C\\_G      & 22\\_25845855\\_C\\_G      & 0.001058924                & ENSG00000100058\\_CRYBB2P1\\\\\n",
       "\t 22                         & ENSG00000100058            & 0.001896708                & 22\\_25924999\\_G\\_A      & 22\\_25924999\\_G\\_A      & 0.001896708                & ENSG00000100058\\_CRYBB2P1\\\\\n",
       "\\end{tabular}\n"
      ],
      "text/markdown": [
       "\n",
       "| chrom | gene | pv | variant | snpID | pv_raw | gene_name |\n",
       "|---|---|---|---|---|---|---|\n",
       "| 22                       | ENSG00000100058          | 0.001058924              | 22_25845855_C_G          | 22_25845855_C_G          | 0.001058924              | ENSG00000100058_CRYBB2P1 |\n",
       "| 22                       | ENSG00000100058          | 0.001896708              | 22_25924999_G_A          | 22_25924999_G_A          | 0.001896708              | ENSG00000100058_CRYBB2P1 |\n",
       "\n"
      ],
      "text/plain": [
       "  chrom gene            pv          variant         snpID           pv_raw     \n",
       "1 22    ENSG00000100058 0.001058924 22_25845855_C_G 22_25845855_C_G 0.001058924\n",
       "2 22    ENSG00000100058 0.001896708 22_25924999_G_A 22_25924999_G_A 0.001896708\n",
       "  gene_name               \n",
       "1 ENSG00000100058_CRYBB2P1\n",
       "2 ENSG00000100058_CRYBB2P1"
      ]
     },
     "metadata": {},
     "output_type": "display_data"
    },
    {
     "data": {
      "text/html": [
       "121"
      ],
      "text/latex": [
       "121"
      ],
      "text/markdown": [
       "121"
      ],
      "text/plain": [
       "[1] 121"
      ]
     },
     "metadata": {},
     "output_type": "display_data"
    }
   ],
   "source": [
    "zw_filename = paste0(endo_folder,\"REVISION/CRM_int_ZINB-WaVE/summary_new.csv\")\n",
    "zw = read.csv(zw_filename)\n",
    "zw$snpID = zw$variant\n",
    "zw$pv_raw = zw$pv\n",
    "zw$gene_name = zw$gene\n",
    "zw$gene = gsub(\"_.*\",\"\",zw$gene)\n",
    "zw$X <- c()\n",
    "head(zw,2)\n",
    "nrow(zw)"
   ]
  },
  {
   "cell_type": "code",
   "execution_count": 36,
   "id": "9b41c687",
   "metadata": {},
   "outputs": [],
   "source": [
    "df1 = inner_join(mofa, zw, by=c(\"snpID\",\"gene\"), suffix=c(\".m\",\".z\"))"
   ]
  },
  {
   "cell_type": "code",
   "execution_count": 37,
   "id": "3798a869",
   "metadata": {},
   "outputs": [
    {
     "data": {
      "text/plain": [
       "\n",
       "\tPearson's product-moment correlation\n",
       "\n",
       "data:  x and y1\n",
       "t = 10.31, df = 119, p-value < 2.2e-16\n",
       "alternative hypothesis: true correlation is not equal to 0\n",
       "95 percent confidence interval:\n",
       " 0.5794064 0.7708533\n",
       "sample estimates:\n",
       "      cor \n",
       "0.6868658 \n"
      ]
     },
     "metadata": {},
     "output_type": "display_data"
    },
    {
     "data": {
      "text/plain": [
       "\n",
       "\tPearson's product-moment correlation\n",
       "\n",
       "data:  -log10(x) and -log10(y1)\n",
       "t = 22.26, df = 119, p-value < 2.2e-16\n",
       "alternative hypothesis: true correlation is not equal to 0\n",
       "95 percent confidence interval:\n",
       " 0.8568045 0.9277599\n",
       "sample estimates:\n",
       "      cor \n",
       "0.8979687 \n"
      ]
     },
     "metadata": {},
     "output_type": "display_data"
    }
   ],
   "source": [
    "x = df1$pv_raw.m\n",
    "y1 = df1$pv_raw.z\n",
    "cor.test(x,y1)\n",
    "cor.test(-log10(x),-log10(y1))"
   ]
  },
  {
   "cell_type": "code",
   "execution_count": 38,
   "id": "ac9dd9ab",
   "metadata": {},
   "outputs": [
    {
     "data": {
      "image/png": "[encoded data removed]",
      "text/plain": [
       "plot without title"
      ]
     },
     "metadata": {},
     "output_type": "display_data"
    }
   ],
   "source": [
    "options(repr.plot.width = 5, repr.plot.height = 5)\n",
    "p1 = ggplot(df1, aes(x=-log10(pv_raw.m), y=-log10(pv_raw.z))) + geom_point() + theme_classic() + geom_abline()\n",
    "p1 = p1 + xlab(\"MOFA\") + ylab(\"ZINB-WaVE\") + xlim(c(0,20)) + ylim(c(0,20))\n",
    "p1"
   ]
  },
  {
   "cell_type": "code",
   "execution_count": 39,
   "id": "419e91cf",
   "metadata": {},
   "outputs": [
    {
     "data": {
      "text/html": [
       "<strong>png:</strong> 2"
      ],
      "text/latex": [
       "\\textbf{png:} 2"
      ],
      "text/markdown": [
       "**png:** 2"
      ],
      "text/plain": [
       "png \n",
       "  2 "
      ]
     },
     "metadata": {},
     "output_type": "display_data"
    }
   ],
   "source": [
    "fig_dir = \"/hps/nobackup2/stegle/users/acuomo/CellRegMap_data/figures/\"\n",
    "pdf(paste0(fig_dir,\"SF10_scatterplot_MOFA_ZINB_WAVE.pdf\"), width=5, height=5)\n",
    "p1\n",
    "dev.off()"
   ]
  },
  {
   "cell_type": "code",
   "execution_count": null,
   "id": "58cbea1e",
   "metadata": {},
   "outputs": [],
   "source": []
  }
 ],
 "metadata": {
  "kernelspec": {
   "display_name": "R",
   "language": "R",
   "name": "ir"
  },
  "language_info": {
   "codemirror_mode": "r",
   "file_extension": ".r",
   "mimetype": "text/x-r-source",
   "name": "R",
   "pygments_lexer": "r",
   "version": "3.6.1"
  }
 },
 "nbformat": 4,
 "nbformat_minor": 5
}
