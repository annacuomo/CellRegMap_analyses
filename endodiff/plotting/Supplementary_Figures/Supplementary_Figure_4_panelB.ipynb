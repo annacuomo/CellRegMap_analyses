{
 "cells": [
  {
   "cell_type": "code",
   "execution_count": null,
   "id": "7107a84f",
   "metadata": {},
   "outputs": [],
   "source": [
    "library(ggplot2)\n",
    "library(dplyr)\n",
    "library(LDlinkR)"
   ]
  },
  {
   "cell_type": "code",
   "execution_count": 8,
   "id": "fbb3b422",
   "metadata": {},
   "outputs": [],
   "source": [
    "############### old results (Cuomo*, Seaton*, McCarthy* et al Nat Comm 2020)"
   ]
  },
  {
   "cell_type": "code",
   "execution_count": 9,
   "id": "bb991c52",
   "metadata": {},
   "outputs": [],
   "source": [
    "# load lead variant results sc stages (iPS, mesendo, defendo)\n",
    "leads.ips = read.csv(\"/nfs/leia/research/stegle/acuomo/mean/day0/all_expts/leads.csv\", row.names = 1)\n",
    "leads.mes = read.csv(\"/nfs/leia/research/stegle/acuomo/mean/mesendo_est_June20/leads.csv\", row.names = 1)\n",
    "leads.defendo = read.csv(\"/nfs/leia/research/stegle/acuomo/mean/defendo_est_June20/leads.csv\", row.names = 1)"
   ]
  },
  {
   "cell_type": "code",
   "execution_count": 10,
   "id": "f0ebcb55",
   "metadata": {},
   "outputs": [],
   "source": [
    "# add differentiation stage information\n",
    "leads.ips$stage = \"ips\"\n",
    "leads.mes$stage = \"mesendo\"\n",
    "leads.defendo$stage = \"defendo\""
   ]
  },
  {
   "cell_type": "code",
   "execution_count": 11,
   "id": "2c20a12a",
   "metadata": {},
   "outputs": [],
   "source": [
    "# merge results\n",
    "endo_eqtl = rbind(leads.ips, \n",
    "                 leads.mes,\n",
    "                 leads.defendo)"
   ]
  },
  {
   "cell_type": "code",
   "execution_count": 12,
   "id": "71290eb6",
   "metadata": {},
   "outputs": [],
   "source": [
    "# pick top SNP across stages (min p_value)"
   ]
  },
  {
   "cell_type": "code",
   "execution_count": 13,
   "id": "72ba9161",
   "metadata": {},
   "outputs": [
    {
     "data": {
      "text/html": [
       "32665"
      ],
      "text/latex": [
       "32665"
      ],
      "text/markdown": [
       "32665"
      ],
      "text/plain": [
       "[1] 32665"
      ]
     },
     "metadata": {},
     "output_type": "display_data"
    },
    {
     "data": {
      "text/html": [
       "<table>\n",
       "<thead><tr><th></th><th scope=col>beta</th><th scope=col>beta_se</th><th scope=col>empirical_feature_p_value</th><th scope=col>p_value</th><th scope=col>snp_id</th><th scope=col>feature</th><th scope=col>global_corr_p_value</th><th scope=col>chrom</th><th scope=col>pos</th><th scope=col>ref_allele</th><th scope=col>...</th><th scope=col>permutation_1</th><th scope=col>permutation_2</th><th scope=col>permutation_3</th><th scope=col>permutation_4</th><th scope=col>permutation_5</th><th scope=col>permutation_6</th><th scope=col>permutation_7</th><th scope=col>permutation_8</th><th scope=col>permutation_9</th><th scope=col>stage</th></tr></thead>\n",
       "<tbody>\n",
       "\t<tr><th scope=row>6</th><td>-1.457854             </td><td>0.1020245             </td><td>9.536615e-26          </td><td>2.553619e-46          </td><td>4_39446549_G_A        </td><td>ENSG00000163682_RPL9  </td><td>1.260613e-22          </td><td>4                     </td><td>39446549              </td><td>G                     </td><td>...                   </td><td>0.02499141            </td><td>0.6516389             </td><td>0.4681722             </td><td>0.3833344             </td><td>0.05690061            </td><td>0.02657527            </td><td>0.2945979             </td><td>0.02514148            </td><td>0.7088325             </td><td>ips                   </td></tr>\n",
       "\t<tr><th scope=row>12</th><td> 1.801311             </td><td>0.1333499             </td><td>3.391301e-21          </td><td>1.399851e-41          </td><td>7_55806087_G_T        </td><td>ENSG00000226278_PSPHP1</td><td>2.241423e-18          </td><td>7                     </td><td>55806087              </td><td>G                     </td><td>...                   </td><td>0.10854778            </td><td>0.0611202             </td><td>0.3728356             </td><td>0.2267340             </td><td>0.60751447            </td><td>0.24224812            </td><td>0.6809891             </td><td>0.47102673            </td><td>0.2149549             </td><td>ips                   </td></tr>\n",
       "</tbody>\n",
       "</table>\n"
      ],
      "text/latex": [
       "\\begin{tabular}{r|llllllllllllllllllllll}\n",
       "  & beta & beta\\_se & empirical\\_feature\\_p\\_value & p\\_value & snp\\_id & feature & global\\_corr\\_p\\_value & chrom & pos & ref\\_allele & ... & permutation\\_1 & permutation\\_2 & permutation\\_3 & permutation\\_4 & permutation\\_5 & permutation\\_6 & permutation\\_7 & permutation\\_8 & permutation\\_9 & stage\\\\\n",
       "\\hline\n",
       "\t6 & -1.457854                & 0.1020245                & 9.536615e-26             & 2.553619e-46             & 4\\_39446549\\_G\\_A     & ENSG00000163682\\_RPL9   & 1.260613e-22             & 4                        & 39446549                 & G                        & ...                      & 0.02499141               & 0.6516389                & 0.4681722                & 0.3833344                & 0.05690061               & 0.02657527               & 0.2945979                & 0.02514148               & 0.7088325                & ips                     \\\\\n",
       "\t12 &  1.801311                & 0.1333499                & 3.391301e-21             & 1.399851e-41             & 7\\_55806087\\_G\\_T     & ENSG00000226278\\_PSPHP1 & 2.241423e-18             & 7                        & 55806087                 & G                        & ...                      & 0.10854778               & 0.0611202                & 0.3728356                & 0.2267340                & 0.60751447               & 0.24224812               & 0.6809891                & 0.47102673               & 0.2149549                & ips                     \\\\\n",
       "\\end{tabular}\n"
      ],
      "text/markdown": [
       "\n",
       "| <!--/--> | beta | beta_se | empirical_feature_p_value | p_value | snp_id | feature | global_corr_p_value | chrom | pos | ref_allele | ... | permutation_1 | permutation_2 | permutation_3 | permutation_4 | permutation_5 | permutation_6 | permutation_7 | permutation_8 | permutation_9 | stage |\n",
       "|---|---|---|---|---|---|---|---|---|---|---|---|---|---|---|---|---|---|---|---|---|---|\n",
       "| 6 | -1.457854              | 0.1020245              | 9.536615e-26           | 2.553619e-46           | 4_39446549_G_A         | ENSG00000163682_RPL9   | 1.260613e-22           | 4                      | 39446549               | G                      | ...                    | 0.02499141             | 0.6516389              | 0.4681722              | 0.3833344              | 0.05690061             | 0.02657527             | 0.2945979              | 0.02514148             | 0.7088325              | ips                    |\n",
       "| 12 |  1.801311              | 0.1333499              | 3.391301e-21           | 1.399851e-41           | 7_55806087_G_T         | ENSG00000226278_PSPHP1 | 2.241423e-18           | 7                      | 55806087               | G                      | ...                    | 0.10854778             | 0.0611202              | 0.3728356              | 0.2267340              | 0.60751447             | 0.24224812             | 0.6809891              | 0.47102673             | 0.2149549              | ips                    |\n",
       "\n"
      ],
      "text/plain": [
       "   beta      beta_se   empirical_feature_p_value p_value      snp_id        \n",
       "6  -1.457854 0.1020245 9.536615e-26              2.553619e-46 4_39446549_G_A\n",
       "12  1.801311 0.1333499 3.391301e-21              1.399851e-41 7_55806087_G_T\n",
       "   feature                global_corr_p_value chrom pos      ref_allele ...\n",
       "6  ENSG00000163682_RPL9   1.260613e-22        4     39446549 G          ...\n",
       "12 ENSG00000226278_PSPHP1 2.241423e-18        7     55806087 G          ...\n",
       "   permutation_1 permutation_2 permutation_3 permutation_4 permutation_5\n",
       "6  0.02499141    0.6516389     0.4681722     0.3833344     0.05690061   \n",
       "12 0.10854778    0.0611202     0.3728356     0.2267340     0.60751447   \n",
       "   permutation_6 permutation_7 permutation_8 permutation_9 stage\n",
       "6  0.02657527    0.2945979     0.02514148    0.7088325     ips  \n",
       "12 0.24224812    0.6809891     0.47102673    0.2149549     ips  "
      ]
     },
     "metadata": {},
     "output_type": "display_data"
    }
   ],
   "source": [
    "# order by p_value\n",
    "endo_eqtl = endo_eqtl[order(endo_eqtl$p_value),]\n",
    "nrow(endo_eqtl)\n",
    "head(endo_eqtl,2)"
   ]
  },
  {
   "cell_type": "code",
   "execution_count": 14,
   "id": "1356d1f4",
   "metadata": {},
   "outputs": [
    {
     "data": {
      "text/html": [
       "10788"
      ],
      "text/latex": [
       "10788"
      ],
      "text/markdown": [
       "10788"
      ],
      "text/plain": [
       "[1] 10788"
      ]
     },
     "metadata": {},
     "output_type": "display_data"
    }
   ],
   "source": [
    "# select only one SNP per gene \n",
    "endo_eqtl = endo_eqtl[-which(duplicated(endo_eqtl$feature)),]\n",
    "nrow(endo_eqtl)"
   ]
  },
  {
   "cell_type": "code",
   "execution_count": 15,
   "id": "d35c8634",
   "metadata": {},
   "outputs": [],
   "source": [
    "T = 0.1\n",
    "## consider significant hits only (FDR<10%)\n",
    "endo_eqtl = endo_eqtl[endo_eqtl$global_corr_p_value <= T,]"
   ]
  },
  {
   "cell_type": "code",
   "execution_count": 16,
   "id": "eac29a74",
   "metadata": {},
   "outputs": [
    {
     "data": {
      "text/html": [
       "3079"
      ],
      "text/latex": [
       "3079"
      ],
      "text/markdown": [
       "3079"
      ],
      "text/plain": [
       "[1] 3079"
      ]
     },
     "metadata": {},
     "output_type": "display_data"
    }
   ],
   "source": [
    "nrow(endo_eqtl)"
   ]
  },
  {
   "cell_type": "code",
   "execution_count": 17,
   "id": "3bd30f79",
   "metadata": {},
   "outputs": [],
   "source": [
    "endo_eqtl$feature_id = gsub(\"_.*\",\"\",endo_eqtl$feature)"
   ]
  },
  {
   "cell_type": "code",
   "execution_count": 18,
   "id": "2aab6ff4",
   "metadata": {},
   "outputs": [],
   "source": [
    "# CellRegMap association test"
   ]
  },
  {
   "cell_type": "code",
   "execution_count": 19,
   "id": "e4ee261e",
   "metadata": {},
   "outputs": [],
   "source": [
    "revision_folder = \"/hps/nobackup2/stegle/users/acuomo/all_scripts/struct_LMM2/sc_endodiff/debug_May2021/REVISION/\""
   ]
  },
  {
   "cell_type": "code",
   "execution_count": 20,
   "id": "ad4f8e23",
   "metadata": {},
   "outputs": [
    {
     "data": {
      "text/html": [
       "10003258"
      ],
      "text/latex": [
       "10003258"
      ],
      "text/markdown": [
       "10003258"
      ],
      "text/plain": [
       "[1] 10003258"
      ]
     },
     "metadata": {},
     "output_type": "display_data"
    },
    {
     "data": {
      "text/html": [
       "<table>\n",
       "<thead><tr><th></th><th scope=col>feature_id</th><th scope=col>n_snps</th><th scope=col>feature_chromosome</th><th scope=col>p_value</th><th scope=col>snp_id</th><th scope=col>p_value_Bonferroni</th></tr></thead>\n",
       "<tbody>\n",
       "\t<tr><th scope=row>0</th><td>ENSG00000250462</td><td>909            </td><td>17             </td><td>0.5215900      </td><td>17_28857239_G_A</td><td>1              </td></tr>\n",
       "\t<tr><th scope=row>1</th><td>ENSG00000250462</td><td>909            </td><td>17             </td><td>0.6535075      </td><td>17_28857794_C_T</td><td>1              </td></tr>\n",
       "</tbody>\n",
       "</table>\n"
      ],
      "text/latex": [
       "\\begin{tabular}{r|llllll}\n",
       "  & feature\\_id & n\\_snps & feature\\_chromosome & p\\_value & snp\\_id & p\\_value\\_Bonferroni\\\\\n",
       "\\hline\n",
       "\t0 & ENSG00000250462       & 909                   & 17                    & 0.5215900             & 17\\_28857239\\_G\\_A & 1                    \\\\\n",
       "\t1 & ENSG00000250462       & 909                   & 17                    & 0.6535075             & 17\\_28857794\\_C\\_T & 1                    \\\\\n",
       "\\end{tabular}\n"
      ],
      "text/markdown": [
       "\n",
       "| <!--/--> | feature_id | n_snps | feature_chromosome | p_value | snp_id | p_value_Bonferroni |\n",
       "|---|---|---|---|---|---|---|\n",
       "| 0 | ENSG00000250462 | 909             | 17              | 0.5215900       | 17_28857239_G_A | 1               |\n",
       "| 1 | ENSG00000250462 | 909             | 17              | 0.6535075       | 17_28857794_C_T | 1               |\n",
       "\n"
      ],
      "text/plain": [
       "  feature_id      n_snps feature_chromosome p_value   snp_id         \n",
       "0 ENSG00000250462 909    17                 0.5215900 17_28857239_G_A\n",
       "1 ENSG00000250462 909    17                 0.6535075 17_28857794_C_T\n",
       "  p_value_Bonferroni\n",
       "0 1                 \n",
       "1 1                 "
      ]
     },
     "metadata": {},
     "output_type": "display_data"
    }
   ],
   "source": [
    "crm_file = paste0(revision_folder, \"CRM_association/summary.csv\")\n",
    "crm = read.csv(crm_file, row.names=1)\n",
    "colnames(crm) = c(\"feature_id\", \"n_snps\", \"feature_chromosome\",\"p_value\",\"snp_id\",\"p_value_Bonferroni\") \n",
    "nrow(crm)\n",
    "head(crm,2)"
   ]
  },
  {
   "cell_type": "code",
   "execution_count": 27,
   "id": "c16d9a4d",
   "metadata": {},
   "outputs": [
    {
     "data": {
      "text/html": [
       "10493"
      ],
      "text/latex": [
       "10493"
      ],
      "text/markdown": [
       "10493"
      ],
      "text/plain": [
       "[1] 10493"
      ]
     },
     "metadata": {},
     "output_type": "display_data"
    }
   ],
   "source": [
    "length(unique(crm$feature_id))"
   ]
  },
  {
   "cell_type": "code",
   "execution_count": 21,
   "id": "3112d492",
   "metadata": {},
   "outputs": [],
   "source": [
    "res = crm"
   ]
  },
  {
   "cell_type": "code",
   "execution_count": 23,
   "id": "d4826292",
   "metadata": {},
   "outputs": [],
   "source": [
    "cols = c(\"feature_id\",\"snp_id\")\n",
    "df = inner_join(endo_eqtl[,c(\"stage\",cols)], res[,cols], by = c(\"feature_id\"), suffix=c(\".old\",\".new\"))"
   ]
  },
  {
   "cell_type": "code",
   "execution_count": 26,
   "id": "360e6c3e",
   "metadata": {},
   "outputs": [
    {
     "data": {
      "text/html": [
       "2930687"
      ],
      "text/latex": [
       "2930687"
      ],
      "text/markdown": [
       "2930687"
      ],
      "text/plain": [
       "[1] 2930687"
      ]
     },
     "metadata": {},
     "output_type": "display_data"
    },
    {
     "data": {
      "text/html": [
       "2996"
      ],
      "text/latex": [
       "2996"
      ],
      "text/markdown": [
       "2996"
      ],
      "text/plain": [
       "[1] 2996"
      ]
     },
     "metadata": {},
     "output_type": "display_data"
    }
   ],
   "source": [
    "nrow(df)\n",
    "length(unique(df$feature_id))"
   ]
  },
  {
   "cell_type": "code",
   "execution_count": 28,
   "id": "84024baf",
   "metadata": {},
   "outputs": [
    {
     "data": {
      "text/html": [
       "2193664"
      ],
      "text/latex": [
       "2193664"
      ],
      "text/markdown": [
       "2193664"
      ],
      "text/plain": [
       "[1] 2193664"
      ]
     },
     "metadata": {},
     "output_type": "display_data"
    },
    {
     "data": {
      "text/html": [
       "<ol class=list-inline>\n",
       "\t<li>'4_39446549_G_A'</li>\n",
       "\t<li>'7_55806087_G_T'</li>\n",
       "\t<li>'6_31486901_T_C'</li>\n",
       "\t<li>'17_7151111_A_C'</li>\n",
       "\t<li>'6_32597313_T_C'</li>\n",
       "\t<li>'6_31132414_G_A'</li>\n",
       "</ol>\n"
      ],
      "text/latex": [
       "\\begin{enumerate*}\n",
       "\\item '4\\_39446549\\_G\\_A'\n",
       "\\item '7\\_55806087\\_G\\_T'\n",
       "\\item '6\\_31486901\\_T\\_C'\n",
       "\\item '17\\_7151111\\_A\\_C'\n",
       "\\item '6\\_32597313\\_T\\_C'\n",
       "\\item '6\\_31132414\\_G\\_A'\n",
       "\\end{enumerate*}\n"
      ],
      "text/markdown": [
       "1. '4_39446549_G_A'\n",
       "2. '7_55806087_G_T'\n",
       "3. '6_31486901_T_C'\n",
       "4. '17_7151111_A_C'\n",
       "5. '6_32597313_T_C'\n",
       "6. '6_31132414_G_A'\n",
       "\n",
       "\n"
      ],
      "text/plain": [
       "[1] \"4_39446549_G_A\" \"7_55806087_G_T\" \"6_31486901_T_C\" \"17_7151111_A_C\"\n",
       "[5] \"6_32597313_T_C\" \"6_31132414_G_A\""
      ]
     },
     "metadata": {},
     "output_type": "display_data"
    }
   ],
   "source": [
    "# collect all SNPs\n",
    "all_snps = unique(c(as.character(df$snp_id.old), as.character(df$snp_id.new)))\n",
    "length(all_snps)\n",
    "head(all_snps)"
   ]
  },
  {
   "cell_type": "code",
   "execution_count": 29,
   "id": "e244fe83",
   "metadata": {},
   "outputs": [
    {
     "data": {
      "text/html": [
       "<table>\n",
       "<thead><tr><th scope=col>snp</th></tr></thead>\n",
       "<tbody>\n",
       "\t<tr><td>4_39446549_G_A</td></tr>\n",
       "\t<tr><td>7_55806087_G_T</td></tr>\n",
       "</tbody>\n",
       "</table>\n"
      ],
      "text/latex": [
       "\\begin{tabular}{r|l}\n",
       " snp\\\\\n",
       "\\hline\n",
       "\t 4\\_39446549\\_G\\_A\\\\\n",
       "\t 7\\_55806087\\_G\\_T\\\\\n",
       "\\end{tabular}\n"
      ],
      "text/markdown": [
       "\n",
       "| snp |\n",
       "|---|\n",
       "| 4_39446549_G_A |\n",
       "| 7_55806087_G_T |\n",
       "\n"
      ],
      "text/plain": [
       "  snp           \n",
       "1 4_39446549_G_A\n",
       "2 7_55806087_G_T"
      ]
     },
     "metadata": {},
     "output_type": "display_data"
    }
   ],
   "source": [
    "snp_df = data.frame(snp=all_snps)\n",
    "head(snp_df,2)"
   ]
  },
  {
   "cell_type": "code",
   "execution_count": 30,
   "id": "77377b58",
   "metadata": {},
   "outputs": [
    {
     "data": {
      "text/html": [
       "2193664"
      ],
      "text/latex": [
       "2193664"
      ],
      "text/markdown": [
       "2193664"
      ],
      "text/plain": [
       "[1] 2193664"
      ]
     },
     "metadata": {},
     "output_type": "display_data"
    }
   ],
   "source": [
    "nrow(snp_df)"
   ]
  },
  {
   "cell_type": "code",
   "execution_count": 31,
   "id": "0ab94764",
   "metadata": {},
   "outputs": [],
   "source": [
    "# re-format SNPs\n",
    "# from 19_2908680_T_C to chr19:2908680"
   ]
  },
  {
   "cell_type": "code",
   "execution_count": null,
   "id": "b7b85bf7",
   "metadata": {},
   "outputs": [],
   "source": [
    "S1 = unlist(strsplit(as.character(df$snp_id.old),\"_\"))\n",
    "chrs = c()\n",
    "snps = c()\n",
    "for (i in seq(1,(length(S1)-1),4)){\n",
    "   chrs = c(chrs,S1[i]) \n",
    "}\n",
    "for (i in seq(2,(length(S1)-1),4)){\n",
    "   snps = c(snps,S1[i]) \n",
    "}\n",
    "df$snp1 = paste0(\"chr\",chrs,\":\",snps)"
   ]
  },
  {
   "cell_type": "code",
   "execution_count": null,
   "id": "f4978d93",
   "metadata": {},
   "outputs": [],
   "source": [
    "S2 = unlist(strsplit(as.character(df$snp_id.new),\"_\"))\n",
    "chrs = c()\n",
    "snps = c()\n",
    "for (i in seq(1,(length(S2)-1),4)){\n",
    "   chrs = c(chrs,S2[i]) \n",
    "}\n",
    "for (i in seq(2,(length(S2)-1),4)){\n",
    "   snps = c(snps,S2[i]) \n",
    "}\n",
    "df$snp2 = paste0(\"chr\",chrs,\":\",snps)"
   ]
  },
  {
   "cell_type": "code",
   "execution_count": null,
   "id": "cd9c10ba",
   "metadata": {},
   "outputs": [],
   "source": [
    "nrow(df)"
   ]
  },
  {
   "cell_type": "code",
   "execution_count": null,
   "id": "12a0a919",
   "metadata": {},
   "outputs": [],
   "source": [
    "df$d = NA\n",
    "for (i in 1:nrow(df)){\n",
    "    print(i)\n",
    "    snp1 = as.character(df[i,\"snp1\"])\n",
    "    snp2 = as.character(df[i,\"snp2\"])\n",
    "#     print(snp1)\n",
    "#     print(snp2)\n",
    "    try({df[i,\"d\"] = as.numeric(LDpair(snp1, snp2, pop = \"GBR\", token = \"f88ab64286ce\")$d_prime)})\n",
    "}"
   ]
  },
  {
   "cell_type": "code",
   "execution_count": null,
   "id": "fd9ea7b5",
   "metadata": {},
   "outputs": [],
   "source": [
    "options(repr.plot.width = 7, repr.plot.height = 4)\n",
    "p = ggplot(df, aes(x=d)) + geom_histogram(alpha = 0.8) + \n",
    "    xlab(\"D' LD value\") + ylab(\"Number of SNPs\") + theme_classic()\n",
    "p"
   ]
  },
  {
   "cell_type": "code",
   "execution_count": null,
   "id": "b4aa826b",
   "metadata": {},
   "outputs": [],
   "source": [
    "fig_dir = \"/hps/nobackup2/stegle/users/acuomo/CellRegMap_data/figures/\"\n",
    "pdf(paste0(fig_dir,\"SF4_LD_hist.pdf\"), width=7, height=4)\n",
    "p\n",
    "dev.off()"
   ]
  },
  {
   "cell_type": "code",
   "execution_count": null,
   "id": "8ea1c9e4",
   "metadata": {},
   "outputs": [],
   "source": []
  },
  {
   "cell_type": "code",
   "execution_count": 1,
   "id": "9688a23a",
   "metadata": {},
   "outputs": [],
   "source": [
    "revision_folder = \"/hps/nobackup2/stegle/users/acuomo/all_scripts/struct_LMM2/sc_endodiff/debug_May2021/REVISION/\""
   ]
  },
  {
   "cell_type": "code",
   "execution_count": 2,
   "id": "d8e8b90d",
   "metadata": {},
   "outputs": [],
   "source": [
    "df = read.csv(paste0(revision_folder, \"CRM_association_comparison_LD_values.csv\"))"
   ]
  },
  {
   "cell_type": "code",
   "execution_count": 7,
   "id": "c7fe744f",
   "metadata": {},
   "outputs": [
    {
     "data": {
      "text/html": [
       "984"
      ],
      "text/latex": [
       "984"
      ],
      "text/markdown": [
       "984"
      ],
      "text/plain": [
       "[1] 984"
      ]
     },
     "metadata": {},
     "output_type": "display_data"
    }
   ],
   "source": [
    "nrow(df)"
   ]
  },
  {
   "cell_type": "code",
   "execution_count": 6,
   "id": "4e53f663",
   "metadata": {},
   "outputs": [
    {
     "name": "stderr",
     "output_type": "stream",
     "text": [
      "`stat_bin()` using `bins = 30`. Pick better value with `binwidth`.\n",
      "Warning message:\n",
      "“Removed 108 rows containing non-finite values (stat_bin).”"
     ]
    },
    {
     "data": {
      "image/png": "[encoded data removed]",
      "text/plain": [
       "plot without title"
      ]
     },
     "metadata": {},
     "output_type": "display_data"
    }
   ],
   "source": [
    "options(repr.plot.width = 7, repr.plot.height = 4)\n",
    "p = ggplot(df, aes(x=d)) + geom_histogram(alpha = 0.8) + \n",
    "    xlab(\"D' LD value\") + ylab(\"Number of SNPs\") + theme_classic()\n",
    "p"
   ]
  },
  {
   "cell_type": "code",
   "execution_count": null,
   "id": "d6bb5278",
   "metadata": {},
   "outputs": [],
   "source": []
  }
 ],
 "metadata": {
  "kernelspec": {
   "display_name": "R",
   "language": "R",
   "name": "ir"
  },
  "language_info": {
   "codemirror_mode": "r",
   "file_extension": ".r",
   "mimetype": "text/x-r-source",
   "name": "R",
   "pygments_lexer": "r",
   "version": "3.6.1"
  }
 },
 "nbformat": 4,
 "nbformat_minor": 5
}
